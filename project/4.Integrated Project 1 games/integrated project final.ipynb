{
 "cells": [
  {
   "cell_type": "markdown",
   "id": "051206a7",
   "metadata": {},
   "source": [
    "# Integrated Project : Games"
   ]
  },
  {
   "cell_type": "markdown",
   "id": "31435498",
   "metadata": {},
   "source": [
    "### Project description:\n",
    "\n",
    "Ice is online store, which sells video games all over the world. User and expert reviews, genres, platforms (e.g. Xbox or PlayStation), and historical data on game sales are available from open sources.\n",
    "We need to identify patterns that determine whether a game succeeds or not. This will allow us to spot potential big winners and plan advertising campaigns.\n",
    "\n",
    "The dada in front of us is going back to 2016. Let’s imagine that it’s December 2016 and we’re planning a campaign for 2017.\n",
    "\n",
    "The dataset contains the abbreviation ESRB. The Entertainment Software Rating Board evaluates a game's content and assigns an age rating such as Teen or Mature."
   ]
  },
  {
   "cell_type": "markdown",
   "id": "5c1bb4f2",
   "metadata": {},
   "source": [
    "* [1. Open the data and study the general information](#PLoad-the-data:)\n",
    "* [2. Prepare the data](#Prepare-the-data:)\n",
    "    *  [2.1 name and genre columns](#name-and-genre-columns:)\n",
    "    *  [2.2 year_of_release column](#year_of_release-column:)\n",
    "    *  [2.3 critic_score and user_score columns](#critic_score-and-user_score-columns:)\n",
    "    *  [2.4 rating column](#%22rating%22-coumn:)\n",
    "* [3. Analyze the data](#Analyze-the-data:)\n",
    "    * 3.1 [mid conclution:](#mid-conclution:)\n",
    "* [4. create user profile for each region](#create-user-profile-for-each-region:)\n",
    "* [5. Test the follwing hypotheses](#Test-the-follwing-hypotheses:)\n",
    "* [Genral coclution](#Genral-coclution:)"
   ]
  },
  {
   "cell_type": "markdown",
   "id": "1373fa5b",
   "metadata": {},
   "source": [
    "The dataset contains the following fields:\n",
    "\n",
    "- `Name`\n",
    "- `Platform`\n",
    "- `Year_of_Release`\n",
    "- `Genre`\n",
    "- `NA_sales`- (North American sales in USD million)\n",
    "- `EU_sales` - (sales in Europe in USD million)\n",
    "- `JP_sales` - (sales in Japan in USD million)\n",
    "- `Other_sales` - (sales in other countries in USD million)\n",
    "- `Critic_Score`-  (maximum of 100)\n",
    "- `User_Score` - (maximum of 10)\n",
    "- `Rating` -(by ESRB: The Entertainment Software Rating Board)"
   ]
  },
  {
   "cell_type": "markdown",
   "id": "7f97b470",
   "metadata": {},
   "source": [
    "### Load the data:"
   ]
  },
  {
   "cell_type": "code",
   "execution_count": 1,
   "id": "98cf103b",
   "metadata": {},
   "outputs": [],
   "source": [
    "# Loading all the libraries\n",
    "import pandas as pd\n",
    "import numpy as np\n",
    "import math\n",
    "from scipy import stats as st\n",
    "import matplotlib.pyplot as plt\n",
    "import nltk\n",
    "from collections import Counter\n",
    "from nltk.stem import SnowballStemmer\n",
    "import seaborn as sns\n",
    "import matplotlib.pyplot as plt\n",
    "from plotly import graph_objects as go\n",
    "import plotly.express as px"
   ]
  },
  {
   "cell_type": "code",
   "execution_count": 2,
   "id": "2938d95d",
   "metadata": {},
   "outputs": [],
   "source": [
    "# Load the data\n",
    "try:\n",
    "     games = pd.read_csv('games.csv')\n",
    "except:\n",
    "    games = pd.read_csv('/datasets/games.csv')\n",
    "    \n",
    "games_org = games.copy()\n",
    "    "
   ]
  },
  {
   "cell_type": "code",
   "execution_count": 3,
   "id": "f4588e95",
   "metadata": {},
   "outputs": [
    {
     "name": "stdout",
     "output_type": "stream",
     "text": [
      "<class 'pandas.core.frame.DataFrame'>\n",
      "RangeIndex: 16715 entries, 0 to 16714\n",
      "Data columns (total 11 columns):\n",
      " #   Column           Non-Null Count  Dtype  \n",
      "---  ------           --------------  -----  \n",
      " 0   Name             16713 non-null  object \n",
      " 1   Platform         16715 non-null  object \n",
      " 2   Year_of_Release  16446 non-null  float64\n",
      " 3   Genre            16713 non-null  object \n",
      " 4   NA_sales         16715 non-null  float64\n",
      " 5   EU_sales         16715 non-null  float64\n",
      " 6   JP_sales         16715 non-null  float64\n",
      " 7   Other_sales      16715 non-null  float64\n",
      " 8   Critic_Score     8137 non-null   float64\n",
      " 9   User_Score       10014 non-null  object \n",
      " 10  Rating           9949 non-null   object \n",
      "dtypes: float64(6), object(5)\n",
      "memory usage: 1.4+ MB\n"
     ]
    }
   ],
   "source": [
    "games.info()"
   ]
  },
  {
   "cell_type": "code",
   "execution_count": 4,
   "id": "49b2f472",
   "metadata": {},
   "outputs": [
    {
     "name": "stdout",
     "output_type": "stream",
     "text": [
      "<class 'pandas.core.frame.DataFrame'>\n",
      "RangeIndex: 16715 entries, 0 to 16714\n",
      "Data columns (total 11 columns):\n",
      " #   Column           Non-Null Count  Dtype  \n",
      "---  ------           --------------  -----  \n",
      " 0   name             16713 non-null  object \n",
      " 1   platform         16715 non-null  object \n",
      " 2   year_of_release  16446 non-null  float64\n",
      " 3   genre            16713 non-null  object \n",
      " 4   na_sales         16715 non-null  float64\n",
      " 5   eu_sales         16715 non-null  float64\n",
      " 6   jp_sales         16715 non-null  float64\n",
      " 7   other_sales      16715 non-null  float64\n",
      " 8   critic_score     8137 non-null   float64\n",
      " 9   user_score       10014 non-null  object \n",
      " 10  rating           9949 non-null   object \n",
      "dtypes: float64(6), object(5)\n",
      "memory usage: 1.4+ MB\n"
     ]
    }
   ],
   "source": [
    "# replace the column names to lowecase: \n",
    "games.columns= games.columns.str.lower()\n",
    "games.info()"
   ]
  },
  {
   "cell_type": "code",
   "execution_count": 5,
   "id": "315a5231",
   "metadata": {
    "scrolled": true
   },
   "outputs": [
    {
     "data": {
      "text/html": [
       "<div>\n",
       "<style scoped>\n",
       "    .dataframe tbody tr th:only-of-type {\n",
       "        vertical-align: middle;\n",
       "    }\n",
       "\n",
       "    .dataframe tbody tr th {\n",
       "        vertical-align: top;\n",
       "    }\n",
       "\n",
       "    .dataframe thead th {\n",
       "        text-align: right;\n",
       "    }\n",
       "</style>\n",
       "<table border=\"1\" class=\"dataframe\">\n",
       "  <thead>\n",
       "    <tr style=\"text-align: right;\">\n",
       "      <th></th>\n",
       "      <th>count</th>\n",
       "      <th>unique</th>\n",
       "      <th>top</th>\n",
       "      <th>freq</th>\n",
       "      <th>mean</th>\n",
       "      <th>std</th>\n",
       "      <th>min</th>\n",
       "      <th>25%</th>\n",
       "      <th>50%</th>\n",
       "      <th>75%</th>\n",
       "      <th>max</th>\n",
       "    </tr>\n",
       "  </thead>\n",
       "  <tbody>\n",
       "    <tr>\n",
       "      <th>name</th>\n",
       "      <td>16713</td>\n",
       "      <td>11559</td>\n",
       "      <td>Need for Speed: Most Wanted</td>\n",
       "      <td>12</td>\n",
       "      <td>NaN</td>\n",
       "      <td>NaN</td>\n",
       "      <td>NaN</td>\n",
       "      <td>NaN</td>\n",
       "      <td>NaN</td>\n",
       "      <td>NaN</td>\n",
       "      <td>NaN</td>\n",
       "    </tr>\n",
       "    <tr>\n",
       "      <th>platform</th>\n",
       "      <td>16715</td>\n",
       "      <td>31</td>\n",
       "      <td>PS2</td>\n",
       "      <td>2161</td>\n",
       "      <td>NaN</td>\n",
       "      <td>NaN</td>\n",
       "      <td>NaN</td>\n",
       "      <td>NaN</td>\n",
       "      <td>NaN</td>\n",
       "      <td>NaN</td>\n",
       "      <td>NaN</td>\n",
       "    </tr>\n",
       "    <tr>\n",
       "      <th>year_of_release</th>\n",
       "      <td>16446.0</td>\n",
       "      <td>NaN</td>\n",
       "      <td>NaN</td>\n",
       "      <td>NaN</td>\n",
       "      <td>2006.484616</td>\n",
       "      <td>5.87705</td>\n",
       "      <td>1980.0</td>\n",
       "      <td>2003.0</td>\n",
       "      <td>2007.0</td>\n",
       "      <td>2010.0</td>\n",
       "      <td>2016.0</td>\n",
       "    </tr>\n",
       "    <tr>\n",
       "      <th>genre</th>\n",
       "      <td>16713</td>\n",
       "      <td>12</td>\n",
       "      <td>Action</td>\n",
       "      <td>3369</td>\n",
       "      <td>NaN</td>\n",
       "      <td>NaN</td>\n",
       "      <td>NaN</td>\n",
       "      <td>NaN</td>\n",
       "      <td>NaN</td>\n",
       "      <td>NaN</td>\n",
       "      <td>NaN</td>\n",
       "    </tr>\n",
       "    <tr>\n",
       "      <th>na_sales</th>\n",
       "      <td>16715.0</td>\n",
       "      <td>NaN</td>\n",
       "      <td>NaN</td>\n",
       "      <td>NaN</td>\n",
       "      <td>0.263377</td>\n",
       "      <td>0.813604</td>\n",
       "      <td>0.0</td>\n",
       "      <td>0.0</td>\n",
       "      <td>0.08</td>\n",
       "      <td>0.24</td>\n",
       "      <td>41.36</td>\n",
       "    </tr>\n",
       "    <tr>\n",
       "      <th>eu_sales</th>\n",
       "      <td>16715.0</td>\n",
       "      <td>NaN</td>\n",
       "      <td>NaN</td>\n",
       "      <td>NaN</td>\n",
       "      <td>0.14506</td>\n",
       "      <td>0.503339</td>\n",
       "      <td>0.0</td>\n",
       "      <td>0.0</td>\n",
       "      <td>0.02</td>\n",
       "      <td>0.11</td>\n",
       "      <td>28.96</td>\n",
       "    </tr>\n",
       "    <tr>\n",
       "      <th>jp_sales</th>\n",
       "      <td>16715.0</td>\n",
       "      <td>NaN</td>\n",
       "      <td>NaN</td>\n",
       "      <td>NaN</td>\n",
       "      <td>0.077617</td>\n",
       "      <td>0.308853</td>\n",
       "      <td>0.0</td>\n",
       "      <td>0.0</td>\n",
       "      <td>0.0</td>\n",
       "      <td>0.04</td>\n",
       "      <td>10.22</td>\n",
       "    </tr>\n",
       "    <tr>\n",
       "      <th>other_sales</th>\n",
       "      <td>16715.0</td>\n",
       "      <td>NaN</td>\n",
       "      <td>NaN</td>\n",
       "      <td>NaN</td>\n",
       "      <td>0.047342</td>\n",
       "      <td>0.186731</td>\n",
       "      <td>0.0</td>\n",
       "      <td>0.0</td>\n",
       "      <td>0.01</td>\n",
       "      <td>0.03</td>\n",
       "      <td>10.57</td>\n",
       "    </tr>\n",
       "    <tr>\n",
       "      <th>critic_score</th>\n",
       "      <td>8137.0</td>\n",
       "      <td>NaN</td>\n",
       "      <td>NaN</td>\n",
       "      <td>NaN</td>\n",
       "      <td>68.967679</td>\n",
       "      <td>13.938165</td>\n",
       "      <td>13.0</td>\n",
       "      <td>60.0</td>\n",
       "      <td>71.0</td>\n",
       "      <td>79.0</td>\n",
       "      <td>98.0</td>\n",
       "    </tr>\n",
       "    <tr>\n",
       "      <th>user_score</th>\n",
       "      <td>10014</td>\n",
       "      <td>96</td>\n",
       "      <td>tbd</td>\n",
       "      <td>2424</td>\n",
       "      <td>NaN</td>\n",
       "      <td>NaN</td>\n",
       "      <td>NaN</td>\n",
       "      <td>NaN</td>\n",
       "      <td>NaN</td>\n",
       "      <td>NaN</td>\n",
       "      <td>NaN</td>\n",
       "    </tr>\n",
       "    <tr>\n",
       "      <th>rating</th>\n",
       "      <td>9949</td>\n",
       "      <td>8</td>\n",
       "      <td>E</td>\n",
       "      <td>3990</td>\n",
       "      <td>NaN</td>\n",
       "      <td>NaN</td>\n",
       "      <td>NaN</td>\n",
       "      <td>NaN</td>\n",
       "      <td>NaN</td>\n",
       "      <td>NaN</td>\n",
       "      <td>NaN</td>\n",
       "    </tr>\n",
       "  </tbody>\n",
       "</table>\n",
       "</div>"
      ],
      "text/plain": [
       "                   count unique                          top  freq  \\\n",
       "name               16713  11559  Need for Speed: Most Wanted    12   \n",
       "platform           16715     31                          PS2  2161   \n",
       "year_of_release  16446.0    NaN                          NaN   NaN   \n",
       "genre              16713     12                       Action  3369   \n",
       "na_sales         16715.0    NaN                          NaN   NaN   \n",
       "eu_sales         16715.0    NaN                          NaN   NaN   \n",
       "jp_sales         16715.0    NaN                          NaN   NaN   \n",
       "other_sales      16715.0    NaN                          NaN   NaN   \n",
       "critic_score      8137.0    NaN                          NaN   NaN   \n",
       "user_score         10014     96                          tbd  2424   \n",
       "rating              9949      8                            E  3990   \n",
       "\n",
       "                        mean        std     min     25%     50%     75%  \\\n",
       "name                     NaN        NaN     NaN     NaN     NaN     NaN   \n",
       "platform                 NaN        NaN     NaN     NaN     NaN     NaN   \n",
       "year_of_release  2006.484616    5.87705  1980.0  2003.0  2007.0  2010.0   \n",
       "genre                    NaN        NaN     NaN     NaN     NaN     NaN   \n",
       "na_sales            0.263377   0.813604     0.0     0.0    0.08    0.24   \n",
       "eu_sales             0.14506   0.503339     0.0     0.0    0.02    0.11   \n",
       "jp_sales            0.077617   0.308853     0.0     0.0     0.0    0.04   \n",
       "other_sales         0.047342   0.186731     0.0     0.0    0.01    0.03   \n",
       "critic_score       68.967679  13.938165    13.0    60.0    71.0    79.0   \n",
       "user_score               NaN        NaN     NaN     NaN     NaN     NaN   \n",
       "rating                   NaN        NaN     NaN     NaN     NaN     NaN   \n",
       "\n",
       "                    max  \n",
       "name                NaN  \n",
       "platform            NaN  \n",
       "year_of_release  2016.0  \n",
       "genre               NaN  \n",
       "na_sales          41.36  \n",
       "eu_sales          28.96  \n",
       "jp_sales          10.22  \n",
       "other_sales       10.57  \n",
       "critic_score       98.0  \n",
       "user_score          NaN  \n",
       "rating              NaN  "
      ]
     },
     "execution_count": 5,
     "metadata": {},
     "output_type": "execute_result"
    }
   ],
   "source": [
    "games.describe(include='all').T"
   ]
  },
  {
   "cell_type": "markdown",
   "id": "8dc54c64",
   "metadata": {},
   "source": [
    "### Prepare the data:"
   ]
  },
  {
   "cell_type": "markdown",
   "id": "9fbda923",
   "metadata": {},
   "source": [
    "**(by Profile Report:)**\n",
    "* There are 11 columns, and 16,715 rows in \"games\", 22,318 missing cels 12.1%.\n",
    "* There are no duplicates.\n",
    "\n",
    "* \"name\" column: \n",
    "    * object type\n",
    "    * 11,559 distinct values, 2 missing values.\n",
    "\n",
    "* \"platform\" column:\n",
    "    * object type\n",
    "    * 31 distinct values, ther's no missing values.\n",
    "\n",
    "* \"year_of_release\" column:\n",
    "    * float type\n",
    "    * 37 distinct values, 269- 1.6% missing values, \n",
    "    * Minimum 1980 maximum 2016, mean 2006, median 2007.\n",
    "\n",
    "* \"genre\" column:\n",
    "    * object type\n",
    "    * 12 distinct values, 2 missing values.\n",
    "\n",
    "* \"na_sales\" column:\n",
    "    * float type\n",
    "    * 402 distict valus , no missing values,\n",
    "    * 4,508 - 27% of zeros\n",
    "    * minimum 0, maximum 41.36, mean 0.263, median 0.08\n",
    "\n",
    "* \"eu_sales\" column:\n",
    "    * float type\n",
    "    * 307 distinct values \n",
    "    * 5,870- 35.1 zeros\n",
    "    * minimum 0, maximum 28.96, mean 0.145, median 0.02\n",
    "\n",
    "* \"jp_sales\" column:\n",
    "    * float type\n",
    "    * 244 distinct values,\n",
    "    * 10,514 -62.9% zeros.\n",
    "    * minimum 0, maximum 10.22, mean 0.077, median 0\n",
    "\n",
    "* \"other_sales\" column:\n",
    "    * float type\n",
    "    * 155 dustinct values ,\n",
    "    * 6,601 39.5% zeros.\n",
    "    * minimum 0, maximum 10.57, mean 0.047 , median 0.1\n",
    "\n",
    "* \"critic_score\"  column: \n",
    "    * float type\n",
    "    * 82 distinct values.\n",
    "    * 8,578 - 51.3% missing values\n",
    "    * minimum 13, maximum 98, mean 69, median 71\n",
    "\n",
    "* \"user_score\" column:\n",
    "    * object type\n",
    "    * 96 distict values, \n",
    "    * 6,701- 40.1% missing values\n",
    "\n",
    "\n",
    "* \"rating\" coumn: \n",
    "    * object type\n",
    "    * 8 distict values, \n",
    "    * 6,766 - 40.5% missing values\n",
    "\n"
   ]
  },
  {
   "cell_type": "markdown",
   "id": "46828d95",
   "metadata": {},
   "source": [
    "#### name and genre columns:"
   ]
  },
  {
   "cell_type": "code",
   "execution_count": 6,
   "id": "280cb5a7",
   "metadata": {},
   "outputs": [
    {
     "data": {
      "text/html": [
       "<div>\n",
       "<style scoped>\n",
       "    .dataframe tbody tr th:only-of-type {\n",
       "        vertical-align: middle;\n",
       "    }\n",
       "\n",
       "    .dataframe tbody tr th {\n",
       "        vertical-align: top;\n",
       "    }\n",
       "\n",
       "    .dataframe thead th {\n",
       "        text-align: right;\n",
       "    }\n",
       "</style>\n",
       "<table border=\"1\" class=\"dataframe\">\n",
       "  <thead>\n",
       "    <tr style=\"text-align: right;\">\n",
       "      <th></th>\n",
       "      <th>name</th>\n",
       "      <th>platform</th>\n",
       "      <th>year_of_release</th>\n",
       "      <th>genre</th>\n",
       "      <th>na_sales</th>\n",
       "      <th>eu_sales</th>\n",
       "      <th>jp_sales</th>\n",
       "      <th>other_sales</th>\n",
       "      <th>critic_score</th>\n",
       "      <th>user_score</th>\n",
       "      <th>rating</th>\n",
       "    </tr>\n",
       "  </thead>\n",
       "  <tbody>\n",
       "    <tr>\n",
       "      <th>659</th>\n",
       "      <td>NaN</td>\n",
       "      <td>GEN</td>\n",
       "      <td>1993.0</td>\n",
       "      <td>NaN</td>\n",
       "      <td>1.78</td>\n",
       "      <td>0.53</td>\n",
       "      <td>0.00</td>\n",
       "      <td>0.08</td>\n",
       "      <td>NaN</td>\n",
       "      <td>NaN</td>\n",
       "      <td>NaN</td>\n",
       "    </tr>\n",
       "    <tr>\n",
       "      <th>14244</th>\n",
       "      <td>NaN</td>\n",
       "      <td>GEN</td>\n",
       "      <td>1993.0</td>\n",
       "      <td>NaN</td>\n",
       "      <td>0.00</td>\n",
       "      <td>0.00</td>\n",
       "      <td>0.03</td>\n",
       "      <td>0.00</td>\n",
       "      <td>NaN</td>\n",
       "      <td>NaN</td>\n",
       "      <td>NaN</td>\n",
       "    </tr>\n",
       "  </tbody>\n",
       "</table>\n",
       "</div>"
      ],
      "text/plain": [
       "      name platform  year_of_release genre  na_sales  eu_sales  jp_sales  \\\n",
       "659    NaN      GEN           1993.0   NaN      1.78      0.53      0.00   \n",
       "14244  NaN      GEN           1993.0   NaN      0.00      0.00      0.03   \n",
       "\n",
       "       other_sales  critic_score user_score rating  \n",
       "659           0.08           NaN        NaN    NaN  \n",
       "14244         0.00           NaN        NaN    NaN  "
      ]
     },
     "execution_count": 6,
     "metadata": {},
     "output_type": "execute_result"
    }
   ],
   "source": [
    "games.loc[games[\"name\"].isnull()]\n"
   ]
  },
  {
   "cell_type": "markdown",
   "id": "709669e7",
   "metadata": {},
   "source": [
    "**There is no way to know what are the missing values in name column:**"
   ]
  },
  {
   "cell_type": "code",
   "execution_count": 7,
   "id": "ddc37b7c",
   "metadata": {},
   "outputs": [
    {
     "data": {
      "text/html": [
       "<div>\n",
       "<style scoped>\n",
       "    .dataframe tbody tr th:only-of-type {\n",
       "        vertical-align: middle;\n",
       "    }\n",
       "\n",
       "    .dataframe tbody tr th {\n",
       "        vertical-align: top;\n",
       "    }\n",
       "\n",
       "    .dataframe thead th {\n",
       "        text-align: right;\n",
       "    }\n",
       "</style>\n",
       "<table border=\"1\" class=\"dataframe\">\n",
       "  <thead>\n",
       "    <tr style=\"text-align: right;\">\n",
       "      <th></th>\n",
       "      <th>name</th>\n",
       "      <th>platform</th>\n",
       "      <th>year_of_release</th>\n",
       "      <th>genre</th>\n",
       "      <th>na_sales</th>\n",
       "      <th>eu_sales</th>\n",
       "      <th>jp_sales</th>\n",
       "      <th>other_sales</th>\n",
       "      <th>critic_score</th>\n",
       "      <th>user_score</th>\n",
       "      <th>rating</th>\n",
       "    </tr>\n",
       "  </thead>\n",
       "  <tbody>\n",
       "  </tbody>\n",
       "</table>\n",
       "</div>"
      ],
      "text/plain": [
       "Empty DataFrame\n",
       "Columns: [name, platform, year_of_release, genre, na_sales, eu_sales, jp_sales, other_sales, critic_score, user_score, rating]\n",
       "Index: []"
      ]
     },
     "execution_count": 7,
     "metadata": {},
     "output_type": "execute_result"
    }
   ],
   "source": [
    "#as we can se both name and genra missing value's are at the same row.\n",
    "games.loc[games[\"name\"].isnull(), 'name'] = 'unknown'\n",
    "games.loc[games[\"genre\"].isnull(), 'genre'] = 'unknown'\n",
    "games[games[\"name\"].isnull()]"
   ]
  },
  {
   "cell_type": "code",
   "execution_count": 8,
   "id": "699181f5",
   "metadata": {},
   "outputs": [
    {
     "data": {
      "text/html": [
       "<div>\n",
       "<style scoped>\n",
       "    .dataframe tbody tr th:only-of-type {\n",
       "        vertical-align: middle;\n",
       "    }\n",
       "\n",
       "    .dataframe tbody tr th {\n",
       "        vertical-align: top;\n",
       "    }\n",
       "\n",
       "    .dataframe thead th {\n",
       "        text-align: right;\n",
       "    }\n",
       "</style>\n",
       "<table border=\"1\" class=\"dataframe\">\n",
       "  <thead>\n",
       "    <tr style=\"text-align: right;\">\n",
       "      <th></th>\n",
       "      <th>name</th>\n",
       "      <th>platform</th>\n",
       "      <th>year_of_release</th>\n",
       "      <th>genre</th>\n",
       "      <th>na_sales</th>\n",
       "      <th>eu_sales</th>\n",
       "      <th>jp_sales</th>\n",
       "      <th>other_sales</th>\n",
       "      <th>critic_score</th>\n",
       "      <th>user_score</th>\n",
       "      <th>rating</th>\n",
       "    </tr>\n",
       "  </thead>\n",
       "  <tbody>\n",
       "  </tbody>\n",
       "</table>\n",
       "</div>"
      ],
      "text/plain": [
       "Empty DataFrame\n",
       "Columns: [name, platform, year_of_release, genre, na_sales, eu_sales, jp_sales, other_sales, critic_score, user_score, rating]\n",
       "Index: []"
      ]
     },
     "execution_count": 8,
     "metadata": {},
     "output_type": "execute_result"
    }
   ],
   "source": [
    "games.loc[games['genre'].isnull()]\n"
   ]
  },
  {
   "cell_type": "markdown",
   "id": "114e9c8d",
   "metadata": {},
   "source": [
    "#### year_of_release column:"
   ]
  },
  {
   "cell_type": "code",
   "execution_count": 9,
   "id": "4cd59536",
   "metadata": {},
   "outputs": [],
   "source": [
    "def NametoYear (name):\n",
    "    emp_str = []\n",
    "    for word in name.split(\" \"):\n",
    "        if word.isdigit():\n",
    "            emp_str.append(int(word))\n",
    "    res = sum(d* 10**i for i, d in enumerate(emp_str[::-1]))\n",
    "    return res"
   ]
  },
  {
   "cell_type": "code",
   "execution_count": 10,
   "id": "6a29afc7",
   "metadata": {},
   "outputs": [
    {
     "name": "stderr",
     "output_type": "stream",
     "text": [
      "C:\\Users\\evyatar\\anaconda3\\lib\\site-packages\\pandas\\core\\indexing.py:1667: SettingWithCopyWarning: \n",
      "A value is trying to be set on a copy of a slice from a DataFrame.\n",
      "Try using .loc[row_indexer,col_indexer] = value instead\n",
      "\n",
      "See the caveats in the documentation: https://pandas.pydata.org/pandas-docs/stable/user_guide/indexing.html#returning-a-view-versus-a-copy\n",
      "  self.obj[key] = value\n"
     ]
    }
   ],
   "source": [
    "null_years = games.loc[games['year_of_release'].isnull()]\n",
    "null_years.loc[:,'number'] = null_years['name'].apply(NametoYear)"
   ]
  },
  {
   "cell_type": "code",
   "execution_count": 11,
   "id": "d9a2d87c",
   "metadata": {},
   "outputs": [
    {
     "name": "stdout",
     "output_type": "stream",
     "text": [
      "<class 'pandas.core.frame.DataFrame'>\n",
      "Int64Index: 269 entries, 183 to 16522\n",
      "Data columns (total 12 columns):\n",
      " #   Column           Non-Null Count  Dtype  \n",
      "---  ------           --------------  -----  \n",
      " 0   name             269 non-null    object \n",
      " 1   platform         269 non-null    object \n",
      " 2   year_of_release  0 non-null      float64\n",
      " 3   genre            269 non-null    object \n",
      " 4   na_sales         269 non-null    float64\n",
      " 5   eu_sales         269 non-null    float64\n",
      " 6   jp_sales         269 non-null    float64\n",
      " 7   other_sales      269 non-null    float64\n",
      " 8   critic_score     154 non-null    float64\n",
      " 9   user_score       175 non-null    object \n",
      " 10  rating           181 non-null    object \n",
      " 11  number           269 non-null    int64  \n",
      "dtypes: float64(6), int64(1), object(5)\n",
      "memory usage: 27.3+ KB\n"
     ]
    },
    {
     "data": {
      "text/html": [
       "<div>\n",
       "<style scoped>\n",
       "    .dataframe tbody tr th:only-of-type {\n",
       "        vertical-align: middle;\n",
       "    }\n",
       "\n",
       "    .dataframe tbody tr th {\n",
       "        vertical-align: top;\n",
       "    }\n",
       "\n",
       "    .dataframe thead th {\n",
       "        text-align: right;\n",
       "    }\n",
       "</style>\n",
       "<table border=\"1\" class=\"dataframe\">\n",
       "  <thead>\n",
       "    <tr style=\"text-align: right;\">\n",
       "      <th></th>\n",
       "      <th>name</th>\n",
       "      <th>platform</th>\n",
       "      <th>year_of_release</th>\n",
       "      <th>genre</th>\n",
       "      <th>na_sales</th>\n",
       "      <th>eu_sales</th>\n",
       "      <th>jp_sales</th>\n",
       "      <th>other_sales</th>\n",
       "      <th>critic_score</th>\n",
       "      <th>user_score</th>\n",
       "      <th>rating</th>\n",
       "      <th>number</th>\n",
       "    </tr>\n",
       "  </thead>\n",
       "  <tbody>\n",
       "    <tr>\n",
       "      <th>183</th>\n",
       "      <td>Madden NFL 2004</td>\n",
       "      <td>PS2</td>\n",
       "      <td>NaN</td>\n",
       "      <td>Sports</td>\n",
       "      <td>4.26</td>\n",
       "      <td>0.26</td>\n",
       "      <td>0.01</td>\n",
       "      <td>0.71</td>\n",
       "      <td>94.0</td>\n",
       "      <td>8.5</td>\n",
       "      <td>E</td>\n",
       "      <td>2004</td>\n",
       "    </tr>\n",
       "    <tr>\n",
       "      <th>377</th>\n",
       "      <td>FIFA Soccer 2004</td>\n",
       "      <td>PS2</td>\n",
       "      <td>NaN</td>\n",
       "      <td>Sports</td>\n",
       "      <td>0.59</td>\n",
       "      <td>2.36</td>\n",
       "      <td>0.04</td>\n",
       "      <td>0.51</td>\n",
       "      <td>84.0</td>\n",
       "      <td>6.4</td>\n",
       "      <td>E</td>\n",
       "      <td>2004</td>\n",
       "    </tr>\n",
       "    <tr>\n",
       "      <th>456</th>\n",
       "      <td>LEGO Batman: The Videogame</td>\n",
       "      <td>Wii</td>\n",
       "      <td>NaN</td>\n",
       "      <td>Action</td>\n",
       "      <td>1.80</td>\n",
       "      <td>0.97</td>\n",
       "      <td>0.00</td>\n",
       "      <td>0.29</td>\n",
       "      <td>74.0</td>\n",
       "      <td>7.9</td>\n",
       "      <td>E10+</td>\n",
       "      <td>0</td>\n",
       "    </tr>\n",
       "    <tr>\n",
       "      <th>475</th>\n",
       "      <td>wwe Smackdown vs. Raw 2006</td>\n",
       "      <td>PS2</td>\n",
       "      <td>NaN</td>\n",
       "      <td>Fighting</td>\n",
       "      <td>1.57</td>\n",
       "      <td>1.02</td>\n",
       "      <td>0.00</td>\n",
       "      <td>0.41</td>\n",
       "      <td>NaN</td>\n",
       "      <td>NaN</td>\n",
       "      <td>NaN</td>\n",
       "      <td>2006</td>\n",
       "    </tr>\n",
       "    <tr>\n",
       "      <th>609</th>\n",
       "      <td>Space Invaders</td>\n",
       "      <td>2600</td>\n",
       "      <td>NaN</td>\n",
       "      <td>Shooter</td>\n",
       "      <td>2.36</td>\n",
       "      <td>0.14</td>\n",
       "      <td>0.00</td>\n",
       "      <td>0.03</td>\n",
       "      <td>NaN</td>\n",
       "      <td>NaN</td>\n",
       "      <td>NaN</td>\n",
       "      <td>0</td>\n",
       "    </tr>\n",
       "  </tbody>\n",
       "</table>\n",
       "</div>"
      ],
      "text/plain": [
       "                           name platform  year_of_release     genre  na_sales  \\\n",
       "183             Madden NFL 2004      PS2              NaN    Sports      4.26   \n",
       "377            FIFA Soccer 2004      PS2              NaN    Sports      0.59   \n",
       "456  LEGO Batman: The Videogame      Wii              NaN    Action      1.80   \n",
       "475  wwe Smackdown vs. Raw 2006      PS2              NaN  Fighting      1.57   \n",
       "609              Space Invaders     2600              NaN   Shooter      2.36   \n",
       "\n",
       "     eu_sales  jp_sales  other_sales  critic_score user_score rating  number  \n",
       "183      0.26      0.01         0.71          94.0        8.5      E    2004  \n",
       "377      2.36      0.04         0.51          84.0        6.4      E    2004  \n",
       "456      0.97      0.00         0.29          74.0        7.9   E10+       0  \n",
       "475      1.02      0.00         0.41           NaN        NaN    NaN    2006  \n",
       "609      0.14      0.00         0.03           NaN        NaN    NaN       0  "
      ]
     },
     "execution_count": 11,
     "metadata": {},
     "output_type": "execute_result"
    }
   ],
   "source": [
    "null_years.info()\n",
    "null_years.head()"
   ]
  },
  {
   "cell_type": "code",
   "execution_count": 12,
   "id": "9e56a5b8",
   "metadata": {},
   "outputs": [
    {
     "data": {
      "text/plain": [
       "0       226\n",
       "2        10\n",
       "3         7\n",
       "2003      4\n",
       "4         3\n",
       "2008      2\n",
       "2005      2\n",
       "2004      2\n",
       "7         2\n",
       "99        2\n",
       "2006      2\n",
       "11        1\n",
       "6         1\n",
       "2002      1\n",
       "500       1\n",
       "64        1\n",
       "2011      1\n",
       "2007      1\n",
       "Name: number, dtype: int64"
      ]
     },
     "execution_count": 12,
     "metadata": {},
     "output_type": "execute_result"
    }
   ],
   "source": [
    "null_years['number'].value_counts()"
   ]
  },
  {
   "cell_type": "code",
   "execution_count": 13,
   "id": "709d5dac",
   "metadata": {},
   "outputs": [],
   "source": [
    "good_index= null_years.query('number > 2000 ').index\n",
    "good_index\n",
    "for i in good_index:\n",
    "        games.loc[i, 'year_of_release'] = null_years.loc[i ,'number']\n",
    "     "
   ]
  },
  {
   "cell_type": "code",
   "execution_count": 14,
   "id": "a980c2c4",
   "metadata": {},
   "outputs": [
    {
     "data": {
      "text/plain": [
       "254"
      ]
     },
     "execution_count": 14,
     "metadata": {},
     "output_type": "execute_result"
    }
   ],
   "source": [
    "len(games[games['year_of_release'].isnull()])"
   ]
  },
  {
   "cell_type": "markdown",
   "id": "55f46ab0",
   "metadata": {},
   "source": [
    "**I dont know anything about the games and can't find any common defenition to fill the missing years by. Im going to fill the remain missing values with zero's:**"
   ]
  },
  {
   "cell_type": "code",
   "execution_count": 15,
   "id": "f5e4d068",
   "metadata": {},
   "outputs": [
    {
     "data": {
      "text/plain": [
       "0"
      ]
     },
     "execution_count": 15,
     "metadata": {},
     "output_type": "execute_result"
    }
   ],
   "source": [
    "games.loc[games['year_of_release'].isnull(), \"year_of_release\"]=9999\n",
    "len(games[games['year_of_release'].isnull()])"
   ]
  },
  {
   "cell_type": "code",
   "execution_count": 16,
   "id": "37f1722d",
   "metadata": {},
   "outputs": [
    {
     "name": "stdout",
     "output_type": "stream",
     "text": [
      "<class 'pandas.core.frame.DataFrame'>\n",
      "RangeIndex: 16715 entries, 0 to 16714\n",
      "Data columns (total 11 columns):\n",
      " #   Column           Non-Null Count  Dtype  \n",
      "---  ------           --------------  -----  \n",
      " 0   name             16715 non-null  object \n",
      " 1   platform         16715 non-null  object \n",
      " 2   year_of_release  16715 non-null  int32  \n",
      " 3   genre            16715 non-null  object \n",
      " 4   na_sales         16715 non-null  float64\n",
      " 5   eu_sales         16715 non-null  float64\n",
      " 6   jp_sales         16715 non-null  float64\n",
      " 7   other_sales      16715 non-null  float64\n",
      " 8   critic_score     8137 non-null   float64\n",
      " 9   user_score       10014 non-null  object \n",
      " 10  rating           9949 non-null   object \n",
      "dtypes: float64(5), int32(1), object(5)\n",
      "memory usage: 1.3+ MB\n"
     ]
    }
   ],
   "source": [
    "games['year_of_release']= games['year_of_release'].astype(int)\n",
    "games.info()"
   ]
  },
  {
   "cell_type": "markdown",
   "id": "0469567d",
   "metadata": {},
   "source": [
    "#### critic_score and user_score columns:"
   ]
  },
  {
   "cell_type": "code",
   "execution_count": 17,
   "id": "8b47c349",
   "metadata": {},
   "outputs": [
    {
     "data": {
      "text/plain": [
       "8578"
      ]
     },
     "execution_count": 17,
     "metadata": {},
     "output_type": "execute_result"
    }
   ],
   "source": [
    "len(games.loc[games['critic_score'].isnull()])"
   ]
  },
  {
   "cell_type": "code",
   "execution_count": 18,
   "id": "3dedb953",
   "metadata": {},
   "outputs": [
    {
     "name": "stdout",
     "output_type": "stream",
     "text": [
      "<class 'pandas.core.frame.DataFrame'>\n",
      "RangeIndex: 16715 entries, 0 to 16714\n",
      "Data columns (total 11 columns):\n",
      " #   Column           Non-Null Count  Dtype  \n",
      "---  ------           --------------  -----  \n",
      " 0   name             16715 non-null  object \n",
      " 1   platform         16715 non-null  object \n",
      " 2   year_of_release  16715 non-null  int32  \n",
      " 3   genre            16715 non-null  object \n",
      " 4   na_sales         16715 non-null  float64\n",
      " 5   eu_sales         16715 non-null  float64\n",
      " 6   jp_sales         16715 non-null  float64\n",
      " 7   other_sales      16715 non-null  float64\n",
      " 8   critic_score     8137 non-null   float64\n",
      " 9   user_score       10014 non-null  object \n",
      " 10  rating           9949 non-null   object \n",
      "dtypes: float64(5), int32(1), object(5)\n",
      "memory usage: 1.3+ MB\n"
     ]
    }
   ],
   "source": [
    "games.info()"
   ]
  },
  {
   "cell_type": "markdown",
   "id": "54b7189d",
   "metadata": {},
   "source": [
    "#### comparison between score and rating column (\"critic_score\", \"user_score\", \t\"rating\"):"
   ]
  },
  {
   "cell_type": "code",
   "execution_count": 19,
   "id": "23f4373d",
   "metadata": {},
   "outputs": [
    {
     "data": {
      "image/png": "[encoded data removed]",
      "text/plain": [
       "<Figure size 432x288 with 1 Axes>"
      ]
     },
     "metadata": {
      "needs_background": "light"
     },
     "output_type": "display_data"
    },
    {
     "data": {
      "image/png": "[encoded data removed]",
      "text/plain": [
       "<Figure size 432x288 with 1 Axes>"
      ]
     },
     "metadata": {
      "needs_background": "light"
     },
     "output_type": "display_data"
    },
    {
     "data": {
      "image/png": "[encoded data removed]",
      "text/plain": [
       "<Figure size 432x288 with 1 Axes>"
      ]
     },
     "metadata": {
      "needs_background": "light"
     },
     "output_type": "display_data"
    }
   ],
   "source": [
    "null_critic_score = games.loc[games['critic_score'].isnull()]\n",
    "null_dist_critic_score_by_year = null_critic_score.groupby('year_of_release')['name'].count()/games.groupby('year_of_release')['name'].count()\n",
    "null_dist_critic_score_by_year\n",
    "%matplotlib inline\n",
    "null_dist_critic_score_by_year.plot(kind ='bar')\n",
    "plt.title(\"0's at critic_score distribution\")\n",
    "plt.ylabel('users with 0 at critic_score')\n",
    "plt.xlabel(\"year\")\n",
    "plt.show()\n",
    "null_user_score = games.loc[games['user_score'].isnull()]\n",
    "null_dist_user_score_by_year = null_user_score.groupby('year_of_release')['name'].count()/games.groupby('year_of_release')['name'].count()\n",
    "null_dist_user_score_by_year\n",
    "%matplotlib inline\n",
    "null_dist_user_score_by_year.plot(kind ='bar')\n",
    "plt.title(\"0's at user_score distribution\")\n",
    "plt.ylabel('users with 0 at user_score')\n",
    "plt.xlabel(\"year\")\n",
    "plt.show()\n",
    "null_rating = games.loc[games['rating'].isnull()]\n",
    "null_dist_rating_by_year = null_rating.groupby('year_of_release')['name'].count()/games.groupby('year_of_release')['name'].count()\n",
    "null_dist_rating_by_year\n",
    "%matplotlib inline\n",
    "null_dist_rating_by_year.plot(kind ='bar')\n",
    "plt.title(\"0's at rating distribution\")\n",
    "plt.ylabel('games distribution')\n",
    "plt.xlabel(\"year\")\n",
    "plt.show()"
   ]
  },
  {
   "cell_type": "markdown",
   "id": "834a0f56",
   "metadata": {},
   "source": [
    "By the graphs above: until 1999 almost non of the game has any kind of scoring or rating, maybe because it was hard to gether and keep the rating back then. \n",
    "I'm not going to fill the Nan values for scoring, It's fill's wrong. lets check he if the avrege of critic and user columns will make sense:"
   ]
  },
  {
   "cell_type": "code",
   "execution_count": 20,
   "id": "9ee73de5",
   "metadata": {},
   "outputs": [
    {
     "data": {
      "text/html": [
       "<div>\n",
       "<style scoped>\n",
       "    .dataframe tbody tr th:only-of-type {\n",
       "        vertical-align: middle;\n",
       "    }\n",
       "\n",
       "    .dataframe tbody tr th {\n",
       "        vertical-align: top;\n",
       "    }\n",
       "\n",
       "    .dataframe thead th {\n",
       "        text-align: right;\n",
       "    }\n",
       "</style>\n",
       "<table border=\"1\" class=\"dataframe\">\n",
       "  <thead>\n",
       "    <tr style=\"text-align: right;\">\n",
       "      <th></th>\n",
       "      <th>name</th>\n",
       "      <th>platform</th>\n",
       "      <th>year_of_release</th>\n",
       "      <th>genre</th>\n",
       "      <th>na_sales</th>\n",
       "      <th>eu_sales</th>\n",
       "      <th>jp_sales</th>\n",
       "      <th>other_sales</th>\n",
       "      <th>critic_score</th>\n",
       "      <th>user_score</th>\n",
       "      <th>rating</th>\n",
       "      <th>user_score_no_tbd</th>\n",
       "      <th>avg_score</th>\n",
       "    </tr>\n",
       "  </thead>\n",
       "  <tbody>\n",
       "    <tr>\n",
       "      <th>0</th>\n",
       "      <td>Wii Sports</td>\n",
       "      <td>Wii</td>\n",
       "      <td>2006</td>\n",
       "      <td>Sports</td>\n",
       "      <td>41.36</td>\n",
       "      <td>28.96</td>\n",
       "      <td>3.77</td>\n",
       "      <td>8.45</td>\n",
       "      <td>76.0</td>\n",
       "      <td>8</td>\n",
       "      <td>E</td>\n",
       "      <td>80.0</td>\n",
       "      <td>78.0</td>\n",
       "    </tr>\n",
       "    <tr>\n",
       "      <th>1</th>\n",
       "      <td>Super Mario Bros.</td>\n",
       "      <td>NES</td>\n",
       "      <td>1985</td>\n",
       "      <td>Platform</td>\n",
       "      <td>29.08</td>\n",
       "      <td>3.58</td>\n",
       "      <td>6.81</td>\n",
       "      <td>0.77</td>\n",
       "      <td>NaN</td>\n",
       "      <td>NaN</td>\n",
       "      <td>NaN</td>\n",
       "      <td>NaN</td>\n",
       "      <td>NaN</td>\n",
       "    </tr>\n",
       "    <tr>\n",
       "      <th>2</th>\n",
       "      <td>Mario Kart Wii</td>\n",
       "      <td>Wii</td>\n",
       "      <td>2008</td>\n",
       "      <td>Racing</td>\n",
       "      <td>15.68</td>\n",
       "      <td>12.76</td>\n",
       "      <td>3.79</td>\n",
       "      <td>3.29</td>\n",
       "      <td>82.0</td>\n",
       "      <td>8.3</td>\n",
       "      <td>E</td>\n",
       "      <td>83.0</td>\n",
       "      <td>82.5</td>\n",
       "    </tr>\n",
       "    <tr>\n",
       "      <th>3</th>\n",
       "      <td>Wii Sports Resort</td>\n",
       "      <td>Wii</td>\n",
       "      <td>2009</td>\n",
       "      <td>Sports</td>\n",
       "      <td>15.61</td>\n",
       "      <td>10.93</td>\n",
       "      <td>3.28</td>\n",
       "      <td>2.95</td>\n",
       "      <td>80.0</td>\n",
       "      <td>8</td>\n",
       "      <td>E</td>\n",
       "      <td>80.0</td>\n",
       "      <td>80.0</td>\n",
       "    </tr>\n",
       "    <tr>\n",
       "      <th>4</th>\n",
       "      <td>Pokemon Red/Pokemon Blue</td>\n",
       "      <td>GB</td>\n",
       "      <td>1996</td>\n",
       "      <td>Role-Playing</td>\n",
       "      <td>11.27</td>\n",
       "      <td>8.89</td>\n",
       "      <td>10.22</td>\n",
       "      <td>1.00</td>\n",
       "      <td>NaN</td>\n",
       "      <td>NaN</td>\n",
       "      <td>NaN</td>\n",
       "      <td>NaN</td>\n",
       "      <td>NaN</td>\n",
       "    </tr>\n",
       "  </tbody>\n",
       "</table>\n",
       "</div>"
      ],
      "text/plain": [
       "                       name platform  year_of_release         genre  na_sales  \\\n",
       "0                Wii Sports      Wii             2006        Sports     41.36   \n",
       "1         Super Mario Bros.      NES             1985      Platform     29.08   \n",
       "2            Mario Kart Wii      Wii             2008        Racing     15.68   \n",
       "3         Wii Sports Resort      Wii             2009        Sports     15.61   \n",
       "4  Pokemon Red/Pokemon Blue       GB             1996  Role-Playing     11.27   \n",
       "\n",
       "   eu_sales  jp_sales  other_sales  critic_score user_score rating  \\\n",
       "0     28.96      3.77         8.45          76.0          8      E   \n",
       "1      3.58      6.81         0.77           NaN        NaN    NaN   \n",
       "2     12.76      3.79         3.29          82.0        8.3      E   \n",
       "3     10.93      3.28         2.95          80.0          8      E   \n",
       "4      8.89     10.22         1.00           NaN        NaN    NaN   \n",
       "\n",
       "   user_score_no_tbd  avg_score  \n",
       "0               80.0       78.0  \n",
       "1                NaN        NaN  \n",
       "2               83.0       82.5  \n",
       "3               80.0       80.0  \n",
       "4                NaN        NaN  "
      ]
     },
     "execution_count": 20,
     "metadata": {},
     "output_type": "execute_result"
    }
   ],
   "source": [
    "games['user_score_no_tbd'] = 10*pd.to_numeric(games['user_score'], errors='coerce')\n",
    "games['avg_score'] = games[['user_score_no_tbd', 'critic_score']].mean(axis=1)\n",
    "games.head(5)"
   ]
  },
  {
   "cell_type": "code",
   "execution_count": 21,
   "id": "00bd0897",
   "metadata": {},
   "outputs": [
    {
     "data": {
      "text/plain": [
       "8578"
      ]
     },
     "execution_count": 21,
     "metadata": {},
     "output_type": "execute_result"
    }
   ],
   "source": [
    "null_critic_score= games.loc[games['critic_score'].isnull()]\n",
    "len(null_critic_score)"
   ]
  },
  {
   "cell_type": "markdown",
   "id": "52fd5b4e",
   "metadata": {},
   "source": [
    "Its better then before, but its not enough,\n",
    "Im going to set the rest of the values as unknown. "
   ]
  },
  {
   "cell_type": "code",
   "execution_count": 22,
   "id": "8b46b4de",
   "metadata": {},
   "outputs": [
    {
     "data": {
      "text/plain": [
       "0"
      ]
     },
     "execution_count": 22,
     "metadata": {},
     "output_type": "execute_result"
    }
   ],
   "source": [
    "games.loc[games[\"avg_score\"].isnull(), 'avg_score'] = 'unknown'\n",
    "len(games.loc[games['avg_score'].isnull()])"
   ]
  },
  {
   "cell_type": "code",
   "execution_count": 23,
   "id": "f937a8c0",
   "metadata": {},
   "outputs": [
    {
     "data": {
      "text/plain": [
       "0"
      ]
     },
     "execution_count": 23,
     "metadata": {},
     "output_type": "execute_result"
    }
   ],
   "source": [
    "games.loc[games[\"critic_score\"].isnull(), 'critic_score'] = 'unknown'\n",
    "len(games.loc[games['critic_score'].isnull()])"
   ]
  },
  {
   "cell_type": "code",
   "execution_count": 24,
   "id": "2fee2855",
   "metadata": {},
   "outputs": [
    {
     "data": {
      "text/plain": [
       "0"
      ]
     },
     "execution_count": 24,
     "metadata": {},
     "output_type": "execute_result"
    }
   ],
   "source": [
    "games.loc[games[\"user_score_no_tbd\"].isnull(), 'user_score_no_tbd'] = 'unknown'\n",
    "len(games.loc[games['user_score_no_tbd'].isnull()])"
   ]
  },
  {
   "cell_type": "markdown",
   "id": "c4c53406",
   "metadata": {},
   "source": [
    "#### \"rating\" column:"
   ]
  },
  {
   "cell_type": "markdown",
   "id": "ff68f390",
   "metadata": {},
   "source": [
    "\"rating\" coumn: \n",
    "object type\n",
    "8 distict values, \n",
    "6,766 - 40.5% missing values.\n",
    "\n",
    "by esrb websit- \n",
    "* E - Titles rated E (Everyone) \n",
    "\n",
    "* T - TEEN. Titles rated T (Teen) have content that may be suitable for ages 13 and older.\n",
    "\n",
    "* M - Titles rated M (Mature) have content that may be suitable for persons ages 17 and older.\n",
    "\n",
    "* E10+ -(Everyone 10+) rating indicates the content is generally suitable for ages 10 and up, \n",
    "\n",
    "* EC- Titles rated EC (Early Childhood) have content that may be suitable for persons ages 3 and older.\n",
    "\n",
    "* K-A Kids-to-Adults rating Games with this rating contain content which the ESRB believes is generally suitable for all ages.\n",
    "\n",
    "* RP - Titles listed as RP (Rating Pending) have been submitted to the ESRB and are awaiting final rating. This symbol appears only in advertising prior to a game's release.\n",
    "\n",
    "* AO - \"Adults Only\" (AO) rating for 29 games, is the highest rating in the ESRB system, and indicates a game is only suitable for players age 18 and over.\n",
    "\n",
    "I can assume the games that came out after 2015 should have RP rating,e the I can change the null values from 2015 and up, but still its feels wrong. "
   ]
  },
  {
   "cell_type": "code",
   "execution_count": 25,
   "id": "fd8cb74d",
   "metadata": {},
   "outputs": [
    {
     "data": {
      "text/plain": [
       "E       3990\n",
       "T       2961\n",
       "M       1563\n",
       "E10+    1420\n",
       "EC         8\n",
       "K-A        3\n",
       "RP         3\n",
       "AO         1\n",
       "Name: rating, dtype: int64"
      ]
     },
     "execution_count": 25,
     "metadata": {},
     "output_type": "execute_result"
    }
   ],
   "source": [
    "games.rating.value_counts()"
   ]
  },
  {
   "cell_type": "code",
   "execution_count": 26,
   "id": "bdf65371",
   "metadata": {},
   "outputs": [
    {
     "data": {
      "text/plain": [
       "0"
      ]
     },
     "execution_count": 26,
     "metadata": {},
     "output_type": "execute_result"
    }
   ],
   "source": [
    "games.loc[games[\"rating\"].isnull(), 'rating'] = 'unknown'\n",
    "len(games.loc[games['rating'].isnull()])"
   ]
  },
  {
   "cell_type": "markdown",
   "id": "0f683f18",
   "metadata": {},
   "source": [
    "I cannot change the column type since it contain string and int or flow."
   ]
  },
  {
   "cell_type": "code",
   "execution_count": 27,
   "id": "a4683b9d",
   "metadata": {},
   "outputs": [
    {
     "data": {
      "text/html": [
       "<div>\n",
       "<style scoped>\n",
       "    .dataframe tbody tr th:only-of-type {\n",
       "        vertical-align: middle;\n",
       "    }\n",
       "\n",
       "    .dataframe tbody tr th {\n",
       "        vertical-align: top;\n",
       "    }\n",
       "\n",
       "    .dataframe thead th {\n",
       "        text-align: right;\n",
       "    }\n",
       "</style>\n",
       "<table border=\"1\" class=\"dataframe\">\n",
       "  <thead>\n",
       "    <tr style=\"text-align: right;\">\n",
       "      <th></th>\n",
       "      <th>name</th>\n",
       "      <th>platform</th>\n",
       "      <th>year_of_release</th>\n",
       "      <th>genre</th>\n",
       "      <th>na_sales</th>\n",
       "      <th>eu_sales</th>\n",
       "      <th>jp_sales</th>\n",
       "      <th>other_sales</th>\n",
       "      <th>critic_score</th>\n",
       "      <th>user_score</th>\n",
       "      <th>rating</th>\n",
       "      <th>user_score_no_tbd</th>\n",
       "      <th>avg_score</th>\n",
       "      <th>sum_of_sales</th>\n",
       "    </tr>\n",
       "  </thead>\n",
       "  <tbody>\n",
       "    <tr>\n",
       "      <th>0</th>\n",
       "      <td>Wii Sports</td>\n",
       "      <td>Wii</td>\n",
       "      <td>2006</td>\n",
       "      <td>Sports</td>\n",
       "      <td>41.36</td>\n",
       "      <td>28.96</td>\n",
       "      <td>3.77</td>\n",
       "      <td>8.45</td>\n",
       "      <td>76.0</td>\n",
       "      <td>8</td>\n",
       "      <td>E</td>\n",
       "      <td>80.0</td>\n",
       "      <td>78.0</td>\n",
       "      <td>82.54</td>\n",
       "    </tr>\n",
       "    <tr>\n",
       "      <th>1</th>\n",
       "      <td>Super Mario Bros.</td>\n",
       "      <td>NES</td>\n",
       "      <td>1985</td>\n",
       "      <td>Platform</td>\n",
       "      <td>29.08</td>\n",
       "      <td>3.58</td>\n",
       "      <td>6.81</td>\n",
       "      <td>0.77</td>\n",
       "      <td>unknown</td>\n",
       "      <td>NaN</td>\n",
       "      <td>unknown</td>\n",
       "      <td>unknown</td>\n",
       "      <td>unknown</td>\n",
       "      <td>40.24</td>\n",
       "    </tr>\n",
       "    <tr>\n",
       "      <th>2</th>\n",
       "      <td>Mario Kart Wii</td>\n",
       "      <td>Wii</td>\n",
       "      <td>2008</td>\n",
       "      <td>Racing</td>\n",
       "      <td>15.68</td>\n",
       "      <td>12.76</td>\n",
       "      <td>3.79</td>\n",
       "      <td>3.29</td>\n",
       "      <td>82.0</td>\n",
       "      <td>8.3</td>\n",
       "      <td>E</td>\n",
       "      <td>83.0</td>\n",
       "      <td>82.5</td>\n",
       "      <td>35.52</td>\n",
       "    </tr>\n",
       "    <tr>\n",
       "      <th>3</th>\n",
       "      <td>Wii Sports Resort</td>\n",
       "      <td>Wii</td>\n",
       "      <td>2009</td>\n",
       "      <td>Sports</td>\n",
       "      <td>15.61</td>\n",
       "      <td>10.93</td>\n",
       "      <td>3.28</td>\n",
       "      <td>2.95</td>\n",
       "      <td>80.0</td>\n",
       "      <td>8</td>\n",
       "      <td>E</td>\n",
       "      <td>80.0</td>\n",
       "      <td>80.0</td>\n",
       "      <td>32.77</td>\n",
       "    </tr>\n",
       "  </tbody>\n",
       "</table>\n",
       "</div>"
      ],
      "text/plain": [
       "                name platform  year_of_release     genre  na_sales  eu_sales  \\\n",
       "0         Wii Sports      Wii             2006    Sports     41.36     28.96   \n",
       "1  Super Mario Bros.      NES             1985  Platform     29.08      3.58   \n",
       "2     Mario Kart Wii      Wii             2008    Racing     15.68     12.76   \n",
       "3  Wii Sports Resort      Wii             2009    Sports     15.61     10.93   \n",
       "\n",
       "   jp_sales  other_sales critic_score user_score   rating user_score_no_tbd  \\\n",
       "0      3.77         8.45         76.0          8        E              80.0   \n",
       "1      6.81         0.77      unknown        NaN  unknown           unknown   \n",
       "2      3.79         3.29         82.0        8.3        E              83.0   \n",
       "3      3.28         2.95         80.0          8        E              80.0   \n",
       "\n",
       "  avg_score  sum_of_sales  \n",
       "0      78.0         82.54  \n",
       "1   unknown         40.24  \n",
       "2      82.5         35.52  \n",
       "3      80.0         32.77  "
      ]
     },
     "execution_count": 27,
     "metadata": {},
     "output_type": "execute_result"
    }
   ],
   "source": [
    "# Calculate the total sales (the sum of sales in all regions) for each game and store these values in a separate column:\n",
    "\n",
    "games['sum_of_sales']= games['na_sales']+ games['eu_sales']+ games['jp_sales']+ games['other_sales']\n",
    "games.head(4)"
   ]
  },
  {
   "cell_type": "code",
   "execution_count": 28,
   "id": "5845785e",
   "metadata": {},
   "outputs": [
    {
     "name": "stdout",
     "output_type": "stream",
     "text": [
      "<class 'pandas.core.frame.DataFrame'>\n",
      "RangeIndex: 16715 entries, 0 to 16714\n",
      "Data columns (total 14 columns):\n",
      " #   Column             Non-Null Count  Dtype  \n",
      "---  ------             --------------  -----  \n",
      " 0   name               16715 non-null  object \n",
      " 1   platform           16715 non-null  object \n",
      " 2   year_of_release    16715 non-null  int32  \n",
      " 3   genre              16715 non-null  object \n",
      " 4   na_sales           16715 non-null  float64\n",
      " 5   eu_sales           16715 non-null  float64\n",
      " 6   jp_sales           16715 non-null  float64\n",
      " 7   other_sales        16715 non-null  float64\n",
      " 8   critic_score       16715 non-null  object \n",
      " 9   user_score         10014 non-null  object \n",
      " 10  rating             16715 non-null  object \n",
      " 11  user_score_no_tbd  16715 non-null  object \n",
      " 12  avg_score          16715 non-null  object \n",
      " 13  sum_of_sales       16715 non-null  float64\n",
      "dtypes: float64(5), int32(1), object(8)\n",
      "memory usage: 1.7+ MB\n"
     ]
    }
   ],
   "source": [
    "games.info()"
   ]
  },
  {
   "cell_type": "markdown",
   "id": "7583ce7a",
   "metadata": {},
   "source": [
    "### Analyze the data:"
   ]
  },
  {
   "cell_type": "code",
   "execution_count": 29,
   "id": "6c4b86bb",
   "metadata": {},
   "outputs": [
    {
     "data": {
      "image/png": "[encoded data removed]",
      "text/plain": [
       "<Figure size 432x288 with 1 Axes>"
      ]
     },
     "metadata": {
      "needs_background": "light"
     },
     "output_type": "display_data"
    },
    {
     "data": {
      "text/plain": [
       "year_of_release\n",
       "1980       9\n",
       "1981      46\n",
       "1982      36\n",
       "1983      17\n",
       "1984      14\n",
       "1985      14\n",
       "1986      21\n",
       "1987      16\n",
       "1988      15\n",
       "1989      17\n",
       "1990      16\n",
       "1991      41\n",
       "1992      43\n",
       "1993      62\n",
       "1994     121\n",
       "1995     219\n",
       "1996     263\n",
       "1997     289\n",
       "1998     379\n",
       "1999     338\n",
       "2000     350\n",
       "2001     482\n",
       "2002     830\n",
       "2003     779\n",
       "2004     764\n",
       "2005     941\n",
       "2006    1008\n",
       "2007    1198\n",
       "2008    1429\n",
       "2009    1426\n",
       "2010    1255\n",
       "2011    1137\n",
       "2012     653\n",
       "2013     544\n",
       "2014     581\n",
       "2015     606\n",
       "2016     502\n",
       "9999     254\n",
       "Name: name, dtype: int64"
      ]
     },
     "execution_count": 29,
     "metadata": {},
     "output_type": "execute_result"
    }
   ],
   "source": [
    "#  Game release per year:\n",
    "year_range = games.groupby('year_of_release')['name'].count()\n",
    "%matplotlib inline\n",
    "year_range.plot(kind ='bar')\n",
    "plt.title(\"games distribution during years\")\n",
    "plt.ylabel('number of games')\n",
    "plt.xlabel(\"year\")\n",
    "plt.show()\n",
    "year_range"
   ]
  },
  {
   "cell_type": "code",
   "execution_count": 30,
   "id": "93d074d9",
   "metadata": {},
   "outputs": [
    {
     "data": {
      "image/png": "[encoded data removed]",
      "text/plain": [
       "<Figure size 432x288 with 1 Axes>"
      ]
     },
     "metadata": {
      "needs_background": "light"
     },
     "output_type": "display_data"
    },
    {
     "data": {
      "text/plain": [
       "year_of_release\n",
       "1980       9\n",
       "1981      46\n",
       "1982      36\n",
       "1983      17\n",
       "1984      14\n",
       "1985      14\n",
       "1986      21\n",
       "1987      16\n",
       "1988      15\n",
       "1989      17\n",
       "1990      16\n",
       "1991      41\n",
       "1992      43\n",
       "1993      62\n",
       "1994     121\n",
       "1995     219\n",
       "1996     263\n",
       "1997     289\n",
       "1998     379\n",
       "1999     338\n",
       "2000     350\n",
       "2001     482\n",
       "2002     830\n",
       "2003     779\n",
       "2004     764\n",
       "2005     941\n",
       "2006    1008\n",
       "2007    1198\n",
       "2008    1429\n",
       "2009    1426\n",
       "2010    1255\n",
       "2011    1137\n",
       "2012     653\n",
       "2013     544\n",
       "2014     581\n",
       "2015     606\n",
       "2016     502\n",
       "9999     254\n",
       "Name: name, dtype: int64"
      ]
     },
     "execution_count": 30,
     "metadata": {},
     "output_type": "execute_result"
    }
   ],
   "source": [
    "year_revenue = games.groupby('year_of_release')['sum_of_sales'].sum()\n",
    "%matplotlib inline\n",
    "year_revenue.plot(kind ='bar')\n",
    "plt.title(\"revenue distribution during years\")\n",
    "plt.ylabel('revenue')\n",
    "plt.xlabel(\"year\")\n",
    "plt.show()\n",
    "year_range"
   ]
  },
  {
   "cell_type": "markdown",
   "id": "d7b2d3e8",
   "metadata": {},
   "source": [
    "By the graph above we can see that during years 2006-2011 over 1000 games were release, 2008-2009 are in the top, 1429 1426 games release."
   ]
  },
  {
   "cell_type": "code",
   "execution_count": 31,
   "id": "3292521f",
   "metadata": {
    "scrolled": true
   },
   "outputs": [
    {
     "data": {
      "image/png": "[encoded data removed]",
      "text/plain": [
       "<Figure size 432x288 with 1 Axes>"
      ]
     },
     "metadata": {
      "needs_background": "light"
     },
     "output_type": "display_data"
    },
    {
     "data": {
      "text/html": [
       "<div>\n",
       "<style scoped>\n",
       "    .dataframe tbody tr th:only-of-type {\n",
       "        vertical-align: middle;\n",
       "    }\n",
       "\n",
       "    .dataframe tbody tr th {\n",
       "        vertical-align: top;\n",
       "    }\n",
       "\n",
       "    .dataframe thead th {\n",
       "        text-align: right;\n",
       "    }\n",
       "</style>\n",
       "<table border=\"1\" class=\"dataframe\">\n",
       "  <thead>\n",
       "    <tr style=\"text-align: right;\">\n",
       "      <th></th>\n",
       "      <th>platform</th>\n",
       "      <th>sum</th>\n",
       "      <th>count</th>\n",
       "    </tr>\n",
       "  </thead>\n",
       "  <tbody>\n",
       "    <tr>\n",
       "      <th>16</th>\n",
       "      <td>PS2</td>\n",
       "      <td>1255.77</td>\n",
       "      <td>2161</td>\n",
       "    </tr>\n",
       "    <tr>\n",
       "      <th>28</th>\n",
       "      <td>X360</td>\n",
       "      <td>971.42</td>\n",
       "      <td>1262</td>\n",
       "    </tr>\n",
       "    <tr>\n",
       "      <th>17</th>\n",
       "      <td>PS3</td>\n",
       "      <td>939.65</td>\n",
       "      <td>1331</td>\n",
       "    </tr>\n",
       "    <tr>\n",
       "      <th>26</th>\n",
       "      <td>Wii</td>\n",
       "      <td>907.51</td>\n",
       "      <td>1320</td>\n",
       "    </tr>\n",
       "    <tr>\n",
       "      <th>4</th>\n",
       "      <td>DS</td>\n",
       "      <td>806.12</td>\n",
       "      <td>2151</td>\n",
       "    </tr>\n",
       "    <tr>\n",
       "      <th>15</th>\n",
       "      <td>PS</td>\n",
       "      <td>730.86</td>\n",
       "      <td>1197</td>\n",
       "    </tr>\n",
       "    <tr>\n",
       "      <th>6</th>\n",
       "      <td>GBA</td>\n",
       "      <td>317.85</td>\n",
       "      <td>822</td>\n",
       "    </tr>\n",
       "    <tr>\n",
       "      <th>18</th>\n",
       "      <td>PS4</td>\n",
       "      <td>314.14</td>\n",
       "      <td>392</td>\n",
       "    </tr>\n",
       "    <tr>\n",
       "      <th>19</th>\n",
       "      <td>PSP</td>\n",
       "      <td>294.05</td>\n",
       "      <td>1209</td>\n",
       "    </tr>\n",
       "    <tr>\n",
       "      <th>13</th>\n",
       "      <td>PC</td>\n",
       "      <td>259.52</td>\n",
       "      <td>974</td>\n",
       "    </tr>\n",
       "    <tr>\n",
       "      <th>2</th>\n",
       "      <td>3DS</td>\n",
       "      <td>259.00</td>\n",
       "      <td>520</td>\n",
       "    </tr>\n",
       "    <tr>\n",
       "      <th>29</th>\n",
       "      <td>XB</td>\n",
       "      <td>257.74</td>\n",
       "      <td>824</td>\n",
       "    </tr>\n",
       "    <tr>\n",
       "      <th>5</th>\n",
       "      <td>GB</td>\n",
       "      <td>255.46</td>\n",
       "      <td>98</td>\n",
       "    </tr>\n",
       "    <tr>\n",
       "      <th>11</th>\n",
       "      <td>NES</td>\n",
       "      <td>251.05</td>\n",
       "      <td>98</td>\n",
       "    </tr>\n",
       "    <tr>\n",
       "      <th>10</th>\n",
       "      <td>N64</td>\n",
       "      <td>218.68</td>\n",
       "      <td>319</td>\n",
       "    </tr>\n",
       "    <tr>\n",
       "      <th>23</th>\n",
       "      <td>SNES</td>\n",
       "      <td>200.04</td>\n",
       "      <td>239</td>\n",
       "    </tr>\n",
       "    <tr>\n",
       "      <th>7</th>\n",
       "      <td>GC</td>\n",
       "      <td>198.93</td>\n",
       "      <td>556</td>\n",
       "    </tr>\n",
       "    <tr>\n",
       "      <th>30</th>\n",
       "      <td>XOne</td>\n",
       "      <td>159.32</td>\n",
       "      <td>247</td>\n",
       "    </tr>\n",
       "    <tr>\n",
       "      <th>0</th>\n",
       "      <td>2600</td>\n",
       "      <td>96.98</td>\n",
       "      <td>133</td>\n",
       "    </tr>\n",
       "    <tr>\n",
       "      <th>27</th>\n",
       "      <td>WiiU</td>\n",
       "      <td>82.19</td>\n",
       "      <td>147</td>\n",
       "    </tr>\n",
       "    <tr>\n",
       "      <th>20</th>\n",
       "      <td>PSV</td>\n",
       "      <td>54.07</td>\n",
       "      <td>430</td>\n",
       "    </tr>\n",
       "    <tr>\n",
       "      <th>21</th>\n",
       "      <td>SAT</td>\n",
       "      <td>33.59</td>\n",
       "      <td>173</td>\n",
       "    </tr>\n",
       "    <tr>\n",
       "      <th>8</th>\n",
       "      <td>GEN</td>\n",
       "      <td>30.77</td>\n",
       "      <td>29</td>\n",
       "    </tr>\n",
       "    <tr>\n",
       "      <th>3</th>\n",
       "      <td>DC</td>\n",
       "      <td>15.95</td>\n",
       "      <td>52</td>\n",
       "    </tr>\n",
       "    <tr>\n",
       "      <th>22</th>\n",
       "      <td>SCD</td>\n",
       "      <td>1.86</td>\n",
       "      <td>6</td>\n",
       "    </tr>\n",
       "    <tr>\n",
       "      <th>12</th>\n",
       "      <td>NG</td>\n",
       "      <td>1.44</td>\n",
       "      <td>12</td>\n",
       "    </tr>\n",
       "    <tr>\n",
       "      <th>25</th>\n",
       "      <td>WS</td>\n",
       "      <td>1.42</td>\n",
       "      <td>6</td>\n",
       "    </tr>\n",
       "    <tr>\n",
       "      <th>24</th>\n",
       "      <td>TG16</td>\n",
       "      <td>0.16</td>\n",
       "      <td>2</td>\n",
       "    </tr>\n",
       "    <tr>\n",
       "      <th>1</th>\n",
       "      <td>3DO</td>\n",
       "      <td>0.10</td>\n",
       "      <td>3</td>\n",
       "    </tr>\n",
       "    <tr>\n",
       "      <th>9</th>\n",
       "      <td>GG</td>\n",
       "      <td>0.04</td>\n",
       "      <td>1</td>\n",
       "    </tr>\n",
       "    <tr>\n",
       "      <th>14</th>\n",
       "      <td>PCFX</td>\n",
       "      <td>0.03</td>\n",
       "      <td>1</td>\n",
       "    </tr>\n",
       "  </tbody>\n",
       "</table>\n",
       "</div>"
      ],
      "text/plain": [
       "   platform      sum  count\n",
       "16      PS2  1255.77   2161\n",
       "28     X360   971.42   1262\n",
       "17      PS3   939.65   1331\n",
       "26      Wii   907.51   1320\n",
       "4        DS   806.12   2151\n",
       "15       PS   730.86   1197\n",
       "6       GBA   317.85    822\n",
       "18      PS4   314.14    392\n",
       "19      PSP   294.05   1209\n",
       "13       PC   259.52    974\n",
       "2       3DS   259.00    520\n",
       "29       XB   257.74    824\n",
       "5        GB   255.46     98\n",
       "11      NES   251.05     98\n",
       "10      N64   218.68    319\n",
       "23     SNES   200.04    239\n",
       "7        GC   198.93    556\n",
       "30     XOne   159.32    247\n",
       "0      2600    96.98    133\n",
       "27     WiiU    82.19    147\n",
       "20      PSV    54.07    430\n",
       "21      SAT    33.59    173\n",
       "8       GEN    30.77     29\n",
       "3        DC    15.95     52\n",
       "22      SCD     1.86      6\n",
       "12       NG     1.44     12\n",
       "25       WS     1.42      6\n",
       "24     TG16     0.16      2\n",
       "1       3DO     0.10      3\n",
       "9        GG     0.04      1\n",
       "14     PCFX     0.03      1"
      ]
     },
     "execution_count": 31,
     "metadata": {},
     "output_type": "execute_result"
    }
   ],
   "source": [
    "# Analize by platform:\n",
    "platform_income= games.groupby('platform')['sum_of_sales'].agg([\"sum\",\"count\"])\n",
    "platform_income= platform_income.reset_index().sort_values(by='sum', ascending=False)\n",
    "%matplotlib inline\n",
    "platform_income.plot(kind ='bar', x='platform')\n",
    "plt.title(\"Total income per platform\")\n",
    "plt.ylabel('income')\n",
    "plt.xlabel(\"platform\")\n",
    "plt.show()\n",
    "platform_income\n"
   ]
  },
  {
   "cell_type": "markdown",
   "id": "dc84349b",
   "metadata": {},
   "source": [
    "Revenue peaks are :\n",
    "*\t\"PS2\" platform with revenue of 1255.77 milion USD with 2161 games\n",
    "\n",
    "*   \"X360\" platform with revenue of 971.42 milion USD with 1262 games\n",
    "\n",
    "*   \"PS3\" platform with revenue of 939.65 milion USD with 1331 games\n",
    "\n",
    "*   \"Wii\" platform with revenue of 907.51 milion USD with 1320 games\n",
    "\n",
    "But its importent to notice that the lead platform had alot of games. \n"
   ]
  },
  {
   "cell_type": "code",
   "execution_count": 32,
   "id": "8c050f11",
   "metadata": {},
   "outputs": [
    {
     "data": {
      "image/png": "[encoded data removed]",
      "text/plain": [
       "<Figure size 432x288 with 1 Axes>"
      ]
     },
     "metadata": {
      "needs_background": "light"
     },
     "output_type": "display_data"
    },
    {
     "data": {
      "text/html": [
       "<div>\n",
       "<style scoped>\n",
       "    .dataframe tbody tr th:only-of-type {\n",
       "        vertical-align: middle;\n",
       "    }\n",
       "\n",
       "    .dataframe tbody tr th {\n",
       "        vertical-align: top;\n",
       "    }\n",
       "\n",
       "    .dataframe thead th {\n",
       "        text-align: right;\n",
       "    }\n",
       "</style>\n",
       "<table border=\"1\" class=\"dataframe\">\n",
       "  <thead>\n",
       "    <tr style=\"text-align: right;\">\n",
       "      <th></th>\n",
       "      <th>year_of_release</th>\n",
       "      <th>sum_of_sales</th>\n",
       "    </tr>\n",
       "  </thead>\n",
       "  <tbody>\n",
       "    <tr>\n",
       "      <th>0</th>\n",
       "      <td>2000</td>\n",
       "      <td>39.17</td>\n",
       "    </tr>\n",
       "    <tr>\n",
       "      <th>1</th>\n",
       "      <td>2001</td>\n",
       "      <td>166.43</td>\n",
       "    </tr>\n",
       "    <tr>\n",
       "      <th>2</th>\n",
       "      <td>2002</td>\n",
       "      <td>205.38</td>\n",
       "    </tr>\n",
       "    <tr>\n",
       "      <th>3</th>\n",
       "      <td>2003</td>\n",
       "      <td>185.93</td>\n",
       "    </tr>\n",
       "    <tr>\n",
       "      <th>4</th>\n",
       "      <td>2004</td>\n",
       "      <td>220.55</td>\n",
       "    </tr>\n",
       "    <tr>\n",
       "      <th>5</th>\n",
       "      <td>2005</td>\n",
       "      <td>160.98</td>\n",
       "    </tr>\n",
       "    <tr>\n",
       "      <th>6</th>\n",
       "      <td>2006</td>\n",
       "      <td>106.46</td>\n",
       "    </tr>\n",
       "    <tr>\n",
       "      <th>7</th>\n",
       "      <td>2007</td>\n",
       "      <td>75.99</td>\n",
       "    </tr>\n",
       "    <tr>\n",
       "      <th>8</th>\n",
       "      <td>2008</td>\n",
       "      <td>53.90</td>\n",
       "    </tr>\n",
       "    <tr>\n",
       "      <th>9</th>\n",
       "      <td>2009</td>\n",
       "      <td>26.40</td>\n",
       "    </tr>\n",
       "    <tr>\n",
       "      <th>10</th>\n",
       "      <td>2010</td>\n",
       "      <td>5.64</td>\n",
       "    </tr>\n",
       "    <tr>\n",
       "      <th>11</th>\n",
       "      <td>2011</td>\n",
       "      <td>0.45</td>\n",
       "    </tr>\n",
       "    <tr>\n",
       "      <th>12</th>\n",
       "      <td>9999</td>\n",
       "      <td>8.49</td>\n",
       "    </tr>\n",
       "  </tbody>\n",
       "</table>\n",
       "</div>"
      ],
      "text/plain": [
       "    year_of_release  sum_of_sales\n",
       "0              2000         39.17\n",
       "1              2001        166.43\n",
       "2              2002        205.38\n",
       "3              2003        185.93\n",
       "4              2004        220.55\n",
       "5              2005        160.98\n",
       "6              2006        106.46\n",
       "7              2007         75.99\n",
       "8              2008         53.90\n",
       "9              2009         26.40\n",
       "10             2010          5.64\n",
       "11             2011          0.45\n",
       "12             9999          8.49"
      ]
     },
     "execution_count": 32,
     "metadata": {},
     "output_type": "execute_result"
    }
   ],
   "source": [
    "# PS2 has the highest revenue, lets look at PS2 Total income per year:\n",
    "PS2= games.query(\"platform == 'PS2'\")\n",
    "PS2_revenue_per_years = PS2.groupby('year_of_release')['sum_of_sales'].sum().reset_index()\n",
    "%matplotlib inline\n",
    "PS2_revenue_per_years.plot(kind ='bar', x='year_of_release')\n",
    "plt.title(\"PS2 Total income per year\")\n",
    "plt.ylabel('income')\n",
    "plt.xlabel(\"year_of_release\")\n",
    "plt.show()\n",
    "PS2_revenue_per_years\n"
   ]
  },
  {
   "cell_type": "code",
   "execution_count": 33,
   "id": "0683bd14",
   "metadata": {},
   "outputs": [
    {
     "data": {
      "text/html": [
       "<div>\n",
       "<style scoped>\n",
       "    .dataframe tbody tr th:only-of-type {\n",
       "        vertical-align: middle;\n",
       "    }\n",
       "\n",
       "    .dataframe tbody tr th {\n",
       "        vertical-align: top;\n",
       "    }\n",
       "\n",
       "    .dataframe thead th {\n",
       "        text-align: right;\n",
       "    }\n",
       "</style>\n",
       "<table border=\"1\" class=\"dataframe\">\n",
       "  <thead>\n",
       "    <tr style=\"text-align: right;\">\n",
       "      <th></th>\n",
       "      <th>platform</th>\n",
       "      <th>sum</th>\n",
       "      <th>count</th>\n",
       "    </tr>\n",
       "  </thead>\n",
       "  <tbody>\n",
       "    <tr>\n",
       "      <th>16</th>\n",
       "      <td>PS2</td>\n",
       "      <td>1255.77</td>\n",
       "      <td>2161</td>\n",
       "    </tr>\n",
       "    <tr>\n",
       "      <th>28</th>\n",
       "      <td>X360</td>\n",
       "      <td>971.42</td>\n",
       "      <td>1262</td>\n",
       "    </tr>\n",
       "    <tr>\n",
       "      <th>17</th>\n",
       "      <td>PS3</td>\n",
       "      <td>939.65</td>\n",
       "      <td>1331</td>\n",
       "    </tr>\n",
       "    <tr>\n",
       "      <th>26</th>\n",
       "      <td>Wii</td>\n",
       "      <td>907.51</td>\n",
       "      <td>1320</td>\n",
       "    </tr>\n",
       "    <tr>\n",
       "      <th>4</th>\n",
       "      <td>DS</td>\n",
       "      <td>806.12</td>\n",
       "      <td>2151</td>\n",
       "    </tr>\n",
       "    <tr>\n",
       "      <th>15</th>\n",
       "      <td>PS</td>\n",
       "      <td>730.86</td>\n",
       "      <td>1197</td>\n",
       "    </tr>\n",
       "    <tr>\n",
       "      <th>6</th>\n",
       "      <td>GBA</td>\n",
       "      <td>317.85</td>\n",
       "      <td>822</td>\n",
       "    </tr>\n",
       "    <tr>\n",
       "      <th>18</th>\n",
       "      <td>PS4</td>\n",
       "      <td>314.14</td>\n",
       "      <td>392</td>\n",
       "    </tr>\n",
       "  </tbody>\n",
       "</table>\n",
       "</div>"
      ],
      "text/plain": [
       "   platform      sum  count\n",
       "16      PS2  1255.77   2161\n",
       "28     X360   971.42   1262\n",
       "17      PS3   939.65   1331\n",
       "26      Wii   907.51   1320\n",
       "4        DS   806.12   2151\n",
       "15       PS   730.86   1197\n",
       "6       GBA   317.85    822\n",
       "18      PS4   314.14    392"
      ]
     },
     "execution_count": 33,
     "metadata": {},
     "output_type": "execute_result"
    }
   ],
   "source": [
    "# lets look at the platform with the highest revenue: \n",
    "platform_over30 = platform_income.loc[platform_income['sum'] > 300]\n",
    "platform_over30"
   ]
  },
  {
   "cell_type": "code",
   "execution_count": 34,
   "id": "0874441d",
   "metadata": {},
   "outputs": [
    {
     "data": {
      "text/plain": [
       "array(['PS2', 'X360', 'PS3', 'Wii', 'DS', 'PS', 'GBA', 'PS4'],\n",
       "      dtype=object)"
      ]
     },
     "execution_count": 34,
     "metadata": {},
     "output_type": "execute_result"
    }
   ],
   "source": [
    "relev_platform = platform_over30['platform'].values\n",
    "relev_platform"
   ]
  },
  {
   "cell_type": "code",
   "execution_count": 35,
   "id": "3fdaaba9",
   "metadata": {},
   "outputs": [
    {
     "data": {
      "text/html": [
       "<div>\n",
       "<style scoped>\n",
       "    .dataframe tbody tr th:only-of-type {\n",
       "        vertical-align: middle;\n",
       "    }\n",
       "\n",
       "    .dataframe tbody tr th {\n",
       "        vertical-align: top;\n",
       "    }\n",
       "\n",
       "    .dataframe thead th {\n",
       "        text-align: right;\n",
       "    }\n",
       "</style>\n",
       "<table border=\"1\" class=\"dataframe\">\n",
       "  <thead>\n",
       "    <tr style=\"text-align: right;\">\n",
       "      <th></th>\n",
       "      <th>name</th>\n",
       "      <th>platform</th>\n",
       "      <th>year_of_release</th>\n",
       "      <th>genre</th>\n",
       "      <th>na_sales</th>\n",
       "      <th>eu_sales</th>\n",
       "      <th>jp_sales</th>\n",
       "      <th>other_sales</th>\n",
       "      <th>critic_score</th>\n",
       "      <th>user_score</th>\n",
       "      <th>rating</th>\n",
       "      <th>user_score_no_tbd</th>\n",
       "      <th>avg_score</th>\n",
       "      <th>sum_of_sales</th>\n",
       "    </tr>\n",
       "  </thead>\n",
       "  <tbody>\n",
       "    <tr>\n",
       "      <th>0</th>\n",
       "      <td>Wii Sports</td>\n",
       "      <td>Wii</td>\n",
       "      <td>2006</td>\n",
       "      <td>Sports</td>\n",
       "      <td>41.36</td>\n",
       "      <td>28.96</td>\n",
       "      <td>3.77</td>\n",
       "      <td>8.45</td>\n",
       "      <td>76.0</td>\n",
       "      <td>8</td>\n",
       "      <td>E</td>\n",
       "      <td>80.0</td>\n",
       "      <td>78.0</td>\n",
       "      <td>82.54</td>\n",
       "    </tr>\n",
       "    <tr>\n",
       "      <th>2</th>\n",
       "      <td>Mario Kart Wii</td>\n",
       "      <td>Wii</td>\n",
       "      <td>2008</td>\n",
       "      <td>Racing</td>\n",
       "      <td>15.68</td>\n",
       "      <td>12.76</td>\n",
       "      <td>3.79</td>\n",
       "      <td>3.29</td>\n",
       "      <td>82.0</td>\n",
       "      <td>8.3</td>\n",
       "      <td>E</td>\n",
       "      <td>83.0</td>\n",
       "      <td>82.5</td>\n",
       "      <td>35.52</td>\n",
       "    </tr>\n",
       "    <tr>\n",
       "      <th>3</th>\n",
       "      <td>Wii Sports Resort</td>\n",
       "      <td>Wii</td>\n",
       "      <td>2009</td>\n",
       "      <td>Sports</td>\n",
       "      <td>15.61</td>\n",
       "      <td>10.93</td>\n",
       "      <td>3.28</td>\n",
       "      <td>2.95</td>\n",
       "      <td>80.0</td>\n",
       "      <td>8</td>\n",
       "      <td>E</td>\n",
       "      <td>80.0</td>\n",
       "      <td>80.0</td>\n",
       "      <td>32.77</td>\n",
       "    </tr>\n",
       "    <tr>\n",
       "      <th>6</th>\n",
       "      <td>New Super Mario Bros.</td>\n",
       "      <td>DS</td>\n",
       "      <td>2006</td>\n",
       "      <td>Platform</td>\n",
       "      <td>11.28</td>\n",
       "      <td>9.14</td>\n",
       "      <td>6.50</td>\n",
       "      <td>2.88</td>\n",
       "      <td>89.0</td>\n",
       "      <td>8.5</td>\n",
       "      <td>E</td>\n",
       "      <td>85.0</td>\n",
       "      <td>87.0</td>\n",
       "      <td>29.80</td>\n",
       "    </tr>\n",
       "    <tr>\n",
       "      <th>7</th>\n",
       "      <td>Wii Play</td>\n",
       "      <td>Wii</td>\n",
       "      <td>2006</td>\n",
       "      <td>Misc</td>\n",
       "      <td>13.96</td>\n",
       "      <td>9.18</td>\n",
       "      <td>2.93</td>\n",
       "      <td>2.84</td>\n",
       "      <td>58.0</td>\n",
       "      <td>6.6</td>\n",
       "      <td>E</td>\n",
       "      <td>66.0</td>\n",
       "      <td>62.0</td>\n",
       "      <td>28.91</td>\n",
       "    </tr>\n",
       "  </tbody>\n",
       "</table>\n",
       "</div>"
      ],
      "text/plain": [
       "                    name platform  year_of_release     genre  na_sales  \\\n",
       "0             Wii Sports      Wii             2006    Sports     41.36   \n",
       "2         Mario Kart Wii      Wii             2008    Racing     15.68   \n",
       "3      Wii Sports Resort      Wii             2009    Sports     15.61   \n",
       "6  New Super Mario Bros.       DS             2006  Platform     11.28   \n",
       "7               Wii Play      Wii             2006      Misc     13.96   \n",
       "\n",
       "   eu_sales  jp_sales  other_sales critic_score user_score rating  \\\n",
       "0     28.96      3.77         8.45         76.0          8      E   \n",
       "2     12.76      3.79         3.29         82.0        8.3      E   \n",
       "3     10.93      3.28         2.95         80.0          8      E   \n",
       "6      9.14      6.50         2.88         89.0        8.5      E   \n",
       "7      9.18      2.93         2.84         58.0        6.6      E   \n",
       "\n",
       "  user_score_no_tbd avg_score  sum_of_sales  \n",
       "0              80.0      78.0         82.54  \n",
       "2              83.0      82.5         35.52  \n",
       "3              80.0      80.0         32.77  \n",
       "6              85.0      87.0         29.80  \n",
       "7              66.0      62.0         28.91  "
      ]
     },
     "execution_count": 35,
     "metadata": {},
     "output_type": "execute_result"
    }
   ],
   "source": [
    "games_relev_platform = games.query('platform in @relev_platform')\n",
    "games_relev_platform.head()"
   ]
  },
  {
   "cell_type": "code",
   "execution_count": 36,
   "id": "f33e656c",
   "metadata": {},
   "outputs": [
    {
     "data": {
      "text/html": [
       "<div>\n",
       "<style scoped>\n",
       "    .dataframe tbody tr th:only-of-type {\n",
       "        vertical-align: middle;\n",
       "    }\n",
       "\n",
       "    .dataframe tbody tr th {\n",
       "        vertical-align: top;\n",
       "    }\n",
       "\n",
       "    .dataframe thead th {\n",
       "        text-align: right;\n",
       "    }\n",
       "</style>\n",
       "<table border=\"1\" class=\"dataframe\">\n",
       "  <thead>\n",
       "    <tr style=\"text-align: right;\">\n",
       "      <th></th>\n",
       "      <th>DS</th>\n",
       "      <th>GBA</th>\n",
       "      <th>PS</th>\n",
       "      <th>PS2</th>\n",
       "      <th>PS3</th>\n",
       "      <th>PS4</th>\n",
       "      <th>Wii</th>\n",
       "      <th>x360</th>\n",
       "    </tr>\n",
       "    <tr>\n",
       "      <th>year_of_release</th>\n",
       "      <th></th>\n",
       "      <th></th>\n",
       "      <th></th>\n",
       "      <th></th>\n",
       "      <th></th>\n",
       "      <th></th>\n",
       "      <th></th>\n",
       "      <th></th>\n",
       "    </tr>\n",
       "  </thead>\n",
       "  <tbody>\n",
       "    <tr>\n",
       "      <th>1985</th>\n",
       "      <td>0.02</td>\n",
       "      <td>NaN</td>\n",
       "      <td>NaN</td>\n",
       "      <td>NaN</td>\n",
       "      <td>NaN</td>\n",
       "      <td>NaN</td>\n",
       "      <td>NaN</td>\n",
       "      <td>NaN</td>\n",
       "    </tr>\n",
       "    <tr>\n",
       "      <th>1994</th>\n",
       "      <td>NaN</td>\n",
       "      <td>NaN</td>\n",
       "      <td>6.03</td>\n",
       "      <td>NaN</td>\n",
       "      <td>NaN</td>\n",
       "      <td>NaN</td>\n",
       "      <td>NaN</td>\n",
       "      <td>NaN</td>\n",
       "    </tr>\n",
       "    <tr>\n",
       "      <th>1995</th>\n",
       "      <td>NaN</td>\n",
       "      <td>NaN</td>\n",
       "      <td>35.96</td>\n",
       "      <td>NaN</td>\n",
       "      <td>NaN</td>\n",
       "      <td>NaN</td>\n",
       "      <td>NaN</td>\n",
       "      <td>NaN</td>\n",
       "    </tr>\n",
       "    <tr>\n",
       "      <th>1996</th>\n",
       "      <td>NaN</td>\n",
       "      <td>NaN</td>\n",
       "      <td>94.70</td>\n",
       "      <td>NaN</td>\n",
       "      <td>NaN</td>\n",
       "      <td>NaN</td>\n",
       "      <td>NaN</td>\n",
       "      <td>NaN</td>\n",
       "    </tr>\n",
       "    <tr>\n",
       "      <th>1997</th>\n",
       "      <td>NaN</td>\n",
       "      <td>NaN</td>\n",
       "      <td>136.17</td>\n",
       "      <td>NaN</td>\n",
       "      <td>NaN</td>\n",
       "      <td>NaN</td>\n",
       "      <td>NaN</td>\n",
       "      <td>NaN</td>\n",
       "    </tr>\n",
       "    <tr>\n",
       "      <th>1998</th>\n",
       "      <td>NaN</td>\n",
       "      <td>NaN</td>\n",
       "      <td>169.49</td>\n",
       "      <td>NaN</td>\n",
       "      <td>NaN</td>\n",
       "      <td>NaN</td>\n",
       "      <td>NaN</td>\n",
       "      <td>NaN</td>\n",
       "    </tr>\n",
       "    <tr>\n",
       "      <th>1999</th>\n",
       "      <td>NaN</td>\n",
       "      <td>NaN</td>\n",
       "      <td>144.53</td>\n",
       "      <td>NaN</td>\n",
       "      <td>NaN</td>\n",
       "      <td>NaN</td>\n",
       "      <td>NaN</td>\n",
       "      <td>NaN</td>\n",
       "    </tr>\n",
       "    <tr>\n",
       "      <th>2000</th>\n",
       "      <td>NaN</td>\n",
       "      <td>0.07</td>\n",
       "      <td>96.37</td>\n",
       "      <td>39.17</td>\n",
       "      <td>NaN</td>\n",
       "      <td>NaN</td>\n",
       "      <td>NaN</td>\n",
       "      <td>NaN</td>\n",
       "    </tr>\n",
       "    <tr>\n",
       "      <th>2001</th>\n",
       "      <td>NaN</td>\n",
       "      <td>61.53</td>\n",
       "      <td>35.59</td>\n",
       "      <td>166.43</td>\n",
       "      <td>NaN</td>\n",
       "      <td>NaN</td>\n",
       "      <td>NaN</td>\n",
       "      <td>NaN</td>\n",
       "    </tr>\n",
       "    <tr>\n",
       "      <th>2002</th>\n",
       "      <td>NaN</td>\n",
       "      <td>74.16</td>\n",
       "      <td>6.67</td>\n",
       "      <td>205.38</td>\n",
       "      <td>NaN</td>\n",
       "      <td>NaN</td>\n",
       "      <td>NaN</td>\n",
       "      <td>NaN</td>\n",
       "    </tr>\n",
       "    <tr>\n",
       "      <th>2003</th>\n",
       "      <td>NaN</td>\n",
       "      <td>56.67</td>\n",
       "      <td>2.07</td>\n",
       "      <td>185.93</td>\n",
       "      <td>NaN</td>\n",
       "      <td>NaN</td>\n",
       "      <td>NaN</td>\n",
       "      <td>NaN</td>\n",
       "    </tr>\n",
       "    <tr>\n",
       "      <th>2004</th>\n",
       "      <td>17.27</td>\n",
       "      <td>77.91</td>\n",
       "      <td>NaN</td>\n",
       "      <td>220.55</td>\n",
       "      <td>NaN</td>\n",
       "      <td>NaN</td>\n",
       "      <td>NaN</td>\n",
       "      <td>NaN</td>\n",
       "    </tr>\n",
       "    <tr>\n",
       "      <th>2005</th>\n",
       "      <td>130.14</td>\n",
       "      <td>33.86</td>\n",
       "      <td>NaN</td>\n",
       "      <td>160.98</td>\n",
       "      <td>NaN</td>\n",
       "      <td>NaN</td>\n",
       "      <td>NaN</td>\n",
       "      <td>8.25</td>\n",
       "    </tr>\n",
       "    <tr>\n",
       "      <th>2006</th>\n",
       "      <td>119.81</td>\n",
       "      <td>5.28</td>\n",
       "      <td>NaN</td>\n",
       "      <td>106.46</td>\n",
       "      <td>20.96</td>\n",
       "      <td>NaN</td>\n",
       "      <td>137.15</td>\n",
       "      <td>51.62</td>\n",
       "    </tr>\n",
       "    <tr>\n",
       "      <th>2007</th>\n",
       "      <td>146.94</td>\n",
       "      <td>3.40</td>\n",
       "      <td>NaN</td>\n",
       "      <td>75.99</td>\n",
       "      <td>73.19</td>\n",
       "      <td>NaN</td>\n",
       "      <td>152.77</td>\n",
       "      <td>95.42</td>\n",
       "    </tr>\n",
       "    <tr>\n",
       "      <th>2008</th>\n",
       "      <td>145.32</td>\n",
       "      <td>NaN</td>\n",
       "      <td>NaN</td>\n",
       "      <td>53.90</td>\n",
       "      <td>118.52</td>\n",
       "      <td>NaN</td>\n",
       "      <td>171.32</td>\n",
       "      <td>135.26</td>\n",
       "    </tr>\n",
       "    <tr>\n",
       "      <th>2009</th>\n",
       "      <td>119.54</td>\n",
       "      <td>NaN</td>\n",
       "      <td>NaN</td>\n",
       "      <td>26.40</td>\n",
       "      <td>130.93</td>\n",
       "      <td>NaN</td>\n",
       "      <td>206.97</td>\n",
       "      <td>120.29</td>\n",
       "    </tr>\n",
       "    <tr>\n",
       "      <th>2010</th>\n",
       "      <td>85.02</td>\n",
       "      <td>NaN</td>\n",
       "      <td>NaN</td>\n",
       "      <td>5.64</td>\n",
       "      <td>142.17</td>\n",
       "      <td>NaN</td>\n",
       "      <td>127.95</td>\n",
       "      <td>170.03</td>\n",
       "    </tr>\n",
       "    <tr>\n",
       "      <th>2011</th>\n",
       "      <td>26.18</td>\n",
       "      <td>NaN</td>\n",
       "      <td>NaN</td>\n",
       "      <td>0.45</td>\n",
       "      <td>156.78</td>\n",
       "      <td>NaN</td>\n",
       "      <td>59.65</td>\n",
       "      <td>143.89</td>\n",
       "    </tr>\n",
       "    <tr>\n",
       "      <th>2012</th>\n",
       "      <td>11.01</td>\n",
       "      <td>NaN</td>\n",
       "      <td>NaN</td>\n",
       "      <td>NaN</td>\n",
       "      <td>107.36</td>\n",
       "      <td>NaN</td>\n",
       "      <td>21.71</td>\n",
       "      <td>99.74</td>\n",
       "    </tr>\n",
       "    <tr>\n",
       "      <th>2013</th>\n",
       "      <td>1.54</td>\n",
       "      <td>NaN</td>\n",
       "      <td>NaN</td>\n",
       "      <td>NaN</td>\n",
       "      <td>113.25</td>\n",
       "      <td>25.99</td>\n",
       "      <td>8.59</td>\n",
       "      <td>88.58</td>\n",
       "    </tr>\n",
       "    <tr>\n",
       "      <th>2014</th>\n",
       "      <td>NaN</td>\n",
       "      <td>NaN</td>\n",
       "      <td>NaN</td>\n",
       "      <td>NaN</td>\n",
       "      <td>47.76</td>\n",
       "      <td>100.00</td>\n",
       "      <td>3.75</td>\n",
       "      <td>34.74</td>\n",
       "    </tr>\n",
       "    <tr>\n",
       "      <th>2015</th>\n",
       "      <td>NaN</td>\n",
       "      <td>NaN</td>\n",
       "      <td>NaN</td>\n",
       "      <td>NaN</td>\n",
       "      <td>16.82</td>\n",
       "      <td>118.90</td>\n",
       "      <td>1.14</td>\n",
       "      <td>11.96</td>\n",
       "    </tr>\n",
       "    <tr>\n",
       "      <th>2016</th>\n",
       "      <td>NaN</td>\n",
       "      <td>NaN</td>\n",
       "      <td>NaN</td>\n",
       "      <td>NaN</td>\n",
       "      <td>3.60</td>\n",
       "      <td>69.25</td>\n",
       "      <td>0.18</td>\n",
       "      <td>1.52</td>\n",
       "    </tr>\n",
       "    <tr>\n",
       "      <th>9999</th>\n",
       "      <td>3.33</td>\n",
       "      <td>4.97</td>\n",
       "      <td>3.28</td>\n",
       "      <td>8.49</td>\n",
       "      <td>8.31</td>\n",
       "      <td>NaN</td>\n",
       "      <td>16.33</td>\n",
       "      <td>10.12</td>\n",
       "    </tr>\n",
       "  </tbody>\n",
       "</table>\n",
       "</div>"
      ],
      "text/plain": [
       "                     DS    GBA      PS     PS2     PS3     PS4     Wii    x360\n",
       "year_of_release                                                               \n",
       "1985               0.02    NaN     NaN     NaN     NaN     NaN     NaN     NaN\n",
       "1994                NaN    NaN    6.03     NaN     NaN     NaN     NaN     NaN\n",
       "1995                NaN    NaN   35.96     NaN     NaN     NaN     NaN     NaN\n",
       "1996                NaN    NaN   94.70     NaN     NaN     NaN     NaN     NaN\n",
       "1997                NaN    NaN  136.17     NaN     NaN     NaN     NaN     NaN\n",
       "1998                NaN    NaN  169.49     NaN     NaN     NaN     NaN     NaN\n",
       "1999                NaN    NaN  144.53     NaN     NaN     NaN     NaN     NaN\n",
       "2000                NaN   0.07   96.37   39.17     NaN     NaN     NaN     NaN\n",
       "2001                NaN  61.53   35.59  166.43     NaN     NaN     NaN     NaN\n",
       "2002                NaN  74.16    6.67  205.38     NaN     NaN     NaN     NaN\n",
       "2003                NaN  56.67    2.07  185.93     NaN     NaN     NaN     NaN\n",
       "2004              17.27  77.91     NaN  220.55     NaN     NaN     NaN     NaN\n",
       "2005             130.14  33.86     NaN  160.98     NaN     NaN     NaN    8.25\n",
       "2006             119.81   5.28     NaN  106.46   20.96     NaN  137.15   51.62\n",
       "2007             146.94   3.40     NaN   75.99   73.19     NaN  152.77   95.42\n",
       "2008             145.32    NaN     NaN   53.90  118.52     NaN  171.32  135.26\n",
       "2009             119.54    NaN     NaN   26.40  130.93     NaN  206.97  120.29\n",
       "2010              85.02    NaN     NaN    5.64  142.17     NaN  127.95  170.03\n",
       "2011              26.18    NaN     NaN    0.45  156.78     NaN   59.65  143.89\n",
       "2012              11.01    NaN     NaN     NaN  107.36     NaN   21.71   99.74\n",
       "2013               1.54    NaN     NaN     NaN  113.25   25.99    8.59   88.58\n",
       "2014                NaN    NaN     NaN     NaN   47.76  100.00    3.75   34.74\n",
       "2015                NaN    NaN     NaN     NaN   16.82  118.90    1.14   11.96\n",
       "2016                NaN    NaN     NaN     NaN    3.60   69.25    0.18    1.52\n",
       "9999               3.33   4.97    3.28    8.49    8.31     NaN   16.33   10.12"
      ]
     },
     "execution_count": 36,
     "metadata": {},
     "output_type": "execute_result"
    }
   ],
   "source": [
    "relv_plarform_compe = pd.pivot_table(\n",
    "    games_relev_platform, \n",
    "    values = \"sum_of_sales\", \n",
    "    index = \"year_of_release\", \n",
    "    columns = \"platform\", \n",
    "    aggfunc = np.sum, \n",
    "    dropna= True\n",
    ")\n",
    "relv_plarform_compe.set_axis(['DS','GBA', 'PS', 'PS2', 'PS3', 'PS4', 'Wii', 'x360'], axis='columns', inplace= True)\n",
    "relv_plarform_compe"
   ]
  },
  {
   "cell_type": "code",
   "execution_count": 37,
   "id": "c9116bbb",
   "metadata": {
    "scrolled": true
   },
   "outputs": [
    {
     "data": {
      "image/png": "[encoded data removed]",
      "text/plain": [
       "<Figure size 432x288 with 1 Axes>"
      ]
     },
     "metadata": {
      "needs_background": "light"
     },
     "output_type": "display_data"
    },
    {
     "data": {
      "image/png": "[encoded data removed]",
      "text/plain": [
       "<Figure size 432x288 with 1 Axes>"
      ]
     },
     "metadata": {
      "needs_background": "light"
     },
     "output_type": "display_data"
    },
    {
     "data": {
      "image/png": "[encoded data removed]",
      "text/plain": [
       "<Figure size 432x288 with 1 Axes>"
      ]
     },
     "metadata": {
      "needs_background": "light"
     },
     "output_type": "display_data"
    },
    {
     "data": {
      "image/png": "[encoded data removed]",
      "text/plain": [
       "<Figure size 432x288 with 1 Axes>"
      ]
     },
     "metadata": {
      "needs_background": "light"
     },
     "output_type": "display_data"
    },
    {
     "data": {
      "image/png": "[encoded data removed]",
      "text/plain": [
       "<Figure size 432x288 with 1 Axes>"
      ]
     },
     "metadata": {
      "needs_background": "light"
     },
     "output_type": "display_data"
    },
    {
     "data": {
      "image/png": "[encoded data removed]",
      "text/plain": [
       "<Figure size 432x288 with 1 Axes>"
      ]
     },
     "metadata": {
      "needs_background": "light"
     },
     "output_type": "display_data"
    },
    {
     "data": {
      "image/png": "[encoded data removed]",
      "text/plain": [
       "<Figure size 432x288 with 1 Axes>"
      ]
     },
     "metadata": {
      "needs_background": "light"
     },
     "output_type": "display_data"
    },
    {
     "data": {
      "image/png": "[encoded data removed]",
      "text/plain": [
       "<Figure size 432x288 with 1 Axes>"
      ]
     },
     "metadata": {
      "needs_background": "light"
     },
     "output_type": "display_data"
    }
   ],
   "source": [
    "for i in relv_plarform_compe:\n",
    "    %matplotlib inline\n",
    "    relv_plarform_compe.plot(kind='bar', y= i )\n",
    "    plt.title(i)\n",
    "    plt.ylabel('revenue')\n",
    "    plt.xlabel('years')\n",
    "    plt.show()\n",
    "    "
   ]
  },
  {
   "cell_type": "markdown",
   "id": "e87361d6",
   "metadata": {},
   "source": [
    "PlayStation has 4 version : \n",
    "* PS came out in 1994 and showd revenue until 2003\n",
    "* PS2 came out in 2000 and showd revenue until 2010\n",
    "* PS3 came out in 2005 and showd revenue until 2011\n",
    "* PS4 came out in 2013 and still showing revenue (at least antil 2017)\n",
    "\n",
    "since 1994 almost every 6 years new platform pops, most of the platform stey relevnt for ~10 years."
   ]
  },
  {
   "cell_type": "markdown",
   "id": "11768f3c",
   "metadata": {},
   "source": [
    "####  mid conclution: \n",
    "By the graph above we can see that during years 2006-2011 over 1000 games were release, 2008-2009 are in the top, 1429 1426 games release.\n",
    "\n",
    "Revenue peaks are :\n",
    "*\t\"PS2\" platform with revenue of 1255.77 milion USD\n",
    "\n",
    "*   \"X360\" platform with revenue of 971.42 milion USD\n",
    "\n",
    "*   \"PS3\" platform with revenue of 939.65 milion USD\n",
    "\n",
    "*   \"Wii\" platform with revenue of 907.51 milion USD\n",
    "\n",
    "highest revenue are for ['PS2', 'X360', 'PS3', 'Wii', 'DS', 'PS', 'GBA', 'PS4'], \n",
    "since 1994 almost every 6 years new platform pops, most of the platform stey relevnt for ~10 years.\n",
    "\n",
    "In order to build prognosis for 2017, Im going to look at the last 4 years.\n",
    "\n"
   ]
  },
  {
   "cell_type": "code",
   "execution_count": 38,
   "id": "dabf8943",
   "metadata": {},
   "outputs": [
    {
     "data": {
      "text/html": [
       "<div>\n",
       "<style scoped>\n",
       "    .dataframe tbody tr th:only-of-type {\n",
       "        vertical-align: middle;\n",
       "    }\n",
       "\n",
       "    .dataframe tbody tr th {\n",
       "        vertical-align: top;\n",
       "    }\n",
       "\n",
       "    .dataframe thead th {\n",
       "        text-align: right;\n",
       "    }\n",
       "</style>\n",
       "<table border=\"1\" class=\"dataframe\">\n",
       "  <thead>\n",
       "    <tr style=\"text-align: right;\">\n",
       "      <th></th>\n",
       "      <th>name</th>\n",
       "      <th>platform</th>\n",
       "      <th>year_of_release</th>\n",
       "      <th>genre</th>\n",
       "      <th>na_sales</th>\n",
       "      <th>eu_sales</th>\n",
       "      <th>jp_sales</th>\n",
       "      <th>other_sales</th>\n",
       "      <th>critic_score</th>\n",
       "      <th>user_score</th>\n",
       "      <th>rating</th>\n",
       "      <th>user_score_no_tbd</th>\n",
       "      <th>avg_score</th>\n",
       "      <th>sum_of_sales</th>\n",
       "    </tr>\n",
       "  </thead>\n",
       "  <tbody>\n",
       "    <tr>\n",
       "      <th>31</th>\n",
       "      <td>Call of Duty: Black Ops 3</td>\n",
       "      <td>PS4</td>\n",
       "      <td>2015</td>\n",
       "      <td>Shooter</td>\n",
       "      <td>6.03</td>\n",
       "      <td>5.86</td>\n",
       "      <td>0.36</td>\n",
       "      <td>2.38</td>\n",
       "      <td>unknown</td>\n",
       "      <td>NaN</td>\n",
       "      <td>unknown</td>\n",
       "      <td>unknown</td>\n",
       "      <td>unknown</td>\n",
       "      <td>14.63</td>\n",
       "    </tr>\n",
       "    <tr>\n",
       "      <th>42</th>\n",
       "      <td>Grand Theft Auto V</td>\n",
       "      <td>PS4</td>\n",
       "      <td>2014</td>\n",
       "      <td>Action</td>\n",
       "      <td>3.96</td>\n",
       "      <td>6.31</td>\n",
       "      <td>0.38</td>\n",
       "      <td>1.97</td>\n",
       "      <td>97.0</td>\n",
       "      <td>8.3</td>\n",
       "      <td>M</td>\n",
       "      <td>83.0</td>\n",
       "      <td>90.0</td>\n",
       "      <td>12.62</td>\n",
       "    </tr>\n",
       "    <tr>\n",
       "      <th>47</th>\n",
       "      <td>Pokemon Omega Ruby/Pokemon Alpha Sapphire</td>\n",
       "      <td>3DS</td>\n",
       "      <td>2014</td>\n",
       "      <td>Role-Playing</td>\n",
       "      <td>4.35</td>\n",
       "      <td>3.49</td>\n",
       "      <td>3.10</td>\n",
       "      <td>0.74</td>\n",
       "      <td>unknown</td>\n",
       "      <td>NaN</td>\n",
       "      <td>unknown</td>\n",
       "      <td>unknown</td>\n",
       "      <td>unknown</td>\n",
       "      <td>11.68</td>\n",
       "    </tr>\n",
       "    <tr>\n",
       "      <th>77</th>\n",
       "      <td>FIFA 16</td>\n",
       "      <td>PS4</td>\n",
       "      <td>2015</td>\n",
       "      <td>Sports</td>\n",
       "      <td>1.12</td>\n",
       "      <td>6.12</td>\n",
       "      <td>0.06</td>\n",
       "      <td>1.28</td>\n",
       "      <td>82.0</td>\n",
       "      <td>4.3</td>\n",
       "      <td>E</td>\n",
       "      <td>43.0</td>\n",
       "      <td>62.5</td>\n",
       "      <td>8.58</td>\n",
       "    </tr>\n",
       "  </tbody>\n",
       "</table>\n",
       "</div>"
      ],
      "text/plain": [
       "                                         name platform  year_of_release  \\\n",
       "31                  Call of Duty: Black Ops 3      PS4             2015   \n",
       "42                         Grand Theft Auto V      PS4             2014   \n",
       "47  Pokemon Omega Ruby/Pokemon Alpha Sapphire      3DS             2014   \n",
       "77                                    FIFA 16      PS4             2015   \n",
       "\n",
       "           genre  na_sales  eu_sales  jp_sales  other_sales critic_score  \\\n",
       "31       Shooter      6.03      5.86      0.36         2.38      unknown   \n",
       "42        Action      3.96      6.31      0.38         1.97         97.0   \n",
       "47  Role-Playing      4.35      3.49      3.10         0.74      unknown   \n",
       "77        Sports      1.12      6.12      0.06         1.28         82.0   \n",
       "\n",
       "   user_score   rating user_score_no_tbd avg_score  sum_of_sales  \n",
       "31        NaN  unknown           unknown   unknown         14.63  \n",
       "42        8.3        M              83.0      90.0         12.62  \n",
       "47        NaN  unknown           unknown   unknown         11.68  \n",
       "77        4.3        E              43.0      62.5          8.58  "
      ]
     },
     "execution_count": 38,
     "metadata": {},
     "output_type": "execute_result"
    }
   ],
   "source": [
    "prog_data= games.query(\"year_of_release > 2013 & year_of_release!= 9999\")\n",
    "prog_data.head(4)"
   ]
  },
  {
   "cell_type": "code",
   "execution_count": 39,
   "id": "9ad703d8",
   "metadata": {},
   "outputs": [
    {
     "data": {
      "text/html": [
       "<div>\n",
       "<style scoped>\n",
       "    .dataframe tbody tr th:only-of-type {\n",
       "        vertical-align: middle;\n",
       "    }\n",
       "\n",
       "    .dataframe tbody tr th {\n",
       "        vertical-align: top;\n",
       "    }\n",
       "\n",
       "    .dataframe thead th {\n",
       "        text-align: right;\n",
       "    }\n",
       "</style>\n",
       "<table border=\"1\" class=\"dataframe\">\n",
       "  <thead>\n",
       "    <tr style=\"text-align: right;\">\n",
       "      <th></th>\n",
       "      <th>3DS</th>\n",
       "      <th>PC</th>\n",
       "      <th>PS3</th>\n",
       "      <th>PS4</th>\n",
       "      <th>PSP</th>\n",
       "      <th>PSV</th>\n",
       "      <th>Wii</th>\n",
       "      <th>WiiU</th>\n",
       "      <th>X360</th>\n",
       "      <th>XOne</th>\n",
       "    </tr>\n",
       "    <tr>\n",
       "      <th>year_of_release</th>\n",
       "      <th></th>\n",
       "      <th></th>\n",
       "      <th></th>\n",
       "      <th></th>\n",
       "      <th></th>\n",
       "      <th></th>\n",
       "      <th></th>\n",
       "      <th></th>\n",
       "      <th></th>\n",
       "      <th></th>\n",
       "    </tr>\n",
       "  </thead>\n",
       "  <tbody>\n",
       "    <tr>\n",
       "      <th>2014</th>\n",
       "      <td>43.76</td>\n",
       "      <td>13.28</td>\n",
       "      <td>47.76</td>\n",
       "      <td>100.00</td>\n",
       "      <td>0.24</td>\n",
       "      <td>11.90</td>\n",
       "      <td>3.75</td>\n",
       "      <td>22.03</td>\n",
       "      <td>34.74</td>\n",
       "      <td>54.07</td>\n",
       "    </tr>\n",
       "    <tr>\n",
       "      <th>2015</th>\n",
       "      <td>27.78</td>\n",
       "      <td>8.52</td>\n",
       "      <td>16.82</td>\n",
       "      <td>118.90</td>\n",
       "      <td>0.12</td>\n",
       "      <td>6.25</td>\n",
       "      <td>1.14</td>\n",
       "      <td>16.35</td>\n",
       "      <td>11.96</td>\n",
       "      <td>60.14</td>\n",
       "    </tr>\n",
       "    <tr>\n",
       "      <th>2016</th>\n",
       "      <td>15.14</td>\n",
       "      <td>5.25</td>\n",
       "      <td>3.60</td>\n",
       "      <td>69.25</td>\n",
       "      <td>0.00</td>\n",
       "      <td>4.25</td>\n",
       "      <td>0.18</td>\n",
       "      <td>4.60</td>\n",
       "      <td>1.52</td>\n",
       "      <td>26.15</td>\n",
       "    </tr>\n",
       "  </tbody>\n",
       "</table>\n",
       "</div>"
      ],
      "text/plain": [
       "                   3DS     PC    PS3     PS4   PSP    PSV   Wii   WiiU   X360  \\\n",
       "year_of_release                                                                 \n",
       "2014             43.76  13.28  47.76  100.00  0.24  11.90  3.75  22.03  34.74   \n",
       "2015             27.78   8.52  16.82  118.90  0.12   6.25  1.14  16.35  11.96   \n",
       "2016             15.14   5.25   3.60   69.25  0.00   4.25  0.18   4.60   1.52   \n",
       "\n",
       "                  XOne  \n",
       "year_of_release         \n",
       "2014             54.07  \n",
       "2015             60.14  \n",
       "2016             26.15  "
      ]
     },
     "execution_count": 39,
     "metadata": {},
     "output_type": "execute_result"
    }
   ],
   "source": [
    "relv_plarform_compe_prog = pd.pivot_table(\n",
    "    prog_data, \n",
    "    values = \"sum_of_sales\", \n",
    "    index = \"year_of_release\", \n",
    "    columns = \"platform\", \n",
    "    aggfunc = np.sum,\n",
    "    fill_value=0,\n",
    "    dropna= True\n",
    ")\n",
    "relv_plarform_compe_prog\n",
    "\n",
    "relv_plarform_compe_prog.set_axis(\n",
    "    ['3DS','PC', 'PS3', 'PS4','PSP', 'PSV', 'Wii','WiiU', 'X360','XOne'],\n",
    "    axis='columns', inplace= True)\n",
    "relv_plarform_compe_prog"
   ]
  },
  {
   "cell_type": "code",
   "execution_count": 40,
   "id": "35185144",
   "metadata": {},
   "outputs": [
    {
     "data": {
      "text/plain": [
       "3DS      86.68\n",
       "PC       27.05\n",
       "PS3      68.18\n",
       "PS4     288.15\n",
       "PSP       0.36\n",
       "PSV      22.40\n",
       "Wii       5.07\n",
       "WiiU     42.98\n",
       "X360     48.22\n",
       "XOne    140.36\n",
       "dtype: float64"
      ]
     },
     "execution_count": 40,
     "metadata": {},
     "output_type": "execute_result"
    }
   ],
   "source": [
    "relv_plarform_compe_prog.apply(sum, axis = 0)"
   ]
  },
  {
   "cell_type": "markdown",
   "id": "10844a5b",
   "metadata": {},
   "source": [
    "* PS4 is leading in salse"
   ]
  },
  {
   "cell_type": "code",
   "execution_count": 41,
   "id": "11ebd01a",
   "metadata": {},
   "outputs": [
    {
     "data": {
      "image/png": "[encoded data removed]",
      "text/plain": [
       "<Figure size 432x288 with 1 Axes>"
      ]
     },
     "metadata": {
      "needs_background": "light"
     },
     "output_type": "display_data"
    },
    {
     "data": {
      "image/png": "[encoded data removed]",
      "text/plain": [
       "<Figure size 432x288 with 1 Axes>"
      ]
     },
     "metadata": {
      "needs_background": "light"
     },
     "output_type": "display_data"
    },
    {
     "data": {
      "image/png": "[encoded data removed]",
      "text/plain": [
       "<Figure size 432x288 with 1 Axes>"
      ]
     },
     "metadata": {
      "needs_background": "light"
     },
     "output_type": "display_data"
    },
    {
     "data": {
      "image/png": "[encoded data removed]",
      "text/plain": [
       "<Figure size 432x288 with 1 Axes>"
      ]
     },
     "metadata": {
      "needs_background": "light"
     },
     "output_type": "display_data"
    },
    {
     "data": {
      "image/png": "[encoded data removed]",
      "text/plain": [
       "<Figure size 432x288 with 1 Axes>"
      ]
     },
     "metadata": {
      "needs_background": "light"
     },
     "output_type": "display_data"
    },
    {
     "data": {
      "image/png": "[encoded data removed]",
      "text/plain": [
       "<Figure size 432x288 with 1 Axes>"
      ]
     },
     "metadata": {
      "needs_background": "light"
     },
     "output_type": "display_data"
    },
    {
     "data": {
      "image/png": "[encoded data removed]",
      "text/plain": [
       "<Figure size 432x288 with 1 Axes>"
      ]
     },
     "metadata": {
      "needs_background": "light"
     },
     "output_type": "display_data"
    },
    {
     "data": {
      "image/png": "[encoded data removed]",
      "text/plain": [
       "<Figure size 432x288 with 1 Axes>"
      ]
     },
     "metadata": {
      "needs_background": "light"
     },
     "output_type": "display_data"
    },
    {
     "data": {
      "image/png": "[encoded data removed]",
      "text/plain": [
       "<Figure size 432x288 with 1 Axes>"
      ]
     },
     "metadata": {
      "needs_background": "light"
     },
     "output_type": "display_data"
    },
    {
     "data": {
      "image/png": "[encoded data removed]",
      "text/plain": [
       "<Figure size 432x288 with 1 Axes>"
      ]
     },
     "metadata": {
      "needs_background": "light"
     },
     "output_type": "display_data"
    }
   ],
   "source": [
    "for i in relv_plarform_compe_prog:\n",
    "    %matplotlib inline\n",
    "    relv_plarform_compe_prog.plot(kind='bar', y= i )\n",
    "    plt.title(i)\n",
    "    plt.ylabel('revenue')\n",
    "    plt.xlabel('years')\n",
    "    plt.show()"
   ]
  },
  {
   "cell_type": "markdown",
   "id": "230600a1",
   "metadata": {},
   "source": [
    "* 3DS, PC, PS2, PS3, PSP, PSV, Wii, X360, XB sales are shrinking \n",
    "* WiiU, PS4, XOne also shows decline in salse, but ther's a chance that next years sale will rise (based on the graph's above)"
   ]
  },
  {
   "cell_type": "code",
   "execution_count": 42,
   "id": "c29972f5",
   "metadata": {},
   "outputs": [
    {
     "data": {
      "text/html": [
       "<div>\n",
       "<style scoped>\n",
       "    .dataframe tbody tr th:only-of-type {\n",
       "        vertical-align: middle;\n",
       "    }\n",
       "\n",
       "    .dataframe tbody tr th {\n",
       "        vertical-align: top;\n",
       "    }\n",
       "\n",
       "    .dataframe thead th {\n",
       "        text-align: right;\n",
       "    }\n",
       "</style>\n",
       "<table border=\"1\" class=\"dataframe\">\n",
       "  <thead>\n",
       "    <tr style=\"text-align: right;\">\n",
       "      <th></th>\n",
       "      <th>platform</th>\n",
       "      <th>name</th>\n",
       "      <th>sum_of_sales</th>\n",
       "    </tr>\n",
       "  </thead>\n",
       "  <tbody>\n",
       "    <tr>\n",
       "      <th>0</th>\n",
       "      <td>3DS</td>\n",
       "      <td>Beyblade Burst</td>\n",
       "      <td>0.03</td>\n",
       "    </tr>\n",
       "    <tr>\n",
       "      <th>1</th>\n",
       "      <td>3DS</td>\n",
       "      <td>Fire Emblem Fates</td>\n",
       "      <td>1.67</td>\n",
       "    </tr>\n",
       "    <tr>\n",
       "      <th>2</th>\n",
       "      <td>3DS</td>\n",
       "      <td>Haikyu!! Cross Team Match!</td>\n",
       "      <td>0.04</td>\n",
       "    </tr>\n",
       "    <tr>\n",
       "      <th>3</th>\n",
       "      <td>3DS</td>\n",
       "      <td>12-Sai. Honto no Kimochi</td>\n",
       "      <td>0.07</td>\n",
       "    </tr>\n",
       "    <tr>\n",
       "      <th>4</th>\n",
       "      <td>3DS</td>\n",
       "      <td>12-Sai. Koisuru Diary</td>\n",
       "      <td>0.05</td>\n",
       "    </tr>\n",
       "    <tr>\n",
       "      <th>...</th>\n",
       "      <td>...</td>\n",
       "      <td>...</td>\n",
       "      <td>...</td>\n",
       "    </tr>\n",
       "    <tr>\n",
       "      <th>1684</th>\n",
       "      <td>XOne</td>\n",
       "      <td>Wolfenstein: The Old Blood</td>\n",
       "      <td>0.15</td>\n",
       "    </tr>\n",
       "    <tr>\n",
       "      <th>1685</th>\n",
       "      <td>XOne</td>\n",
       "      <td>Worms: WMD</td>\n",
       "      <td>0.01</td>\n",
       "    </tr>\n",
       "    <tr>\n",
       "      <th>1686</th>\n",
       "      <td>XOne</td>\n",
       "      <td>XCOM 2</td>\n",
       "      <td>0.04</td>\n",
       "    </tr>\n",
       "    <tr>\n",
       "      <th>1687</th>\n",
       "      <td>XOne</td>\n",
       "      <td>ZombiU</td>\n",
       "      <td>0.01</td>\n",
       "    </tr>\n",
       "    <tr>\n",
       "      <th>1688</th>\n",
       "      <td>XOne</td>\n",
       "      <td>Zombie Army Trilogy</td>\n",
       "      <td>0.11</td>\n",
       "    </tr>\n",
       "  </tbody>\n",
       "</table>\n",
       "<p>1689 rows × 3 columns</p>\n",
       "</div>"
      ],
      "text/plain": [
       "     platform                         name  sum_of_sales\n",
       "0         3DS               Beyblade Burst          0.03\n",
       "1         3DS            Fire Emblem Fates          1.67\n",
       "2         3DS   Haikyu!! Cross Team Match!          0.04\n",
       "3         3DS     12-Sai. Honto no Kimochi          0.07\n",
       "4         3DS        12-Sai. Koisuru Diary          0.05\n",
       "...       ...                          ...           ...\n",
       "1684     XOne   Wolfenstein: The Old Blood          0.15\n",
       "1685     XOne                   Worms: WMD          0.01\n",
       "1686     XOne                       XCOM 2          0.04\n",
       "1687     XOne                       ZombiU          0.01\n",
       "1688     XOne          Zombie Army Trilogy          0.11\n",
       "\n",
       "[1689 rows x 3 columns]"
      ]
     },
     "execution_count": 42,
     "metadata": {},
     "output_type": "execute_result"
    }
   ],
   "source": [
    "grouped=prog_data.groupby(['platform','name'])['sum_of_sales'].sum().reset_index()\n",
    "grouped"
   ]
  },
  {
   "cell_type": "code",
   "execution_count": 43,
   "id": "e093801f",
   "metadata": {},
   "outputs": [
    {
     "data": {
      "text/plain": [
       "4     PSP\n",
       "6     Wii\n",
       "5     PSV\n",
       "1      PC\n",
       "7    WiiU\n",
       "8    X360\n",
       "2     PS3\n",
       "0     3DS\n",
       "9    XOne\n",
       "3     PS4\n",
       "Name: platform, dtype: object"
      ]
     },
     "execution_count": 43,
     "metadata": {},
     "output_type": "execute_result"
    }
   ],
   "source": [
    "order = grouped.groupby(['platform'])['sum_of_sales'].sum().reset_index().sort_values(by='sum_of_sales')['platform']\n",
    "order\n",
    "# order=grouped.groupby(['Platform'])['Total_sales'].sum().reset_index().sort_values(by='Total_sales')['Platform']\n",
    "# order"
   ]
  },
  {
   "cell_type": "code",
   "execution_count": 44,
   "id": "960699bc",
   "metadata": {},
   "outputs": [
    {
     "data": {
      "text/plain": [
       "<AxesSubplot:xlabel='platform', ylabel='sum_of_sales'>"
      ]
     },
     "execution_count": 44,
     "metadata": {},
     "output_type": "execute_result"
    },
    {
     "data": {
      "image/png": "[encoded data removed]",
      "text/plain": [
       "<Figure size 936x720 with 1 Axes>"
      ]
     },
     "metadata": {
      "needs_background": "light"
     },
     "output_type": "display_data"
    }
   ],
   "source": [
    "plt.figure(figsize=(13,10))\n",
    "sns.boxplot(x='platform',y='sum_of_sales',data=grouped, order=order ,showfliers = False)"
   ]
  },
  {
   "cell_type": "markdown",
   "id": "7e252bf8",
   "metadata": {},
   "source": [
    "** PS4, XOne, Wii, WiiU, X360 have the same median revenues.\n",
    "PS4 ,Xone, and 3Ds are leading by income. "
   ]
  },
  {
   "cell_type": "code",
   "execution_count": 45,
   "id": "27d07883",
   "metadata": {},
   "outputs": [
    {
     "data": {
      "text/plain": [
       "PS2     1161\n",
       "X360     881\n",
       "PS3      790\n",
       "PC       703\n",
       "XB       581\n",
       "Wii      492\n",
       "DS       469\n",
       "PSP      393\n",
       "GC       356\n",
       "PS4      249\n",
       "GBA      241\n",
       "XOne     165\n",
       "3DS      158\n",
       "PS       156\n",
       "PSV      119\n",
       "WiiU      89\n",
       "DC        14\n",
       "Name: platform, dtype: int64"
      ]
     },
     "execution_count": 45,
     "metadata": {},
     "output_type": "execute_result"
    }
   ],
   "source": [
    "# user an critic score correlation to sum_of_sales for PS2:\n",
    "\n",
    "relevnt_score= games.query('user_score_no_tbd!=\"unknown\" & critic_score!=\"unknown\"')\n",
    "relevnt_score.head()\n",
    "relevnt_score['platform'].value_counts()"
   ]
  },
  {
   "cell_type": "code",
   "execution_count": 46,
   "id": "8f9331a4",
   "metadata": {},
   "outputs": [
    {
     "data": {
      "image/png": "[encoded data removed]",
      "text/plain": [
       "<Figure size 720x720 with 20 Axes>"
      ]
     },
     "metadata": {
      "needs_background": "light"
     },
     "output_type": "display_data"
    }
   ],
   "source": [
    "PS2_relevnt_score1= relevnt_score.query('platform == \"PS2\"')\n",
    "PS2_relevnt_score= PS2_relevnt_score1[['name', 'year_of_release', 'critic_score', 'user_score_no_tbd','sum_of_sales']]\n",
    "sns.pairplot(PS2_relevnt_score)\n",
    "plt.show()\n"
   ]
  },
  {
   "cell_type": "code",
   "execution_count": 47,
   "id": "c761340c",
   "metadata": {},
   "outputs": [
    {
     "name": "stdout",
     "output_type": "stream",
     "text": [
      "correlation between sum_of_sales and user_score_no_tbd: 0.1694198744859126\n",
      "correlation between sum_of_sales and critic_score: 0.38921959991789373\n"
     ]
    }
   ],
   "source": [
    "column_1= PS2_relevnt_score['sum_of_sales'].astype(float )\n",
    "column_2 = PS2_relevnt_score['user_score_no_tbd'].astype(float)\n",
    "column_3 = PS2_relevnt_score['critic_score'].astype(float )\n",
    "corr1= column_1.corr(column_2)\n",
    "corr2= column_1.corr(column_3)\n",
    "print(\"correlation between sum_of_sales and user_score_no_tbd:\", corr1)\n",
    "print(\"correlation between sum_of_sales and critic_score:\", corr2)"
   ]
  },
  {
   "cell_type": "markdown",
   "id": "d1ee9ead",
   "metadata": {},
   "source": [
    "* as we can see from the graph above:\n",
    "    the correlation is 0.39 for critic score and 0.17 to user score. both lower then 0.75, but there is some kind of dependence. \n",
    "* sums of sales is growing with user score and critic score.\n",
    "* the critic_score has higher correlation  to sum_of_sales and can give better indication.\n",
    "\n"
   ]
  },
  {
   "cell_type": "code",
   "execution_count": 48,
   "id": "d1ee9822",
   "metadata": {},
   "outputs": [
    {
     "data": {
      "text/plain": [
       "PS2     1161\n",
       "XB       363\n",
       "GC       221\n",
       "X360      96\n",
       "PSP       84\n",
       "Wii       80\n",
       "PS3       60\n",
       "GBA       53\n",
       "DS        51\n",
       "PC        50\n",
       "PS        13\n",
       "3DS        2\n",
       "DC         1\n",
       "Name: platform, dtype: int64"
      ]
     },
     "execution_count": 48,
     "metadata": {},
     "output_type": "execute_result"
    }
   ],
   "source": [
    "# lets have a look at sales of the same game for different platform:\n",
    "names_games_to_comp=PS2_relevnt_score1['name']\n",
    "game_to_comp= relevnt_score.query('name in @names_games_to_comp')\n",
    "game_to_comp['platform'].value_counts()"
   ]
  },
  {
   "cell_type": "code",
   "execution_count": 49,
   "id": "1d7e8d6b",
   "metadata": {},
   "outputs": [
    {
     "name": "stdout",
     "output_type": "stream",
     "text": [
      "correlation between sum_of_sales and user_score_no_tbd: 0.20198829063892876\n",
      "correlation between sum_of_sales and critic_score: 0.4205860334613526\n"
     ]
    }
   ],
   "source": [
    "XB_relevnt_score= game_to_comp.query('platform == \"XB\"')\n",
    "\n",
    "column_1= XB_relevnt_score['sum_of_sales'].astype(float )\n",
    "column_2 = XB_relevnt_score['user_score_no_tbd'].astype(float)\n",
    "column_3 = XB_relevnt_score['critic_score'].astype(float )\n",
    "corr1= column_1.corr(column_2)\n",
    "corr2= column_1.corr(column_3)\n",
    "print(\"correlation between sum_of_sales and user_score_no_tbd:\", corr1)\n",
    "print(\"correlation between sum_of_sales and critic_score:\", corr2)"
   ]
  },
  {
   "cell_type": "markdown",
   "id": "a726729c",
   "metadata": {},
   "source": [
    "* also for XB platform critic_score has better correlation to sum_of_sales"
   ]
  },
  {
   "cell_type": "code",
   "execution_count": 50,
   "id": "05828aa6",
   "metadata": {},
   "outputs": [
    {
     "data": {
      "text/html": [
       "<div>\n",
       "<style scoped>\n",
       "    .dataframe tbody tr th:only-of-type {\n",
       "        vertical-align: middle;\n",
       "    }\n",
       "\n",
       "    .dataframe tbody tr th {\n",
       "        vertical-align: top;\n",
       "    }\n",
       "\n",
       "    .dataframe thead th {\n",
       "        text-align: right;\n",
       "    }\n",
       "</style>\n",
       "<table border=\"1\" class=\"dataframe\">\n",
       "  <thead>\n",
       "    <tr style=\"text-align: right;\">\n",
       "      <th></th>\n",
       "      <th>Action</th>\n",
       "      <th>Adventure</th>\n",
       "      <th>Fighting</th>\n",
       "      <th>Misc</th>\n",
       "      <th>Platform</th>\n",
       "      <th>Puzzle</th>\n",
       "      <th>Racing</th>\n",
       "      <th>Role-Playing</th>\n",
       "      <th>Shooter</th>\n",
       "      <th>Simulation</th>\n",
       "      <th>Sports</th>\n",
       "      <th>Strategy</th>\n",
       "      <th>unknown</th>\n",
       "    </tr>\n",
       "    <tr>\n",
       "      <th>year_of_release</th>\n",
       "      <th></th>\n",
       "      <th></th>\n",
       "      <th></th>\n",
       "      <th></th>\n",
       "      <th></th>\n",
       "      <th></th>\n",
       "      <th></th>\n",
       "      <th></th>\n",
       "      <th></th>\n",
       "      <th></th>\n",
       "      <th></th>\n",
       "      <th></th>\n",
       "      <th></th>\n",
       "    </tr>\n",
       "  </thead>\n",
       "  <tbody>\n",
       "    <tr>\n",
       "      <th>1980</th>\n",
       "      <td>0.34</td>\n",
       "      <td>0.0</td>\n",
       "      <td>0.77</td>\n",
       "      <td>2.70</td>\n",
       "      <td>0.00</td>\n",
       "      <td>0.00</td>\n",
       "      <td>0.00</td>\n",
       "      <td>0.0</td>\n",
       "      <td>7.07</td>\n",
       "      <td>0.00</td>\n",
       "      <td>0.50</td>\n",
       "      <td>0.0</td>\n",
       "      <td>0.0</td>\n",
       "    </tr>\n",
       "    <tr>\n",
       "      <th>1981</th>\n",
       "      <td>14.79</td>\n",
       "      <td>0.0</td>\n",
       "      <td>0.00</td>\n",
       "      <td>0.00</td>\n",
       "      <td>6.92</td>\n",
       "      <td>2.25</td>\n",
       "      <td>0.48</td>\n",
       "      <td>0.0</td>\n",
       "      <td>10.02</td>\n",
       "      <td>0.44</td>\n",
       "      <td>0.78</td>\n",
       "      <td>0.0</td>\n",
       "      <td>0.0</td>\n",
       "    </tr>\n",
       "    <tr>\n",
       "      <th>1982</th>\n",
       "      <td>6.50</td>\n",
       "      <td>0.0</td>\n",
       "      <td>0.00</td>\n",
       "      <td>0.87</td>\n",
       "      <td>5.03</td>\n",
       "      <td>10.04</td>\n",
       "      <td>1.57</td>\n",
       "      <td>0.0</td>\n",
       "      <td>3.81</td>\n",
       "      <td>0.00</td>\n",
       "      <td>1.06</td>\n",
       "      <td>0.0</td>\n",
       "      <td>0.0</td>\n",
       "    </tr>\n",
       "    <tr>\n",
       "      <th>1983</th>\n",
       "      <td>2.86</td>\n",
       "      <td>0.4</td>\n",
       "      <td>0.00</td>\n",
       "      <td>2.14</td>\n",
       "      <td>6.93</td>\n",
       "      <td>0.78</td>\n",
       "      <td>0.00</td>\n",
       "      <td>0.0</td>\n",
       "      <td>0.49</td>\n",
       "      <td>0.00</td>\n",
       "      <td>3.20</td>\n",
       "      <td>0.0</td>\n",
       "      <td>0.0</td>\n",
       "    </tr>\n",
       "    <tr>\n",
       "      <th>1984</th>\n",
       "      <td>1.85</td>\n",
       "      <td>0.0</td>\n",
       "      <td>0.00</td>\n",
       "      <td>1.45</td>\n",
       "      <td>0.69</td>\n",
       "      <td>3.14</td>\n",
       "      <td>5.95</td>\n",
       "      <td>0.0</td>\n",
       "      <td>31.10</td>\n",
       "      <td>0.00</td>\n",
       "      <td>6.17</td>\n",
       "      <td>0.0</td>\n",
       "      <td>0.0</td>\n",
       "    </tr>\n",
       "  </tbody>\n",
       "</table>\n",
       "</div>"
      ],
      "text/plain": [
       "                 Action  Adventure  Fighting  Misc  Platform  Puzzle  Racing  \\\n",
       "year_of_release                                                                \n",
       "1980               0.34        0.0      0.77  2.70      0.00    0.00    0.00   \n",
       "1981              14.79        0.0      0.00  0.00      6.92    2.25    0.48   \n",
       "1982               6.50        0.0      0.00  0.87      5.03   10.04    1.57   \n",
       "1983               2.86        0.4      0.00  2.14      6.93    0.78    0.00   \n",
       "1984               1.85        0.0      0.00  1.45      0.69    3.14    5.95   \n",
       "\n",
       "                 Role-Playing  Shooter  Simulation  Sports  Strategy  unknown  \n",
       "year_of_release                                                                \n",
       "1980                      0.0     7.07        0.00    0.50       0.0      0.0  \n",
       "1981                      0.0    10.02        0.44    0.78       0.0      0.0  \n",
       "1982                      0.0     3.81        0.00    1.06       0.0      0.0  \n",
       "1983                      0.0     0.49        0.00    3.20       0.0      0.0  \n",
       "1984                      0.0    31.10        0.00    6.17       0.0      0.0  "
      ]
     },
     "execution_count": 50,
     "metadata": {},
     "output_type": "execute_result"
    }
   ],
   "source": [
    "# Analize by genre:\n",
    "relv_genre_compe = pd.pivot_table(\n",
    "    games, \n",
    "    values = \"sum_of_sales\", \n",
    "    index = \"year_of_release\", \n",
    "    columns = \"genre\", \n",
    "    aggfunc = np.sum,\n",
    "    fill_value=0,\n",
    "    dropna= True\n",
    ")\n",
    "relv_genre_compe.set_axis(\n",
    "    ['Action','Adventure', 'Fighting','Misc','Platform','Puzzle', 'Racing', 'Role-Playing', 'Shooter','Simulation', 'Sports', 'Strategy', 'unknown'],\n",
    "    axis='columns', inplace= True)\n",
    "relv_genre_compe.head()"
   ]
  },
  {
   "cell_type": "code",
   "execution_count": 51,
   "id": "ed59d973",
   "metadata": {},
   "outputs": [
    {
     "data": {
      "image/png": "[encoded data removed]",
      "text/plain": [
       "<Figure size 432x288 with 1 Axes>"
      ]
     },
     "metadata": {
      "needs_background": "light"
     },
     "output_type": "display_data"
    },
    {
     "data": {
      "text/html": [
       "<div>\n",
       "<style scoped>\n",
       "    .dataframe tbody tr th:only-of-type {\n",
       "        vertical-align: middle;\n",
       "    }\n",
       "\n",
       "    .dataframe tbody tr th {\n",
       "        vertical-align: top;\n",
       "    }\n",
       "\n",
       "    .dataframe thead th {\n",
       "        text-align: right;\n",
       "    }\n",
       "</style>\n",
       "<table border=\"1\" class=\"dataframe\">\n",
       "  <thead>\n",
       "    <tr style=\"text-align: right;\">\n",
       "      <th></th>\n",
       "      <th>genre</th>\n",
       "      <th>sum_of_sales</th>\n",
       "      <th>median_of sales</th>\n",
       "    </tr>\n",
       "  </thead>\n",
       "  <tbody>\n",
       "    <tr>\n",
       "      <th>0</th>\n",
       "      <td>Action</td>\n",
       "      <td>1744.17</td>\n",
       "      <td>0.19</td>\n",
       "    </tr>\n",
       "    <tr>\n",
       "      <th>10</th>\n",
       "      <td>Sports</td>\n",
       "      <td>1331.27</td>\n",
       "      <td>0.22</td>\n",
       "    </tr>\n",
       "    <tr>\n",
       "      <th>8</th>\n",
       "      <td>Shooter</td>\n",
       "      <td>1052.45</td>\n",
       "      <td>0.24</td>\n",
       "    </tr>\n",
       "    <tr>\n",
       "      <th>7</th>\n",
       "      <td>Role-Playing</td>\n",
       "      <td>934.56</td>\n",
       "      <td>0.18</td>\n",
       "    </tr>\n",
       "    <tr>\n",
       "      <th>4</th>\n",
       "      <td>Platform</td>\n",
       "      <td>827.77</td>\n",
       "      <td>0.27</td>\n",
       "    </tr>\n",
       "    <tr>\n",
       "      <th>3</th>\n",
       "      <td>Misc</td>\n",
       "      <td>802.51</td>\n",
       "      <td>0.16</td>\n",
       "    </tr>\n",
       "    <tr>\n",
       "      <th>6</th>\n",
       "      <td>Racing</td>\n",
       "      <td>728.67</td>\n",
       "      <td>0.19</td>\n",
       "    </tr>\n",
       "    <tr>\n",
       "      <th>2</th>\n",
       "      <td>Fighting</td>\n",
       "      <td>447.53</td>\n",
       "      <td>0.21</td>\n",
       "    </tr>\n",
       "    <tr>\n",
       "      <th>9</th>\n",
       "      <td>Simulation</td>\n",
       "      <td>389.97</td>\n",
       "      <td>0.15</td>\n",
       "    </tr>\n",
       "    <tr>\n",
       "      <th>5</th>\n",
       "      <td>Puzzle</td>\n",
       "      <td>242.57</td>\n",
       "      <td>0.11</td>\n",
       "    </tr>\n",
       "    <tr>\n",
       "      <th>1</th>\n",
       "      <td>Adventure</td>\n",
       "      <td>237.59</td>\n",
       "      <td>0.05</td>\n",
       "    </tr>\n",
       "    <tr>\n",
       "      <th>11</th>\n",
       "      <td>Strategy</td>\n",
       "      <td>174.23</td>\n",
       "      <td>0.10</td>\n",
       "    </tr>\n",
       "    <tr>\n",
       "      <th>12</th>\n",
       "      <td>unknown</td>\n",
       "      <td>2.42</td>\n",
       "      <td>1.21</td>\n",
       "    </tr>\n",
       "  </tbody>\n",
       "</table>\n",
       "</div>"
      ],
      "text/plain": [
       "           genre  sum_of_sales  median_of sales\n",
       "0         Action       1744.17             0.19\n",
       "10        Sports       1331.27             0.22\n",
       "8        Shooter       1052.45             0.24\n",
       "7   Role-Playing        934.56             0.18\n",
       "4       Platform        827.77             0.27\n",
       "3           Misc        802.51             0.16\n",
       "6         Racing        728.67             0.19\n",
       "2       Fighting        447.53             0.21\n",
       "9     Simulation        389.97             0.15\n",
       "5         Puzzle        242.57             0.11\n",
       "1      Adventure        237.59             0.05\n",
       "11      Strategy        174.23             0.10\n",
       "12       unknown          2.42             1.21"
      ]
     },
     "execution_count": 51,
     "metadata": {},
     "output_type": "execute_result"
    }
   ],
   "source": [
    "genre_income= games.groupby('genre').agg({'sum_of_sales':['sum', 'median']})  \n",
    "\n",
    "genre_income.set_axis(['sum_of_sales','median_of sales'], axis='columns', inplace= True)\n",
    "genre_income= genre_income.reset_index().sort_values(by='sum_of_sales', ascending=False)\n",
    "%matplotlib inline\n",
    "genre_income.plot(kind ='bar', x='genre')\n",
    "plt.title(\"Total income per genrer\")\n",
    "plt.ylabel('income')\n",
    "plt.xlabel(\"genre\")\n",
    "plt.show()\n",
    "genre_income\n",
    "\n",
    "# %matplotlib inline\n",
    "# platform_income.plot(kind ='bar', x='platform')\n",
    "# plt.title(\"Total income per platform\")\n",
    "# plt.ylabel('income')\n",
    "# plt.xlabel(\"platform\")\n",
    "# plt.show()\n",
    "# platform_income"
   ]
  },
  {
   "cell_type": "markdown",
   "id": "f4fb0256",
   "metadata": {},
   "source": [
    "Action is the most profitable genra, \n",
    "Strategy is the least profitable genra."
   ]
  },
  {
   "cell_type": "code",
   "execution_count": 52,
   "id": "fdb65c75",
   "metadata": {
    "scrolled": true
   },
   "outputs": [
    {
     "data": {
      "image/png": "[encoded data removed]",
      "text/plain": [
       "<Figure size 432x288 with 1 Axes>"
      ]
     },
     "metadata": {
      "needs_background": "light"
     },
     "output_type": "display_data"
    },
    {
     "data": {
      "image/png": "[encoded data removed]",
      "text/plain": [
       "<Figure size 432x288 with 1 Axes>"
      ]
     },
     "metadata": {
      "needs_background": "light"
     },
     "output_type": "display_data"
    },
    {
     "data": {
      "image/png": "[encoded data removed]",
      "text/plain": [
       "<Figure size 432x288 with 1 Axes>"
      ]
     },
     "metadata": {
      "needs_background": "light"
     },
     "output_type": "display_data"
    },
    {
     "data": {
      "image/png": "[encoded data removed]",
      "text/plain": [
       "<Figure size 432x288 with 1 Axes>"
      ]
     },
     "metadata": {
      "needs_background": "light"
     },
     "output_type": "display_data"
    },
    {
     "data": {
      "image/png": "[encoded data removed]",
      "text/plain": [
       "<Figure size 432x288 with 1 Axes>"
      ]
     },
     "metadata": {
      "needs_background": "light"
     },
     "output_type": "display_data"
    },
    {
     "data": {
      "image/png": "[encoded data removed]",
      "text/plain": [
       "<Figure size 432x288 with 1 Axes>"
      ]
     },
     "metadata": {
      "needs_background": "light"
     },
     "output_type": "display_data"
    },
    {
     "data": {
      "image/png": "[encoded data removed]",
      "text/plain": [
       "<Figure size 432x288 with 1 Axes>"
      ]
     },
     "metadata": {
      "needs_background": "light"
     },
     "output_type": "display_data"
    },
    {
     "data": {
      "image/png": "[encoded data removed]",
      "text/plain": [
       "<Figure size 432x288 with 1 Axes>"
      ]
     },
     "metadata": {
      "needs_background": "light"
     },
     "output_type": "display_data"
    },
    {
     "data": {
      "image/png": "[encoded data removed]",
      "text/plain": [
       "<Figure size 432x288 with 1 Axes>"
      ]
     },
     "metadata": {
      "needs_background": "light"
     },
     "output_type": "display_data"
    },
    {
     "data": {
      "image/png": "[encoded data removed]",
      "text/plain": [
       "<Figure size 432x288 with 1 Axes>"
      ]
     },
     "metadata": {
      "needs_background": "light"
     },
     "output_type": "display_data"
    },
    {
     "data": {
      "image/png": "[encoded data removed]",
      "text/plain": [
       "<Figure size 432x288 with 1 Axes>"
      ]
     },
     "metadata": {
      "needs_background": "light"
     },
     "output_type": "display_data"
    },
    {
     "data": {
      "image/png": "[encoded data removed]",
      "text/plain": [
       "<Figure size 432x288 with 1 Axes>"
      ]
     },
     "metadata": {
      "needs_background": "light"
     },
     "output_type": "display_data"
    },
    {
     "data": {
      "image/png": "[encoded data removed]",
      "text/plain": [
       "<Figure size 432x288 with 1 Axes>"
      ]
     },
     "metadata": {
      "needs_background": "light"
     },
     "output_type": "display_data"
    }
   ],
   "source": [
    "for i in relv_genre_compe:\n",
    "    %matplotlib inline\n",
    "    relv_genre_compe.plot(kind='bar', y= i )\n",
    "    plt.title(i)\n",
    "    plt.ylabel('revenue')\n",
    "    plt.xlabel('years')\n",
    "    plt.show()"
   ]
  },
  {
   "cell_type": "markdown",
   "id": "6696f32a",
   "metadata": {},
   "source": [
    "* Action genre has a peak of 140 M$ at 2008-2009, its revenue start raising at 1996, at 2014 the revenue start to drop.\n",
    "\n",
    "* Adventure has discreat peaks at 1987 of 12 M$, other then that its has the biggest pick at  2007, 2008 of 25 M$  but since \n",
    "then the revenue start to dropt \n",
    "\n",
    "* Fighting has discrete pick at 1998 of 30M $ and also in 2008-2009 35M $, since then the revenue drops.\n",
    "\n",
    "* Misc revenu start raising at 1996 to pick of 85M $ at 2010 but since then the revenue drops.\n",
    "\n",
    "* Platform stays relevant during the entire years fram its peck is 50M$ at 2006 but since then the revenue drops. \n",
    "\n",
    "* puzzle has the highst pick at 1989 with 35M$ , its had another smaller pick  at 2007 of 25M$ but since then the revenue drops.\n",
    "\n",
    "* Racing start raisong at 1996 with pick at 2008 of 70M$ but since then the revenue drops.\n",
    "\n",
    "* Role playimg start raising at 1987 with pick of 70M$ at 2010 but since then the revenue drops.\n",
    "\n",
    "* Shootern has a discrete pick at 1984 of 38M$  but the revenue star grow stedily at 1994 with the highst pick at 2011 of 100M$ \n",
    "but since then the revenue drops.\n",
    "\n",
    "*Simulation the revenue star grow stedily at 1994 with the highst pick at 2005 of 50 M$ another pick at 2011 of 15M$ but since then the revenue drops.\n",
    "\n",
    "* Sports grow stedily at 1994 with the highst pick at 2009 of 140 M$  but since then the revenue drops.\n",
    "\n",
    "* Strategy stedily at 1991 with the highst pick at 1999 of 17.5 M$ another pick at 2010 of 12.5M$ but since then the revenue drops.\n",
    "\n"
   ]
  },
  {
   "cell_type": "markdown",
   "id": "9721e8b3",
   "metadata": {},
   "source": [
    "### create user profile for each region:\n"
   ]
  },
  {
   "cell_type": "code",
   "execution_count": 53,
   "id": "c3c63b16",
   "metadata": {},
   "outputs": [
    {
     "name": "stdout",
     "output_type": "stream",
     "text": [
      "   platform  na_sales\n",
      "28     X360    602.47\n",
      "16      PS2    583.84\n",
      "26      Wii    496.90\n",
      "17      PS3    393.49\n",
      "4        DS    382.40\n",
      "   platform  eu_sales\n",
      "16      PS2    339.29\n",
      "17      PS3    330.29\n",
      "28     X360    270.76\n",
      "26      Wii    262.21\n",
      "15       PS    213.61\n",
      "   platform  jp_sales\n",
      "4        DS    175.57\n",
      "15       PS    139.82\n",
      "16      PS2    139.20\n",
      "23     SNES    116.55\n",
      "2       3DS    100.67\n"
     ]
    }
   ],
   "source": [
    "na_pl= games.groupby('platform')['na_sales'].sum().reset_index().sort_values(by='na_sales', ascending=False)\n",
    "eu_pl= games.groupby('platform')['eu_sales'].sum().reset_index().sort_values(by='eu_sales', ascending=False)\n",
    "jp_pl= games.groupby('platform')['jp_sales'].sum().reset_index().sort_values(by='jp_sales', ascending=False)\n",
    "print(na_pl.head(5))\n",
    "print(eu_pl.head(5))\n",
    "print(jp_pl.head(5))"
   ]
  },
  {
   "cell_type": "markdown",
   "id": "482cb4f7",
   "metadata": {},
   "source": [
    "* for north america the top platform are: \n",
    "\n",
    "* X360- 602.47 M$, \n",
    "\n",
    "* PS2-583 M$,\n",
    "\n",
    "* Wii- 496.9 M$, \n",
    "\n",
    "* PS3- 393.49 M$,\n",
    "\n",
    "* DS- 382.4 M$\n",
    "\n",
    "\n",
    "* for europ the top platform are:\n",
    "\n",
    "* PS2- 339.29 M$,\n",
    "\n",
    "* PS3-330.29 M$, \n",
    "\n",
    "* X360- 270.76 M$,\n",
    "\n",
    "* Wii- 262.21 M$, \n",
    "\n",
    "* PS- 213.61 M$\n",
    "\n",
    "\n",
    "* for japan the top platform are: \n",
    "\n",
    "* DS 175.57 M$, \n",
    "\n",
    "* PS-139.2 M$, \n",
    "\n",
    "* PS2- 139.2 M$, \n",
    "\n",
    "* SNES- 116.55 M$,\n",
    "\n",
    "* 3DS 100.67 M$"
   ]
  },
  {
   "cell_type": "code",
   "execution_count": 54,
   "id": "6f08dc3f",
   "metadata": {},
   "outputs": [
    {
     "name": "stdout",
     "output_type": "stream",
     "text": [
      "       genre  na_sales\n",
      "0     Action    879.01\n",
      "10    Sports    684.43\n",
      "8    Shooter    592.24\n",
      "4   Platform    445.50\n",
      "3       Misc    407.27\n",
      "      genre  eu_sales\n",
      "0    Action    519.13\n",
      "10   Sports    376.79\n",
      "8   Shooter    317.34\n",
      "6    Racing    236.51\n",
      "3      Misc    212.74\n",
      "           genre  jp_sales\n",
      "7   Role-Playing    355.41\n",
      "0         Action    161.43\n",
      "10        Sports    135.54\n",
      "4       Platform    130.83\n",
      "3           Misc    108.11\n"
     ]
    }
   ],
   "source": [
    "na_gn= games.groupby('genre')['na_sales'].sum().reset_index().sort_values(by='na_sales', ascending=False)\n",
    "eu_gn= games.groupby('genre')['eu_sales'].sum().reset_index().sort_values(by='eu_sales', ascending=False)\n",
    "jp_gn= games.groupby('genre')['jp_sales'].sum().reset_index().sort_values(by='jp_sales', ascending=False)\n",
    "print(na_gn.head(5))\n",
    "print(eu_gn.head(5))\n",
    "print(jp_gn.head(5))"
   ]
  },
  {
   "cell_type": "markdown",
   "id": "faaa6c0c",
   "metadata": {},
   "source": [
    "* for north america the top genre are:  \n",
    "\n",
    "* Action- 879.01 M$, \n",
    "\n",
    "* Sports-684.43 M$,\n",
    "\n",
    "* Shooter- 592.24 M$, \n",
    "\n",
    "* Platform- 445.50 M$,\n",
    "\n",
    "* Misc- 407.27 M$\n",
    "\n",
    "\n",
    "* for europ the top genre are:\n",
    "\n",
    "* Action- 519.13 M$,\n",
    "\n",
    "* Sports-376.79 M$, \n",
    "\n",
    "* Shooter- 317.34 M$,\n",
    "\n",
    "* Racing- 236.51 M$, \n",
    "\n",
    "* Misc- 212.74 M$\n",
    "\n",
    "\n",
    "* for japan the top genre are: \n",
    "\t\n",
    "* Role-Playing 355.41 M$, \n",
    "\n",
    "* Action-161.43 M$, \n",
    "\n",
    "* Sports- 135.54 M$, \n",
    "\n",
    "* Platform- 130.83 M$,\n",
    "\n",
    "* Misc 108.11 M$\n",
    "\n",
    "its make sense that top genre is changing between region, sense there are cultural diffrences"
   ]
  },
  {
   "cell_type": "code",
   "execution_count": 55,
   "id": "93a07a3a",
   "metadata": {},
   "outputs": [
    {
     "data": {
      "text/html": [
       "<div>\n",
       "<style scoped>\n",
       "    .dataframe tbody tr th:only-of-type {\n",
       "        vertical-align: middle;\n",
       "    }\n",
       "\n",
       "    .dataframe tbody tr th {\n",
       "        vertical-align: top;\n",
       "    }\n",
       "\n",
       "    .dataframe thead th {\n",
       "        text-align: right;\n",
       "    }\n",
       "</style>\n",
       "<table border=\"1\" class=\"dataframe\">\n",
       "  <thead>\n",
       "    <tr style=\"text-align: right;\">\n",
       "      <th></th>\n",
       "      <th>name</th>\n",
       "      <th>platform</th>\n",
       "      <th>year_of_release</th>\n",
       "      <th>genre</th>\n",
       "      <th>na_sales</th>\n",
       "      <th>eu_sales</th>\n",
       "      <th>jp_sales</th>\n",
       "      <th>other_sales</th>\n",
       "      <th>critic_score</th>\n",
       "      <th>user_score</th>\n",
       "      <th>rating</th>\n",
       "      <th>user_score_no_tbd</th>\n",
       "      <th>avg_score</th>\n",
       "      <th>sum_of_sales</th>\n",
       "    </tr>\n",
       "  </thead>\n",
       "  <tbody>\n",
       "    <tr>\n",
       "      <th>0</th>\n",
       "      <td>Wii Sports</td>\n",
       "      <td>Wii</td>\n",
       "      <td>2006</td>\n",
       "      <td>Sports</td>\n",
       "      <td>41.36</td>\n",
       "      <td>28.96</td>\n",
       "      <td>3.77</td>\n",
       "      <td>8.45</td>\n",
       "      <td>76.0</td>\n",
       "      <td>8</td>\n",
       "      <td>E</td>\n",
       "      <td>80.0</td>\n",
       "      <td>78.0</td>\n",
       "      <td>82.54</td>\n",
       "    </tr>\n",
       "    <tr>\n",
       "      <th>2</th>\n",
       "      <td>Mario Kart Wii</td>\n",
       "      <td>Wii</td>\n",
       "      <td>2008</td>\n",
       "      <td>Racing</td>\n",
       "      <td>15.68</td>\n",
       "      <td>12.76</td>\n",
       "      <td>3.79</td>\n",
       "      <td>3.29</td>\n",
       "      <td>82.0</td>\n",
       "      <td>8.3</td>\n",
       "      <td>E</td>\n",
       "      <td>83.0</td>\n",
       "      <td>82.5</td>\n",
       "      <td>35.52</td>\n",
       "    </tr>\n",
       "    <tr>\n",
       "      <th>3</th>\n",
       "      <td>Wii Sports Resort</td>\n",
       "      <td>Wii</td>\n",
       "      <td>2009</td>\n",
       "      <td>Sports</td>\n",
       "      <td>15.61</td>\n",
       "      <td>10.93</td>\n",
       "      <td>3.28</td>\n",
       "      <td>2.95</td>\n",
       "      <td>80.0</td>\n",
       "      <td>8</td>\n",
       "      <td>E</td>\n",
       "      <td>80.0</td>\n",
       "      <td>80.0</td>\n",
       "      <td>32.77</td>\n",
       "    </tr>\n",
       "  </tbody>\n",
       "</table>\n",
       "</div>"
      ],
      "text/plain": [
       "                name platform  year_of_release   genre  na_sales  eu_sales  \\\n",
       "0         Wii Sports      Wii             2006  Sports     41.36     28.96   \n",
       "2     Mario Kart Wii      Wii             2008  Racing     15.68     12.76   \n",
       "3  Wii Sports Resort      Wii             2009  Sports     15.61     10.93   \n",
       "\n",
       "   jp_sales  other_sales critic_score user_score rating user_score_no_tbd  \\\n",
       "0      3.77         8.45         76.0          8      E              80.0   \n",
       "2      3.79         3.29         82.0        8.3      E              83.0   \n",
       "3      3.28         2.95         80.0          8      E              80.0   \n",
       "\n",
       "  avg_score  sum_of_sales  \n",
       "0      78.0         82.54  \n",
       "2      82.5         35.52  \n",
       "3      80.0         32.77  "
      ]
     },
     "execution_count": 55,
     "metadata": {},
     "output_type": "execute_result"
    }
   ],
   "source": [
    "esrb_games= games.query('rating != \"unknown\"')\n",
    "esrb_games.head(3)"
   ]
  },
  {
   "cell_type": "code",
   "execution_count": 56,
   "id": "d4b313ce",
   "metadata": {},
   "outputs": [
    {
     "name": "stdout",
     "output_type": "stream",
     "text": [
      "  rating  na_sales\n",
      "0     AO      1.26\n",
      "1      E   1292.99\n",
      "2   E10+    353.32\n",
      "3     EC      1.53\n",
      "4    K-A      2.56\n",
      "5      M    748.48\n",
      "6     RP      0.00\n",
      "7      T    759.75\n",
      "  rating  eu_sales\n",
      "0     AO      0.61\n",
      "1      E    710.25\n",
      "2   E10+    188.52\n",
      "3     EC      0.11\n",
      "4    K-A      0.27\n",
      "5      M    483.97\n",
      "6     RP      0.08\n",
      "7      T    427.03\n",
      "  rating  jp_sales\n",
      "0     AO      0.00\n",
      "1      E    198.11\n",
      "2   E10+     40.20\n",
      "3     EC      0.00\n",
      "4    K-A      1.46\n",
      "5      M     64.24\n",
      "6     RP      0.00\n",
      "7      T    151.40\n"
     ]
    },
    {
     "data": {
      "text/plain": [
       "<matplotlib.legend.Legend at 0x1654912f4f0>"
      ]
     },
     "execution_count": 56,
     "metadata": {},
     "output_type": "execute_result"
    },
    {
     "data": {
      "text/plain": [
       "<Figure size 720x720 with 0 Axes>"
      ]
     },
     "metadata": {},
     "output_type": "display_data"
    },
    {
     "data": {
      "image/png": "[encoded data removed]",
      "text/plain": [
       "<Figure size 432x288 with 1 Axes>"
      ]
     },
     "metadata": {
      "needs_background": "light"
     },
     "output_type": "display_data"
    },
    {
     "data": {
      "image/png": "[encoded data removed]",
      "text/plain": [
       "<Figure size 432x288 with 1 Axes>"
      ]
     },
     "metadata": {
      "needs_background": "light"
     },
     "output_type": "display_data"
    },
    {
     "data": {
      "image/png": "[encoded data removed]",
      "text/plain": [
       "<Figure size 432x288 with 1 Axes>"
      ]
     },
     "metadata": {
      "needs_background": "light"
     },
     "output_type": "display_data"
    }
   ],
   "source": [
    "\n",
    "na_esbr= esrb_games.groupby('rating')['na_sales'].sum().reset_index()\n",
    "eu_esbr= esrb_games.groupby('rating')['eu_sales'].sum().reset_index()\n",
    "jp_esbr= esrb_games.groupby('rating')['jp_sales'].sum().reset_index()\n",
    "print(na_esbr)\n",
    "print(eu_esbr)\n",
    "print(jp_esbr)\n",
    "\n",
    "plt.figure(figsize=(10, 10))\n",
    "na_esbr.plot(kind = 'bar', x ='rating', y='na_sales') \n",
    "plt.title('North America')\n",
    "plt.xlabel('rating')\n",
    "plt.ylabel('na_sales')\n",
    "eu_esbr.plot(kind = 'bar', x ='rating', y='eu_sales') \n",
    "plt.title('Europ')\n",
    "plt.xlabel('rating')\n",
    "plt.ylabel('eu_sales')\n",
    "jp_esbr.plot(kind = 'bar', x ='rating', y='jp_sales') \n",
    "plt.title('Japan')\n",
    "plt.xlabel('rating')\n",
    "plt.ylabel('jp_sales')\n",
    "plt.legend(['na_esbr', 'eu_esbr', 'jp_esbr'])"
   ]
  },
  {
   "cell_type": "markdown",
   "id": "764e387d",
   "metadata": {},
   "source": [
    "* At all region E rate is leading on sales\n",
    "* At Japan T (teen 13+) lead M (mature 17+) \n",
    "* at Europ and North America M (mature 17+)  lead  T (teen 13+)"
   ]
  },
  {
   "cell_type": "markdown",
   "id": "6832d056",
   "metadata": {},
   "source": [
    "### Test the follwing hypotheses:\n",
    "* average user rating of Xbox One and PC platform are the same\n",
    "* average user rating of Action and Sport genra are different"
   ]
  },
  {
   "cell_type": "code",
   "execution_count": 57,
   "id": "96086f51",
   "metadata": {},
   "outputs": [
    {
     "data": {
      "text/plain": [
       "165    7.9\n",
       "179    5.4\n",
       "242    6.4\n",
       "270    6.2\n",
       "Name: user_score, dtype: float64"
      ]
     },
     "execution_count": 57,
     "metadata": {},
     "output_type": "execute_result"
    }
   ],
   "source": [
    "user_rate_xone= games.query('user_score_no_tbd != \"unknown\" & platform==\"XOne\"')\n",
    "user_rate_xone= user_rate_xone['user_score'].astype(float)\n",
    "user_rate_xone.head(4)"
   ]
  },
  {
   "cell_type": "code",
   "execution_count": 58,
   "id": "07ad7e8b",
   "metadata": {},
   "outputs": [
    {
     "data": {
      "text/plain": [
       "85     7.6\n",
       "138    7.3\n",
       "192    4.0\n",
       "218    8.2\n",
       "Name: user_score, dtype: float64"
      ]
     },
     "execution_count": 58,
     "metadata": {},
     "output_type": "execute_result"
    }
   ],
   "source": [
    "user_rate_pc= games.query('user_score_no_tbd != \"unknown\" & platform==\"PC\"')\n",
    "user_rate_pc=user_rate_pc['user_score'].astype(float)\n",
    "user_rate_pc.head(4)"
   ]
  },
  {
   "cell_type": "code",
   "execution_count": 59,
   "id": "bd40c8bc",
   "metadata": {},
   "outputs": [
    {
     "name": "stdout",
     "output_type": "stream",
     "text": [
      "user_rate_xone mean:  6.52142857142857\n",
      "user_rate_xone variance:  1.8965188383045533\n",
      "user_rate_xone standard deviation:  1.3771415462124992\n",
      "most data can be found in this range:  (2.390003932791072, 10.652853210066066)\n",
      "\n",
      "user_rate_pc mean:  7.062467532467546\n",
      "user_rate_pc variance:  2.337747158036762\n",
      "user_rate_pc standard deviation:  1.5289693123266936\n",
      "most data can be found in this range:  (2.475559595487465, 11.649375469447627)\n",
      "\n"
     ]
    },
    {
     "data": {
      "text/plain": [
       "LeveneResult(statistic=3.1662496092712744, pvalue=0.07549452472408175)"
      ]
     },
     "execution_count": 59,
     "metadata": {},
     "output_type": "execute_result"
    }
   ],
   "source": [
    "user_rate_xone_mean = user_rate_xone.mean()\n",
    "user_rate_xone_variance = np.var(user_rate_xone)\n",
    "user_rate_xone_std =  np.sqrt(user_rate_xone_variance)\n",
    "print('user_rate_xone mean: ', user_rate_xone_mean)\n",
    "print('user_rate_xone variance: ', user_rate_xone_variance)\n",
    "print('user_rate_xone standard deviation: ', user_rate_xone_std)\n",
    "print('most data can be found in this range: ', \n",
    "      (user_rate_xone_mean- 3*user_rate_xone_std, user_rate_xone_mean + 3*user_rate_xone_std))\n",
    "print()\n",
    "user_rate_pc_mean = user_rate_pc.mean()\n",
    "user_rate_pc_variance = np.var(user_rate_pc)\n",
    "user_rate_pc_std =  np.sqrt(user_rate_pc_variance)\n",
    "print('user_rate_pc mean: ', user_rate_pc_mean)\n",
    "print('user_rate_pc variance: ', user_rate_pc_variance)\n",
    "print('user_rate_pc standard deviation: ', user_rate_pc_std)\n",
    "print('most data can be found in this range: ', \n",
    "      (user_rate_pc_mean- 3*user_rate_pc_std, user_rate_pc_mean + 3*user_rate_pc_std))\n",
    "print()\n",
    "st.levene( user_rate_xone, user_rate_pc, center ='mean')"
   ]
  },
  {
   "cell_type": "code",
   "execution_count": 65,
   "id": "82995836",
   "metadata": {},
   "outputs": [
    {
     "data": {
      "text/plain": [
       "165      7.9\n",
       "179      5.4\n",
       "242      6.4\n",
       "270      6.2\n",
       "373      4.1\n",
       "        ... \n",
       "16544    6.8\n",
       "16597    6.0\n",
       "16630    8.2\n",
       "16643    6.6\n",
       "16660    6.7\n",
       "Name: user_score, Length: 182, dtype: float64"
      ]
     },
     "execution_count": 65,
     "metadata": {},
     "output_type": "execute_result"
    }
   ],
   "source": [
    "user_rate_xone"
   ]
  },
  {
   "cell_type": "code",
   "execution_count": 60,
   "id": "58818ebd",
   "metadata": {},
   "outputs": [
    {
     "name": "stdout",
     "output_type": "stream",
     "text": [
      "p-value:  4.935072360183565e-06\n",
      "We reject the null hypothesis\n",
      "user_rate_xone mean:  6.52142857142857\n",
      "user_rate_pc mean:  7.062467532467546\n"
     ]
    }
   ],
   "source": [
    "# h0: average user rating of Xbox One and PC platform are the same\n",
    "alpha = 0.05 \n",
    "result1 = st.ttest_ind(user_rate_xone,\n",
    "                       user_rate_pc, equal_var = False)\n",
    "\n",
    "print ('p-value: ', result1.pvalue)\n",
    "\n",
    "\n",
    "if result1.pvalue < alpha:\n",
    "    print(\"We reject the null hypothesis\")\n",
    "else:\n",
    "    print(\"We can't reject the null hypothesis\") \n",
    "print('user_rate_xone mean: ', user_rate_xone_mean)\n",
    "print('user_rate_pc mean: ', user_rate_pc_mean)"
   ]
  },
  {
   "cell_type": "markdown",
   "id": "81a8f5ea",
   "metadata": {},
   "source": [
    "* the null hypotheses :average user rating of Xbox One and PC platform are the same, we reject the null hypotheses, user score for PC ans XOne are not the same."
   ]
  },
  {
   "cell_type": "code",
   "execution_count": 61,
   "id": "d921bd82",
   "metadata": {},
   "outputs": [
    {
     "data": {
      "text/plain": [
       "16    8.2\n",
       "17    9.0\n",
       "Name: user_score, dtype: float64"
      ]
     },
     "execution_count": 61,
     "metadata": {},
     "output_type": "execute_result"
    }
   ],
   "source": [
    "user_rate_action= games.query('user_score_no_tbd != \"unknown\" & genre==\"Action\"')\n",
    "user_rate_action= user_rate_action['user_score'].astype(float)\n",
    "user_rate_action.head(2)"
   ]
  },
  {
   "cell_type": "code",
   "execution_count": 62,
   "id": "7b6566f6",
   "metadata": {},
   "outputs": [
    {
     "data": {
      "text/plain": [
       "0    8.0\n",
       "3    8.0\n",
       "Name: user_score, dtype: float64"
      ]
     },
     "execution_count": 62,
     "metadata": {},
     "output_type": "execute_result"
    }
   ],
   "source": [
    "user_rate_sport= games.query('user_score_no_tbd != \"unknown\" & genre==\"Sports\"')\n",
    "user_rate_sport= user_rate_sport['user_score'].astype(float)\n",
    "user_rate_sport.head(2)"
   ]
  },
  {
   "cell_type": "code",
   "execution_count": 63,
   "id": "94575a38",
   "metadata": {},
   "outputs": [
    {
     "name": "stdout",
     "output_type": "stream",
     "text": [
      "user_rate_sport mean:  6.961196736174073\n",
      "user_rate_sport variance:  2.5941606711770206\n",
      "user_rate_sport standard deviation:  1.610639832854329\n",
      "most data can be found in this range:  (2.1292772376110856, 11.79311623473706)\n",
      "\n",
      "user_rate_action mean:  7.054043715846988\n",
      "user_rate_action variance:  2.030636653826616\n",
      "user_rate_action standard deviation:  1.4250040890561038\n",
      "most data can be found in this range:  (2.779031448678677, 11.329055983015298)\n",
      "\n"
     ]
    },
    {
     "data": {
      "text/plain": [
       "LeveneResult(statistic=20.782708914182898, pvalue=5.355232768513885e-06)"
      ]
     },
     "execution_count": 63,
     "metadata": {},
     "output_type": "execute_result"
    }
   ],
   "source": [
    "user_rate_sport_mean = user_rate_sport.mean()\n",
    "user_rate_sport_variance = np.var(user_rate_sport)\n",
    "user_rate_sport_std =  np.sqrt(user_rate_sport_variance)\n",
    "print('user_rate_sport mean: ', user_rate_sport_mean)\n",
    "print('user_rate_sport variance: ', user_rate_sport_variance)\n",
    "print('user_rate_sport standard deviation: ', user_rate_sport_std)\n",
    "print('most data can be found in this range: ', \n",
    "      (user_rate_sport_mean- 3*user_rate_sport_std, user_rate_sport_mean + 3*user_rate_sport_std))\n",
    "print()\n",
    "user_rate_action_mean = user_rate_action.mean()\n",
    "user_rate_action_variance = np.var(user_rate_action)\n",
    "user_rate_action_std =  np.sqrt(user_rate_action_variance)\n",
    "print('user_rate_action mean: ', user_rate_action_mean)\n",
    "print('user_rate_action variance: ', user_rate_action_variance)\n",
    "print('user_rate_action standard deviation: ', user_rate_action_std)\n",
    "print('most data can be found in this range: ', \n",
    "      (user_rate_action_mean- 3*user_rate_action_std, user_rate_action_mean + 3*user_rate_action_std))\n",
    "print()\n",
    "st.levene( user_rate_sport, user_rate_action, center ='mean')"
   ]
  },
  {
   "cell_type": "code",
   "execution_count": 64,
   "id": "d8489539",
   "metadata": {},
   "outputs": [
    {
     "name": "stdout",
     "output_type": "stream",
     "text": [
      "p-value:  0.11483818791498286\n",
      "We can't reject the null hypothesis\n",
      "user_rate_sport mean:  6.961196736174073\n",
      "user_rate_action mean:  7.054043715846988\n"
     ]
    }
   ],
   "source": [
    "# h0: average user rating of sport and action genre are the same\n",
    "alpha = 0.05 \n",
    "result1 = st.ttest_ind(user_rate_sport,\n",
    "                       user_rate_action, equal_var = False)\n",
    "\n",
    "print ('p-value: ', result1.pvalue)\n",
    "\n",
    "\n",
    "if result1.pvalue < alpha:\n",
    "    print(\"We reject the null hypothesis\")\n",
    "else:\n",
    "    print(\"We can't reject the null hypothesis\") \n",
    "print('user_rate_sport mean: ', user_rate_sport_mean)\n",
    "print('user_rate_action mean: ', user_rate_action_mean)"
   ]
  },
  {
   "cell_type": "markdown",
   "id": "cce1937a",
   "metadata": {},
   "source": [
    "* the null hypotheses :average user rating of sport and action genre are the same, we cant reject the null hypotheses,we cant say that user score for action and sport are not the same."
   ]
  },
  {
   "cell_type": "markdown",
   "id": "2d4429db",
   "metadata": {},
   "source": [
    "#### Genral coclution:\n",
    "The data has alot of missing value's. \n",
    "I could not think of good way to fill the missing values, so I sliced the relvent data every time. \n",
    "During years 2006-2011 over 1000 games were release, 2008-2009 are in the top, 1429 1426 games release.\n",
    "\n",
    "Revenue peaks are :\n",
    "*\t\"PS2\" platform with revenue of 1255.77 milion USD with 2161 games\n",
    "\n",
    "*   \"X360\" platform with revenue of 971.42 milion USD with 1262 games\n",
    "\n",
    "*   \"PS3\" platform with revenue of 939.65 milion USD with 1331 games\n",
    "\n",
    "*   \"Wii\" platform with revenue of 907.51 milion USD with 1320 games\n",
    "\n",
    "* since 1994 almost every 6 years new platform pops, most of the platform stey relevnt for ~10 years.\n",
    "PS3, X360, aPS4, GBA,  and Xone have the same median revenues.\n",
    "Wii ,X360 ,and PS3 are leading by income.\n",
    "\n",
    "* PS2 has the highst revenue, I check the corraltion between revenues and score:\n",
    "the correlation is 0.39 for critic score and 0.17 to user score. both lower then 0.75, but there is some kind of dependence. \n",
    "sums of sales is growing with user score and critic score.\n",
    "the critic_score has higher correlation  to sum_of_sales and can give better indication.\n",
    "\n",
    "* For XBOx:\n",
    "correlation between sum_of_sales and user_score_no_tbd: 0.201988290638929\n",
    "correlation between sum_of_sales and critic_score: 0.4205860334613527\n",
    "also for XBOX platform critic_score has better correlation to sum_of_sales\n",
    "\n",
    "* Action is the most profitable genra, Strategy is the least profitable genra.\n",
    "\n",
    "* Action genre has a peak of 140 M$ at 2008-2009, its revenue start raising at 1996, at 2014 the revenue start to drop.\n",
    "\n",
    "* Adventure has discreat peaks at 1987 of 12 M$, other then that its has the biggest pick at  2007, 2008 of 25 M$  but since \n",
    "then the revenue start to dropt \n",
    "\n",
    "* Fighting has discrete pick at 1998 of 30M $ and also in 2008-2009 35M $, since then the revenue drops.\n",
    "\n",
    "* Misc revenu start raising at 1996 to pick of 85M $ at 2010 but since then the revenue drops.\n",
    "\n",
    "* Platform stays relevant during the entire years fram its peck is 50M$ at 2006 but since then the revenue drops. \n",
    "\n",
    "* puzzle has the highst pick at 1989 with 35M$ , its had another smaller pick  at 2007 of 25M$ but since then the revenue drops.\n",
    "\n",
    "* Racing start raisong at 1996 with pick at 2008 of 70M$ but since then the revenue drops.\n",
    "\n",
    "* Role playimg start raising at 1987 with pick of 70M$ at 2010 but since then the revenue drops.\n",
    "\n",
    "* Shootern has a discrete pick at 1984 of 38M$  but the revenue star grow stedily at 1994 with the highst pick at 2011 of 100M$ \n",
    "but since then the revenue drops.\n",
    "\n",
    "*Simulation the revenue star grow stedily at 1994 with the highst pick at 2005 of 50 M$ another pick at 2011 of 15M$ but since then the revenue drops.\n",
    "\n",
    "* Sports grow stedily at 1994 with the highst pick at 2009 of 140 M$  but since then the revenue drops.\n",
    "\n",
    "* Strategy stedily at 1991 with the highst pick at 1999 of 17.5 M$ another pick at 2010 of 12.5M$ but since then the revenue drops.\n",
    "\n",
    "* for north america the top platform are: \n",
    "\n",
    "* X360- 602.47 M$, \n",
    "\n",
    "* PS2-583 M$,\n",
    "\n",
    "* Wii- 496.9 M$, \n",
    "\n",
    "* PS3- 393.49 M$,\n",
    "\n",
    "* DS- 382.4 M$\n",
    "\n",
    "\n",
    "* for europ the top platform are:\n",
    "\n",
    "* PS2- 339.29 M$,\n",
    "\n",
    "* PS3-330.29 M$, \n",
    "\n",
    "* X360- 270.76 M$,\n",
    "\n",
    "* Wii- 262.21 M$, \n",
    "\n",
    "* PS- 213.61 M$\n",
    "\n",
    "\n",
    "* for japan the top platform are: \n",
    "\n",
    "* DS 175.57 M$, \n",
    "\n",
    "* PS-139.2 M$, \n",
    "\n",
    "* PS2- 139.2 M$, \n",
    "\n",
    "* SNES- 116.55 M$,\n",
    "\n",
    "* 3DS 100.67 M$\n",
    "\n",
    "\n",
    "* for north america the top genre are:  \n",
    "\n",
    "* Action- 879.01 M$, \n",
    "\n",
    "* Sports-684.43 M$,\n",
    "\n",
    "* Shooter- 592.24 M$, \n",
    "\n",
    "* Platform- 445.50 M$,\n",
    "\n",
    "* Misc- 407.27 M$\n",
    "\n",
    "\n",
    "* for europ the top genre are:\n",
    "\n",
    "* Action- 519.13 M$,\n",
    "\n",
    "* Sports-376.79 M$, \n",
    "\n",
    "* Shooter- 317.34 M$,\n",
    "\n",
    "* Racing- 236.51 M$, \n",
    "\n",
    "* Misc- 212.74 M$\n",
    "\n",
    "\n",
    "* for japan the top genre are: \n",
    "\t\n",
    "* Role-Playing 355.41 M$, \n",
    "\n",
    "* Action-161.43 M$, \n",
    "\n",
    "* Sports- 135.54 M$, \n",
    "\n",
    "* Platform- 130.83 M$,\n",
    "\n",
    "* Misc 108.11 M$\n",
    "\n",
    "Its make sense that top genre is changing between region, sense there are cultural diffrences\n",
    "\n",
    "* At all region E rate is leading on sales\n",
    "* At Japan T (teen 13+) lead M (mature 17+) \n",
    "* at Europ and North America M (mature 17+)  lead  T (teen 13+)\n",
    "\n",
    "for the two null hypotheses:\n",
    "* the null hypotheses :average user rating of Xbox One and PC platform are the same, we reject the null hypotheses, user score for PC ans XOne are not the same.\n",
    "\n",
    "* * the null hypotheses :average user rating of sport and action genre are the same, we cant reject the null hypotheses,we cant say that user score for action and sport are not the same."
   ]
  },
  {
   "cell_type": "code",
   "execution_count": null,
   "id": "eab09e49",
   "metadata": {},
   "outputs": [],
   "source": []
  },
  {
   "cell_type": "code",
   "execution_count": null,
   "id": "2e159c3d",
   "metadata": {},
   "outputs": [],
   "source": []
  }
 ],
 "metadata": {
  "kernelspec": {
   "display_name": "Python 3 (ipykernel)",
   "language": "python",
   "name": "python3"
  },
  "language_info": {
   "codemirror_mode": {
    "name": "ipython",
    "version": 3
   },
   "file_extension": ".py",
   "mimetype": "text/x-python",
   "name": "python",
   "nbconvert_exporter": "python",
   "pygments_lexer": "ipython3",
   "version": "3.9.7"
  },
  "toc": {
   "base_numbering": 1,
   "nav_menu": {},
   "number_sections": true,
   "sideBar": true,
   "skip_h1_title": true,
   "title_cell": "Table of Contents",
   "title_sidebar": "Contents",
   "toc_cell": false,
   "toc_position": {},
   "toc_section_display": true,
   "toc_window_display": false
  }
 },
 "nbformat": 4,
 "nbformat_minor": 5
}
