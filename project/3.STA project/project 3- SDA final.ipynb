{
 "cells": [
  {
   "cell_type": "markdown",
   "id": "85509e5f",
   "metadata": {},
   "source": [
    "## Project description:\n",
    "\n",
    "Megaline the telecom operator offers its clients two prepaid plans, Surf and Ultimate. \n",
    "The commercial department wants to know which of the plans brings in more revenue in order to adjust the advertising budget.\n",
    "We are going to carry out a preliminary analysis of the plans based on a relatively small client selection. \n",
    "We'll have the data on 500 Megaline clients: who the clients are, where they're from, which plan they use, and the number of calls they made and text messages they sent in 2018. \n",
    "Our job is to analyze clients' behavior and determine which prepaid plan brings in more revenue."
   ]
  },
  {
   "cell_type": "markdown",
   "id": "ed356e34",
   "metadata": {},
   "source": [
    "## Table of contents: "
   ]
  },
  {
   "cell_type": "markdown",
   "id": "5386ba38",
   "metadata": {},
   "source": [
    "* [1. Open the data and study the general information](#Step-1.-Open-the-data-and-study-the-general-information)\n",
    "* [2. Prepare the data](#Step-2.-Prepare-the-data)\n",
    "    *  [2.1 calls table](#calls-table:)\n",
    "    *  [2.2 massege-table](#massege-table:)\n",
    "    *  [2.3 internet table](#internet-table:)\n",
    "    *  [2.4 plans table](#plans-table:)\n",
    "* [3. Analyze the data](#Step-3.-Analyze-the-data:)\n",
    "* [4. Test the hypotheses](#Step-4.-Test--the-hypotheses:)\n",
    "* [5. Overall coclution](#Step-5.-Overall-coclution:)"
   ]
  },
  {
   "cell_type": "markdown",
   "id": "bc53781f",
   "metadata": {},
   "source": [
    "## Step 1. Open the data and study the general information"
   ]
  },
  {
   "cell_type": "code",
   "execution_count": 83,
   "id": "61810b87",
   "metadata": {},
   "outputs": [],
   "source": [
    "# Loading all the libraries\n",
    "import pandas as pd\n",
    "import numpy as np\n",
    "import matplotlib.pyplot as plt\n",
    "import math\n",
    "from scipy import stats as st\n",
    "import seaborn as sns\n"
   ]
  },
  {
   "cell_type": "code",
   "execution_count": 31,
   "id": "711b3ccb",
   "metadata": {},
   "outputs": [],
   "source": [
    "# Load the data\n",
    "try:\n",
    "     users = pd.read_csv('megaline_users.csv')\n",
    "except:\n",
    "    users = pd.read_csv('/datasets/megaline_users.csv')\n",
    "    \n",
    "try:\n",
    "    calls = pd.read_csv(\"megaline_calls.csv\")\n",
    "except:\n",
    "    calls = pd.read_csv('/datasets/megaline_calls.csv')\n",
    "    \n",
    "try:\n",
    "    messages = pd.read_csv('megaline_messages.csv')\n",
    "except:\n",
    "    messages = pd.read_csv('/datasets/megaline_messages.csv')\n",
    "    \n",
    "try:\n",
    "    internet = pd.read_csv('megaline_internet.csv')\n",
    "except:\n",
    "    internet = pd.read_csv('/datasets/megaline_internet.csv')\n",
    "    \n",
    "try:\n",
    "    plans = pd.read_csv('megaline_plans.csv')\n",
    "except:\n",
    "    plans = pd.read_csv('/datasets/megaline_plans.csv')\n",
    "    \n"
   ]
  },
  {
   "cell_type": "markdown",
   "id": "5afc2cbb",
   "metadata": {},
   "source": [
    "## Step 2. Prepare the data"
   ]
  },
  {
   "cell_type": "markdown",
   "id": "6c729dc0",
   "metadata": {},
   "source": [
    "### user table:"
   ]
  },
  {
   "cell_type": "markdown",
   "id": "f6abf710",
   "metadata": {},
   "source": [
    "The dataset contains the following fields:\n",
    "\n",
    "- `user_id` - unique user identifier\n",
    "- `first_name`- user's name\n",
    "- `last_name`- user's last name\n",
    "- `age`- user's age (years)\n",
    "- `reg_date`- subscription date (dd, mm, yy)\n",
    "- `churn_date` — the date the user stopped using the service (if the value is missing, the calling plan was being used when this data was retrieved)\n",
    "- `city` — user's city of residence\n",
    "- `plan` - calling plan name"
   ]
  },
  {
   "cell_type": "code",
   "execution_count": 32,
   "id": "77aae50d",
   "metadata": {},
   "outputs": [
    {
     "name": "stdout",
     "output_type": "stream",
     "text": [
      "   user_id first_name  last_name  age                                   city  \\\n",
      "0     1000   Anamaria      Bauer   45  Atlanta-Sandy Springs-Roswell, GA MSA   \n",
      "1     1001     Mickey  Wilkerson   28        Seattle-Tacoma-Bellevue, WA MSA   \n",
      "2     1002     Carlee    Hoffman   36   Las Vegas-Henderson-Paradise, NV MSA   \n",
      "3     1003   Reynaldo    Jenkins   52                          Tulsa, OK MSA   \n",
      "4     1004    Leonila   Thompson   40        Seattle-Tacoma-Bellevue, WA MSA   \n",
      "\n",
      "     reg_date      plan churn_date  \n",
      "0  2018-12-24  ultimate        NaN  \n",
      "1  2018-08-13      surf        NaN  \n",
      "2  2018-10-21      surf        NaN  \n",
      "3  2018-01-28      surf        NaN  \n",
      "4  2018-05-23      surf        NaN  \n",
      "\n",
      "*********************************\n",
      "\n",
      "<class 'pandas.core.frame.DataFrame'>\n",
      "RangeIndex: 500 entries, 0 to 499\n",
      "Data columns (total 8 columns):\n",
      " #   Column      Non-Null Count  Dtype \n",
      "---  ------      --------------  ----- \n",
      " 0   user_id     500 non-null    int64 \n",
      " 1   first_name  500 non-null    object\n",
      " 2   last_name   500 non-null    object\n",
      " 3   age         500 non-null    int64 \n",
      " 4   city        500 non-null    object\n",
      " 5   reg_date    500 non-null    object\n",
      " 6   plan        500 non-null    object\n",
      " 7   churn_date  34 non-null     object\n",
      "dtypes: int64(2), object(6)\n",
      "memory usage: 31.4+ KB\n",
      "\n",
      "*********************************\n",
      "\n"
     ]
    },
    {
     "data": {
      "text/html": [
       "<div>\n",
       "<style scoped>\n",
       "    .dataframe tbody tr th:only-of-type {\n",
       "        vertical-align: middle;\n",
       "    }\n",
       "\n",
       "    .dataframe tbody tr th {\n",
       "        vertical-align: top;\n",
       "    }\n",
       "\n",
       "    .dataframe thead th {\n",
       "        text-align: right;\n",
       "    }\n",
       "</style>\n",
       "<table border=\"1\" class=\"dataframe\">\n",
       "  <thead>\n",
       "    <tr style=\"text-align: right;\">\n",
       "      <th></th>\n",
       "      <th>count</th>\n",
       "      <th>unique</th>\n",
       "      <th>top</th>\n",
       "      <th>freq</th>\n",
       "      <th>mean</th>\n",
       "      <th>std</th>\n",
       "      <th>min</th>\n",
       "      <th>25%</th>\n",
       "      <th>50%</th>\n",
       "      <th>75%</th>\n",
       "      <th>max</th>\n",
       "    </tr>\n",
       "  </thead>\n",
       "  <tbody>\n",
       "    <tr>\n",
       "      <th>user_id</th>\n",
       "      <td>500.0</td>\n",
       "      <td>NaN</td>\n",
       "      <td>NaN</td>\n",
       "      <td>NaN</td>\n",
       "      <td>1249.5</td>\n",
       "      <td>144.481833</td>\n",
       "      <td>1000.0</td>\n",
       "      <td>1124.75</td>\n",
       "      <td>1249.5</td>\n",
       "      <td>1374.25</td>\n",
       "      <td>1499.0</td>\n",
       "    </tr>\n",
       "    <tr>\n",
       "      <th>first_name</th>\n",
       "      <td>500</td>\n",
       "      <td>458</td>\n",
       "      <td>Leonila</td>\n",
       "      <td>3</td>\n",
       "      <td>NaN</td>\n",
       "      <td>NaN</td>\n",
       "      <td>NaN</td>\n",
       "      <td>NaN</td>\n",
       "      <td>NaN</td>\n",
       "      <td>NaN</td>\n",
       "      <td>NaN</td>\n",
       "    </tr>\n",
       "    <tr>\n",
       "      <th>last_name</th>\n",
       "      <td>500</td>\n",
       "      <td>399</td>\n",
       "      <td>David</td>\n",
       "      <td>3</td>\n",
       "      <td>NaN</td>\n",
       "      <td>NaN</td>\n",
       "      <td>NaN</td>\n",
       "      <td>NaN</td>\n",
       "      <td>NaN</td>\n",
       "      <td>NaN</td>\n",
       "      <td>NaN</td>\n",
       "    </tr>\n",
       "    <tr>\n",
       "      <th>age</th>\n",
       "      <td>500.0</td>\n",
       "      <td>NaN</td>\n",
       "      <td>NaN</td>\n",
       "      <td>NaN</td>\n",
       "      <td>45.486</td>\n",
       "      <td>16.972269</td>\n",
       "      <td>18.0</td>\n",
       "      <td>30.0</td>\n",
       "      <td>46.0</td>\n",
       "      <td>61.0</td>\n",
       "      <td>75.0</td>\n",
       "    </tr>\n",
       "    <tr>\n",
       "      <th>city</th>\n",
       "      <td>500</td>\n",
       "      <td>73</td>\n",
       "      <td>New York-Newark-Jersey City, NY-NJ-PA MSA</td>\n",
       "      <td>80</td>\n",
       "      <td>NaN</td>\n",
       "      <td>NaN</td>\n",
       "      <td>NaN</td>\n",
       "      <td>NaN</td>\n",
       "      <td>NaN</td>\n",
       "      <td>NaN</td>\n",
       "      <td>NaN</td>\n",
       "    </tr>\n",
       "    <tr>\n",
       "      <th>reg_date</th>\n",
       "      <td>500</td>\n",
       "      <td>266</td>\n",
       "      <td>2018-03-08</td>\n",
       "      <td>5</td>\n",
       "      <td>NaN</td>\n",
       "      <td>NaN</td>\n",
       "      <td>NaN</td>\n",
       "      <td>NaN</td>\n",
       "      <td>NaN</td>\n",
       "      <td>NaN</td>\n",
       "      <td>NaN</td>\n",
       "    </tr>\n",
       "    <tr>\n",
       "      <th>plan</th>\n",
       "      <td>500</td>\n",
       "      <td>2</td>\n",
       "      <td>surf</td>\n",
       "      <td>339</td>\n",
       "      <td>NaN</td>\n",
       "      <td>NaN</td>\n",
       "      <td>NaN</td>\n",
       "      <td>NaN</td>\n",
       "      <td>NaN</td>\n",
       "      <td>NaN</td>\n",
       "      <td>NaN</td>\n",
       "    </tr>\n",
       "    <tr>\n",
       "      <th>churn_date</th>\n",
       "      <td>34</td>\n",
       "      <td>29</td>\n",
       "      <td>2018-12-18</td>\n",
       "      <td>3</td>\n",
       "      <td>NaN</td>\n",
       "      <td>NaN</td>\n",
       "      <td>NaN</td>\n",
       "      <td>NaN</td>\n",
       "      <td>NaN</td>\n",
       "      <td>NaN</td>\n",
       "      <td>NaN</td>\n",
       "    </tr>\n",
       "  </tbody>\n",
       "</table>\n",
       "</div>"
      ],
      "text/plain": [
       "            count unique                                        top freq  \\\n",
       "user_id     500.0    NaN                                        NaN  NaN   \n",
       "first_name    500    458                                    Leonila    3   \n",
       "last_name     500    399                                      David    3   \n",
       "age         500.0    NaN                                        NaN  NaN   \n",
       "city          500     73  New York-Newark-Jersey City, NY-NJ-PA MSA   80   \n",
       "reg_date      500    266                                 2018-03-08    5   \n",
       "plan          500      2                                       surf  339   \n",
       "churn_date     34     29                                 2018-12-18    3   \n",
       "\n",
       "              mean         std     min      25%     50%      75%     max  \n",
       "user_id     1249.5  144.481833  1000.0  1124.75  1249.5  1374.25  1499.0  \n",
       "first_name     NaN         NaN     NaN      NaN     NaN      NaN     NaN  \n",
       "last_name      NaN         NaN     NaN      NaN     NaN      NaN     NaN  \n",
       "age         45.486   16.972269    18.0     30.0    46.0     61.0    75.0  \n",
       "city           NaN         NaN     NaN      NaN     NaN      NaN     NaN  \n",
       "reg_date       NaN         NaN     NaN      NaN     NaN      NaN     NaN  \n",
       "plan           NaN         NaN     NaN      NaN     NaN      NaN     NaN  \n",
       "churn_date     NaN         NaN     NaN      NaN     NaN      NaN     NaN  "
      ]
     },
     "execution_count": 32,
     "metadata": {},
     "output_type": "execute_result"
    }
   ],
   "source": [
    "print(users.head())\n",
    "print()\n",
    "print('*********************************')\n",
    "print()\n",
    "users.info()\n",
    "print()\n",
    "print('*********************************')\n",
    "print()\n",
    "users.describe(include='all').T"
   ]
  },
  {
   "cell_type": "code",
   "execution_count": 33,
   "id": "c1d4fa97",
   "metadata": {},
   "outputs": [
    {
     "name": "stdout",
     "output_type": "stream",
     "text": [
      "missing value's at churn_date column in users table:\n",
      "466\n",
      "missing value's distribution at churn_date column in users table: 93.20%\n"
     ]
    }
   ],
   "source": [
    "print(\"missing value's at churn_date column in users table:\")\n",
    "print(len(users[users['churn_date'].isnull()==1]))\n",
    "print(\"missing value's distribution at churn_date column in users table: {:.2%}\".format(len(users[users['churn_date'].isnull()==1])/len(users)))\n"
   ]
  },
  {
   "cell_type": "markdown",
   "id": "09ed5e00",
   "metadata": {},
   "source": [
    "#### At the users table: \n",
    "By the profile report we can see that there is no duplicates. There's 93.2% wich is 466 cells with empty cells at the churn_date column. \n",
    "by the data discription its meen that for those users the calling plan was being used when the data was retrieved\n",
    "Im going to change those cell imto \"unknown\"."
   ]
  },
  {
   "cell_type": "code",
   "execution_count": 34,
   "id": "3a9ea150",
   "metadata": {},
   "outputs": [
    {
     "name": "stdout",
     "output_type": "stream",
     "text": [
      "0\n"
     ]
    }
   ],
   "source": [
    "#filling the missing values at churn_date  column:\n",
    "\n",
    "users['churn_date'] = users['churn_date'].fillna('unknown')\n",
    "\n",
    "# cheke if the correction works:\n",
    "print(len(users[users['churn_date'].isnull()==1]))"
   ]
  },
  {
   "cell_type": "code",
   "execution_count": 35,
   "id": "62136e17",
   "metadata": {},
   "outputs": [
    {
     "name": "stdout",
     "output_type": "stream",
     "text": [
      "<class 'pandas.core.frame.DataFrame'>\n",
      "RangeIndex: 500 entries, 0 to 499\n",
      "Data columns (total 8 columns):\n",
      " #   Column      Non-Null Count  Dtype \n",
      "---  ------      --------------  ----- \n",
      " 0   user_id     500 non-null    int64 \n",
      " 1   first_name  500 non-null    object\n",
      " 2   last_name   500 non-null    object\n",
      " 3   age         500 non-null    int64 \n",
      " 4   city        500 non-null    object\n",
      " 5   reg_date    500 non-null    object\n",
      " 6   plan        500 non-null    object\n",
      " 7   churn_date  500 non-null    object\n",
      "dtypes: int64(2), object(6)\n",
      "memory usage: 31.4+ KB\n"
     ]
    }
   ],
   "source": [
    "users.info()"
   ]
  },
  {
   "cell_type": "markdown",
   "id": "a460e81f",
   "metadata": {},
   "source": [
    "### calls table:"
   ]
  },
  {
   "cell_type": "markdown",
   "id": "7fb8382e",
   "metadata": {},
   "source": [
    "The dataset contains the following fields:\n",
    "- `id` - unique call identifier\n",
    "- `call_date`- call date\n",
    "- `duration`- call duration (in minutes)\n",
    "- `user_id` - the identifier of the user making the call"
   ]
  },
  {
   "cell_type": "code",
   "execution_count": 36,
   "id": "f71866ad",
   "metadata": {},
   "outputs": [
    {
     "name": "stdout",
     "output_type": "stream",
     "text": [
      "         id  user_id   call_date  duration\n",
      "0   1000_93     1000  2018-12-27      8.52\n",
      "1  1000_145     1000  2018-12-27     13.66\n",
      "2  1000_247     1000  2018-12-27     14.48\n",
      "3  1000_309     1000  2018-12-28      5.76\n",
      "4  1000_380     1000  2018-12-30      4.22\n",
      "\n",
      "*********************************\n",
      "\n",
      "<class 'pandas.core.frame.DataFrame'>\n",
      "RangeIndex: 137735 entries, 0 to 137734\n",
      "Data columns (total 4 columns):\n",
      " #   Column     Non-Null Count   Dtype  \n",
      "---  ------     --------------   -----  \n",
      " 0   id         137735 non-null  object \n",
      " 1   user_id    137735 non-null  int64  \n",
      " 2   call_date  137735 non-null  object \n",
      " 3   duration   137735 non-null  float64\n",
      "dtypes: float64(1), int64(1), object(2)\n",
      "memory usage: 4.2+ MB\n",
      "\n",
      "*********************************\n",
      "\n"
     ]
    },
    {
     "data": {
      "text/html": [
       "<div>\n",
       "<style scoped>\n",
       "    .dataframe tbody tr th:only-of-type {\n",
       "        vertical-align: middle;\n",
       "    }\n",
       "\n",
       "    .dataframe tbody tr th {\n",
       "        vertical-align: top;\n",
       "    }\n",
       "\n",
       "    .dataframe thead th {\n",
       "        text-align: right;\n",
       "    }\n",
       "</style>\n",
       "<table border=\"1\" class=\"dataframe\">\n",
       "  <thead>\n",
       "    <tr style=\"text-align: right;\">\n",
       "      <th></th>\n",
       "      <th>count</th>\n",
       "      <th>unique</th>\n",
       "      <th>top</th>\n",
       "      <th>freq</th>\n",
       "      <th>mean</th>\n",
       "      <th>std</th>\n",
       "      <th>min</th>\n",
       "      <th>25%</th>\n",
       "      <th>50%</th>\n",
       "      <th>75%</th>\n",
       "      <th>max</th>\n",
       "    </tr>\n",
       "  </thead>\n",
       "  <tbody>\n",
       "    <tr>\n",
       "      <th>id</th>\n",
       "      <td>137735</td>\n",
       "      <td>137735</td>\n",
       "      <td>1000_93</td>\n",
       "      <td>1</td>\n",
       "      <td>NaN</td>\n",
       "      <td>NaN</td>\n",
       "      <td>NaN</td>\n",
       "      <td>NaN</td>\n",
       "      <td>NaN</td>\n",
       "      <td>NaN</td>\n",
       "      <td>NaN</td>\n",
       "    </tr>\n",
       "    <tr>\n",
       "      <th>user_id</th>\n",
       "      <td>137735.0</td>\n",
       "      <td>NaN</td>\n",
       "      <td>NaN</td>\n",
       "      <td>NaN</td>\n",
       "      <td>1247.658046</td>\n",
       "      <td>139.416268</td>\n",
       "      <td>1000.0</td>\n",
       "      <td>1128.0</td>\n",
       "      <td>1247.0</td>\n",
       "      <td>1365.0</td>\n",
       "      <td>1499.0</td>\n",
       "    </tr>\n",
       "    <tr>\n",
       "      <th>call_date</th>\n",
       "      <td>137735</td>\n",
       "      <td>351</td>\n",
       "      <td>2018-12-27</td>\n",
       "      <td>1091</td>\n",
       "      <td>NaN</td>\n",
       "      <td>NaN</td>\n",
       "      <td>NaN</td>\n",
       "      <td>NaN</td>\n",
       "      <td>NaN</td>\n",
       "      <td>NaN</td>\n",
       "      <td>NaN</td>\n",
       "    </tr>\n",
       "    <tr>\n",
       "      <th>duration</th>\n",
       "      <td>137735.0</td>\n",
       "      <td>NaN</td>\n",
       "      <td>NaN</td>\n",
       "      <td>NaN</td>\n",
       "      <td>6.745927</td>\n",
       "      <td>5.839241</td>\n",
       "      <td>0.0</td>\n",
       "      <td>1.29</td>\n",
       "      <td>5.98</td>\n",
       "      <td>10.69</td>\n",
       "      <td>37.6</td>\n",
       "    </tr>\n",
       "  </tbody>\n",
       "</table>\n",
       "</div>"
      ],
      "text/plain": [
       "              count  unique         top  freq         mean         std  \\\n",
       "id           137735  137735     1000_93     1          NaN         NaN   \n",
       "user_id    137735.0     NaN         NaN   NaN  1247.658046  139.416268   \n",
       "call_date    137735     351  2018-12-27  1091          NaN         NaN   \n",
       "duration   137735.0     NaN         NaN   NaN     6.745927    5.839241   \n",
       "\n",
       "              min     25%     50%     75%     max  \n",
       "id            NaN     NaN     NaN     NaN     NaN  \n",
       "user_id    1000.0  1128.0  1247.0  1365.0  1499.0  \n",
       "call_date     NaN     NaN     NaN     NaN     NaN  \n",
       "duration      0.0    1.29    5.98   10.69    37.6  "
      ]
     },
     "execution_count": 36,
     "metadata": {},
     "output_type": "execute_result"
    }
   ],
   "source": [
    "print(calls.head())\n",
    "print()\n",
    "print('*********************************')\n",
    "print()\n",
    "calls.info()\n",
    "print()\n",
    "print('*********************************')\n",
    "print()\n",
    "calls.describe(include='all').T"
   ]
  },
  {
   "cell_type": "code",
   "execution_count": 37,
   "id": "50159553",
   "metadata": {},
   "outputs": [
    {
     "name": "stdout",
     "output_type": "stream",
     "text": [
      "zero's at duration column in calls table:\n",
      "26834\n",
      "zero's distribution at duration column in calls table: 19.48%\n"
     ]
    }
   ],
   "source": [
    "print(\"zero's at duration column in calls table:\")\n",
    "print(len(calls[calls['duration']==0]))\n",
    "print(\"zero's distribution at duration column in calls table: {:.2%}\".format(len(calls[calls['duration']==0])/len(calls)))\n"
   ]
  },
  {
   "cell_type": "code",
   "execution_count": 38,
   "id": "ba3dfc87",
   "metadata": {},
   "outputs": [
    {
     "name": "stdout",
     "output_type": "stream",
     "text": [
      "12    30614\n",
      "11    24651\n",
      "10    21064\n",
      "9     16523\n",
      "8     13590\n",
      "7     11105\n",
      "6      8221\n",
      "5      5959\n",
      "4      3442\n",
      "3      1620\n",
      "2       774\n",
      "1       172\n",
      "Name: month, dtype: int64\n",
      "2018    137735\n",
      "Name: year, dtype: int64\n"
     ]
    }
   ],
   "source": [
    "#creating new columns for call year, and call month:\n",
    "calls['year']= pd.DatetimeIndex(calls['call_date']).year\n",
    "calls['month']= pd.DatetimeIndex(calls['call_date']).month       \n",
    "print(calls['month'].value_counts())\n",
    "print(calls['year'].value_counts())"
   ]
  },
  {
   "cell_type": "code",
   "execution_count": 39,
   "id": "fe8f92e1",
   "metadata": {},
   "outputs": [
    {
     "name": "stdout",
     "output_type": "stream",
     "text": [
      "481\n"
     ]
    }
   ],
   "source": [
    "id_call=calls.groupby('user_id')\n",
    "print(len(id_call))"
   ]
  },
  {
   "cell_type": "code",
   "execution_count": 40,
   "id": "5bbe0ca9",
   "metadata": {},
   "outputs": [
    {
     "data": {
      "image/png": "[encoded data removed]",
      "text/plain": [
       "<Figure size 864x432 with 1 Axes>"
      ]
     },
     "metadata": {
      "needs_background": "light"
     },
     "output_type": "display_data"
    }
   ],
   "source": [
    "calls_zeros= calls[calls['duration']==0]\n",
    "calls_dist_table = calls_zeros.groupby(['user_id','month'])['id'].agg('count')/calls.groupby(['user_id','month'])['id'].agg('count')\n",
    "calls_dist_table= calls_dist_table.reset_index().sort_values(by='id', ascending=False)\n",
    "not_null_calls_dist_table = calls_dist_table[calls_dist_table['id'].notnull()]\n",
    "\n",
    "%matplotlib inline\n",
    "\n",
    "not_null_calls_dist_table.hist('id', bins = 50, figsize=(12,6))\n",
    "\n",
    "plt.title(\"0's duratin at calls distribution\")\n",
    "plt.ylabel('users with 0 at duration')\n",
    "plt.xlabel(\"0's per total calls\")\n",
    "plt.show()\n"
   ]
  },
  {
   "cell_type": "code",
   "execution_count": 41,
   "id": "8b5e70f5",
   "metadata": {},
   "outputs": [
    {
     "name": "stdout",
     "output_type": "stream",
     "text": [
      "42\n"
     ]
    }
   ],
   "source": [
    "calls_users_with_no0= calls_dist_table[calls_dist_table['id'].isnull()]\n",
    "print(len(calls_users_with_no0))"
   ]
  },
  {
   "cell_type": "code",
   "execution_count": 42,
   "id": "bef02798",
   "metadata": {},
   "outputs": [
    {
     "name": "stdout",
     "output_type": "stream",
     "text": [
      "<class 'pandas.core.frame.DataFrame'>\n",
      "RangeIndex: 137735 entries, 0 to 137734\n",
      "Data columns (total 6 columns):\n",
      " #   Column     Non-Null Count   Dtype  \n",
      "---  ------     --------------   -----  \n",
      " 0   id         137735 non-null  object \n",
      " 1   user_id    137735 non-null  int64  \n",
      " 2   call_date  137735 non-null  object \n",
      " 3   duration   137735 non-null  float64\n",
      " 4   year       137735 non-null  int64  \n",
      " 5   month      137735 non-null  int64  \n",
      "dtypes: float64(1), int64(3), object(2)\n",
      "memory usage: 6.3+ MB\n"
     ]
    },
    {
     "data": {
      "text/html": [
       "<div>\n",
       "<style scoped>\n",
       "    .dataframe tbody tr th:only-of-type {\n",
       "        vertical-align: middle;\n",
       "    }\n",
       "\n",
       "    .dataframe tbody tr th {\n",
       "        vertical-align: top;\n",
       "    }\n",
       "\n",
       "    .dataframe thead th {\n",
       "        text-align: right;\n",
       "    }\n",
       "</style>\n",
       "<table border=\"1\" class=\"dataframe\">\n",
       "  <thead>\n",
       "    <tr style=\"text-align: right;\">\n",
       "      <th></th>\n",
       "      <th>id</th>\n",
       "      <th>user_id</th>\n",
       "      <th>call_date</th>\n",
       "      <th>duration</th>\n",
       "      <th>year</th>\n",
       "      <th>month</th>\n",
       "    </tr>\n",
       "  </thead>\n",
       "  <tbody>\n",
       "    <tr>\n",
       "      <th>0</th>\n",
       "      <td>1000_93</td>\n",
       "      <td>1000</td>\n",
       "      <td>2018-12-27</td>\n",
       "      <td>8.52</td>\n",
       "      <td>2018</td>\n",
       "      <td>12</td>\n",
       "    </tr>\n",
       "    <tr>\n",
       "      <th>1</th>\n",
       "      <td>1000_145</td>\n",
       "      <td>1000</td>\n",
       "      <td>2018-12-27</td>\n",
       "      <td>13.66</td>\n",
       "      <td>2018</td>\n",
       "      <td>12</td>\n",
       "    </tr>\n",
       "    <tr>\n",
       "      <th>2</th>\n",
       "      <td>1000_247</td>\n",
       "      <td>1000</td>\n",
       "      <td>2018-12-27</td>\n",
       "      <td>14.48</td>\n",
       "      <td>2018</td>\n",
       "      <td>12</td>\n",
       "    </tr>\n",
       "    <tr>\n",
       "      <th>3</th>\n",
       "      <td>1000_309</td>\n",
       "      <td>1000</td>\n",
       "      <td>2018-12-28</td>\n",
       "      <td>5.76</td>\n",
       "      <td>2018</td>\n",
       "      <td>12</td>\n",
       "    </tr>\n",
       "    <tr>\n",
       "      <th>4</th>\n",
       "      <td>1000_380</td>\n",
       "      <td>1000</td>\n",
       "      <td>2018-12-30</td>\n",
       "      <td>4.22</td>\n",
       "      <td>2018</td>\n",
       "      <td>12</td>\n",
       "    </tr>\n",
       "  </tbody>\n",
       "</table>\n",
       "</div>"
      ],
      "text/plain": [
       "         id  user_id   call_date  duration  year  month\n",
       "0   1000_93     1000  2018-12-27      8.52  2018     12\n",
       "1  1000_145     1000  2018-12-27     13.66  2018     12\n",
       "2  1000_247     1000  2018-12-27     14.48  2018     12\n",
       "3  1000_309     1000  2018-12-28      5.76  2018     12\n",
       "4  1000_380     1000  2018-12-30      4.22  2018     12"
      ]
     },
     "execution_count": 42,
     "metadata": {},
     "output_type": "execute_result"
    }
   ],
   "source": [
    "calls.info()\n",
    "calls.head()"
   ]
  },
  {
   "cell_type": "markdown",
   "id": "707365ec",
   "metadata": {},
   "source": [
    "#### At the calls table: \n",
    "* There are 137,735 rows in calls table, with call record of 481 out of 500 users.\n",
    "* By the profile report we can see that there is no duplicates, and no missing values.\n",
    "* There's 19.5% which is 26,834 cells with zero's at the duration column.\n",
    "* From 500 users there is data on 439 users with missed calls.\n",
    "* From those 26,834, most users have between 10%-30% missing values at the duration coulmn. It can be interpreted as missed calls.\n"
   ]
  },
  {
   "cell_type": "code",
   "execution_count": 43,
   "id": "53eb7d23",
   "metadata": {},
   "outputs": [
    {
     "name": "stdout",
     "output_type": "stream",
     "text": [
      "2258\n"
     ]
    },
    {
     "data": {
      "text/html": [
       "<div>\n",
       "<style scoped>\n",
       "    .dataframe tbody tr th:only-of-type {\n",
       "        vertical-align: middle;\n",
       "    }\n",
       "\n",
       "    .dataframe tbody tr th {\n",
       "        vertical-align: top;\n",
       "    }\n",
       "\n",
       "    .dataframe thead th {\n",
       "        text-align: right;\n",
       "    }\n",
       "</style>\n",
       "<table border=\"1\" class=\"dataframe\">\n",
       "  <thead>\n",
       "    <tr style=\"text-align: right;\">\n",
       "      <th></th>\n",
       "      <th>user_id</th>\n",
       "      <th>month</th>\n",
       "      <th>calls</th>\n",
       "      <th>calls_duration</th>\n",
       "    </tr>\n",
       "  </thead>\n",
       "  <tbody>\n",
       "    <tr>\n",
       "      <th>0</th>\n",
       "      <td>1000</td>\n",
       "      <td>12</td>\n",
       "      <td>16</td>\n",
       "      <td>124</td>\n",
       "    </tr>\n",
       "    <tr>\n",
       "      <th>1</th>\n",
       "      <td>1001</td>\n",
       "      <td>8</td>\n",
       "      <td>27</td>\n",
       "      <td>182</td>\n",
       "    </tr>\n",
       "  </tbody>\n",
       "</table>\n",
       "</div>"
      ],
      "text/plain": [
       "   user_id  month  calls  calls_duration\n",
       "0     1000     12     16             124\n",
       "1     1001      8     27             182"
      ]
     },
     "execution_count": 43,
     "metadata": {},
     "output_type": "execute_result"
    }
   ],
   "source": [
    "# round up the calls duration:\n",
    "calls['duration_roundup']= calls['duration'].apply(math.ceil)\n",
    "# create summ_calls table with number of calls and duration for each user per mounth\n",
    "summ_calls= calls.groupby(['user_id','month']).agg({'duration_roundup': ['count', 'sum']}).reset_index()\n",
    "summ_calls.set_axis(['user_id', 'month', 'calls', 'calls_duration'], axis = 'columns', inplace =True)\n",
    "print(len(summ_calls))\n",
    "summ_calls.head(2)"
   ]
  },
  {
   "cell_type": "markdown",
   "id": "b11c2e04",
   "metadata": {},
   "source": [
    "### massege table: "
   ]
  },
  {
   "cell_type": "markdown",
   "id": "6c8e9bfd",
   "metadata": {},
   "source": [
    "The dataset contains the following fields:\n",
    "\n",
    "- `id` - unique text message identifier\n",
    "- `message_date` -text message date\n",
    "- `user_id` -the identifier of the user sending the text"
   ]
  },
  {
   "cell_type": "code",
   "execution_count": 44,
   "id": "fe18df3b",
   "metadata": {},
   "outputs": [
    {
     "name": "stdout",
     "output_type": "stream",
     "text": [
      "         id  user_id message_date\n",
      "0  1000_125     1000   2018-12-27\n",
      "1  1000_160     1000   2018-12-31\n",
      "2  1000_223     1000   2018-12-31\n",
      "3  1000_251     1000   2018-12-27\n",
      "4  1000_255     1000   2018-12-26\n",
      "\n",
      "*********************************\n",
      "\n",
      "<class 'pandas.core.frame.DataFrame'>\n",
      "RangeIndex: 76051 entries, 0 to 76050\n",
      "Data columns (total 3 columns):\n",
      " #   Column        Non-Null Count  Dtype \n",
      "---  ------        --------------  ----- \n",
      " 0   id            76051 non-null  object\n",
      " 1   user_id       76051 non-null  int64 \n",
      " 2   message_date  76051 non-null  object\n",
      "dtypes: int64(1), object(2)\n",
      "memory usage: 1.7+ MB\n",
      "\n",
      "*********************************\n",
      "\n"
     ]
    },
    {
     "data": {
      "text/plain": [
       "id                1000_125\n",
       "user_id               1000\n",
       "message_date    2018-01-15\n",
       "dtype: object"
      ]
     },
     "execution_count": 44,
     "metadata": {},
     "output_type": "execute_result"
    }
   ],
   "source": [
    "print(messages.head())\n",
    "print()\n",
    "print('*********************************')\n",
    "print()\n",
    "messages.info()\n",
    "print()\n",
    "print('*********************************')\n",
    "print()\n",
    "messages.describe(include='all').T\n",
    "messages.min()"
   ]
  },
  {
   "cell_type": "code",
   "execution_count": 45,
   "id": "9749d4ff",
   "metadata": {},
   "outputs": [
    {
     "name": "stdout",
     "output_type": "stream",
     "text": [
      "12    19071\n",
      "11    14068\n",
      "10    12201\n",
      "9      9227\n",
      "8      7394\n",
      "7      5208\n",
      "6      3833\n",
      "5      2780\n",
      "4      1333\n",
      "3       594\n",
      "2       259\n",
      "1        83\n",
      "Name: month, dtype: int64\n",
      "2018    76051\n",
      "Name: year, dtype: int64\n"
     ]
    }
   ],
   "source": [
    "#creating new columns for message year, and message mount:\n",
    "messages['year']= pd.DatetimeIndex(messages['message_date']).year\n",
    "messages['month']= pd.DatetimeIndex(messages['message_date']).month       \n",
    "print(messages['month'].value_counts())\n",
    "print(messages['year'].value_counts())"
   ]
  },
  {
   "cell_type": "markdown",
   "id": "6c80f0b7",
   "metadata": {},
   "source": [
    "#### At the messages table: \n",
    "Thers no missing values,and no zero's. "
   ]
  },
  {
   "cell_type": "code",
   "execution_count": 46,
   "id": "39d9d033",
   "metadata": {},
   "outputs": [
    {
     "name": "stdout",
     "output_type": "stream",
     "text": [
      "1806\n"
     ]
    },
    {
     "data": {
      "text/html": [
       "<div>\n",
       "<style scoped>\n",
       "    .dataframe tbody tr th:only-of-type {\n",
       "        vertical-align: middle;\n",
       "    }\n",
       "\n",
       "    .dataframe tbody tr th {\n",
       "        vertical-align: top;\n",
       "    }\n",
       "\n",
       "    .dataframe thead th {\n",
       "        text-align: right;\n",
       "    }\n",
       "</style>\n",
       "<table border=\"1\" class=\"dataframe\">\n",
       "  <thead>\n",
       "    <tr style=\"text-align: right;\">\n",
       "      <th></th>\n",
       "      <th>user_id</th>\n",
       "      <th>month</th>\n",
       "      <th>messages</th>\n",
       "    </tr>\n",
       "  </thead>\n",
       "  <tbody>\n",
       "    <tr>\n",
       "      <th>0</th>\n",
       "      <td>1000</td>\n",
       "      <td>12</td>\n",
       "      <td>11</td>\n",
       "    </tr>\n",
       "    <tr>\n",
       "      <th>1</th>\n",
       "      <td>1001</td>\n",
       "      <td>8</td>\n",
       "      <td>30</td>\n",
       "    </tr>\n",
       "  </tbody>\n",
       "</table>\n",
       "</div>"
      ],
      "text/plain": [
       "   user_id  month  messages\n",
       "0     1000     12        11\n",
       "1     1001      8        30"
      ]
     },
     "execution_count": 46,
     "metadata": {},
     "output_type": "execute_result"
    }
   ],
   "source": [
    "# create summ_messages table with number of messages for each user per mounth\n",
    "summ_messages= messages.groupby(['user_id','month'])['id'].count().reset_index()\n",
    "summ_messages.set_axis(['user_id', 'month', 'messages'], axis = 'columns', inplace =True)\n",
    "print(len(summ_messages))\n",
    "summ_messages.head(2)"
   ]
  },
  {
   "cell_type": "markdown",
   "id": "59c36f7a",
   "metadata": {},
   "source": [
    "### internet table: "
   ]
  },
  {
   "cell_type": "markdown",
   "id": "01e55586",
   "metadata": {},
   "source": [
    "The dataset contains the following fields:\n",
    "\n",
    "- `id` - unique session identifier\n",
    "- `mb_used` -the volume of data spent during the session (in megabytes)\n",
    "- `session_date` -web session date\n",
    "- `user_id` -user identifier\n"
   ]
  },
  {
   "cell_type": "code",
   "execution_count": 47,
   "id": "afd0921f",
   "metadata": {},
   "outputs": [
    {
     "name": "stdout",
     "output_type": "stream",
     "text": [
      "         id  user_id session_date  mb_used\n",
      "0   1000_13     1000   2018-12-29    89.86\n",
      "1  1000_204     1000   2018-12-31     0.00\n",
      "2  1000_379     1000   2018-12-28   660.40\n",
      "3  1000_413     1000   2018-12-26   270.99\n",
      "4  1000_442     1000   2018-12-27   880.22\n",
      "\n",
      "*********************************\n",
      "\n",
      "<class 'pandas.core.frame.DataFrame'>\n",
      "RangeIndex: 104825 entries, 0 to 104824\n",
      "Data columns (total 4 columns):\n",
      " #   Column        Non-Null Count   Dtype  \n",
      "---  ------        --------------   -----  \n",
      " 0   id            104825 non-null  object \n",
      " 1   user_id       104825 non-null  int64  \n",
      " 2   session_date  104825 non-null  object \n",
      " 3   mb_used       104825 non-null  float64\n",
      "dtypes: float64(1), int64(1), object(2)\n",
      "memory usage: 3.2+ MB\n",
      "\n",
      "*********************************\n",
      "\n"
     ]
    },
    {
     "data": {
      "text/html": [
       "<div>\n",
       "<style scoped>\n",
       "    .dataframe tbody tr th:only-of-type {\n",
       "        vertical-align: middle;\n",
       "    }\n",
       "\n",
       "    .dataframe tbody tr th {\n",
       "        vertical-align: top;\n",
       "    }\n",
       "\n",
       "    .dataframe thead th {\n",
       "        text-align: right;\n",
       "    }\n",
       "</style>\n",
       "<table border=\"1\" class=\"dataframe\">\n",
       "  <thead>\n",
       "    <tr style=\"text-align: right;\">\n",
       "      <th></th>\n",
       "      <th>count</th>\n",
       "      <th>unique</th>\n",
       "      <th>top</th>\n",
       "      <th>freq</th>\n",
       "      <th>mean</th>\n",
       "      <th>std</th>\n",
       "      <th>min</th>\n",
       "      <th>25%</th>\n",
       "      <th>50%</th>\n",
       "      <th>75%</th>\n",
       "      <th>max</th>\n",
       "    </tr>\n",
       "  </thead>\n",
       "  <tbody>\n",
       "    <tr>\n",
       "      <th>id</th>\n",
       "      <td>104825</td>\n",
       "      <td>104825</td>\n",
       "      <td>1000_13</td>\n",
       "      <td>1</td>\n",
       "      <td>NaN</td>\n",
       "      <td>NaN</td>\n",
       "      <td>NaN</td>\n",
       "      <td>NaN</td>\n",
       "      <td>NaN</td>\n",
       "      <td>NaN</td>\n",
       "      <td>NaN</td>\n",
       "    </tr>\n",
       "    <tr>\n",
       "      <th>user_id</th>\n",
       "      <td>104825.0</td>\n",
       "      <td>NaN</td>\n",
       "      <td>NaN</td>\n",
       "      <td>NaN</td>\n",
       "      <td>1242.496361</td>\n",
       "      <td>142.053913</td>\n",
       "      <td>1000.0</td>\n",
       "      <td>1122.0</td>\n",
       "      <td>1236.0</td>\n",
       "      <td>1367.0</td>\n",
       "      <td>1499.0</td>\n",
       "    </tr>\n",
       "    <tr>\n",
       "      <th>session_date</th>\n",
       "      <td>104825</td>\n",
       "      <td>351</td>\n",
       "      <td>2018-12-24</td>\n",
       "      <td>851</td>\n",
       "      <td>NaN</td>\n",
       "      <td>NaN</td>\n",
       "      <td>NaN</td>\n",
       "      <td>NaN</td>\n",
       "      <td>NaN</td>\n",
       "      <td>NaN</td>\n",
       "      <td>NaN</td>\n",
       "    </tr>\n",
       "    <tr>\n",
       "      <th>mb_used</th>\n",
       "      <td>104825.0</td>\n",
       "      <td>NaN</td>\n",
       "      <td>NaN</td>\n",
       "      <td>NaN</td>\n",
       "      <td>366.713701</td>\n",
       "      <td>277.170542</td>\n",
       "      <td>0.0</td>\n",
       "      <td>136.08</td>\n",
       "      <td>343.98</td>\n",
       "      <td>554.61</td>\n",
       "      <td>1693.47</td>\n",
       "    </tr>\n",
       "  </tbody>\n",
       "</table>\n",
       "</div>"
      ],
      "text/plain": [
       "                 count  unique         top freq         mean         std  \\\n",
       "id              104825  104825     1000_13    1          NaN         NaN   \n",
       "user_id       104825.0     NaN         NaN  NaN  1242.496361  142.053913   \n",
       "session_date    104825     351  2018-12-24  851          NaN         NaN   \n",
       "mb_used       104825.0     NaN         NaN  NaN   366.713701  277.170542   \n",
       "\n",
       "                 min     25%     50%     75%      max  \n",
       "id               NaN     NaN     NaN     NaN      NaN  \n",
       "user_id       1000.0  1122.0  1236.0  1367.0   1499.0  \n",
       "session_date     NaN     NaN     NaN     NaN      NaN  \n",
       "mb_used          0.0  136.08  343.98  554.61  1693.47  "
      ]
     },
     "execution_count": 47,
     "metadata": {},
     "output_type": "execute_result"
    }
   ],
   "source": [
    "print(internet.head())\n",
    "print()\n",
    "print('*********************************')\n",
    "print()\n",
    "internet.info()\n",
    "print()\n",
    "print('*********************************')\n",
    "print()\n",
    "internet.describe(include='all').T"
   ]
  },
  {
   "cell_type": "code",
   "execution_count": 48,
   "id": "e804e471",
   "metadata": {},
   "outputs": [
    {
     "name": "stdout",
     "output_type": "stream",
     "text": [
      "12    30614\n",
      "11    24651\n",
      "10    21064\n",
      "9     16523\n",
      "8     13590\n",
      "7     11105\n",
      "6      8221\n",
      "5      5959\n",
      "4      3442\n",
      "3      1620\n",
      "2       774\n",
      "1       172\n",
      "Name: month, dtype: int64\n",
      "2018    137735\n",
      "Name: year, dtype: int64\n"
     ]
    }
   ],
   "source": [
    "internet['year']= pd.DatetimeIndex(internet['session_date']).year\n",
    "internet['month']= pd.DatetimeIndex(internet['session_date']).month       \n",
    "print(calls['month'].value_counts())\n",
    "print(calls['year'].value_counts())"
   ]
  },
  {
   "cell_type": "code",
   "execution_count": 49,
   "id": "ce1fbb2f",
   "metadata": {},
   "outputs": [
    {
     "name": "stdout",
     "output_type": "stream",
     "text": [
      "zero's at mb_used column in internet DF:\n",
      "13747\n",
      "zero's distribution at mb_used column in internet DF: 13.11%\n"
     ]
    }
   ],
   "source": [
    "print(\"zero's at mb_used column in internet DF:\")\n",
    "print(len(internet[internet['mb_used']==0]))\n",
    "print(\"zero's distribution at mb_used column in internet DF: {:.2%}\".format(len(internet[internet['mb_used']==0])/len(internet)))\n"
   ]
  },
  {
   "cell_type": "code",
   "execution_count": 51,
   "id": "d6d48d8c",
   "metadata": {},
   "outputs": [
    {
     "data": {
      "image/png": "[encoded data removed]",
      "text/plain": [
       "<Figure size 864x432 with 1 Axes>"
      ]
     },
     "metadata": {
      "needs_background": "light"
     },
     "output_type": "display_data"
    }
   ],
   "source": [
    "internet_zeros= internet[internet['mb_used']==0]\n",
    "internet_dist_table = internet_zeros.groupby(['user_id','month'])['id'].agg('count')/internet.groupby(['user_id','month'])['id'].agg('count')\n",
    "internet_dist_table= internet_dist_table.reset_index().sort_values(by='id', ascending=False)\n",
    "not_null_internet_dist_table = internet_dist_table[internet_dist_table['id'].notnull()]\n",
    "%matplotlib inline\n",
    "not_null_internet_dist_table.hist('id', bins = 50, figsize=(12,6))\n",
    "plt.title(\"0's Mb at internet distribution\")\n",
    "plt.ylabel('users with 0 at mb_used')\n",
    "plt.xlabel(\"0's per total internt\")\n",
    "plt.show()\n",
    "\n",
    "\n"
   ]
  },
  {
   "cell_type": "code",
   "execution_count": 52,
   "id": "567936bb",
   "metadata": {},
   "outputs": [
    {
     "name": "stdout",
     "output_type": "stream",
     "text": [
      "181\n"
     ]
    }
   ],
   "source": [
    "internet_users_with_no0= internet_dist_table[internet_dist_table['id'].isnull()]\n",
    "print(len(internet_users_with_no0))"
   ]
  },
  {
   "cell_type": "code",
   "execution_count": 53,
   "id": "14a86d0e",
   "metadata": {},
   "outputs": [
    {
     "name": "stdout",
     "output_type": "stream",
     "text": [
      "489\n"
     ]
    }
   ],
   "source": [
    "id_internet=internet.groupby('user_id')\n",
    "print(len(id_internet))"
   ]
  },
  {
   "cell_type": "code",
   "execution_count": 54,
   "id": "077c4015",
   "metadata": {},
   "outputs": [
    {
     "name": "stdout",
     "output_type": "stream",
     "text": [
      "12    23492\n",
      "11    18651\n",
      "10    16193\n",
      "9     12722\n",
      "8     10718\n",
      "7      8110\n",
      "6      6057\n",
      "5      4288\n",
      "4      2558\n",
      "3      1336\n",
      "2       604\n",
      "1        96\n",
      "Name: month, dtype: int64\n",
      "2018    104825\n",
      "Name: year, dtype: int64\n"
     ]
    }
   ],
   "source": [
    "#creating new columns for session year, and session mount:\n",
    "internet['year']= pd.DatetimeIndex(internet['session_date']).year\n",
    "internet['month']= pd.DatetimeIndex(internet['session_date']).month       \n",
    "print(internet['month'].value_counts())\n",
    "print(internet['year'].value_counts())"
   ]
  },
  {
   "cell_type": "code",
   "execution_count": 55,
   "id": "bd31966d",
   "metadata": {},
   "outputs": [
    {
     "data": {
      "text/html": [
       "<div>\n",
       "<style scoped>\n",
       "    .dataframe tbody tr th:only-of-type {\n",
       "        vertical-align: middle;\n",
       "    }\n",
       "\n",
       "    .dataframe tbody tr th {\n",
       "        vertical-align: top;\n",
       "    }\n",
       "\n",
       "    .dataframe thead th {\n",
       "        text-align: right;\n",
       "    }\n",
       "</style>\n",
       "<table border=\"1\" class=\"dataframe\">\n",
       "  <thead>\n",
       "    <tr style=\"text-align: right;\">\n",
       "      <th></th>\n",
       "      <th>id</th>\n",
       "      <th>user_id</th>\n",
       "      <th>session_date</th>\n",
       "      <th>mb_used</th>\n",
       "      <th>year</th>\n",
       "      <th>month</th>\n",
       "    </tr>\n",
       "  </thead>\n",
       "  <tbody>\n",
       "    <tr>\n",
       "      <th>0</th>\n",
       "      <td>1000_13</td>\n",
       "      <td>1000</td>\n",
       "      <td>2018-12-29</td>\n",
       "      <td>89.86</td>\n",
       "      <td>2018</td>\n",
       "      <td>12</td>\n",
       "    </tr>\n",
       "    <tr>\n",
       "      <th>1</th>\n",
       "      <td>1000_204</td>\n",
       "      <td>1000</td>\n",
       "      <td>2018-12-31</td>\n",
       "      <td>0.00</td>\n",
       "      <td>2018</td>\n",
       "      <td>12</td>\n",
       "    </tr>\n",
       "  </tbody>\n",
       "</table>\n",
       "</div>"
      ],
      "text/plain": [
       "         id  user_id session_date  mb_used  year  month\n",
       "0   1000_13     1000   2018-12-29    89.86  2018     12\n",
       "1  1000_204     1000   2018-12-31     0.00  2018     12"
      ]
     },
     "execution_count": 55,
     "metadata": {},
     "output_type": "execute_result"
    }
   ],
   "source": [
    "internet.head(2)"
   ]
  },
  {
   "cell_type": "markdown",
   "id": "342b1004",
   "metadata": {},
   "source": [
    "#### At the internet column:\n",
    "There are 104,825 rows who represnt data of internt useg for 489 out of 500 users. \n",
    "By the profile report we can see that there is no duplicates, and no missing values. \n",
    "There's 13.11% wich is 13,747 cells with zero's at the mb_column, who represnt 308 out of 500 users.\n",
    "From those 13,747, most users have between 2%-25%   missing values at the mb_used coulmn.\n",
    "\n",
    "I looked for the 65 and older age groups share of the total population is 16%, Im assume the 13.11 of cases can stand for people who didnt use internet at 2018.\n"
   ]
  },
  {
   "cell_type": "code",
   "execution_count": 63,
   "id": "4ba93297",
   "metadata": {},
   "outputs": [
    {
     "name": "stdout",
     "output_type": "stream",
     "text": [
      "2277\n"
     ]
    },
    {
     "data": {
      "text/html": [
       "<div>\n",
       "<style scoped>\n",
       "    .dataframe tbody tr th:only-of-type {\n",
       "        vertical-align: middle;\n",
       "    }\n",
       "\n",
       "    .dataframe tbody tr th {\n",
       "        vertical-align: top;\n",
       "    }\n",
       "\n",
       "    .dataframe thead th {\n",
       "        text-align: right;\n",
       "    }\n",
       "</style>\n",
       "<table border=\"1\" class=\"dataframe\">\n",
       "  <thead>\n",
       "    <tr style=\"text-align: right;\">\n",
       "      <th></th>\n",
       "      <th>user_id</th>\n",
       "      <th>month</th>\n",
       "      <th>gb_used</th>\n",
       "    </tr>\n",
       "  </thead>\n",
       "  <tbody>\n",
       "    <tr>\n",
       "      <th>0</th>\n",
       "      <td>1000</td>\n",
       "      <td>12</td>\n",
       "      <td>2</td>\n",
       "    </tr>\n",
       "    <tr>\n",
       "      <th>1</th>\n",
       "      <td>1001</td>\n",
       "      <td>8</td>\n",
       "      <td>7</td>\n",
       "    </tr>\n",
       "  </tbody>\n",
       "</table>\n",
       "</div>"
      ],
      "text/plain": [
       "   user_id  month  gb_used\n",
       "0     1000     12        2\n",
       "1     1001      8        7"
      ]
     },
     "execution_count": 63,
     "metadata": {},
     "output_type": "execute_result"
    }
   ],
   "source": [
    "# create summ_session table with volume of data for each user per mounth\n",
    "summ_session= internet.groupby(['user_id','month'])['mb_used'].sum().reset_index()\n",
    "# round up the internet session:\n",
    "tmp=summ_session['mb_used']/1024 \n",
    "summ_session['mb_used']= tmp.apply(math.ceil)\n",
    "summ_session.set_axis(['user_id', 'month', 'gb_used'], axis = 'columns', inplace =True)\n",
    "print(len(summ_session))\n",
    "summ_session.head(2)"
   ]
  },
  {
   "cell_type": "markdown",
   "id": "f533e61d",
   "metadata": {},
   "source": [
    "### plans table:"
   ]
  },
  {
   "cell_type": "markdown",
   "id": "48229291",
   "metadata": {},
   "source": [
    "The dataset contains the following fields:\n",
    "\n",
    "- `plan_name` - calling plan name\n",
    "- `usd_monthly_fee` -monthly charge in US dollars\n",
    "- `minutes_included` -monthly minute allowance\n",
    "- `messages_included` - monthly text allowance\n",
    "- `mb_per_month_included` -data volume allowance (in megabytes)\n",
    "- `usd_per_minute` -price per minute after exceeding the package limits (e.g., if the package includes 100 minutes, the 101st minute will be charged)\n",
    "- `usd_per_message` -price per text after exceeding the package limits\n",
    "- `usd_per_gb` -price per extra gigabyte of data after exceeding the package limits (1 GB = 1024 megabytes)"
   ]
  },
  {
   "cell_type": "code",
   "execution_count": 64,
   "id": "82217661",
   "metadata": {},
   "outputs": [
    {
     "name": "stdout",
     "output_type": "stream",
     "text": [
      "   messages_included  mb_per_month_included  minutes_included  \\\n",
      "0                 50                  15360               500   \n",
      "1               1000                  30720              3000   \n",
      "\n",
      "   usd_monthly_pay  usd_per_gb  usd_per_message  usd_per_minute plan_name  \n",
      "0               20          10             0.03            0.03      surf  \n",
      "1               70           7             0.01            0.01  ultimate  \n",
      "\n",
      "*********************************\n",
      "\n",
      "<class 'pandas.core.frame.DataFrame'>\n",
      "RangeIndex: 2 entries, 0 to 1\n",
      "Data columns (total 8 columns):\n",
      " #   Column                 Non-Null Count  Dtype  \n",
      "---  ------                 --------------  -----  \n",
      " 0   messages_included      2 non-null      int64  \n",
      " 1   mb_per_month_included  2 non-null      int64  \n",
      " 2   minutes_included       2 non-null      int64  \n",
      " 3   usd_monthly_pay        2 non-null      int64  \n",
      " 4   usd_per_gb             2 non-null      int64  \n",
      " 5   usd_per_message        2 non-null      float64\n",
      " 6   usd_per_minute         2 non-null      float64\n",
      " 7   plan_name              2 non-null      object \n",
      "dtypes: float64(2), int64(5), object(1)\n",
      "memory usage: 256.0+ bytes\n",
      "\n",
      "*********************************\n",
      "\n"
     ]
    },
    {
     "data": {
      "text/html": [
       "<div>\n",
       "<style scoped>\n",
       "    .dataframe tbody tr th:only-of-type {\n",
       "        vertical-align: middle;\n",
       "    }\n",
       "\n",
       "    .dataframe tbody tr th {\n",
       "        vertical-align: top;\n",
       "    }\n",
       "\n",
       "    .dataframe thead th {\n",
       "        text-align: right;\n",
       "    }\n",
       "</style>\n",
       "<table border=\"1\" class=\"dataframe\">\n",
       "  <thead>\n",
       "    <tr style=\"text-align: right;\">\n",
       "      <th></th>\n",
       "      <th>count</th>\n",
       "      <th>unique</th>\n",
       "      <th>top</th>\n",
       "      <th>freq</th>\n",
       "      <th>mean</th>\n",
       "      <th>std</th>\n",
       "      <th>min</th>\n",
       "      <th>25%</th>\n",
       "      <th>50%</th>\n",
       "      <th>75%</th>\n",
       "      <th>max</th>\n",
       "    </tr>\n",
       "  </thead>\n",
       "  <tbody>\n",
       "    <tr>\n",
       "      <th>messages_included</th>\n",
       "      <td>2.0</td>\n",
       "      <td>NaN</td>\n",
       "      <td>NaN</td>\n",
       "      <td>NaN</td>\n",
       "      <td>525.0</td>\n",
       "      <td>671.751442</td>\n",
       "      <td>50.0</td>\n",
       "      <td>287.5</td>\n",
       "      <td>525.0</td>\n",
       "      <td>762.5</td>\n",
       "      <td>1000.0</td>\n",
       "    </tr>\n",
       "    <tr>\n",
       "      <th>mb_per_month_included</th>\n",
       "      <td>2.0</td>\n",
       "      <td>NaN</td>\n",
       "      <td>NaN</td>\n",
       "      <td>NaN</td>\n",
       "      <td>23040.0</td>\n",
       "      <td>10861.160159</td>\n",
       "      <td>15360.0</td>\n",
       "      <td>19200.0</td>\n",
       "      <td>23040.0</td>\n",
       "      <td>26880.0</td>\n",
       "      <td>30720.0</td>\n",
       "    </tr>\n",
       "    <tr>\n",
       "      <th>minutes_included</th>\n",
       "      <td>2.0</td>\n",
       "      <td>NaN</td>\n",
       "      <td>NaN</td>\n",
       "      <td>NaN</td>\n",
       "      <td>1750.0</td>\n",
       "      <td>1767.766953</td>\n",
       "      <td>500.0</td>\n",
       "      <td>1125.0</td>\n",
       "      <td>1750.0</td>\n",
       "      <td>2375.0</td>\n",
       "      <td>3000.0</td>\n",
       "    </tr>\n",
       "    <tr>\n",
       "      <th>usd_monthly_pay</th>\n",
       "      <td>2.0</td>\n",
       "      <td>NaN</td>\n",
       "      <td>NaN</td>\n",
       "      <td>NaN</td>\n",
       "      <td>45.0</td>\n",
       "      <td>35.355339</td>\n",
       "      <td>20.0</td>\n",
       "      <td>32.5</td>\n",
       "      <td>45.0</td>\n",
       "      <td>57.5</td>\n",
       "      <td>70.0</td>\n",
       "    </tr>\n",
       "    <tr>\n",
       "      <th>usd_per_gb</th>\n",
       "      <td>2.0</td>\n",
       "      <td>NaN</td>\n",
       "      <td>NaN</td>\n",
       "      <td>NaN</td>\n",
       "      <td>8.5</td>\n",
       "      <td>2.12132</td>\n",
       "      <td>7.0</td>\n",
       "      <td>7.75</td>\n",
       "      <td>8.5</td>\n",
       "      <td>9.25</td>\n",
       "      <td>10.0</td>\n",
       "    </tr>\n",
       "    <tr>\n",
       "      <th>usd_per_message</th>\n",
       "      <td>2.0</td>\n",
       "      <td>NaN</td>\n",
       "      <td>NaN</td>\n",
       "      <td>NaN</td>\n",
       "      <td>0.02</td>\n",
       "      <td>0.014142</td>\n",
       "      <td>0.01</td>\n",
       "      <td>0.015</td>\n",
       "      <td>0.02</td>\n",
       "      <td>0.025</td>\n",
       "      <td>0.03</td>\n",
       "    </tr>\n",
       "    <tr>\n",
       "      <th>usd_per_minute</th>\n",
       "      <td>2.0</td>\n",
       "      <td>NaN</td>\n",
       "      <td>NaN</td>\n",
       "      <td>NaN</td>\n",
       "      <td>0.02</td>\n",
       "      <td>0.014142</td>\n",
       "      <td>0.01</td>\n",
       "      <td>0.015</td>\n",
       "      <td>0.02</td>\n",
       "      <td>0.025</td>\n",
       "      <td>0.03</td>\n",
       "    </tr>\n",
       "    <tr>\n",
       "      <th>plan_name</th>\n",
       "      <td>2</td>\n",
       "      <td>2</td>\n",
       "      <td>surf</td>\n",
       "      <td>1</td>\n",
       "      <td>NaN</td>\n",
       "      <td>NaN</td>\n",
       "      <td>NaN</td>\n",
       "      <td>NaN</td>\n",
       "      <td>NaN</td>\n",
       "      <td>NaN</td>\n",
       "      <td>NaN</td>\n",
       "    </tr>\n",
       "  </tbody>\n",
       "</table>\n",
       "</div>"
      ],
      "text/plain": [
       "                      count unique   top freq     mean           std      min  \\\n",
       "messages_included       2.0    NaN   NaN  NaN    525.0    671.751442     50.0   \n",
       "mb_per_month_included   2.0    NaN   NaN  NaN  23040.0  10861.160159  15360.0   \n",
       "minutes_included        2.0    NaN   NaN  NaN   1750.0   1767.766953    500.0   \n",
       "usd_monthly_pay         2.0    NaN   NaN  NaN     45.0     35.355339     20.0   \n",
       "usd_per_gb              2.0    NaN   NaN  NaN      8.5       2.12132      7.0   \n",
       "usd_per_message         2.0    NaN   NaN  NaN     0.02      0.014142     0.01   \n",
       "usd_per_minute          2.0    NaN   NaN  NaN     0.02      0.014142     0.01   \n",
       "plan_name                 2      2  surf    1      NaN           NaN      NaN   \n",
       "\n",
       "                           25%      50%      75%      max  \n",
       "messages_included        287.5    525.0    762.5   1000.0  \n",
       "mb_per_month_included  19200.0  23040.0  26880.0  30720.0  \n",
       "minutes_included        1125.0   1750.0   2375.0   3000.0  \n",
       "usd_monthly_pay           32.5     45.0     57.5     70.0  \n",
       "usd_per_gb                7.75      8.5     9.25     10.0  \n",
       "usd_per_message          0.015     0.02    0.025     0.03  \n",
       "usd_per_minute           0.015     0.02    0.025     0.03  \n",
       "plan_name                  NaN      NaN      NaN      NaN  "
      ]
     },
     "execution_count": 64,
     "metadata": {},
     "output_type": "execute_result"
    }
   ],
   "source": [
    "print(plans.head())\n",
    "print()\n",
    "print('*********************************')\n",
    "print()\n",
    "plans.info()\n",
    "print()\n",
    "print('*********************************')\n",
    "print()\n",
    "plans.describe(include='all').T"
   ]
  },
  {
   "cell_type": "markdown",
   "id": "035b3d75",
   "metadata": {},
   "source": [
    "### creating a merged table:"
   ]
  },
  {
   "cell_type": "code",
   "execution_count": 65,
   "id": "a62217bc",
   "metadata": {},
   "outputs": [
    {
     "name": "stdout",
     "output_type": "stream",
     "text": [
      "<class 'pandas.core.frame.DataFrame'>\n",
      "Int64Index: 2293 entries, 0 to 2292\n",
      "Data columns (total 6 columns):\n",
      " #   Column          Non-Null Count  Dtype  \n",
      "---  ------          --------------  -----  \n",
      " 0   user_id         2293 non-null   int64  \n",
      " 1   month           2293 non-null   int64  \n",
      " 2   gb_used         2293 non-null   float64\n",
      " 3   calls           2293 non-null   float64\n",
      " 4   calls_duration  2293 non-null   float64\n",
      " 5   messages        2293 non-null   float64\n",
      "dtypes: float64(4), int64(2)\n",
      "memory usage: 125.4 KB\n"
     ]
    },
    {
     "data": {
      "text/html": [
       "<div>\n",
       "<style scoped>\n",
       "    .dataframe tbody tr th:only-of-type {\n",
       "        vertical-align: middle;\n",
       "    }\n",
       "\n",
       "    .dataframe tbody tr th {\n",
       "        vertical-align: top;\n",
       "    }\n",
       "\n",
       "    .dataframe thead th {\n",
       "        text-align: right;\n",
       "    }\n",
       "</style>\n",
       "<table border=\"1\" class=\"dataframe\">\n",
       "  <thead>\n",
       "    <tr style=\"text-align: right;\">\n",
       "      <th></th>\n",
       "      <th>user_id</th>\n",
       "      <th>month</th>\n",
       "      <th>gb_used</th>\n",
       "      <th>calls</th>\n",
       "      <th>calls_duration</th>\n",
       "      <th>messages</th>\n",
       "    </tr>\n",
       "  </thead>\n",
       "  <tbody>\n",
       "    <tr>\n",
       "      <th>0</th>\n",
       "      <td>1000</td>\n",
       "      <td>12</td>\n",
       "      <td>2.0</td>\n",
       "      <td>16.0</td>\n",
       "      <td>124.0</td>\n",
       "      <td>11.0</td>\n",
       "    </tr>\n",
       "    <tr>\n",
       "      <th>1</th>\n",
       "      <td>1001</td>\n",
       "      <td>8</td>\n",
       "      <td>7.0</td>\n",
       "      <td>27.0</td>\n",
       "      <td>182.0</td>\n",
       "      <td>30.0</td>\n",
       "    </tr>\n",
       "    <tr>\n",
       "      <th>2</th>\n",
       "      <td>1001</td>\n",
       "      <td>9</td>\n",
       "      <td>14.0</td>\n",
       "      <td>49.0</td>\n",
       "      <td>315.0</td>\n",
       "      <td>44.0</td>\n",
       "    </tr>\n",
       "    <tr>\n",
       "      <th>3</th>\n",
       "      <td>1001</td>\n",
       "      <td>10</td>\n",
       "      <td>22.0</td>\n",
       "      <td>65.0</td>\n",
       "      <td>393.0</td>\n",
       "      <td>53.0</td>\n",
       "    </tr>\n",
       "    <tr>\n",
       "      <th>4</th>\n",
       "      <td>1001</td>\n",
       "      <td>11</td>\n",
       "      <td>19.0</td>\n",
       "      <td>64.0</td>\n",
       "      <td>426.0</td>\n",
       "      <td>36.0</td>\n",
       "    </tr>\n",
       "  </tbody>\n",
       "</table>\n",
       "</div>"
      ],
      "text/plain": [
       "   user_id  month  gb_used  calls  calls_duration  messages\n",
       "0     1000     12      2.0   16.0           124.0      11.0\n",
       "1     1001      8      7.0   27.0           182.0      30.0\n",
       "2     1001      9     14.0   49.0           315.0      44.0\n",
       "3     1001     10     22.0   65.0           393.0      53.0\n",
       "4     1001     11     19.0   64.0           426.0      36.0"
      ]
     },
     "execution_count": 65,
     "metadata": {},
     "output_type": "execute_result"
    }
   ],
   "source": [
    "total1= pd.merge(left = summ_session , \n",
    "                right = summ_calls, how='outer',on=['user_id', 'month']).fillna(0)\n",
    "merge_data=pd.merge(left = total1 , \n",
    "                right = summ_messages, how='outer',on=['user_id', 'month']).fillna(0)\n",
    "merge_data.info()\n",
    "merge_data.head()"
   ]
  },
  {
   "cell_type": "code",
   "execution_count": 66,
   "id": "edcc86ab",
   "metadata": {},
   "outputs": [
    {
     "data": {
      "text/html": [
       "<div>\n",
       "<style scoped>\n",
       "    .dataframe tbody tr th:only-of-type {\n",
       "        vertical-align: middle;\n",
       "    }\n",
       "\n",
       "    .dataframe tbody tr th {\n",
       "        vertical-align: top;\n",
       "    }\n",
       "\n",
       "    .dataframe thead th {\n",
       "        text-align: right;\n",
       "    }\n",
       "</style>\n",
       "<table border=\"1\" class=\"dataframe\">\n",
       "  <thead>\n",
       "    <tr style=\"text-align: right;\">\n",
       "      <th></th>\n",
       "      <th>user_id</th>\n",
       "      <th>month</th>\n",
       "      <th>gb_used</th>\n",
       "      <th>calls</th>\n",
       "      <th>calls_duration</th>\n",
       "      <th>messages</th>\n",
       "      <th>plan</th>\n",
       "    </tr>\n",
       "  </thead>\n",
       "  <tbody>\n",
       "    <tr>\n",
       "      <th>0</th>\n",
       "      <td>1000</td>\n",
       "      <td>12</td>\n",
       "      <td>2.0</td>\n",
       "      <td>16.0</td>\n",
       "      <td>124.0</td>\n",
       "      <td>11.0</td>\n",
       "      <td>ultimate</td>\n",
       "    </tr>\n",
       "    <tr>\n",
       "      <th>1</th>\n",
       "      <td>1001</td>\n",
       "      <td>8</td>\n",
       "      <td>7.0</td>\n",
       "      <td>27.0</td>\n",
       "      <td>182.0</td>\n",
       "      <td>30.0</td>\n",
       "      <td>surf</td>\n",
       "    </tr>\n",
       "    <tr>\n",
       "      <th>2</th>\n",
       "      <td>1001</td>\n",
       "      <td>9</td>\n",
       "      <td>14.0</td>\n",
       "      <td>49.0</td>\n",
       "      <td>315.0</td>\n",
       "      <td>44.0</td>\n",
       "      <td>surf</td>\n",
       "    </tr>\n",
       "    <tr>\n",
       "      <th>3</th>\n",
       "      <td>1001</td>\n",
       "      <td>10</td>\n",
       "      <td>22.0</td>\n",
       "      <td>65.0</td>\n",
       "      <td>393.0</td>\n",
       "      <td>53.0</td>\n",
       "      <td>surf</td>\n",
       "    </tr>\n",
       "    <tr>\n",
       "      <th>4</th>\n",
       "      <td>1001</td>\n",
       "      <td>11</td>\n",
       "      <td>19.0</td>\n",
       "      <td>64.0</td>\n",
       "      <td>426.0</td>\n",
       "      <td>36.0</td>\n",
       "      <td>surf</td>\n",
       "    </tr>\n",
       "    <tr>\n",
       "      <th>...</th>\n",
       "      <td>...</td>\n",
       "      <td>...</td>\n",
       "      <td>...</td>\n",
       "      <td>...</td>\n",
       "      <td>...</td>\n",
       "      <td>...</td>\n",
       "      <td>...</td>\n",
       "    </tr>\n",
       "    <tr>\n",
       "      <th>2288</th>\n",
       "      <td>1470</td>\n",
       "      <td>11</td>\n",
       "      <td>0.0</td>\n",
       "      <td>81.0</td>\n",
       "      <td>632.0</td>\n",
       "      <td>156.0</td>\n",
       "      <td>surf</td>\n",
       "    </tr>\n",
       "    <tr>\n",
       "      <th>2289</th>\n",
       "      <td>1470</td>\n",
       "      <td>12</td>\n",
       "      <td>0.0</td>\n",
       "      <td>78.0</td>\n",
       "      <td>592.0</td>\n",
       "      <td>153.0</td>\n",
       "      <td>surf</td>\n",
       "    </tr>\n",
       "    <tr>\n",
       "      <th>2290</th>\n",
       "      <td>1484</td>\n",
       "      <td>11</td>\n",
       "      <td>0.0</td>\n",
       "      <td>2.0</td>\n",
       "      <td>38.0</td>\n",
       "      <td>1.0</td>\n",
       "      <td>surf</td>\n",
       "    </tr>\n",
       "    <tr>\n",
       "      <th>2291</th>\n",
       "      <td>1491</td>\n",
       "      <td>4</td>\n",
       "      <td>0.0</td>\n",
       "      <td>8.0</td>\n",
       "      <td>44.0</td>\n",
       "      <td>6.0</td>\n",
       "      <td>surf</td>\n",
       "    </tr>\n",
       "    <tr>\n",
       "      <th>2292</th>\n",
       "      <td>1482</td>\n",
       "      <td>10</td>\n",
       "      <td>0.0</td>\n",
       "      <td>0.0</td>\n",
       "      <td>0.0</td>\n",
       "      <td>2.0</td>\n",
       "      <td>ultimate</td>\n",
       "    </tr>\n",
       "  </tbody>\n",
       "</table>\n",
       "<p>2293 rows × 7 columns</p>\n",
       "</div>"
      ],
      "text/plain": [
       "      user_id  month  gb_used  calls  calls_duration  messages      plan\n",
       "0        1000     12      2.0   16.0           124.0      11.0  ultimate\n",
       "1        1001      8      7.0   27.0           182.0      30.0      surf\n",
       "2        1001      9     14.0   49.0           315.0      44.0      surf\n",
       "3        1001     10     22.0   65.0           393.0      53.0      surf\n",
       "4        1001     11     19.0   64.0           426.0      36.0      surf\n",
       "...       ...    ...      ...    ...             ...       ...       ...\n",
       "2288     1470     11      0.0   81.0           632.0     156.0      surf\n",
       "2289     1470     12      0.0   78.0           592.0     153.0      surf\n",
       "2290     1484     11      0.0    2.0            38.0       1.0      surf\n",
       "2291     1491      4      0.0    8.0            44.0       6.0      surf\n",
       "2292     1482     10      0.0    0.0             0.0       2.0  ultimate\n",
       "\n",
       "[2293 rows x 7 columns]"
      ]
     },
     "execution_count": 66,
     "metadata": {},
     "output_type": "execute_result"
    }
   ],
   "source": [
    "#create plan column in merge_data:\n",
    "user_plan=dict(zip(users.user_id, users.plan))\n",
    "merge_data['plan'] = merge_data['user_id']\n",
    "merge_data = merge_data.replace({'plan': user_plan}) \n",
    "merge_data\n"
   ]
  },
  {
   "cell_type": "code",
   "execution_count": 67,
   "id": "c1e62acf",
   "metadata": {},
   "outputs": [
    {
     "data": {
      "text/plain": [
       "surf        1573\n",
       "ultimate     720\n",
       "Name: plan, dtype: int64"
      ]
     },
     "execution_count": 67,
     "metadata": {},
     "output_type": "execute_result"
    }
   ],
   "source": [
    "# chack if everything ok:\n",
    "merge_data['plan'].value_counts()"
   ]
  },
  {
   "cell_type": "code",
   "execution_count": 68,
   "id": "af66a00f",
   "metadata": {},
   "outputs": [],
   "source": [
    "# drfine new function to calculate revenue for every row:\n",
    "def calc_revenue(merge_data):\n",
    "    plan = merge_data['plan']\n",
    "    messages = merge_data['messages']\n",
    "    calls_duration = merge_data['calls_duration']\n",
    "    gb_used = merge_data['gb_used']\n",
    "    \n",
    "    if  plan == 'surf':\n",
    "        revenue = 20\n",
    "        if messages > 50:\n",
    "            revenue += ((messages- 50)*0.003)\n",
    "        if calls_duration> 500:\n",
    "            revenue += ((calls_duration- 500)*0.03)\n",
    "        if gb_used > 15:\n",
    "            revenue += ((gb_used- 15)*10 )\n",
    "    elif plan == 'ultimate':\n",
    "        revenue = 70\n",
    "        if messages > 1000:\n",
    "            revenue += ((messages- 1000)*1)\n",
    "        if calls_duration> 3000:\n",
    "            revenue += ((calls_duration- 3000)*1)\n",
    "        if gb_used > 30:\n",
    "            revenue += ((gb_used- 15)*7 ) \n",
    "    return revenue"
   ]
  },
  {
   "cell_type": "code",
   "execution_count": 69,
   "id": "1049c4ba",
   "metadata": {},
   "outputs": [
    {
     "name": "stdout",
     "output_type": "stream",
     "text": [
      "<class 'pandas.core.frame.DataFrame'>\n",
      "Int64Index: 2293 entries, 0 to 2292\n",
      "Data columns (total 8 columns):\n",
      " #   Column          Non-Null Count  Dtype  \n",
      "---  ------          --------------  -----  \n",
      " 0   user_id         2293 non-null   int64  \n",
      " 1   month           2293 non-null   int64  \n",
      " 2   gb_used         2293 non-null   float64\n",
      " 3   calls           2293 non-null   float64\n",
      " 4   calls_duration  2293 non-null   float64\n",
      " 5   messages        2293 non-null   float64\n",
      " 6   plan            2293 non-null   object \n",
      " 7   revenue         2293 non-null   float64\n",
      "dtypes: float64(5), int64(2), object(1)\n",
      "memory usage: 161.2+ KB\n"
     ]
    },
    {
     "data": {
      "text/html": [
       "<div>\n",
       "<style scoped>\n",
       "    .dataframe tbody tr th:only-of-type {\n",
       "        vertical-align: middle;\n",
       "    }\n",
       "\n",
       "    .dataframe tbody tr th {\n",
       "        vertical-align: top;\n",
       "    }\n",
       "\n",
       "    .dataframe thead th {\n",
       "        text-align: right;\n",
       "    }\n",
       "</style>\n",
       "<table border=\"1\" class=\"dataframe\">\n",
       "  <thead>\n",
       "    <tr style=\"text-align: right;\">\n",
       "      <th></th>\n",
       "      <th>user_id</th>\n",
       "      <th>month</th>\n",
       "      <th>gb_used</th>\n",
       "      <th>calls</th>\n",
       "      <th>calls_duration</th>\n",
       "      <th>messages</th>\n",
       "      <th>plan</th>\n",
       "      <th>revenue</th>\n",
       "    </tr>\n",
       "  </thead>\n",
       "  <tbody>\n",
       "    <tr>\n",
       "      <th>0</th>\n",
       "      <td>1000</td>\n",
       "      <td>12</td>\n",
       "      <td>2.0</td>\n",
       "      <td>16.0</td>\n",
       "      <td>124.0</td>\n",
       "      <td>11.0</td>\n",
       "      <td>ultimate</td>\n",
       "      <td>70.000</td>\n",
       "    </tr>\n",
       "    <tr>\n",
       "      <th>1</th>\n",
       "      <td>1001</td>\n",
       "      <td>8</td>\n",
       "      <td>7.0</td>\n",
       "      <td>27.0</td>\n",
       "      <td>182.0</td>\n",
       "      <td>30.0</td>\n",
       "      <td>surf</td>\n",
       "      <td>20.000</td>\n",
       "    </tr>\n",
       "    <tr>\n",
       "      <th>2</th>\n",
       "      <td>1001</td>\n",
       "      <td>9</td>\n",
       "      <td>14.0</td>\n",
       "      <td>49.0</td>\n",
       "      <td>315.0</td>\n",
       "      <td>44.0</td>\n",
       "      <td>surf</td>\n",
       "      <td>20.000</td>\n",
       "    </tr>\n",
       "    <tr>\n",
       "      <th>3</th>\n",
       "      <td>1001</td>\n",
       "      <td>10</td>\n",
       "      <td>22.0</td>\n",
       "      <td>65.0</td>\n",
       "      <td>393.0</td>\n",
       "      <td>53.0</td>\n",
       "      <td>surf</td>\n",
       "      <td>90.009</td>\n",
       "    </tr>\n",
       "    <tr>\n",
       "      <th>4</th>\n",
       "      <td>1001</td>\n",
       "      <td>11</td>\n",
       "      <td>19.0</td>\n",
       "      <td>64.0</td>\n",
       "      <td>426.0</td>\n",
       "      <td>36.0</td>\n",
       "      <td>surf</td>\n",
       "      <td>60.000</td>\n",
       "    </tr>\n",
       "  </tbody>\n",
       "</table>\n",
       "</div>"
      ],
      "text/plain": [
       "   user_id  month  gb_used  calls  calls_duration  messages      plan  revenue\n",
       "0     1000     12      2.0   16.0           124.0      11.0  ultimate   70.000\n",
       "1     1001      8      7.0   27.0           182.0      30.0      surf   20.000\n",
       "2     1001      9     14.0   49.0           315.0      44.0      surf   20.000\n",
       "3     1001     10     22.0   65.0           393.0      53.0      surf   90.009\n",
       "4     1001     11     19.0   64.0           426.0      36.0      surf   60.000"
      ]
     },
     "execution_count": 69,
     "metadata": {},
     "output_type": "execute_result"
    }
   ],
   "source": [
    "# create new colume with revenue for every month:\n",
    "merge_data['revenue']= merge_data.apply(calc_revenue, axis=1) \n",
    "# check if everything ok: \n",
    "merge_data.info()\n",
    "merge_data.head()"
   ]
  },
  {
   "cell_type": "code",
   "execution_count": 70,
   "id": "167d04e5",
   "metadata": {},
   "outputs": [
    {
     "data": {
      "text/plain": [
       "plan\n",
       "surf        95193.343\n",
       "ultimate    56371.000\n",
       "Name: revenue, dtype: float64"
      ]
     },
     "execution_count": 70,
     "metadata": {},
     "output_type": "execute_result"
    }
   ],
   "source": [
    "merge_data.groupby('plan')['revenue'].sum()"
   ]
  },
  {
   "cell_type": "code",
   "execution_count": 71,
   "id": "53283099",
   "metadata": {},
   "outputs": [
    {
     "data": {
      "text/plain": [
       "surf        1573\n",
       "ultimate     720\n",
       "Name: plan, dtype: int64"
      ]
     },
     "execution_count": 71,
     "metadata": {},
     "output_type": "execute_result"
    }
   ],
   "source": [
    "merge_data['plan'].value_counts()"
   ]
  },
  {
   "cell_type": "code",
   "execution_count": 72,
   "id": "82fdba6a",
   "metadata": {},
   "outputs": [
    {
     "data": {
      "text/plain": [
       "plan\n",
       "surf        60.517065\n",
       "ultimate    78.293056\n",
       "dtype: float64"
      ]
     },
     "execution_count": 72,
     "metadata": {},
     "output_type": "execute_result"
    }
   ],
   "source": [
    "merge_data.groupby('plan')['revenue'].sum()/merge_data['plan'].value_counts()"
   ]
  },
  {
   "cell_type": "markdown",
   "id": "36cfaf0d",
   "metadata": {},
   "source": [
    "obviously ultimate cost more, but surf brings larger revenue.  "
   ]
  },
  {
   "cell_type": "markdown",
   "id": "32b38c56",
   "metadata": {},
   "source": [
    "## Step 3. Analyze the data:"
   ]
  },
  {
   "cell_type": "code",
   "execution_count": 73,
   "id": "dbb25d3c",
   "metadata": {},
   "outputs": [],
   "source": [
    "#surf users:\n",
    "surf_users = merge_data.query('plan == \"surf\"')\n",
    "\n",
    "# ultimate users:\n",
    "ultimate_users = merge_data.query('plan == \"ultimate\"')"
   ]
  },
  {
   "cell_type": "code",
   "execution_count": 96,
   "id": "938bf84f",
   "metadata": {},
   "outputs": [
    {
     "name": "stderr",
     "output_type": "stream",
     "text": [
      "C:\\Users\\evyatar\\anaconda3\\lib\\site-packages\\seaborn\\distributions.py:2619: FutureWarning: `distplot` is a deprecated function and will be removed in a future version. Please adapt your code to use either `displot` (a figure-level function with similar flexibility) or `histplot` (an axes-level function for histograms).\n",
      "  warnings.warn(msg, FutureWarning)\n",
      "C:\\Users\\evyatar\\anaconda3\\lib\\site-packages\\seaborn\\distributions.py:2619: FutureWarning: `distplot` is a deprecated function and will be removed in a future version. Please adapt your code to use either `displot` (a figure-level function with similar flexibility) or `histplot` (an axes-level function for histograms).\n",
      "  warnings.warn(msg, FutureWarning)\n"
     ]
    },
    {
     "name": "stdout",
     "output_type": "stream",
     "text": [
      "surf minutes mean:  428.7495232040687\n",
      "surf minutes variance:  54933.334591317405\n",
      "surf minutes standard deviation:  234.3786137669506\n",
      "most data can be found in this range:  (-274.3863180967831, 1131.8853645049205)\n",
      "\n",
      "ultimate minutes mean:  430.45\n",
      "ultimate minutes variance:  57764.12527777776\n",
      "ultimate minutes standard deviation:  234.3786137669506\n",
      "most data can be found in this range:  (-272.6858413008518, 1133.5858413008518)\n"
     ]
    },
    {
     "data": {
      "image/png": "[encoded data removed]",
      "text/plain": [
       "<Figure size 1152x360 with 2 Axes>"
      ]
     },
     "metadata": {
      "needs_background": "light"
     },
     "output_type": "display_data"
    }
   ],
   "source": [
    "# Create one row with 2 columns\n",
    "fig, axes = plt.subplots(1, 2, figsize=(16, 5))\n",
    "\n",
    "# Create a histogram for the surf plan\n",
    "sns.distplot(surf_users['calls_duration'],ax=axes[0], axlabel ='surf call duration')\n",
    "\n",
    "# Create a histogram for the second plan\n",
    "sns.distplot(ultimate_users['calls_duration'], ax=axes[1], axlabel ='ultimate call duration')\n",
    "\n",
    "# surf minutes: \n",
    "surf_minutes_mean =  surf_users['calls_duration'].mean()\n",
    "surf_minutes_variance = np.var(surf_users['calls_duration'])\n",
    "surf_minutes_std = np.sqrt(surf_minutes_variance)\n",
    "\n",
    "print('surf minutes mean: ', surf_minutes_mean)\n",
    "print('surf minutes variance: ', surf_minutes_variance)\n",
    "print( 'surf minutes standard deviation: ', surf_minutes_std)\n",
    "print('most data can be found in this range: ', \n",
    "      (surf_minutes_mean- 3*surf_minutes_std, surf_minutes_mean + 3*surf_minutes_std))\n",
    "print()\n",
    "# ultimate minutes: \n",
    "ultimate_minutes_mean =  ultimate_users['calls_duration'].mean()\n",
    "ultimate_minutes_variance = np.var(ultimate_users['calls_duration'])\n",
    "ultimate_minutes_std = np.sqrt(surf_minutes_variance)\n",
    "\n",
    "print('ultimate minutes mean: ', ultimate_minutes_mean)\n",
    "print('ultimate minutes variance: ', ultimate_minutes_variance)\n",
    "print('ultimate minutes standard deviation: ', ultimate_minutes_std)\n",
    "print('most data can be found in this range: ', \n",
    "      (ultimate_minutes_mean- 3*ultimate_minutes_std, ultimate_minutes_mean + 3*ultimate_minutes_std))\n"
   ]
  },
  {
   "cell_type": "markdown",
   "id": "afb7966f",
   "metadata": {},
   "source": [
    " by comparing between calls distribution for \"surf\" and \"ultimate\" plans, we can se that two groups acting similarly, \n",
    " the mean and standard diviation almost the same, the \"ultimate\" plan has slightly higher value."
   ]
  },
  {
   "cell_type": "code",
   "execution_count": 97,
   "id": "13758f1e",
   "metadata": {},
   "outputs": [
    {
     "name": "stdout",
     "output_type": "stream",
     "text": [
      "surf messages mean:  31.15956770502225\n",
      "surf messages variance:  1126.0082317266638\n",
      "surf messages standard deviation:  33.556046127734774\n",
      "most data can be found in this range:  (-69.50857067818207, 131.82770608822656)\n",
      "\n",
      "ultimate messages mean:  37.55138888888889\n",
      "ultimate messages variance:  1207.0779147376504\n",
      "ultimate messages standard deviation:  34.74302685054442\n",
      "most data can be found in this range:  (-66.67769166274437, 141.78046944052213)\n"
     ]
    },
    {
     "name": "stderr",
     "output_type": "stream",
     "text": [
      "C:\\Users\\evyatar\\anaconda3\\lib\\site-packages\\seaborn\\distributions.py:2619: FutureWarning: `distplot` is a deprecated function and will be removed in a future version. Please adapt your code to use either `displot` (a figure-level function with similar flexibility) or `histplot` (an axes-level function for histograms).\n",
      "  warnings.warn(msg, FutureWarning)\n",
      "C:\\Users\\evyatar\\anaconda3\\lib\\site-packages\\seaborn\\distributions.py:2619: FutureWarning: `distplot` is a deprecated function and will be removed in a future version. Please adapt your code to use either `displot` (a figure-level function with similar flexibility) or `histplot` (an axes-level function for histograms).\n",
      "  warnings.warn(msg, FutureWarning)\n"
     ]
    },
    {
     "data": {
      "text/html": [
       "<div>\n",
       "<style scoped>\n",
       "    .dataframe tbody tr th:only-of-type {\n",
       "        vertical-align: middle;\n",
       "    }\n",
       "\n",
       "    .dataframe tbody tr th {\n",
       "        vertical-align: top;\n",
       "    }\n",
       "\n",
       "    .dataframe thead th {\n",
       "        text-align: right;\n",
       "    }\n",
       "</style>\n",
       "<table border=\"1\" class=\"dataframe\">\n",
       "  <thead>\n",
       "    <tr style=\"text-align: right;\">\n",
       "      <th></th>\n",
       "      <th>messages_included</th>\n",
       "      <th>mb_per_month_included</th>\n",
       "      <th>minutes_included</th>\n",
       "      <th>usd_monthly_pay</th>\n",
       "      <th>usd_per_gb</th>\n",
       "      <th>usd_per_message</th>\n",
       "      <th>usd_per_minute</th>\n",
       "      <th>plan_name</th>\n",
       "    </tr>\n",
       "  </thead>\n",
       "  <tbody>\n",
       "    <tr>\n",
       "      <th>0</th>\n",
       "      <td>50</td>\n",
       "      <td>15360</td>\n",
       "      <td>500</td>\n",
       "      <td>20</td>\n",
       "      <td>10</td>\n",
       "      <td>0.03</td>\n",
       "      <td>0.03</td>\n",
       "      <td>surf</td>\n",
       "    </tr>\n",
       "    <tr>\n",
       "      <th>1</th>\n",
       "      <td>1000</td>\n",
       "      <td>30720</td>\n",
       "      <td>3000</td>\n",
       "      <td>70</td>\n",
       "      <td>7</td>\n",
       "      <td>0.01</td>\n",
       "      <td>0.01</td>\n",
       "      <td>ultimate</td>\n",
       "    </tr>\n",
       "  </tbody>\n",
       "</table>\n",
       "</div>"
      ],
      "text/plain": [
       "   messages_included  mb_per_month_included  minutes_included  \\\n",
       "0                 50                  15360               500   \n",
       "1               1000                  30720              3000   \n",
       "\n",
       "   usd_monthly_pay  usd_per_gb  usd_per_message  usd_per_minute plan_name  \n",
       "0               20          10             0.03            0.03      surf  \n",
       "1               70           7             0.01            0.01  ultimate  "
      ]
     },
     "execution_count": 97,
     "metadata": {},
     "output_type": "execute_result"
    },
    {
     "data": {
      "image/png": "[encoded data removed]",
      "text/plain": [
       "<Figure size 1152x360 with 2 Axes>"
      ]
     },
     "metadata": {
      "needs_background": "light"
     },
     "output_type": "display_data"
    }
   ],
   "source": [
    "# Create one row with 2 columns\n",
    "fig, axes = plt.subplots(1, 2, figsize=(16, 5))\n",
    "\n",
    "# Create a histogram for the surf plan\n",
    "sns.distplot(surf_users['messages'],ax=axes[0], axlabel ='surf messages')\n",
    "\n",
    "# Create a histogram for the second plan\n",
    "sns.distplot(ultimate_users['messages'], ax=axes[1], axlabel ='ultimate messages')\n",
    "\n",
    "# surf text: \n",
    "surf_messages_mean =  surf_users['messages'].mean()\n",
    "surf_messages_variance = np.var(surf_users['messages'])\n",
    "surf_messages_std = np.sqrt(surf_messages_variance)\n",
    "\n",
    "print('surf messages mean: ', surf_messages_mean)\n",
    "print('surf messages variance: ', surf_messages_variance)\n",
    "print( 'surf messages standard deviation: ', surf_messages_std)\n",
    "print('most data can be found in this range: ', \n",
    "      (surf_messages_mean- 3*surf_messages_std, surf_messages_mean + 3*surf_messages_std))\n",
    "print()\n",
    "# ultimate text:\n",
    "ultimate_messages_mean =  ultimate_users['messages'].mean()\n",
    "ultimate_messages_variance = np.var(ultimate_users['messages'])\n",
    "ultimate_messages_std = np.sqrt(ultimate_messages_variance)\n",
    "\n",
    "print('ultimate messages mean: ', ultimate_messages_mean)\n",
    "print('ultimate messages variance: ', ultimate_messages_variance)\n",
    "print('ultimate messages standard deviation: ', ultimate_messages_std)\n",
    "print('most data can be found in this range: ', \n",
    "      (ultimate_messages_mean- 3*ultimate_messages_std, ultimate_messages_mean + 3*ultimate_messages_std))\n",
    "\n",
    "plans"
   ]
  },
  {
   "cell_type": "markdown",
   "id": "76694162",
   "metadata": {},
   "source": [
    " by comparing between massages distribution for \"surf\" and \"ultimate\" plans, we can se that two groups acting similarly, \n",
    " the mean and standard diviation have slightly higher value for the \"ultimate\" plan."
   ]
  },
  {
   "cell_type": "code",
   "execution_count": 98,
   "id": "ca2162fd",
   "metadata": {},
   "outputs": [
    {
     "name": "stdout",
     "output_type": "stream",
     "text": [
      "surf internet volume mean:  16.670692943420217\n",
      "surf internet volume variance:  61.54444942447026\n",
      "surf internet volume standard deviation:  7.845027050588816\n",
      "most data can be found in this range:  (-6.864388208346231, 40.20577409518667)\n",
      "\n",
      "ultimate internet volume mean:  17.306944444444444\n",
      "ultimate internet volume variance:  58.748840663580125\n",
      "ultimate internet volume standard deviation:  7.66477923123557\n",
      "most data can be found in this range:  (-5.687393249262264, 40.30128213815115)\n"
     ]
    },
    {
     "name": "stderr",
     "output_type": "stream",
     "text": [
      "C:\\Users\\evyatar\\anaconda3\\lib\\site-packages\\seaborn\\distributions.py:2619: FutureWarning: `distplot` is a deprecated function and will be removed in a future version. Please adapt your code to use either `displot` (a figure-level function with similar flexibility) or `histplot` (an axes-level function for histograms).\n",
      "  warnings.warn(msg, FutureWarning)\n",
      "C:\\Users\\evyatar\\anaconda3\\lib\\site-packages\\seaborn\\distributions.py:2619: FutureWarning: `distplot` is a deprecated function and will be removed in a future version. Please adapt your code to use either `displot` (a figure-level function with similar flexibility) or `histplot` (an axes-level function for histograms).\n",
      "  warnings.warn(msg, FutureWarning)\n"
     ]
    },
    {
     "data": {
      "text/html": [
       "<div>\n",
       "<style scoped>\n",
       "    .dataframe tbody tr th:only-of-type {\n",
       "        vertical-align: middle;\n",
       "    }\n",
       "\n",
       "    .dataframe tbody tr th {\n",
       "        vertical-align: top;\n",
       "    }\n",
       "\n",
       "    .dataframe thead th {\n",
       "        text-align: right;\n",
       "    }\n",
       "</style>\n",
       "<table border=\"1\" class=\"dataframe\">\n",
       "  <thead>\n",
       "    <tr style=\"text-align: right;\">\n",
       "      <th></th>\n",
       "      <th>messages_included</th>\n",
       "      <th>mb_per_month_included</th>\n",
       "      <th>minutes_included</th>\n",
       "      <th>usd_monthly_pay</th>\n",
       "      <th>usd_per_gb</th>\n",
       "      <th>usd_per_message</th>\n",
       "      <th>usd_per_minute</th>\n",
       "      <th>plan_name</th>\n",
       "    </tr>\n",
       "  </thead>\n",
       "  <tbody>\n",
       "    <tr>\n",
       "      <th>0</th>\n",
       "      <td>50</td>\n",
       "      <td>15360</td>\n",
       "      <td>500</td>\n",
       "      <td>20</td>\n",
       "      <td>10</td>\n",
       "      <td>0.03</td>\n",
       "      <td>0.03</td>\n",
       "      <td>surf</td>\n",
       "    </tr>\n",
       "    <tr>\n",
       "      <th>1</th>\n",
       "      <td>1000</td>\n",
       "      <td>30720</td>\n",
       "      <td>3000</td>\n",
       "      <td>70</td>\n",
       "      <td>7</td>\n",
       "      <td>0.01</td>\n",
       "      <td>0.01</td>\n",
       "      <td>ultimate</td>\n",
       "    </tr>\n",
       "  </tbody>\n",
       "</table>\n",
       "</div>"
      ],
      "text/plain": [
       "   messages_included  mb_per_month_included  minutes_included  \\\n",
       "0                 50                  15360               500   \n",
       "1               1000                  30720              3000   \n",
       "\n",
       "   usd_monthly_pay  usd_per_gb  usd_per_message  usd_per_minute plan_name  \n",
       "0               20          10             0.03            0.03      surf  \n",
       "1               70           7             0.01            0.01  ultimate  "
      ]
     },
     "execution_count": 98,
     "metadata": {},
     "output_type": "execute_result"
    },
    {
     "data": {
      "image/png": "[encoded data removed]",
      "text/plain": [
       "<Figure size 1152x360 with 2 Axes>"
      ]
     },
     "metadata": {
      "needs_background": "light"
     },
     "output_type": "display_data"
    }
   ],
   "source": [
    "# Create one row with 2 columns\n",
    "fig, axes = plt.subplots(1, 2, figsize=(16, 5))\n",
    "\n",
    "# Create a histogram for the surf plan\n",
    "sns.distplot(surf_users['gb_used'],ax=axes[0], axlabel ='surf gb_used')\n",
    "\n",
    "# Create a histogram for the second plan\n",
    "sns.distplot(ultimate_users['gb_used'], ax=axes[1], axlabel ='ultimate gb_used')\n",
    "\n",
    "# surf internet: \n",
    "surf_internet_mean =  surf_users['gb_used'].mean()\n",
    "surf_internet_variance = np.var(surf_users['gb_used'])\n",
    "surf_internet_std = np.sqrt(surf_internet_variance)\n",
    "\n",
    "print('surf internet volume mean: ', surf_internet_mean)\n",
    "print('surf internet volume variance: ', surf_internet_variance)\n",
    "print( 'surf internet volume standard deviation: ', surf_internet_std)\n",
    "print('most data can be found in this range: ', \n",
    "      (surf_internet_mean- 3*surf_internet_std, surf_internet_mean + 3*surf_internet_std))\n",
    "print()\n",
    "# ultimate internet:\n",
    "ultimate_internet_mean =  ultimate_users['gb_used'].mean()\n",
    "ultimate_internet_variance = np.var(ultimate_users['gb_used'])\n",
    "ultimate_internet_std = np.sqrt(ultimate_internet_variance)\n",
    "\n",
    "print('ultimate internet volume mean: ', ultimate_internet_mean)\n",
    "print('ultimate internet volume variance: ', ultimate_internet_variance)\n",
    "print('ultimate internet volume standard deviation: ', ultimate_internet_std)\n",
    "print('most data can be found in this range: ', \n",
    "      (ultimate_internet_mean- 3*ultimate_internet_std, ultimate_internet_mean + 3*ultimate_internet_std))\n",
    "\n",
    "plans"
   ]
  },
  {
   "cell_type": "markdown",
   "id": "6263e526",
   "metadata": {},
   "source": [
    " by comparing between massages distribution for \"surf\" and \"ultimate\" plans, we can se that two groups acting similarly, \n",
    " the mean and standard diviation have slightly higher value for the \"ultimate\" plan."
   ]
  },
  {
   "cell_type": "markdown",
   "id": "41c6e681",
   "metadata": {},
   "source": [
    "## Step 4. Test  the hypotheses:"
   ]
  },
  {
   "cell_type": "markdown",
   "id": "b31c3e98",
   "metadata": {},
   "source": [
    "####  h0: the revenue from \"surf\" and \"ultimate\" are similar\n",
    "#### h1 the revenue from \"surf and \"ultimate are not similar"
   ]
  },
  {
   "cell_type": "code",
   "execution_count": 41,
   "id": "306e7b49",
   "metadata": {},
   "outputs": [
    {
     "name": "stdout",
     "output_type": "stream",
     "text": [
      "surf_revenue mean:  58.85767196439923\n",
      "surf_revenue variance:  2972.4215304353042\n",
      "surf_revenue standard deviation:  54.51991865763653\n",
      "most data can be found in this range:  (-104.70208400851035, 222.41742793730882)\n",
      "\n",
      "ultimate revenue mean:  78.29305555555555\n",
      "ultimate revenue variance:  1179.976618441358\n",
      "ultimate revenue standard deviation:  34.35078774120556\n",
      "most data can be found in this range:  (-24.759307668061126, 181.34541877917223)\n",
      "\n"
     ]
    },
    {
     "data": {
      "text/plain": [
       "LeveneResult(statistic=218.86584219221655, pvalue=2.284223282972945e-47)"
      ]
     },
     "execution_count": 41,
     "metadata": {},
     "output_type": "execute_result"
    }
   ],
   "source": [
    "surf_revenue_mean = surf_users['revenue'].mean()\n",
    "surf_revenue_variance = np.var(surf_users['revenue'])\n",
    "surf_revenue_std =  np.sqrt(surf_revenue_variance)\n",
    "print('surf_revenue mean: ', surf_revenue_mean)\n",
    "print('surf_revenue variance: ', surf_revenue_variance)\n",
    "print('surf_revenue standard deviation: ', surf_revenue_std)\n",
    "print('most data can be found in this range: ', \n",
    "      (surf_revenue_mean- 3*surf_revenue_std, surf_revenue_mean + 3*surf_revenue_std))\n",
    "print()\n",
    "ultimate_revenue_mean = ultimate_users['revenue'].mean()\n",
    "ultimate_revenue_variance = np.var(ultimate_users['revenue'])\n",
    "ultimate_revenue_std =  np.sqrt(ultimate_revenue_variance)\n",
    "print('ultimate revenue mean: ', ultimate_revenue_mean)\n",
    "print('ultimate revenue variance: ', ultimate_revenue_variance)\n",
    "print('ultimate revenue standard deviation: ', ultimate_revenue_std)\n",
    "print('most data can be found in this range: ', \n",
    "      (ultimate_revenue_mean- 3*ultimate_revenue_std, ultimate_revenue_mean + 3*ultimate_revenue_std))\n",
    "print()\n",
    "st.levene(surf_users['revenue'], ultimate_users['revenue'], center ='mean')"
   ]
  },
  {
   "cell_type": "markdown",
   "id": "1d1e6e14",
   "metadata": {},
   "source": [
    "lets take a look at the two data sets,  the mean and the varience are different the P-value by the LeveneResult is realy small that an indicate to the diffrent betweem surf and ultimate groups.\n",
    "lets assume that the to groups are similar:"
   ]
  },
  {
   "cell_type": "code",
   "execution_count": 42,
   "id": "195a5d07",
   "metadata": {},
   "outputs": [
    {
     "name": "stdout",
     "output_type": "stream",
     "text": [
      "p-value:  1.7805358989844033e-24\n",
      "We reject the null hypothesis\n",
      "surf_revenue mean:  58.85767196439923\n",
      "ultimate revenue mean:  78.29305555555555\n"
     ]
    }
   ],
   "source": [
    "# h0: the revnue from \"surf\" and \"ultimate\" are similar:\n",
    "alpha = 0.05 \n",
    "result1 = st.ttest_ind(surf_users['revenue'],\n",
    "                      ultimate_users['revenue'], equal_var = False)\n",
    "# equal_var = False because P value by the LeveneResult is really small\n",
    "\n",
    "print ('p-value: ', result1.pvalue)\n",
    "\n",
    "\n",
    "if result1.pvalue < alpha:\n",
    "    print(\"We reject the null hypothesis\")\n",
    "else:\n",
    "    print(\"We can't reject the null hypothesis\") \n",
    "print('surf_revenue mean: ', surf_revenue_mean)\n",
    "print('ultimate revenue mean: ', ultimate_revenue_mean)\n"
   ]
  },
  {
   "cell_type": "markdown",
   "id": "863f7bc2",
   "metadata": {},
   "source": [
    "we rject the null hypothesis, the two groups are different, they have differnt values."
   ]
  },
  {
   "cell_type": "markdown",
   "id": "b5f99fb4",
   "metadata": {},
   "source": [
    "#### h0: the revenue from NY-NJ areas is similar to revenue from other regions: "
   ]
  },
  {
   "cell_type": "code",
   "execution_count": 43,
   "id": "4a95bbe4",
   "metadata": {},
   "outputs": [
    {
     "data": {
      "text/html": [
       "<div>\n",
       "<style scoped>\n",
       "    .dataframe tbody tr th:only-of-type {\n",
       "        vertical-align: middle;\n",
       "    }\n",
       "\n",
       "    .dataframe tbody tr th {\n",
       "        vertical-align: top;\n",
       "    }\n",
       "\n",
       "    .dataframe thead th {\n",
       "        text-align: right;\n",
       "    }\n",
       "</style>\n",
       "<table border=\"1\" class=\"dataframe\">\n",
       "  <thead>\n",
       "    <tr style=\"text-align: right;\">\n",
       "      <th></th>\n",
       "      <th>user_id</th>\n",
       "      <th>month</th>\n",
       "      <th>gb_used</th>\n",
       "      <th>calls</th>\n",
       "      <th>calls_duration</th>\n",
       "      <th>messages</th>\n",
       "      <th>plan</th>\n",
       "      <th>revenue</th>\n",
       "      <th>city</th>\n",
       "    </tr>\n",
       "  </thead>\n",
       "  <tbody>\n",
       "    <tr>\n",
       "      <td>0</td>\n",
       "      <td>1000</td>\n",
       "      <td>12</td>\n",
       "      <td>2.0</td>\n",
       "      <td>16.0</td>\n",
       "      <td>124.0</td>\n",
       "      <td>11.0</td>\n",
       "      <td>ultimate</td>\n",
       "      <td>70.0</td>\n",
       "      <td>Atlanta-Sandy Springs-Roswell, GA MSA</td>\n",
       "    </tr>\n",
       "    <tr>\n",
       "      <td>1</td>\n",
       "      <td>1001</td>\n",
       "      <td>8</td>\n",
       "      <td>7.0</td>\n",
       "      <td>27.0</td>\n",
       "      <td>182.0</td>\n",
       "      <td>30.0</td>\n",
       "      <td>surf</td>\n",
       "      <td>20.0</td>\n",
       "      <td>Seattle-Tacoma-Bellevue, WA MSA</td>\n",
       "    </tr>\n",
       "  </tbody>\n",
       "</table>\n",
       "</div>"
      ],
      "text/plain": [
       "   user_id  month  gb_used  calls  calls_duration  messages      plan  \\\n",
       "0     1000     12      2.0   16.0           124.0      11.0  ultimate   \n",
       "1     1001      8      7.0   27.0           182.0      30.0      surf   \n",
       "\n",
       "   revenue                                   city  \n",
       "0     70.0  Atlanta-Sandy Springs-Roswell, GA MSA  \n",
       "1     20.0        Seattle-Tacoma-Bellevue, WA MSA  "
      ]
     },
     "execution_count": 43,
     "metadata": {},
     "output_type": "execute_result"
    }
   ],
   "source": [
    "#create city column in merge_data:\n",
    "user_city =dict(zip(users.user_id, users.city))\n",
    "merge_data['city'] = merge_data['user_id']\n",
    "merge_data = merge_data.replace({'city': user_city}) \n",
    "merge_data.head(2)"
   ]
  },
  {
   "cell_type": "code",
   "execution_count": 44,
   "id": "e577f4de",
   "metadata": {},
   "outputs": [
    {
     "name": "stdout",
     "output_type": "stream",
     "text": [
      "New York-Newark-Jersey City, NY-NJ-PA MSA    377\n",
      "Name: city, dtype: int64\n",
      "*************\n",
      "Los Angeles-Long Beach-Anaheim, CA MSA             132\n",
      "Chicago-Naperville-Elgin, IL-IN-WI MSA              94\n",
      "Dallas-Fort Worth-Arlington, TX MSA                 88\n",
      "Philadelphia-Camden-Wilmington, PA-NJ-DE-MD MSA     82\n",
      "Boston-Cambridge-Newton, MA-NH MSA                  70\n",
      "                                                  ... \n",
      "Omaha-Council Bluffs, NE-IA MSA                      3\n",
      "El Paso, TX MSA                                      2\n",
      "Jacksonville, FL MSA                                 2\n",
      "Raleigh-Cary, NC MSA                                 2\n",
      "Cape Coral-Fort Myers, FL MSA                        1\n",
      "Name: city, Length: 72, dtype: int64\n"
     ]
    }
   ],
   "source": [
    "ny_nj_users = merge_data[merge_data['city'].str.contains(\"NY-NJ\")]\n",
    "print(ny_nj_users['city'].value_counts())\n",
    "print(\"*************\")\n",
    "other_users = merge_data[~merge_data['city'].str.contains(\"NY-NJ\")]\n",
    "print(other_users['city'].value_counts())"
   ]
  },
  {
   "cell_type": "code",
   "execution_count": 45,
   "id": "9bc335f2",
   "metadata": {},
   "outputs": [
    {
     "name": "stdout",
     "output_type": "stream",
     "text": [
      "ny_nj revenue mean:  61.14279840848806\n",
      "ny_nj revenue variance:  2350.148762760422\n",
      "ny_nj revenue standard deviation:  48.47833292059889\n",
      "most data can be found in this range:  (-84.2922003533086, 206.57779717028473)\n",
      "\n",
      "other revenue mean:  65.71152557411273\n",
      "other revenue variance:  2515.2356024153164\n",
      "other revenue standard deviation:  50.1521246051981\n",
      "most data can be found in this range:  (-84.74484824148158, 216.16789938970703)\n",
      "\n"
     ]
    },
    {
     "data": {
      "text/plain": [
       "LeveneResult(statistic=3.276907835504723, pvalue=0.0703921579039499)"
      ]
     },
     "execution_count": 45,
     "metadata": {},
     "output_type": "execute_result"
    }
   ],
   "source": [
    "ny_nj_revenue_mean = ny_nj_users['revenue'].mean()\n",
    "ny_nj_revenue_variance = np.var(ny_nj_users['revenue'])\n",
    "ny_nj_revenue_std =  np.sqrt(ny_nj_revenue_variance)\n",
    "print('ny_nj revenue mean: ', ny_nj_revenue_mean)\n",
    "print('ny_nj revenue variance: ', ny_nj_revenue_variance)\n",
    "print('ny_nj revenue standard deviation: ', ny_nj_revenue_std)\n",
    "print('most data can be found in this range: ', \n",
    "      (ny_nj_revenue_mean- 3*ny_nj_revenue_std, ny_nj_revenue_mean + 3*ny_nj_revenue_std))\n",
    "print()\n",
    "other_revenue_mean = other_users['revenue'].mean()\n",
    "other_revenue_variance = np.var(other_users['revenue'])\n",
    "other_revenue_std =  np.sqrt(other_revenue_variance)\n",
    "print('other revenue mean: ', other_revenue_mean)\n",
    "print('other revenue variance: ', other_revenue_variance)\n",
    "print('other revenue standard deviation: ', other_revenue_std)\n",
    "print('most data can be found in this range: ', \n",
    "      (other_revenue_mean- 3*other_revenue_std, other_revenue_mean + 3*other_revenue_std))\n",
    "print()\n",
    "st.levene(ny_nj_users['revenue'], other_users['revenue'], center ='mean')"
   ]
  },
  {
   "cell_type": "markdown",
   "id": "6ae77530",
   "metadata": {},
   "source": [
    "* lets take a look at the two data sets,  the mean and the varience are not so different, \n",
    "* the P-value by the LeveneResult is realy big that an indicate  that there is no diffrent betweem NY-NJ and  other areas.\n",
    "* lets assume that the two groups are similar:"
   ]
  },
  {
   "cell_type": "code",
   "execution_count": 46,
   "id": "5eca77b7",
   "metadata": {
    "scrolled": true
   },
   "outputs": [
    {
     "name": "stdout",
     "output_type": "stream",
     "text": [
      "p-value:  0.10431170042638659\n",
      "We can't reject the null hypothesis\n",
      "ny_nj revenue mean:  61.14279840848806\n",
      "other regions revenue mean:  65.71152557411273\n"
     ]
    }
   ],
   "source": [
    "# h0: the revnue from \"NY-NJ\" and \"other\" are similar:\n",
    "alpha = 0.05 \n",
    "result1 = st.ttest_ind(ny_nj_users['revenue'],\n",
    "                      other_users['revenue'], equal_var = True)\n",
    "\n",
    "print ('p-value: ', result1.pvalue)\n",
    "\n",
    "\n",
    "if result1.pvalue < alpha:\n",
    "    print(\"We reject the null hypothesis\")\n",
    "else:\n",
    "    print(\"We can't reject the null hypothesis\") \n",
    "print('ny_nj revenue mean: ', ny_nj_revenue_mean)\n",
    "print('other regions revenue mean: ', other_revenue_mean)"
   ]
  },
  {
   "cell_type": "markdown",
   "id": "5a390497",
   "metadata": {},
   "source": [
    "* we can't reject the null hypothesis, \n",
    "* the two groups are from the same data base. \n",
    "* its make sense that those two groups have similar mean and varience."
   ]
  },
  {
   "cell_type": "markdown",
   "id": "360a7d69",
   "metadata": {},
   "source": [
    "## Step 5. Overall coclution:"
   ]
  },
  {
   "cell_type": "markdown",
   "id": "86f3156a",
   "metadata": {},
   "source": [
    "we got 5 data frams with data on 500 users,\n",
    "initialy I tried the understand the data, I used profile report to find missing values or duplicated rows, since profile report doesn't work on pracricum platform, I areas those lines but left the comments.\n",
    "In the calls and internt values there were cell with zeros, I decided to leave those line without changes, it possible that thos row represnt misset call or times when people didn't use the internet.\n",
    "\n",
    "I created a merged table with the user id, date, calls, masseges, intenet volume, , city, and revenue.\n",
    "From that table I ploted histogram to see the diffrent between surf and ultimate plans, the distributiomn  looked similar for both plans, with higher valuse for ultimate, wich make sens.\n",
    "\n",
    "At last I chacked the null hypothesis:\n",
    "1. The average revenue from users of Ultimate and Surf calling plans differs.\n",
    "2. The average revenue from users in NY-NJ area is different from that of the users from other regions.\n",
    "I rephrase the hypothesis:\n",
    "1. The average revenue from users of Ultimate and Surf calling plans are the same \n",
    "2. The average revenue from users in NY-NJ area is the same from that of the users from other regions.\n",
    "I found the mean and the varience for each group to see if they have similare distribution, and then used T-test.\n",
    "\n",
    "The first hypothesis was rejected,  the surf users diffrent from the ultimate users, its not the same databased\n",
    "The seconde  hypothesis was true, the NY-NJ users act like the rest of the users, wich make sense, both are from the same databased. \n"
   ]
  }
 ],
 "metadata": {
  "ExecuteTimeLog": [
   {
    "duration": 1396,
    "start_time": "2022-02-08T08:16:19.861Z"
   },
   {
    "duration": -97,
    "start_time": "2022-02-08T08:16:21.357Z"
   },
   {
    "duration": -102,
    "start_time": "2022-02-08T08:16:21.363Z"
   },
   {
    "duration": -106,
    "start_time": "2022-02-08T08:16:21.368Z"
   },
   {
    "duration": -132,
    "start_time": "2022-02-08T08:16:21.395Z"
   },
   {
    "duration": -139,
    "start_time": "2022-02-08T08:16:21.403Z"
   },
   {
    "duration": -146,
    "start_time": "2022-02-08T08:16:21.411Z"
   },
   {
    "duration": -150,
    "start_time": "2022-02-08T08:16:21.417Z"
   },
   {
    "duration": -155,
    "start_time": "2022-02-08T08:16:21.423Z"
   },
   {
    "duration": -163,
    "start_time": "2022-02-08T08:16:21.432Z"
   },
   {
    "duration": -168,
    "start_time": "2022-02-08T08:16:21.438Z"
   },
   {
    "duration": -178,
    "start_time": "2022-02-08T08:16:21.449Z"
   },
   {
    "duration": -184,
    "start_time": "2022-02-08T08:16:21.456Z"
   },
   {
    "duration": -199,
    "start_time": "2022-02-08T08:16:21.472Z"
   },
   {
    "duration": -203,
    "start_time": "2022-02-08T08:16:21.478Z"
   },
   {
    "duration": -211,
    "start_time": "2022-02-08T08:16:21.487Z"
   },
   {
    "duration": -215,
    "start_time": "2022-02-08T08:16:21.491Z"
   },
   {
    "duration": -229,
    "start_time": "2022-02-08T08:16:21.506Z"
   },
   {
    "duration": -235,
    "start_time": "2022-02-08T08:16:21.513Z"
   },
   {
    "duration": -250,
    "start_time": "2022-02-08T08:16:21.530Z"
   },
   {
    "duration": -260,
    "start_time": "2022-02-08T08:16:21.541Z"
   },
   {
    "duration": -267,
    "start_time": "2022-02-08T08:16:21.549Z"
   },
   {
    "duration": -275,
    "start_time": "2022-02-08T08:16:21.558Z"
   },
   {
    "duration": -289,
    "start_time": "2022-02-08T08:16:21.572Z"
   },
   {
    "duration": -294,
    "start_time": "2022-02-08T08:16:21.578Z"
   },
   {
    "duration": -301,
    "start_time": "2022-02-08T08:16:21.586Z"
   },
   {
    "duration": -305,
    "start_time": "2022-02-08T08:16:21.591Z"
   },
   {
    "duration": -310,
    "start_time": "2022-02-08T08:16:21.597Z"
   },
   {
    "duration": -313,
    "start_time": "2022-02-08T08:16:21.601Z"
   },
   {
    "duration": -342,
    "start_time": "2022-02-08T08:16:21.631Z"
   },
   {
    "duration": -356,
    "start_time": "2022-02-08T08:16:21.646Z"
   },
   {
    "duration": -363,
    "start_time": "2022-02-08T08:16:21.654Z"
   },
   {
    "duration": -370,
    "start_time": "2022-02-08T08:16:21.662Z"
   },
   {
    "duration": -383,
    "start_time": "2022-02-08T08:16:21.676Z"
   },
   {
    "duration": -388,
    "start_time": "2022-02-08T08:16:21.682Z"
   },
   {
    "duration": -395,
    "start_time": "2022-02-08T08:16:21.690Z"
   },
   {
    "duration": -401,
    "start_time": "2022-02-08T08:16:21.697Z"
   },
   {
    "duration": -348,
    "start_time": "2022-02-08T08:16:21.706Z"
   },
   {
    "duration": -357,
    "start_time": "2022-02-08T08:16:21.716Z"
   },
   {
    "duration": -364,
    "start_time": "2022-02-08T08:16:21.724Z"
   },
   {
    "duration": -371,
    "start_time": "2022-02-08T08:16:21.732Z"
   },
   {
    "duration": -383,
    "start_time": "2022-02-08T08:16:21.745Z"
   },
   {
    "duration": -387,
    "start_time": "2022-02-08T08:16:21.750Z"
   },
   {
    "duration": -393,
    "start_time": "2022-02-08T08:16:21.757Z"
   },
   {
    "duration": -396,
    "start_time": "2022-02-08T08:16:21.761Z"
   },
   {
    "duration": 905,
    "start_time": "2022-02-08T08:21:53.562Z"
   },
   {
    "duration": 40,
    "start_time": "2022-02-08T08:21:56.149Z"
   },
   {
    "duration": 6,
    "start_time": "2022-02-08T08:21:56.388Z"
   },
   {
    "duration": 5,
    "start_time": "2022-02-08T08:21:56.971Z"
   },
   {
    "duration": 7,
    "start_time": "2022-02-08T08:21:57.174Z"
   },
   {
    "duration": 159,
    "start_time": "2022-02-08T08:21:57.783Z"
   },
   {
    "duration": 11,
    "start_time": "2022-02-08T08:21:58.296Z"
   },
   {
    "duration": 69,
    "start_time": "2022-02-08T08:21:58.364Z"
   },
   {
    "duration": 24,
    "start_time": "2022-02-08T08:21:58.568Z"
   },
   {
    "duration": 203,
    "start_time": "2022-02-08T08:21:58.776Z"
   },
   {
    "duration": 292,
    "start_time": "2022-02-08T08:21:59.119Z"
   },
   {
    "duration": -57,
    "start_time": "2022-02-08T08:21:59.469Z"
   },
   {
    "duration": 97,
    "start_time": "2022-02-08T08:22:36.165Z"
   },
   {
    "duration": 20,
    "start_time": "2022-02-08T08:22:38.615Z"
   },
   {
    "duration": 67,
    "start_time": "2022-02-08T08:22:39.140Z"
   },
   {
    "duration": 99,
    "start_time": "2022-02-08T08:22:39.983Z"
   },
   {
    "duration": 42,
    "start_time": "2022-02-08T08:22:40.182Z"
   },
   {
    "duration": 18,
    "start_time": "2022-02-08T08:22:40.703Z"
   },
   {
    "duration": 119,
    "start_time": "2022-02-08T08:22:41.308Z"
   },
   {
    "duration": 68,
    "start_time": "2022-02-08T08:22:41.492Z"
   },
   {
    "duration": 12,
    "start_time": "2022-02-08T08:22:41.699Z"
   },
   {
    "duration": 478,
    "start_time": "2022-02-08T08:22:41.952Z"
   },
   {
    "duration": -64,
    "start_time": "2022-02-08T08:22:42.496Z"
   },
   {
    "duration": -68,
    "start_time": "2022-02-08T08:22:42.501Z"
   },
   {
    "duration": 54,
    "start_time": "2022-02-08T08:22:42.693Z"
   },
   {
    "duration": 9,
    "start_time": "2022-02-08T08:22:42.897Z"
   },
   {
    "duration": 4,
    "start_time": "2022-02-08T08:23:03.659Z"
   },
   {
    "duration": 68,
    "start_time": "2022-02-08T08:23:04.121Z"
   },
   {
    "duration": 57,
    "start_time": "2022-02-08T08:23:04.541Z"
   },
   {
    "duration": 8,
    "start_time": "2022-02-08T08:23:04.984Z"
   },
   {
    "duration": 18,
    "start_time": "2022-02-08T08:23:05.677Z"
   },
   {
    "duration": 40,
    "start_time": "2022-02-08T08:23:06.681Z"
   },
   {
    "duration": 308,
    "start_time": "2022-02-08T08:23:07.265Z"
   },
   {
    "duration": -156,
    "start_time": "2022-02-08T08:23:07.731Z"
   },
   {
    "duration": 184,
    "start_time": "2022-02-08T08:23:07.688Z"
   },
   {
    "duration": 4,
    "start_time": "2022-02-08T08:23:07.999Z"
   },
   {
    "duration": 168,
    "start_time": "2022-02-08T08:23:08.393Z"
   },
   {
    "duration": 761,
    "start_time": "2022-02-08T08:23:08.834Z"
   },
   {
    "duration": -61,
    "start_time": "2022-02-08T08:23:09.657Z"
   },
   {
    "duration": -65,
    "start_time": "2022-02-08T08:23:09.662Z"
   },
   {
    "duration": 399,
    "start_time": "2022-02-08T08:23:10.652Z"
   },
   {
    "duration": 179,
    "start_time": "2022-02-08T08:23:24.042Z"
   },
   {
    "duration": 161,
    "start_time": "2022-02-08T08:23:24.793Z"
   },
   {
    "duration": 211,
    "start_time": "2022-02-08T08:23:25.500Z"
   },
   {
    "duration": 107985,
    "start_time": "2022-02-08T08:26:31.583Z"
   },
   {
    "duration": 1510,
    "start_time": "2022-02-08T08:28:19.570Z"
   },
   {
    "duration": -41,
    "start_time": "2022-02-08T08:28:21.183Z"
   },
   {
    "duration": -45,
    "start_time": "2022-02-08T08:28:21.188Z"
   },
   {
    "duration": -48,
    "start_time": "2022-02-08T08:28:21.192Z"
   },
   {
    "duration": -50,
    "start_time": "2022-02-08T08:28:21.196Z"
   },
   {
    "duration": -53,
    "start_time": "2022-02-08T08:28:21.200Z"
   },
   {
    "duration": -78,
    "start_time": "2022-02-08T08:28:21.226Z"
   },
   {
    "duration": -81,
    "start_time": "2022-02-08T08:28:21.231Z"
   },
   {
    "duration": -84,
    "start_time": "2022-02-08T08:28:21.235Z"
   },
   {
    "duration": -94,
    "start_time": "2022-02-08T08:28:21.246Z"
   },
   {
    "duration": -96,
    "start_time": "2022-02-08T08:28:21.250Z"
   },
   {
    "duration": -97,
    "start_time": "2022-02-08T08:28:21.255Z"
   },
   {
    "duration": -100,
    "start_time": "2022-02-08T08:28:21.259Z"
   },
   {
    "duration": -102,
    "start_time": "2022-02-08T08:28:21.263Z"
   },
   {
    "duration": -106,
    "start_time": "2022-02-08T08:28:21.268Z"
   },
   {
    "duration": -109,
    "start_time": "2022-02-08T08:28:21.272Z"
   },
   {
    "duration": -111,
    "start_time": "2022-02-08T08:28:21.276Z"
   },
   {
    "duration": -115,
    "start_time": "2022-02-08T08:28:21.281Z"
   },
   {
    "duration": -117,
    "start_time": "2022-02-08T08:28:21.285Z"
   },
   {
    "duration": -121,
    "start_time": "2022-02-08T08:28:21.290Z"
   },
   {
    "duration": -124,
    "start_time": "2022-02-08T08:28:21.294Z"
   },
   {
    "duration": -127,
    "start_time": "2022-02-08T08:28:21.298Z"
   },
   {
    "duration": -131,
    "start_time": "2022-02-08T08:28:21.303Z"
   },
   {
    "duration": -134,
    "start_time": "2022-02-08T08:28:21.307Z"
   },
   {
    "duration": -135,
    "start_time": "2022-02-08T08:28:21.310Z"
   },
   {
    "duration": -138,
    "start_time": "2022-02-08T08:28:21.314Z"
   },
   {
    "duration": -141,
    "start_time": "2022-02-08T08:28:21.317Z"
   },
   {
    "duration": -144,
    "start_time": "2022-02-08T08:28:21.321Z"
   },
   {
    "duration": -188,
    "start_time": "2022-02-08T08:28:21.366Z"
   },
   {
    "duration": -191,
    "start_time": "2022-02-08T08:28:21.370Z"
   },
   {
    "duration": -193,
    "start_time": "2022-02-08T08:28:21.373Z"
   },
   {
    "duration": -197,
    "start_time": "2022-02-08T08:28:21.378Z"
   },
   {
    "duration": -199,
    "start_time": "2022-02-08T08:28:21.381Z"
   },
   {
    "duration": -202,
    "start_time": "2022-02-08T08:28:21.385Z"
   },
   {
    "duration": -206,
    "start_time": "2022-02-08T08:28:21.390Z"
   },
   {
    "duration": -209,
    "start_time": "2022-02-08T08:28:21.394Z"
   },
   {
    "duration": -212,
    "start_time": "2022-02-08T08:28:21.398Z"
   },
   {
    "duration": -215,
    "start_time": "2022-02-08T08:28:21.402Z"
   },
   {
    "duration": -217,
    "start_time": "2022-02-08T08:28:21.405Z"
   },
   {
    "duration": -221,
    "start_time": "2022-02-08T08:28:21.410Z"
   },
   {
    "duration": -223,
    "start_time": "2022-02-08T08:28:21.413Z"
   },
   {
    "duration": -229,
    "start_time": "2022-02-08T08:28:21.420Z"
   },
   {
    "duration": -233,
    "start_time": "2022-02-08T08:28:21.425Z"
   },
   {
    "duration": -236,
    "start_time": "2022-02-08T08:28:21.429Z"
   },
   {
    "duration": -238,
    "start_time": "2022-02-08T08:28:21.432Z"
   },
   {
    "duration": 46699,
    "start_time": "2022-02-08T08:29:28.570Z"
   },
   {
    "duration": 8789,
    "start_time": "2022-02-08T08:30:15.271Z"
   },
   {
    "duration": 559,
    "start_time": "2022-02-08T08:30:24.062Z"
   },
   {
    "duration": 35,
    "start_time": "2022-02-08T08:30:24.623Z"
   },
   {
    "duration": 5,
    "start_time": "2022-02-08T08:30:24.660Z"
   },
   {
    "duration": 8,
    "start_time": "2022-02-08T08:30:24.666Z"
   },
   {
    "duration": 12,
    "start_time": "2022-02-08T08:30:24.675Z"
   },
   {
    "duration": 137,
    "start_time": "2022-02-08T08:30:24.689Z"
   },
   {
    "duration": 10,
    "start_time": "2022-02-08T08:30:24.829Z"
   },
   {
    "duration": 82,
    "start_time": "2022-02-08T08:30:24.841Z"
   },
   {
    "duration": 16,
    "start_time": "2022-02-08T08:30:24.926Z"
   },
   {
    "duration": 369,
    "start_time": "2022-02-08T08:30:24.959Z"
   },
   {
    "duration": -76,
    "start_time": "2022-02-08T08:30:25.407Z"
   },
   {
    "duration": -80,
    "start_time": "2022-02-08T08:30:25.412Z"
   },
   {
    "duration": -82,
    "start_time": "2022-02-08T08:30:25.416Z"
   },
   {
    "duration": -87,
    "start_time": "2022-02-08T08:30:25.422Z"
   },
   {
    "duration": -89,
    "start_time": "2022-02-08T08:30:25.426Z"
   },
   {
    "duration": -92,
    "start_time": "2022-02-08T08:30:25.430Z"
   },
   {
    "duration": -95,
    "start_time": "2022-02-08T08:30:25.434Z"
   },
   {
    "duration": -97,
    "start_time": "2022-02-08T08:30:25.438Z"
   },
   {
    "duration": -100,
    "start_time": "2022-02-08T08:30:25.442Z"
   },
   {
    "duration": -103,
    "start_time": "2022-02-08T08:30:25.447Z"
   },
   {
    "duration": -106,
    "start_time": "2022-02-08T08:30:25.451Z"
   },
   {
    "duration": -109,
    "start_time": "2022-02-08T08:30:25.455Z"
   },
   {
    "duration": -110,
    "start_time": "2022-02-08T08:30:25.458Z"
   },
   {
    "duration": -113,
    "start_time": "2022-02-08T08:30:25.462Z"
   },
   {
    "duration": -116,
    "start_time": "2022-02-08T08:30:25.466Z"
   },
   {
    "duration": -119,
    "start_time": "2022-02-08T08:30:25.471Z"
   },
   {
    "duration": -121,
    "start_time": "2022-02-08T08:30:25.474Z"
   },
   {
    "duration": -123,
    "start_time": "2022-02-08T08:30:25.478Z"
   },
   {
    "duration": -126,
    "start_time": "2022-02-08T08:30:25.482Z"
   },
   {
    "duration": -129,
    "start_time": "2022-02-08T08:30:25.486Z"
   },
   {
    "duration": -130,
    "start_time": "2022-02-08T08:30:25.489Z"
   },
   {
    "duration": -133,
    "start_time": "2022-02-08T08:30:25.493Z"
   },
   {
    "duration": -135,
    "start_time": "2022-02-08T08:30:25.496Z"
   },
   {
    "duration": -138,
    "start_time": "2022-02-08T08:30:25.500Z"
   },
   {
    "duration": -150,
    "start_time": "2022-02-08T08:30:25.513Z"
   },
   {
    "duration": -153,
    "start_time": "2022-02-08T08:30:25.517Z"
   },
   {
    "duration": -156,
    "start_time": "2022-02-08T08:30:25.521Z"
   },
   {
    "duration": -158,
    "start_time": "2022-02-08T08:30:25.525Z"
   },
   {
    "duration": -161,
    "start_time": "2022-02-08T08:30:25.528Z"
   },
   {
    "duration": -164,
    "start_time": "2022-02-08T08:30:25.532Z"
   },
   {
    "duration": -167,
    "start_time": "2022-02-08T08:30:25.536Z"
   },
   {
    "duration": -170,
    "start_time": "2022-02-08T08:30:25.540Z"
   },
   {
    "duration": -172,
    "start_time": "2022-02-08T08:30:25.543Z"
   },
   {
    "duration": -175,
    "start_time": "2022-02-08T08:30:25.547Z"
   },
   {
    "duration": 3,
    "start_time": "2022-02-08T08:31:10.691Z"
   },
   {
    "duration": 948,
    "start_time": "2022-02-08T21:50:09.488Z"
   },
   {
    "duration": 1031,
    "start_time": "2022-02-08T21:50:10.438Z"
   },
   {
    "duration": 37,
    "start_time": "2022-02-08T21:50:11.471Z"
   },
   {
    "duration": 6,
    "start_time": "2022-02-08T21:50:11.509Z"
   },
   {
    "duration": 6,
    "start_time": "2022-02-08T21:50:11.517Z"
   },
   {
    "duration": 13,
    "start_time": "2022-02-08T21:50:11.524Z"
   },
   {
    "duration": 135,
    "start_time": "2022-02-08T21:50:11.538Z"
   },
   {
    "duration": 9,
    "start_time": "2022-02-08T21:50:11.676Z"
   },
   {
    "duration": 81,
    "start_time": "2022-02-08T21:50:11.687Z"
   },
   {
    "duration": 23,
    "start_time": "2022-02-08T21:50:11.769Z"
   },
   {
    "duration": 347,
    "start_time": "2022-02-08T21:50:11.793Z"
   },
   {
    "duration": -32,
    "start_time": "2022-02-08T21:50:12.174Z"
   },
   {
    "duration": -35,
    "start_time": "2022-02-08T21:50:12.178Z"
   },
   {
    "duration": -38,
    "start_time": "2022-02-08T21:50:12.181Z"
   },
   {
    "duration": -41,
    "start_time": "2022-02-08T21:50:12.185Z"
   },
   {
    "duration": -43,
    "start_time": "2022-02-08T21:50:12.188Z"
   },
   {
    "duration": -47,
    "start_time": "2022-02-08T21:50:12.192Z"
   },
   {
    "duration": -50,
    "start_time": "2022-02-08T21:50:12.196Z"
   },
   {
    "duration": -52,
    "start_time": "2022-02-08T21:50:12.199Z"
   },
   {
    "duration": -55,
    "start_time": "2022-02-08T21:50:12.202Z"
   },
   {
    "duration": -58,
    "start_time": "2022-02-08T21:50:12.206Z"
   },
   {
    "duration": -67,
    "start_time": "2022-02-08T21:50:12.216Z"
   },
   {
    "duration": -70,
    "start_time": "2022-02-08T21:50:12.219Z"
   },
   {
    "duration": -73,
    "start_time": "2022-02-08T21:50:12.223Z"
   },
   {
    "duration": -76,
    "start_time": "2022-02-08T21:50:12.227Z"
   },
   {
    "duration": -79,
    "start_time": "2022-02-08T21:50:12.230Z"
   },
   {
    "duration": -81,
    "start_time": "2022-02-08T21:50:12.233Z"
   },
   {
    "duration": -84,
    "start_time": "2022-02-08T21:50:12.237Z"
   },
   {
    "duration": -86,
    "start_time": "2022-02-08T21:50:12.240Z"
   },
   {
    "duration": -88,
    "start_time": "2022-02-08T21:50:12.243Z"
   },
   {
    "duration": -91,
    "start_time": "2022-02-08T21:50:12.247Z"
   },
   {
    "duration": -93,
    "start_time": "2022-02-08T21:50:12.250Z"
   },
   {
    "duration": -95,
    "start_time": "2022-02-08T21:50:12.253Z"
   },
   {
    "duration": -98,
    "start_time": "2022-02-08T21:50:12.257Z"
   },
   {
    "duration": -100,
    "start_time": "2022-02-08T21:50:12.260Z"
   },
   {
    "duration": -102,
    "start_time": "2022-02-08T21:50:12.263Z"
   },
   {
    "duration": -105,
    "start_time": "2022-02-08T21:50:12.266Z"
   },
   {
    "duration": -107,
    "start_time": "2022-02-08T21:50:12.269Z"
   },
   {
    "duration": -109,
    "start_time": "2022-02-08T21:50:12.272Z"
   },
   {
    "duration": -111,
    "start_time": "2022-02-08T21:50:12.275Z"
   },
   {
    "duration": -114,
    "start_time": "2022-02-08T21:50:12.279Z"
   },
   {
    "duration": -115,
    "start_time": "2022-02-08T21:50:12.281Z"
   },
   {
    "duration": -118,
    "start_time": "2022-02-08T21:50:12.285Z"
   },
   {
    "duration": -119,
    "start_time": "2022-02-08T21:50:12.287Z"
   },
   {
    "duration": -121,
    "start_time": "2022-02-08T21:50:12.290Z"
   },
   {
    "duration": 234,
    "start_time": "2022-02-08T21:51:23.097Z"
   },
   {
    "duration": 6899,
    "start_time": "2022-02-08T21:51:54.403Z"
   },
   {
    "duration": 5789,
    "start_time": "2022-02-08T21:52:10.217Z"
   },
   {
    "duration": 1051,
    "start_time": "2022-02-08T21:52:22.730Z"
   },
   {
    "duration": 2882,
    "start_time": "2022-02-08T21:52:23.783Z"
   },
   {
    "duration": 3399,
    "start_time": "2022-02-08T21:52:26.668Z"
   },
   {
    "duration": 680,
    "start_time": "2022-02-08T21:52:30.069Z"
   },
   {
    "duration": 35,
    "start_time": "2022-02-08T21:52:30.751Z"
   },
   {
    "duration": 5,
    "start_time": "2022-02-08T21:52:30.787Z"
   },
   {
    "duration": 13,
    "start_time": "2022-02-08T21:52:30.793Z"
   },
   {
    "duration": 12,
    "start_time": "2022-02-08T21:52:30.808Z"
   },
   {
    "duration": 122,
    "start_time": "2022-02-08T21:52:30.822Z"
   },
   {
    "duration": 9,
    "start_time": "2022-02-08T21:52:30.946Z"
   },
   {
    "duration": 72,
    "start_time": "2022-02-08T21:52:30.956Z"
   },
   {
    "duration": 13,
    "start_time": "2022-02-08T21:52:31.029Z"
   },
   {
    "duration": 343,
    "start_time": "2022-02-08T21:52:31.043Z"
   },
   {
    "duration": -81,
    "start_time": "2022-02-08T21:52:31.469Z"
   },
   {
    "duration": -84,
    "start_time": "2022-02-08T21:52:31.473Z"
   },
   {
    "duration": -87,
    "start_time": "2022-02-08T21:52:31.477Z"
   },
   {
    "duration": -89,
    "start_time": "2022-02-08T21:52:31.480Z"
   },
   {
    "duration": -91,
    "start_time": "2022-02-08T21:52:31.483Z"
   },
   {
    "duration": -118,
    "start_time": "2022-02-08T21:52:31.511Z"
   },
   {
    "duration": -121,
    "start_time": "2022-02-08T21:52:31.514Z"
   },
   {
    "duration": -123,
    "start_time": "2022-02-08T21:52:31.517Z"
   },
   {
    "duration": -126,
    "start_time": "2022-02-08T21:52:31.521Z"
   },
   {
    "duration": -128,
    "start_time": "2022-02-08T21:52:31.524Z"
   },
   {
    "duration": -130,
    "start_time": "2022-02-08T21:52:31.528Z"
   },
   {
    "duration": -131,
    "start_time": "2022-02-08T21:52:31.530Z"
   },
   {
    "duration": -134,
    "start_time": "2022-02-08T21:52:31.533Z"
   },
   {
    "duration": -137,
    "start_time": "2022-02-08T21:52:31.537Z"
   },
   {
    "duration": -139,
    "start_time": "2022-02-08T21:52:31.540Z"
   },
   {
    "duration": -141,
    "start_time": "2022-02-08T21:52:31.543Z"
   },
   {
    "duration": -144,
    "start_time": "2022-02-08T21:52:31.547Z"
   },
   {
    "duration": -146,
    "start_time": "2022-02-08T21:52:31.550Z"
   },
   {
    "duration": -148,
    "start_time": "2022-02-08T21:52:31.553Z"
   },
   {
    "duration": -150,
    "start_time": "2022-02-08T21:52:31.556Z"
   },
   {
    "duration": -152,
    "start_time": "2022-02-08T21:52:31.559Z"
   },
   {
    "duration": -154,
    "start_time": "2022-02-08T21:52:31.562Z"
   },
   {
    "duration": -156,
    "start_time": "2022-02-08T21:52:31.565Z"
   },
   {
    "duration": -158,
    "start_time": "2022-02-08T21:52:31.568Z"
   },
   {
    "duration": -161,
    "start_time": "2022-02-08T21:52:31.572Z"
   },
   {
    "duration": -162,
    "start_time": "2022-02-08T21:52:31.574Z"
   },
   {
    "duration": -165,
    "start_time": "2022-02-08T21:52:31.578Z"
   },
   {
    "duration": -166,
    "start_time": "2022-02-08T21:52:31.580Z"
   },
   {
    "duration": -169,
    "start_time": "2022-02-08T21:52:31.584Z"
   },
   {
    "duration": -172,
    "start_time": "2022-02-08T21:52:31.587Z"
   },
   {
    "duration": -174,
    "start_time": "2022-02-08T21:52:31.590Z"
   },
   {
    "duration": -176,
    "start_time": "2022-02-08T21:52:31.593Z"
   },
   {
    "duration": -178,
    "start_time": "2022-02-08T21:52:31.596Z"
   },
   {
    "duration": -180,
    "start_time": "2022-02-08T21:52:31.599Z"
   },
   {
    "duration": 257,
    "start_time": "2022-02-08T21:53:35.147Z"
   },
   {
    "duration": 23,
    "start_time": "2022-02-08T21:53:37.787Z"
   },
   {
    "duration": 66,
    "start_time": "2022-02-08T21:53:39.841Z"
   },
   {
    "duration": 65,
    "start_time": "2022-02-08T21:53:41.935Z"
   },
   {
    "duration": 38,
    "start_time": "2022-02-08T21:53:43.834Z"
   },
   {
    "duration": 16,
    "start_time": "2022-02-08T21:53:45.228Z"
   },
   {
    "duration": 86,
    "start_time": "2022-02-08T21:53:46.016Z"
   },
   {
    "duration": 51,
    "start_time": "2022-02-08T21:53:46.645Z"
   },
   {
    "duration": 11,
    "start_time": "2022-02-08T21:53:46.984Z"
   },
   {
    "duration": 1366,
    "start_time": "2022-02-08T21:53:47.396Z"
   },
   {
    "duration": -36,
    "start_time": "2022-02-08T21:53:48.800Z"
   },
   {
    "duration": -46,
    "start_time": "2022-02-08T21:53:48.811Z"
   },
   {
    "duration": -49,
    "start_time": "2022-02-08T21:53:48.815Z"
   },
   {
    "duration": 7,
    "start_time": "2022-02-08T21:53:48.926Z"
   },
   {
    "duration": 21,
    "start_time": "2022-02-08T21:53:55.768Z"
   },
   {
    "duration": 41,
    "start_time": "2022-02-08T21:53:56.817Z"
   },
   {
    "duration": 259,
    "start_time": "2022-02-08T21:53:57.523Z"
   },
   {
    "duration": -14,
    "start_time": "2022-02-08T21:53:57.797Z"
   },
   {
    "duration": 291,
    "start_time": "2022-02-08T21:53:58.076Z"
   },
   {
    "duration": 234,
    "start_time": "2022-02-08T21:54:44.044Z"
   },
   {
    "duration": 5,
    "start_time": "2022-02-08T21:54:53.676Z"
   },
   {
    "duration": 259,
    "start_time": "2022-02-08T21:54:54.432Z"
   },
   {
    "duration": 260,
    "start_time": "2022-02-08T21:54:54.972Z"
   },
   {
    "duration": 230,
    "start_time": "2022-02-08T21:54:56.046Z"
   },
   {
    "duration": 234,
    "start_time": "2022-02-08T21:54:56.608Z"
   },
   {
    "duration": 222,
    "start_time": "2022-02-08T21:54:58.844Z"
   },
   {
    "duration": 241,
    "start_time": "2022-02-08T21:54:59.727Z"
   },
   {
    "duration": 246,
    "start_time": "2022-02-08T21:55:00.658Z"
   },
   {
    "duration": 256,
    "start_time": "2022-02-08T21:55:01.515Z"
   },
   {
    "duration": 234,
    "start_time": "2022-02-08T21:55:04.455Z"
   },
   {
    "duration": 317,
    "start_time": "2022-02-08T21:55:06.959Z"
   },
   {
    "duration": 246,
    "start_time": "2022-02-08T21:55:07.455Z"
   },
   {
    "duration": -6,
    "start_time": "2022-02-08T21:55:07.709Z"
   },
   {
    "duration": 235,
    "start_time": "2022-02-08T21:55:07.832Z"
   },
   {
    "duration": 1000,
    "start_time": "2022-02-09T05:43:35.390Z"
   },
   {
    "duration": 891,
    "start_time": "2022-02-09T05:43:37.586Z"
   },
   {
    "duration": 40,
    "start_time": "2022-02-09T05:43:40.652Z"
   },
   {
    "duration": 6,
    "start_time": "2022-02-09T05:43:41.478Z"
   },
   {
    "duration": 6,
    "start_time": "2022-02-09T05:43:45.625Z"
   },
   {
    "duration": 7,
    "start_time": "2022-02-09T05:43:46.766Z"
   },
   {
    "duration": 157,
    "start_time": "2022-02-09T05:43:48.808Z"
   },
   {
    "duration": 11,
    "start_time": "2022-02-09T05:43:50.429Z"
   },
   {
    "duration": 73,
    "start_time": "2022-02-09T05:43:51.918Z"
   },
   {
    "duration": 25,
    "start_time": "2022-02-09T05:43:52.675Z"
   },
   {
    "duration": 343,
    "start_time": "2022-02-09T05:43:54.663Z"
   },
   {
    "duration": 3,
    "start_time": "2022-02-09T05:44:13.615Z"
   },
   {
    "duration": 890,
    "start_time": "2022-02-09T05:44:14.939Z"
   },
   {
    "duration": 38,
    "start_time": "2022-02-09T05:44:16.800Z"
   },
   {
    "duration": 7,
    "start_time": "2022-02-09T05:44:17.270Z"
   },
   {
    "duration": 5,
    "start_time": "2022-02-09T05:44:18.487Z"
   },
   {
    "duration": 6,
    "start_time": "2022-02-09T05:44:19.126Z"
   },
   {
    "duration": 147,
    "start_time": "2022-02-09T05:44:20.896Z"
   },
   {
    "duration": 11,
    "start_time": "2022-02-09T05:44:22.775Z"
   },
   {
    "duration": 10,
    "start_time": "2022-02-09T05:44:30.988Z"
   },
   {
    "duration": 69,
    "start_time": "2022-02-09T05:44:31.929Z"
   },
   {
    "duration": 24,
    "start_time": "2022-02-09T05:44:32.669Z"
   },
   {
    "duration": 309,
    "start_time": "2022-02-09T05:46:45.666Z"
   },
   {
    "duration": 219,
    "start_time": "2022-02-09T05:47:02.682Z"
   },
   {
    "duration": 4,
    "start_time": "2022-02-09T05:47:18.349Z"
   },
   {
    "duration": 23,
    "start_time": "2022-02-09T05:47:28.431Z"
   },
   {
    "duration": 66,
    "start_time": "2022-02-09T05:47:29.458Z"
   },
   {
    "duration": 96,
    "start_time": "2022-02-09T05:47:30.704Z"
   },
   {
    "duration": 43,
    "start_time": "2022-02-09T05:47:31.083Z"
   },
   {
    "duration": 19,
    "start_time": "2022-02-09T05:47:31.807Z"
   },
   {
    "duration": 123,
    "start_time": "2022-02-09T05:47:32.870Z"
   },
   {
    "duration": 58,
    "start_time": "2022-02-09T05:47:33.643Z"
   },
   {
    "duration": 11,
    "start_time": "2022-02-09T05:47:34.243Z"
   },
   {
    "duration": 458,
    "start_time": "2022-02-09T05:47:35.021Z"
   },
   {
    "duration": 4,
    "start_time": "2022-02-09T05:47:37.800Z"
   },
   {
    "duration": 289,
    "start_time": "2022-02-09T05:47:58.552Z"
   },
   {
    "duration": 5,
    "start_time": "2022-02-09T05:48:20.948Z"
   },
   {
    "duration": 19,
    "start_time": "2022-02-09T05:48:21.545Z"
   },
   {
    "duration": 56,
    "start_time": "2022-02-09T05:48:21.913Z"
   },
   {
    "duration": 8,
    "start_time": "2022-02-09T05:48:22.572Z"
   },
   {
    "duration": 17,
    "start_time": "2022-02-09T05:48:23.809Z"
   },
   {
    "duration": 34,
    "start_time": "2022-02-09T05:48:25.260Z"
   },
   {
    "duration": 197,
    "start_time": "2022-02-09T05:48:26.695Z"
   },
   {
    "duration": 21,
    "start_time": "2022-02-09T05:48:55.030Z"
   },
   {
    "duration": 43,
    "start_time": "2022-02-09T05:48:57.792Z"
   },
   {
    "duration": 5,
    "start_time": "2022-02-09T05:48:58.570Z"
   },
   {
    "duration": 4,
    "start_time": "2022-02-09T05:48:59.956Z"
   },
   {
    "duration": 79,
    "start_time": "2022-02-09T05:49:01.214Z"
   },
   {
    "duration": 6,
    "start_time": "2022-02-09T05:49:02.068Z"
   },
   {
    "duration": 6,
    "start_time": "2022-02-09T05:49:03.091Z"
   },
   {
    "duration": 8,
    "start_time": "2022-02-09T05:49:03.857Z"
   },
   {
    "duration": 8,
    "start_time": "2022-02-09T05:49:05.771Z"
   },
   {
    "duration": 482,
    "start_time": "2022-02-09T05:49:06.366Z"
   },
   {
    "duration": 478,
    "start_time": "2022-02-09T05:49:07.746Z"
   },
   {
    "duration": 407,
    "start_time": "2022-02-09T05:49:09.265Z"
   },
   {
    "duration": 13,
    "start_time": "2022-02-09T05:49:21.708Z"
   },
   {
    "duration": 6,
    "start_time": "2022-02-09T05:49:23.049Z"
   },
   {
    "duration": 46,
    "start_time": "2022-02-09T05:49:25.455Z"
   },
   {
    "duration": 13,
    "start_time": "2022-02-09T05:49:26.235Z"
   },
   {
    "duration": 12,
    "start_time": "2022-02-09T05:49:26.809Z"
   },
   {
    "duration": 5,
    "start_time": "2022-02-09T05:49:27.880Z"
   },
   {
    "duration": 308,
    "start_time": "2022-02-09T05:53:49.220Z"
   },
   {
    "duration": 73,
    "start_time": "2022-02-09T05:57:43.610Z"
   },
   {
    "duration": 116,
    "start_time": "2022-02-09T05:57:45.784Z"
   },
   {
    "duration": 41,
    "start_time": "2022-02-09T05:57:46.475Z"
   },
   {
    "duration": 17,
    "start_time": "2022-02-09T05:57:47.591Z"
   },
   {
    "duration": 127,
    "start_time": "2022-02-09T05:57:49.200Z"
   },
   {
    "duration": 57,
    "start_time": "2022-02-09T05:57:49.683Z"
   },
   {
    "duration": 10,
    "start_time": "2022-02-09T05:57:50.396Z"
   },
   {
    "duration": 294,
    "start_time": "2022-02-09T05:57:51.093Z"
   },
   {
    "duration": 287,
    "start_time": "2022-02-09T05:58:15.129Z"
   },
   {
    "duration": 13,
    "start_time": "2022-02-09T06:00:52.074Z"
   },
   {
    "duration": 6,
    "start_time": "2022-02-09T06:00:52.918Z"
   },
   {
    "duration": 47,
    "start_time": "2022-02-09T06:00:53.953Z"
   },
   {
    "duration": 12,
    "start_time": "2022-02-09T06:00:54.235Z"
   },
   {
    "duration": 12,
    "start_time": "2022-02-09T06:00:54.497Z"
   },
   {
    "duration": 5,
    "start_time": "2022-02-09T06:00:54.895Z"
   },
   {
    "duration": 1045,
    "start_time": "2022-02-09T10:24:35.751Z"
   },
   {
    "duration": 2046,
    "start_time": "2022-02-09T10:24:36.798Z"
   },
   {
    "duration": 43,
    "start_time": "2022-02-09T10:24:38.846Z"
   },
   {
    "duration": 7,
    "start_time": "2022-02-09T10:24:38.891Z"
   },
   {
    "duration": 8,
    "start_time": "2022-02-09T10:24:38.899Z"
   },
   {
    "duration": 15,
    "start_time": "2022-02-09T10:24:38.909Z"
   },
   {
    "duration": 203,
    "start_time": "2022-02-09T10:24:38.926Z"
   },
   {
    "duration": 12,
    "start_time": "2022-02-09T10:24:39.132Z"
   },
   {
    "duration": 98,
    "start_time": "2022-02-09T10:24:39.146Z"
   },
   {
    "duration": 28,
    "start_time": "2022-02-09T10:24:39.245Z"
   },
   {
    "duration": 364,
    "start_time": "2022-02-09T10:24:39.275Z"
   },
   {
    "duration": 5,
    "start_time": "2022-02-09T10:24:39.641Z"
   },
   {
    "duration": 26,
    "start_time": "2022-02-09T10:24:39.648Z"
   },
   {
    "duration": 104,
    "start_time": "2022-02-09T10:24:39.676Z"
   },
   {
    "duration": 131,
    "start_time": "2022-02-09T10:24:39.782Z"
   },
   {
    "duration": 52,
    "start_time": "2022-02-09T10:24:39.915Z"
   },
   {
    "duration": 43,
    "start_time": "2022-02-09T10:24:39.970Z"
   },
   {
    "duration": 186,
    "start_time": "2022-02-09T10:24:40.015Z"
   },
   {
    "duration": 65,
    "start_time": "2022-02-09T10:24:40.204Z"
   },
   {
    "duration": 35,
    "start_time": "2022-02-09T10:24:40.272Z"
   },
   {
    "duration": 344,
    "start_time": "2022-02-09T10:24:40.310Z"
   },
   {
    "duration": 6,
    "start_time": "2022-02-09T10:24:40.656Z"
   },
   {
    "duration": 36,
    "start_time": "2022-02-09T10:24:40.666Z"
   },
   {
    "duration": 61,
    "start_time": "2022-02-09T10:24:40.705Z"
   },
   {
    "duration": 9,
    "start_time": "2022-02-09T10:24:40.767Z"
   },
   {
    "duration": 19,
    "start_time": "2022-02-09T10:24:40.799Z"
   },
   {
    "duration": 38,
    "start_time": "2022-02-09T10:24:40.820Z"
   },
   {
    "duration": 57,
    "start_time": "2022-02-09T10:24:40.860Z"
   },
   {
    "duration": 52,
    "start_time": "2022-02-09T10:24:40.918Z"
   },
   {
    "duration": 6,
    "start_time": "2022-02-09T10:24:40.971Z"
   },
   {
    "duration": 5,
    "start_time": "2022-02-09T10:24:40.999Z"
   },
   {
    "duration": 108,
    "start_time": "2022-02-09T10:24:41.006Z"
   },
   {
    "duration": 6,
    "start_time": "2022-02-09T10:24:41.115Z"
   },
   {
    "duration": 10,
    "start_time": "2022-02-09T10:24:41.122Z"
   },
   {
    "duration": 9,
    "start_time": "2022-02-09T10:24:41.134Z"
   },
   {
    "duration": 8,
    "start_time": "2022-02-09T10:24:41.144Z"
   },
   {
    "duration": 544,
    "start_time": "2022-02-09T10:24:41.154Z"
   },
   {
    "duration": 571,
    "start_time": "2022-02-09T10:24:41.700Z"
   },
   {
    "duration": 493,
    "start_time": "2022-02-09T10:24:42.273Z"
   },
   {
    "duration": 30,
    "start_time": "2022-02-09T10:24:42.768Z"
   },
   {
    "duration": 7,
    "start_time": "2022-02-09T10:24:42.800Z"
   },
   {
    "duration": 60,
    "start_time": "2022-02-09T10:24:42.809Z"
   },
   {
    "duration": 19,
    "start_time": "2022-02-09T10:24:42.880Z"
   },
   {
    "duration": 13,
    "start_time": "2022-02-09T10:24:42.901Z"
   },
   {
    "duration": 7,
    "start_time": "2022-02-09T10:24:42.915Z"
   },
   {
    "duration": 16,
    "start_time": "2022-02-09T10:30:02.585Z"
   },
   {
    "duration": 1108,
    "start_time": "2022-02-09T14:48:35.995Z"
   },
   {
    "duration": 1216,
    "start_time": "2022-02-09T14:48:37.105Z"
   },
   {
    "duration": 42,
    "start_time": "2022-02-09T14:48:38.323Z"
   },
   {
    "duration": 6,
    "start_time": "2022-02-09T14:48:38.366Z"
   },
   {
    "duration": 26,
    "start_time": "2022-02-09T14:48:38.374Z"
   },
   {
    "duration": 10,
    "start_time": "2022-02-09T14:48:38.402Z"
   },
   {
    "duration": 197,
    "start_time": "2022-02-09T14:48:38.414Z"
   },
   {
    "duration": 11,
    "start_time": "2022-02-09T14:48:38.619Z"
   },
   {
    "duration": 95,
    "start_time": "2022-02-09T14:48:38.632Z"
   },
   {
    "duration": 27,
    "start_time": "2022-02-09T14:48:38.728Z"
   },
   {
    "duration": 300,
    "start_time": "2022-02-09T14:48:38.757Z"
   },
   {
    "duration": 4,
    "start_time": "2022-02-09T14:48:39.058Z"
   },
   {
    "duration": 46,
    "start_time": "2022-02-09T14:48:39.064Z"
   },
   {
    "duration": 83,
    "start_time": "2022-02-09T14:48:39.112Z"
   },
   {
    "duration": 111,
    "start_time": "2022-02-09T14:48:39.196Z"
   },
   {
    "duration": 46,
    "start_time": "2022-02-09T14:48:39.317Z"
   },
   {
    "duration": 19,
    "start_time": "2022-02-09T14:48:39.365Z"
   },
   {
    "duration": 189,
    "start_time": "2022-02-09T14:48:39.386Z"
   },
   {
    "duration": 73,
    "start_time": "2022-02-09T14:48:39.577Z"
   },
   {
    "duration": 11,
    "start_time": "2022-02-09T14:48:39.652Z"
   },
   {
    "duration": 296,
    "start_time": "2022-02-09T14:48:39.664Z"
   },
   {
    "duration": 4,
    "start_time": "2022-02-09T14:48:39.962Z"
   },
   {
    "duration": 23,
    "start_time": "2022-02-09T14:48:39.971Z"
   },
   {
    "duration": 85,
    "start_time": "2022-02-09T14:48:39.997Z"
   },
   {
    "duration": 8,
    "start_time": "2022-02-09T14:48:40.084Z"
   },
   {
    "duration": 37,
    "start_time": "2022-02-09T14:48:40.093Z"
   },
   {
    "duration": 36,
    "start_time": "2022-02-09T14:48:40.132Z"
   },
   {
    "duration": 55,
    "start_time": "2022-02-09T14:48:40.170Z"
   },
   {
    "duration": 49,
    "start_time": "2022-02-09T14:48:40.227Z"
   },
   {
    "duration": 6,
    "start_time": "2022-02-09T14:48:40.277Z"
   },
   {
    "duration": 35,
    "start_time": "2022-02-09T14:48:40.285Z"
   },
   {
    "duration": 98,
    "start_time": "2022-02-09T14:48:40.322Z"
   },
   {
    "duration": 6,
    "start_time": "2022-02-09T14:48:40.422Z"
   },
   {
    "duration": 16,
    "start_time": "2022-02-09T14:48:40.430Z"
   },
   {
    "duration": 9,
    "start_time": "2022-02-09T14:48:40.448Z"
   },
   {
    "duration": 17,
    "start_time": "2022-02-09T14:48:40.459Z"
   },
   {
    "duration": 12,
    "start_time": "2022-02-09T14:48:40.478Z"
   },
   {
    "duration": 533,
    "start_time": "2022-02-09T14:48:40.492Z"
   },
   {
    "duration": 427,
    "start_time": "2022-02-09T14:48:41.027Z"
   },
   {
    "duration": 469,
    "start_time": "2022-02-09T14:48:41.456Z"
   },
   {
    "duration": 12,
    "start_time": "2022-02-09T14:48:41.927Z"
   },
   {
    "duration": 14,
    "start_time": "2022-02-09T14:48:41.941Z"
   },
   {
    "duration": 63,
    "start_time": "2022-02-09T14:48:41.956Z"
   },
   {
    "duration": 11,
    "start_time": "2022-02-09T14:48:42.021Z"
   },
   {
    "duration": 11,
    "start_time": "2022-02-09T14:48:42.034Z"
   },
   {
    "duration": 11,
    "start_time": "2022-02-09T14:48:42.047Z"
   },
   {
    "duration": 14,
    "start_time": "2022-02-09T14:53:28.312Z"
   }
  ],
  "kernelspec": {
   "display_name": "Python 3 (ipykernel)",
   "language": "python",
   "name": "python3"
  },
  "language_info": {
   "codemirror_mode": {
    "name": "ipython",
    "version": 3
   },
   "file_extension": ".py",
   "mimetype": "text/x-python",
   "name": "python",
   "nbconvert_exporter": "python",
   "pygments_lexer": "ipython3",
   "version": "3.9.7"
  },
  "toc": {
   "base_numbering": 1,
   "nav_menu": {},
   "number_sections": true,
   "sideBar": true,
   "skip_h1_title": true,
   "title_cell": "Table of Contents",
   "title_sidebar": "Contents",
   "toc_cell": false,
   "toc_position": {},
   "toc_section_display": true,
   "toc_window_display": false
  }
 },
 "nbformat": 4,
 "nbformat_minor": 5
}
