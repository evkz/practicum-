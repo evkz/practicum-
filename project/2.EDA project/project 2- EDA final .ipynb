{
 "cells": [
  {
   "cell_type": "markdown",
   "metadata": {},
   "source": [
    "# What sells a car?\n"
   ]
  },
  {
   "cell_type": "markdown",
   "metadata": {},
   "source": [
    "Hundreds of free advertisements for vehicles are published on Crankshaft List site every day,\n",
    "I'm going to study data collected over the last few years and determine which factors influence the price of a vehicle, by the foloowing steps:\n",
    "Identify and study missing values,\n",
    "Convert the data to the required type,\n",
    "Calculate and add to the table,\n",
    "Carry out exploratory data analysis, \n",
    "And write an overall conclusion\n"
   ]
  },
  {
   "cell_type": "markdown",
   "metadata": {},
   "source": [
    "#### Table of contents: "
   ]
  },
  {
   "cell_type": "markdown",
   "metadata": {},
   "source": [
    "* [Initialization:](#Initialization)\n",
    "\n",
    "* [Explore initial data:](#Explore-initial-data)\n",
    "\n",
    "* [Treat missing values:](#Treat-missing-values-(if-any))\n",
    "\n",
    "* [Fix data types, Enrich data:](#Fix-data-types)\n",
    "   \n",
    "* [Study core parameters](#Study-core-parameters)\n",
    "   \n",
    "* [Study and treat outliers](#Study-and-treat-outliers)\n",
    "   \n",
    "* [Study core parameters without outliers:](#Study-core-parameters-without-outliers)\n",
    "   \n",
    "   * a.[Ads-lifetime](#Ads-lifetime)\n",
    "   * b.[Average price per each type of vehicle](#Average-price-per-each-type-of-vehicle)\n",
    "   * c.[Price factors](#Price-factors)\n",
    "* [General Conclusion](#General-conclusion)"
   ]
  },
  {
   "cell_type": "markdown",
   "metadata": {},
   "source": [
    "## Initialization"
   ]
  },
  {
   "cell_type": "code",
   "execution_count": 1,
   "metadata": {},
   "outputs": [],
   "source": [
    "# Loading all the libraries\n",
    "import pandas as pd\n",
    "import numpy as np\n",
    "import matplotlib.pyplot as plt\n",
    "# from pandas_profiling import ProfileReport\n",
    "# Load the data\n",
    "try:\n",
    "    vehicles = pd.read_csv('vehicles_us.csv')\n",
    "except:\n",
    "    vehicles = pd.read_csv('/datasets/vehicles_us.csv')\n"
   ]
  },
  {
   "cell_type": "markdown",
   "metadata": {},
   "source": [
    "### Explore initial data"
   ]
  },
  {
   "cell_type": "markdown",
   "metadata": {},
   "source": [
    "The dataset contains the following fields:\n",
    "- `price`\n",
    "- `model_year`\n",
    "- `model`\n",
    "- `condition`\n",
    "- `cylinders`\n",
    "- `fuel` — gas, diesel, etc.\n",
    "- `odometer` — the vehicle's mileage when the ad was published\n",
    "- `transmission`\n",
    "- `paint_color`\n",
    "- `is_4wd` — whether the vehicle has 4-wheel drive (Boolean type)\n",
    "- `date_posted` — the date the ad was published\n",
    "- `days_listed` — from publication to removal\n"
   ]
  },
  {
   "cell_type": "code",
   "execution_count": 2,
   "metadata": {},
   "outputs": [
    {
     "name": "stdout",
     "output_type": "stream",
     "text": [
      "(51525, 13)\n",
      "*********************************\n",
      "<class 'pandas.core.frame.DataFrame'>\n",
      "RangeIndex: 51525 entries, 0 to 51524\n",
      "Data columns (total 13 columns):\n",
      " #   Column        Non-Null Count  Dtype  \n",
      "---  ------        --------------  -----  \n",
      " 0   price         51525 non-null  int64  \n",
      " 1   model_year    47906 non-null  float64\n",
      " 2   model         51525 non-null  object \n",
      " 3   condition     51525 non-null  object \n",
      " 4   cylinders     46265 non-null  float64\n",
      " 5   fuel          51525 non-null  object \n",
      " 6   odometer      43633 non-null  float64\n",
      " 7   transmission  51525 non-null  object \n",
      " 8   type          51525 non-null  object \n",
      " 9   paint_color   42258 non-null  object \n",
      " 10  is_4wd        25572 non-null  float64\n",
      " 11  date_posted   51525 non-null  object \n",
      " 12  days_listed   51525 non-null  int64  \n",
      "dtypes: float64(4), int64(2), object(7)\n",
      "memory usage: 5.1+ MB\n",
      "*********************************\n"
     ]
    },
    {
     "data": {
      "text/html": [
       "<div>\n",
       "<style scoped>\n",
       "    .dataframe tbody tr th:only-of-type {\n",
       "        vertical-align: middle;\n",
       "    }\n",
       "\n",
       "    .dataframe tbody tr th {\n",
       "        vertical-align: top;\n",
       "    }\n",
       "\n",
       "    .dataframe thead th {\n",
       "        text-align: right;\n",
       "    }\n",
       "</style>\n",
       "<table border=\"1\" class=\"dataframe\">\n",
       "  <thead>\n",
       "    <tr style=\"text-align: right;\">\n",
       "      <th></th>\n",
       "      <th>count</th>\n",
       "      <th>unique</th>\n",
       "      <th>top</th>\n",
       "      <th>freq</th>\n",
       "      <th>mean</th>\n",
       "      <th>std</th>\n",
       "      <th>min</th>\n",
       "      <th>25%</th>\n",
       "      <th>50%</th>\n",
       "      <th>75%</th>\n",
       "      <th>max</th>\n",
       "    </tr>\n",
       "  </thead>\n",
       "  <tbody>\n",
       "    <tr>\n",
       "      <th>price</th>\n",
       "      <td>51525.0</td>\n",
       "      <td>NaN</td>\n",
       "      <td>NaN</td>\n",
       "      <td>NaN</td>\n",
       "      <td>12132.46492</td>\n",
       "      <td>10040.803015</td>\n",
       "      <td>1.0</td>\n",
       "      <td>5000.0</td>\n",
       "      <td>9000.0</td>\n",
       "      <td>16839.0</td>\n",
       "      <td>375000.0</td>\n",
       "    </tr>\n",
       "    <tr>\n",
       "      <th>model_year</th>\n",
       "      <td>47906.0</td>\n",
       "      <td>NaN</td>\n",
       "      <td>NaN</td>\n",
       "      <td>NaN</td>\n",
       "      <td>2009.75047</td>\n",
       "      <td>6.282065</td>\n",
       "      <td>1908.0</td>\n",
       "      <td>2006.0</td>\n",
       "      <td>2011.0</td>\n",
       "      <td>2014.0</td>\n",
       "      <td>2019.0</td>\n",
       "    </tr>\n",
       "    <tr>\n",
       "      <th>model</th>\n",
       "      <td>51525</td>\n",
       "      <td>100</td>\n",
       "      <td>ford f-150</td>\n",
       "      <td>2796</td>\n",
       "      <td>NaN</td>\n",
       "      <td>NaN</td>\n",
       "      <td>NaN</td>\n",
       "      <td>NaN</td>\n",
       "      <td>NaN</td>\n",
       "      <td>NaN</td>\n",
       "      <td>NaN</td>\n",
       "    </tr>\n",
       "    <tr>\n",
       "      <th>condition</th>\n",
       "      <td>51525</td>\n",
       "      <td>6</td>\n",
       "      <td>excellent</td>\n",
       "      <td>24773</td>\n",
       "      <td>NaN</td>\n",
       "      <td>NaN</td>\n",
       "      <td>NaN</td>\n",
       "      <td>NaN</td>\n",
       "      <td>NaN</td>\n",
       "      <td>NaN</td>\n",
       "      <td>NaN</td>\n",
       "    </tr>\n",
       "    <tr>\n",
       "      <th>cylinders</th>\n",
       "      <td>46265.0</td>\n",
       "      <td>NaN</td>\n",
       "      <td>NaN</td>\n",
       "      <td>NaN</td>\n",
       "      <td>6.125235</td>\n",
       "      <td>1.66036</td>\n",
       "      <td>3.0</td>\n",
       "      <td>4.0</td>\n",
       "      <td>6.0</td>\n",
       "      <td>8.0</td>\n",
       "      <td>12.0</td>\n",
       "    </tr>\n",
       "    <tr>\n",
       "      <th>fuel</th>\n",
       "      <td>51525</td>\n",
       "      <td>5</td>\n",
       "      <td>gas</td>\n",
       "      <td>47288</td>\n",
       "      <td>NaN</td>\n",
       "      <td>NaN</td>\n",
       "      <td>NaN</td>\n",
       "      <td>NaN</td>\n",
       "      <td>NaN</td>\n",
       "      <td>NaN</td>\n",
       "      <td>NaN</td>\n",
       "    </tr>\n",
       "    <tr>\n",
       "      <th>odometer</th>\n",
       "      <td>43633.0</td>\n",
       "      <td>NaN</td>\n",
       "      <td>NaN</td>\n",
       "      <td>NaN</td>\n",
       "      <td>115553.461738</td>\n",
       "      <td>65094.611341</td>\n",
       "      <td>0.0</td>\n",
       "      <td>70000.0</td>\n",
       "      <td>113000.0</td>\n",
       "      <td>155000.0</td>\n",
       "      <td>990000.0</td>\n",
       "    </tr>\n",
       "    <tr>\n",
       "      <th>transmission</th>\n",
       "      <td>51525</td>\n",
       "      <td>3</td>\n",
       "      <td>automatic</td>\n",
       "      <td>46902</td>\n",
       "      <td>NaN</td>\n",
       "      <td>NaN</td>\n",
       "      <td>NaN</td>\n",
       "      <td>NaN</td>\n",
       "      <td>NaN</td>\n",
       "      <td>NaN</td>\n",
       "      <td>NaN</td>\n",
       "    </tr>\n",
       "    <tr>\n",
       "      <th>type</th>\n",
       "      <td>51525</td>\n",
       "      <td>13</td>\n",
       "      <td>SUV</td>\n",
       "      <td>12405</td>\n",
       "      <td>NaN</td>\n",
       "      <td>NaN</td>\n",
       "      <td>NaN</td>\n",
       "      <td>NaN</td>\n",
       "      <td>NaN</td>\n",
       "      <td>NaN</td>\n",
       "      <td>NaN</td>\n",
       "    </tr>\n",
       "    <tr>\n",
       "      <th>paint_color</th>\n",
       "      <td>42258</td>\n",
       "      <td>12</td>\n",
       "      <td>white</td>\n",
       "      <td>10029</td>\n",
       "      <td>NaN</td>\n",
       "      <td>NaN</td>\n",
       "      <td>NaN</td>\n",
       "      <td>NaN</td>\n",
       "      <td>NaN</td>\n",
       "      <td>NaN</td>\n",
       "      <td>NaN</td>\n",
       "    </tr>\n",
       "    <tr>\n",
       "      <th>is_4wd</th>\n",
       "      <td>25572.0</td>\n",
       "      <td>NaN</td>\n",
       "      <td>NaN</td>\n",
       "      <td>NaN</td>\n",
       "      <td>1.0</td>\n",
       "      <td>0.0</td>\n",
       "      <td>1.0</td>\n",
       "      <td>1.0</td>\n",
       "      <td>1.0</td>\n",
       "      <td>1.0</td>\n",
       "      <td>1.0</td>\n",
       "    </tr>\n",
       "    <tr>\n",
       "      <th>date_posted</th>\n",
       "      <td>51525</td>\n",
       "      <td>354</td>\n",
       "      <td>2019-03-17</td>\n",
       "      <td>186</td>\n",
       "      <td>NaN</td>\n",
       "      <td>NaN</td>\n",
       "      <td>NaN</td>\n",
       "      <td>NaN</td>\n",
       "      <td>NaN</td>\n",
       "      <td>NaN</td>\n",
       "      <td>NaN</td>\n",
       "    </tr>\n",
       "    <tr>\n",
       "      <th>days_listed</th>\n",
       "      <td>51525.0</td>\n",
       "      <td>NaN</td>\n",
       "      <td>NaN</td>\n",
       "      <td>NaN</td>\n",
       "      <td>39.55476</td>\n",
       "      <td>28.20427</td>\n",
       "      <td>0.0</td>\n",
       "      <td>19.0</td>\n",
       "      <td>33.0</td>\n",
       "      <td>53.0</td>\n",
       "      <td>271.0</td>\n",
       "    </tr>\n",
       "  </tbody>\n",
       "</table>\n",
       "</div>"
      ],
      "text/plain": [
       "                count unique         top   freq           mean           std  \\\n",
       "price         51525.0    NaN         NaN    NaN    12132.46492  10040.803015   \n",
       "model_year    47906.0    NaN         NaN    NaN     2009.75047      6.282065   \n",
       "model           51525    100  ford f-150   2796            NaN           NaN   \n",
       "condition       51525      6   excellent  24773            NaN           NaN   \n",
       "cylinders     46265.0    NaN         NaN    NaN       6.125235       1.66036   \n",
       "fuel            51525      5         gas  47288            NaN           NaN   \n",
       "odometer      43633.0    NaN         NaN    NaN  115553.461738  65094.611341   \n",
       "transmission    51525      3   automatic  46902            NaN           NaN   \n",
       "type            51525     13         SUV  12405            NaN           NaN   \n",
       "paint_color     42258     12       white  10029            NaN           NaN   \n",
       "is_4wd        25572.0    NaN         NaN    NaN            1.0           0.0   \n",
       "date_posted     51525    354  2019-03-17    186            NaN           NaN   \n",
       "days_listed   51525.0    NaN         NaN    NaN       39.55476      28.20427   \n",
       "\n",
       "                 min      25%       50%       75%       max  \n",
       "price            1.0   5000.0    9000.0   16839.0  375000.0  \n",
       "model_year    1908.0   2006.0    2011.0    2014.0    2019.0  \n",
       "model            NaN      NaN       NaN       NaN       NaN  \n",
       "condition        NaN      NaN       NaN       NaN       NaN  \n",
       "cylinders        3.0      4.0       6.0       8.0      12.0  \n",
       "fuel             NaN      NaN       NaN       NaN       NaN  \n",
       "odometer         0.0  70000.0  113000.0  155000.0  990000.0  \n",
       "transmission     NaN      NaN       NaN       NaN       NaN  \n",
       "type             NaN      NaN       NaN       NaN       NaN  \n",
       "paint_color      NaN      NaN       NaN       NaN       NaN  \n",
       "is_4wd           1.0      1.0       1.0       1.0       1.0  \n",
       "date_posted      NaN      NaN       NaN       NaN       NaN  \n",
       "days_listed      0.0     19.0      33.0      53.0     271.0  "
      ]
     },
     "execution_count": 2,
     "metadata": {},
     "output_type": "execute_result"
    }
   ],
   "source": [
    "# print the general/summary information about the DataFrame\n",
    "print(vehicles.shape)\n",
    "print('*********************************')\n",
    "vehicles.info()\n",
    "print('*********************************')\n",
    "vehicles.describe(include='all').T"
   ]
  },
  {
   "cell_type": "code",
   "execution_count": 3,
   "metadata": {},
   "outputs": [
    {
     "name": "stdout",
     "output_type": "stream",
     "text": [
      "   price  model_year           model  condition  cylinders fuel  odometer  \\\n",
      "0   9400      2011.0          bmw x5       good        6.0  gas  145000.0   \n",
      "1  25500         NaN      ford f-150       good        6.0  gas   88705.0   \n",
      "2   5500      2013.0  hyundai sonata   like new        4.0  gas  110000.0   \n",
      "3   1500      2003.0      ford f-150       fair        8.0  gas       NaN   \n",
      "4  14900      2017.0    chrysler 200  excellent        4.0  gas   80903.0   \n",
      "\n",
      "  transmission    type paint_color  is_4wd date_posted  days_listed  \n",
      "0    automatic     SUV         NaN     1.0  2018-06-23           19  \n",
      "1    automatic  pickup       white     1.0  2018-10-19           50  \n",
      "2    automatic   sedan         red     NaN  2019-02-07           79  \n",
      "3    automatic  pickup         NaN     NaN  2019-03-22            9  \n",
      "4    automatic   sedan       black     NaN  2019-04-02           28  \n"
     ]
    }
   ],
   "source": [
    "# print a sample of data\n",
    "print(vehicles.head())\n"
   ]
  },
  {
   "cell_type": "markdown",
   "metadata": {},
   "source": [
    "Therse are missing values at 5/13 columns:\n",
    "\n",
    "'model_year':    3,619/  51,525\n",
    "\n",
    "'cylinders':     5,260/  51,525\n",
    "\n",
    "'odometer':      7,892/  51,525\n",
    "\n",
    "'paint_color':    9,267/  51,525\n",
    "\n",
    "'is_4wd':         25,953/ 51,525\n"
   ]
  },
  {
   "cell_type": "code",
   "execution_count": 4,
   "metadata": {},
   "outputs": [
    {
     "data": {
      "text/plain": [
       "0       2018-06-23\n",
       "1       2018-10-19\n",
       "2       2019-02-07\n",
       "3       2019-03-22\n",
       "4       2019-04-02\n",
       "           ...    \n",
       "51520   2018-10-03\n",
       "51521   2018-11-14\n",
       "51522   2018-11-15\n",
       "51523   2018-07-02\n",
       "51524   2018-06-05\n",
       "Name: date_posted, Length: 51525, dtype: datetime64[ns]"
      ]
     },
     "execution_count": 4,
     "metadata": {},
     "output_type": "execute_result"
    }
   ],
   "source": [
    "# change 'date_posted' column from object to datetime\n",
    "pd.to_datetime(vehicles['date_posted'], format='%Y.%m.%d')"
   ]
  },
  {
   "cell_type": "markdown",
   "metadata": {},
   "source": [
    "## Treat missing values (if any)"
   ]
  },
  {
   "cell_type": "markdown",
   "metadata": {},
   "source": [
    "**'is_4wd' column is Boolian type, Im assuming that the empty cell should be '0' since all the other cells contain '1'**"
   ]
  },
  {
   "cell_type": "code",
   "execution_count": 5,
   "metadata": {},
   "outputs": [
    {
     "name": "stdout",
     "output_type": "stream",
     "text": [
      "is_4wd: 0\n"
     ]
    }
   ],
   "source": [
    "# filling the 'is_4wd' columns, Its obvious that the Nan vulues suppose to be F- 0.\n",
    "vehicles['is_4wd']= vehicles['is_4wd'].fillna(value='0')\n",
    "print('is_4wd:', len(vehicles[vehicles['is_4wd'].isnull()]))"
   ]
  },
  {
   "cell_type": "markdown",
   "metadata": {},
   "source": [
    "Im going to fill 'model_year' empty cell with the median year for every car model: \n",
    "relevant year is >1990 by the Interactions in ProfileReport for model and model year, we can see they interct start from 1990"
   ]
  },
  {
   "cell_type": "code",
   "execution_count": 6,
   "metadata": {},
   "outputs": [
    {
     "data": {
      "text/plain": [
       "0"
      ]
     },
     "execution_count": 6,
     "metadata": {},
     "output_type": "execute_result"
    }
   ],
   "source": [
    "relevant_years = vehicles.query('model_year>1990')\n",
    "group_years = relevant_years.groupby('model')['model_year'].median().round()\n",
    "\n",
    "for i in group_years.index:\n",
    "    vehicles.loc[(vehicles['model']== i)& vehicles['model_year'].isnull(), 'model_year']= group_years[i]\n",
    "\n",
    "len(vehicles[vehicles['model_year'].isnull() == 1])"
   ]
  },
  {
   "cell_type": "markdown",
   "metadata": {},
   "source": [
    "I'm going to fill the 'cylinders' missing valuse with the maximum number of cylinders in type, and model sub group:"
   ]
  },
  {
   "cell_type": "code",
   "execution_count": 7,
   "metadata": {},
   "outputs": [
    {
     "data": {
      "text/plain": [
       "15"
      ]
     },
     "execution_count": 7,
     "metadata": {},
     "output_type": "execute_result"
    }
   ],
   "source": [
    "vehicles['cylinders']=vehicles.groupby(['type','model'])['cylinders'].transform(\n",
    "    lambda grp: grp.fillna(grp.mode().max()))\n",
    "\n",
    "len(vehicles[vehicles['cylinders'].isnull()==1])"
   ]
  },
  {
   "cell_type": "markdown",
   "metadata": {},
   "source": [
    "There is still 15 missing values, Im going to fill it with the maximum number of cylinders in type sub group:"
   ]
  },
  {
   "cell_type": "code",
   "execution_count": 8,
   "metadata": {},
   "outputs": [
    {
     "data": {
      "text/plain": [
       "0"
      ]
     },
     "execution_count": 8,
     "metadata": {},
     "output_type": "execute_result"
    }
   ],
   "source": [
    "vehicles['cylinders']=vehicles.groupby(['type'])['cylinders'].transform(\n",
    "    lambda grp: grp.fillna(grp.mode().max()))\n",
    "len(vehicles[vehicles['cylinders'].isnull()==1])"
   ]
  },
  {
   "cell_type": "markdown",
   "metadata": {},
   "source": [
    "There is no way to guss the car paint, I'll set the mising values as unknown"
   ]
  },
  {
   "cell_type": "code",
   "execution_count": 9,
   "metadata": {
    "scrolled": true
   },
   "outputs": [
    {
     "data": {
      "text/plain": [
       "0"
      ]
     },
     "execution_count": 9,
     "metadata": {},
     "output_type": "execute_result"
    }
   ],
   "source": [
    "vehicles['paint_color']=vehicles['paint_color'].fillna('unknown')\n",
    "\n",
    "len(vehicles[vehicles['paint_color'].isnull()==1])"
   ]
  },
  {
   "cell_type": "markdown",
   "metadata": {},
   "source": [
    "Im going to fill 'odometer' empty cell with the median odometer for every  model year: \n",
    "relevant odometer is >1990 by the Interactions in ProfileReport for odometer and model year, we can see they interct under 300K"
   ]
  },
  {
   "cell_type": "code",
   "execution_count": 10,
   "metadata": {},
   "outputs": [
    {
     "data": {
      "text/plain": [
       "1"
      ]
     },
     "execution_count": 10,
     "metadata": {},
     "output_type": "execute_result"
    }
   ],
   "source": [
    "relevant_years = vehicles.query('odometer < 300000')\n",
    "group_years = relevant_years.groupby('model_year')['odometer'].median().round()\n",
    "\n",
    "for i in group_years.index:\n",
    "    vehicles.loc[(vehicles['model_year']== i)& vehicles['odometer'].isnull(), 'odometer']= group_years[i]\n",
    "\n",
    "len(vehicles[vehicles['odometer'].isnull() == 1])\n"
   ]
  },
  {
   "cell_type": "code",
   "execution_count": 11,
   "metadata": {},
   "outputs": [
    {
     "data": {
      "text/html": [
       "<div>\n",
       "<style scoped>\n",
       "    .dataframe tbody tr th:only-of-type {\n",
       "        vertical-align: middle;\n",
       "    }\n",
       "\n",
       "    .dataframe tbody tr th {\n",
       "        vertical-align: top;\n",
       "    }\n",
       "\n",
       "    .dataframe thead th {\n",
       "        text-align: right;\n",
       "    }\n",
       "</style>\n",
       "<table border=\"1\" class=\"dataframe\">\n",
       "  <thead>\n",
       "    <tr style=\"text-align: right;\">\n",
       "      <th></th>\n",
       "      <th>price</th>\n",
       "      <th>model_year</th>\n",
       "      <th>model</th>\n",
       "      <th>condition</th>\n",
       "      <th>cylinders</th>\n",
       "      <th>fuel</th>\n",
       "      <th>odometer</th>\n",
       "      <th>transmission</th>\n",
       "      <th>type</th>\n",
       "      <th>paint_color</th>\n",
       "      <th>is_4wd</th>\n",
       "      <th>date_posted</th>\n",
       "      <th>days_listed</th>\n",
       "    </tr>\n",
       "  </thead>\n",
       "  <tbody>\n",
       "    <tr>\n",
       "      <th>45694</th>\n",
       "      <td>18000</td>\n",
       "      <td>1929.0</td>\n",
       "      <td>ford f-150</td>\n",
       "      <td>good</td>\n",
       "      <td>8.0</td>\n",
       "      <td>gas</td>\n",
       "      <td>NaN</td>\n",
       "      <td>manual</td>\n",
       "      <td>other</td>\n",
       "      <td>silver</td>\n",
       "      <td>0</td>\n",
       "      <td>2018-11-18</td>\n",
       "      <td>59</td>\n",
       "    </tr>\n",
       "  </tbody>\n",
       "</table>\n",
       "</div>"
      ],
      "text/plain": [
       "       price  model_year       model condition  cylinders fuel  odometer  \\\n",
       "45694  18000      1929.0  ford f-150      good        8.0  gas       NaN   \n",
       "\n",
       "      transmission   type paint_color is_4wd date_posted  days_listed  \n",
       "45694       manual  other      silver      0  2018-11-18           59  "
      ]
     },
     "execution_count": 11,
     "metadata": {},
     "output_type": "execute_result"
    }
   ],
   "source": [
    "vehicles[vehicles['odometer'].isnull() == 1]"
   ]
  },
  {
   "cell_type": "code",
   "execution_count": 12,
   "metadata": {},
   "outputs": [
    {
     "name": "stdout",
     "output_type": "stream",
     "text": [
      "<class 'pandas.core.frame.DataFrame'>\n",
      "RangeIndex: 51525 entries, 0 to 51524\n",
      "Data columns (total 13 columns):\n",
      " #   Column        Non-Null Count  Dtype  \n",
      "---  ------        --------------  -----  \n",
      " 0   price         51525 non-null  int64  \n",
      " 1   model_year    51525 non-null  float64\n",
      " 2   model         51525 non-null  object \n",
      " 3   condition     51525 non-null  object \n",
      " 4   cylinders     51525 non-null  float64\n",
      " 5   fuel          51525 non-null  object \n",
      " 6   odometer      51525 non-null  float64\n",
      " 7   transmission  51525 non-null  object \n",
      " 8   type          51525 non-null  object \n",
      " 9   paint_color   51525 non-null  object \n",
      " 10  is_4wd        51525 non-null  object \n",
      " 11  date_posted   51525 non-null  object \n",
      " 12  days_listed   51525 non-null  int64  \n",
      "dtypes: float64(3), int64(2), object(8)\n",
      "memory usage: 5.1+ MB\n"
     ]
    }
   ],
   "source": [
    "max_odometer= vehicles['odometer'].max()\n",
    "vehicles.loc[vehicles['odometer'].isnull()==1, 'odometer'] =max_odometer\n",
    "vehicles.info()"
   ]
  },
  {
   "cell_type": "markdown",
   "metadata": {},
   "source": [
    "## Fix data types"
   ]
  },
  {
   "cell_type": "code",
   "execution_count": 13,
   "metadata": {},
   "outputs": [],
   "source": [
    "vehicles['model_year'] = vehicles['model_year'].astype(int)\n",
    "vehicles['cylinders'] = vehicles['cylinders'].astype(int)\n",
    "vehicles['odometer'] = vehicles['odometer'].astype(int)\n",
    "vehicles['is_4wd'] = vehicles['is_4wd'].astype(bool)"
   ]
  },
  {
   "cell_type": "markdown",
   "metadata": {},
   "source": [
    "## Enrich data"
   ]
  },
  {
   "cell_type": "code",
   "execution_count": 14,
   "metadata": {},
   "outputs": [
    {
     "name": "stdout",
     "output_type": "stream",
     "text": [
      "   price  model_year           model  condition  cylinders fuel  odometer  \\\n",
      "0   9400        2011          bmw x5       good          6  gas    145000   \n",
      "1  25500        2011      ford f-150       good          6  gas     88705   \n",
      "2   5500        2013  hyundai sonata   like new          4  gas    110000   \n",
      "3   1500        2003      ford f-150       fair          8  gas    160000   \n",
      "4  14900        2017    chrysler 200  excellent          4  gas     80903   \n",
      "\n",
      "  transmission    type paint_color  is_4wd date_posted  days_listed  \\\n",
      "0    automatic     SUV     unknown    True  2018-06-23           19   \n",
      "1    automatic  pickup       white    True  2018-10-19           50   \n",
      "2    automatic   sedan         red    True  2019-02-07           79   \n",
      "3    automatic  pickup     unknown    True  2019-03-22            9   \n",
      "4    automatic   sedan       black    True  2019-04-02           28   \n",
      "\n",
      "   day_posted  month_posted  year_posted  \n",
      "0          23             6         2018  \n",
      "1          19            10         2018  \n",
      "2           7             2         2019  \n",
      "3          22             3         2019  \n",
      "4           2             4         2019  \n"
     ]
    }
   ],
   "source": [
    "# Add datetime values for when the ad was placed\n",
    "vehicles['day_posted'] = pd.DatetimeIndex(vehicles['date_posted']).day\n",
    "vehicles['month_posted'] = pd.DatetimeIndex(vehicles['date_posted']).month\n",
    "vehicles['year_posted'] = pd.DatetimeIndex(vehicles['date_posted']).year\n",
    "print(vehicles.head())"
   ]
  },
  {
   "cell_type": "code",
   "execution_count": 15,
   "metadata": {},
   "outputs": [
    {
     "name": "stdout",
     "output_type": "stream",
     "text": [
      "   price  model_year           model  condition  cylinders fuel  odometer  \\\n",
      "0   9400        2011          bmw x5       good          6  gas    145000   \n",
      "1  25500        2011      ford f-150       good          6  gas     88705   \n",
      "2   5500        2013  hyundai sonata   like new          4  gas    110000   \n",
      "3   1500        2003      ford f-150       fair          8  gas    160000   \n",
      "4  14900        2017    chrysler 200  excellent          4  gas     80903   \n",
      "\n",
      "  transmission    type paint_color  is_4wd date_posted  days_listed  \\\n",
      "0    automatic     SUV     unknown    True  2018-06-23           19   \n",
      "1    automatic  pickup       white    True  2018-10-19           50   \n",
      "2    automatic   sedan         red    True  2019-02-07           79   \n",
      "3    automatic  pickup     unknown    True  2019-03-22            9   \n",
      "4    automatic   sedan       black    True  2019-04-02           28   \n",
      "\n",
      "   day_posted  month_posted  year_posted  age  \n",
      "0          23             6         2018    7  \n",
      "1          19            10         2018    7  \n",
      "2           7             2         2019    6  \n",
      "3          22             3         2019   16  \n",
      "4           2             4         2019    2  \n"
     ]
    }
   ],
   "source": [
    "# Add the vehicle's age when the ad was placed\n",
    "\n",
    "vehicles['age']= vehicles['year_posted']- vehicles['model_year']\n",
    "print(vehicles.head())"
   ]
  },
  {
   "cell_type": "code",
   "execution_count": 16,
   "metadata": {},
   "outputs": [
    {
     "name": "stdout",
     "output_type": "stream",
     "text": [
      "       price  model_year                        model  condition  cylinders  \\\n",
      "19     13990        2018              hyundai elantra  excellent          4   \n",
      "71     23300        2018  nissan frontier crew cab sv       good          6   \n",
      "78     23800        2019  nissan frontier crew cab sv       good          6   \n",
      "99     39950        2018          chevrolet silverado  excellent          8   \n",
      "106    21500        2019  nissan frontier crew cab sv       good          6   \n",
      "...      ...         ...                          ...        ...        ...   \n",
      "51376  27890        2018                     ram 1500  excellent          8   \n",
      "51442  28990        2018                    ford f150  excellent          8   \n",
      "51446  15999        2018             chevrolet malibu  excellent          4   \n",
      "51447  33990        2019                     ram 1500  excellent          8   \n",
      "51504  20481        2018                 toyota camry   like new          4   \n",
      "\n",
      "      fuel  odometer transmission    type paint_color  is_4wd date_posted  \\\n",
      "19     gas     31932    automatic   sedan         red    True  2018-08-25   \n",
      "71     gas     27493        other  pickup     unknown    True  2018-10-13   \n",
      "78     gas     10899        other  pickup      silver    True  2019-02-28   \n",
      "99     gas     18500    automatic   truck     unknown    True  2018-08-05   \n",
      "106    gas     16168        other  pickup       white    True  2019-03-29   \n",
      "...    ...       ...          ...     ...         ...     ...         ...   \n",
      "51376  gas      9446    automatic   truck     unknown    True  2018-05-06   \n",
      "51442  gas     10152    automatic   truck       white    True  2018-06-13   \n",
      "51446  gas     50502    automatic   sedan       black    True  2018-07-28   \n",
      "51447  gas      9000    automatic   truck       white    True  2019-01-25   \n",
      "51504  gas     38590    automatic   sedan      silver    True  2018-12-06   \n",
      "\n",
      "       days_listed  day_posted  month_posted  year_posted  age  \n",
      "19              27          25             8         2018    0  \n",
      "71              36          13            10         2018    0  \n",
      "78              30          28             2         2019    0  \n",
      "99              16           5             8         2018    0  \n",
      "106             70          29             3         2019    0  \n",
      "...            ...         ...           ...          ...  ...  \n",
      "51376           39           6             5         2018    0  \n",
      "51442           47          13             6         2018    0  \n",
      "51446            8          28             7         2018    0  \n",
      "51447           36          25             1         2019    0  \n",
      "51504            4           6            12         2018    0  \n",
      "\n",
      "[2152 rows x 17 columns]\n"
     ]
    }
   ],
   "source": [
    "# for cells where age==0, we going to have inf for age, need to fix it:\n",
    "print(vehicles.query('age==0'))"
   ]
  },
  {
   "cell_type": "code",
   "execution_count": 17,
   "metadata": {},
   "outputs": [
    {
     "name": "stdout",
     "output_type": "stream",
     "text": [
      "   price  model_year           model  condition  cylinders fuel  odometer  \\\n",
      "0   9400        2011          bmw x5       good          6  gas    145000   \n",
      "1  25500        2011      ford f-150       good          6  gas     88705   \n",
      "2   5500        2013  hyundai sonata   like new          4  gas    110000   \n",
      "3   1500        2003      ford f-150       fair          8  gas    160000   \n",
      "4  14900        2017    chrysler 200  excellent          4  gas     80903   \n",
      "\n",
      "  transmission    type paint_color  is_4wd date_posted  days_listed  \\\n",
      "0    automatic     SUV     unknown    True  2018-06-23           19   \n",
      "1    automatic  pickup       white    True  2018-10-19           50   \n",
      "2    automatic   sedan         red    True  2019-02-07           79   \n",
      "3    automatic  pickup     unknown    True  2019-03-22            9   \n",
      "4    automatic   sedan       black    True  2019-04-02           28   \n",
      "\n",
      "   day_posted  month_posted  year_posted  age  average_mileage  \n",
      "0          23             6         2018    7     20714.285714  \n",
      "1          19            10         2018    7     12672.142857  \n",
      "2           7             2         2019    6     18333.333333  \n",
      "3          22             3         2019   16     10000.000000  \n",
      "4           2             4         2019    2     40451.500000  \n"
     ]
    }
   ],
   "source": [
    "# Add the vehicle's average mileage per year\n",
    "\n",
    "vehicles['average_mileage']= vehicles['odometer']/ vehicles['age']\n",
    "\n",
    "# set the odometer value for average_milaeage for age==0:\n",
    "vehicles.loc[vehicles['age']==0, 'average_mileage']= vehicles['odometer']\n",
    "\n",
    "print(vehicles.head())"
   ]
  },
  {
   "cell_type": "code",
   "execution_count": 18,
   "metadata": {},
   "outputs": [
    {
     "name": "stdout",
     "output_type": "stream",
     "text": [
      "Empty DataFrame\n",
      "Columns: [price, model_year, model, condition, cylinders, fuel, odometer, transmission, type, paint_color, is_4wd, date_posted, days_listed, day_posted, month_posted, year_posted, age, average_mileage]\n",
      "Index: []\n"
     ]
    }
   ],
   "source": [
    "#check if the correction works:\n",
    "print(vehicles.query('average_mileage == inf'))"
   ]
  },
  {
   "cell_type": "code",
   "execution_count": 19,
   "metadata": {},
   "outputs": [],
   "source": [
    "# turn average_mileage column to int\n",
    "\n",
    "vehicles['average_mileage'] = vehicles['average_mileage'].astype(int)"
   ]
  },
  {
   "cell_type": "code",
   "execution_count": 20,
   "metadata": {},
   "outputs": [
    {
     "name": "stdout",
     "output_type": "stream",
     "text": [
      "[2 4 1 3 0 5]\n"
     ]
    }
   ],
   "source": [
    "# It might help to replace the condition values with something that can be manipulated more easily\n",
    "vehicles['condition']=vehicles['condition'].replace({\n",
    "     \"new\": 5,\n",
    "     \"like new\": 4,\n",
    "     \"excellent\": 3,\n",
    "     \"good\": 2,\n",
    "     \"fair\": 1,\n",
    "     \"salvage\": 0\n",
    " })\n",
    " \n",
    "print(vehicles['condition'].unique())"
   ]
  },
  {
   "cell_type": "markdown",
   "metadata": {},
   "source": []
  },
  {
   "cell_type": "markdown",
   "metadata": {},
   "source": [
    "## Check clean data"
   ]
  },
  {
   "cell_type": "code",
   "execution_count": 21,
   "metadata": {},
   "outputs": [
    {
     "name": "stdout",
     "output_type": "stream",
     "text": [
      "<class 'pandas.core.frame.DataFrame'>\n",
      "RangeIndex: 51525 entries, 0 to 51524\n",
      "Data columns (total 18 columns):\n",
      " #   Column           Non-Null Count  Dtype \n",
      "---  ------           --------------  ----- \n",
      " 0   price            51525 non-null  int64 \n",
      " 1   model_year       51525 non-null  int32 \n",
      " 2   model            51525 non-null  object\n",
      " 3   condition        51525 non-null  int64 \n",
      " 4   cylinders        51525 non-null  int32 \n",
      " 5   fuel             51525 non-null  object\n",
      " 6   odometer         51525 non-null  int32 \n",
      " 7   transmission     51525 non-null  object\n",
      " 8   type             51525 non-null  object\n",
      " 9   paint_color      51525 non-null  object\n",
      " 10  is_4wd           51525 non-null  bool  \n",
      " 11  date_posted      51525 non-null  object\n",
      " 12  days_listed      51525 non-null  int64 \n",
      " 13  day_posted       51525 non-null  int64 \n",
      " 14  month_posted     51525 non-null  int64 \n",
      " 15  year_posted      51525 non-null  int64 \n",
      " 16  age              51525 non-null  int64 \n",
      " 17  average_mileage  51525 non-null  int32 \n",
      "dtypes: bool(1), int32(4), int64(7), object(6)\n",
      "memory usage: 5.9+ MB\n"
     ]
    },
    {
     "data": {
      "text/html": [
       "<div>\n",
       "<style scoped>\n",
       "    .dataframe tbody tr th:only-of-type {\n",
       "        vertical-align: middle;\n",
       "    }\n",
       "\n",
       "    .dataframe tbody tr th {\n",
       "        vertical-align: top;\n",
       "    }\n",
       "\n",
       "    .dataframe thead th {\n",
       "        text-align: right;\n",
       "    }\n",
       "</style>\n",
       "<table border=\"1\" class=\"dataframe\">\n",
       "  <thead>\n",
       "    <tr style=\"text-align: right;\">\n",
       "      <th></th>\n",
       "      <th>count</th>\n",
       "      <th>unique</th>\n",
       "      <th>top</th>\n",
       "      <th>freq</th>\n",
       "      <th>mean</th>\n",
       "      <th>std</th>\n",
       "      <th>min</th>\n",
       "      <th>25%</th>\n",
       "      <th>50%</th>\n",
       "      <th>75%</th>\n",
       "      <th>max</th>\n",
       "    </tr>\n",
       "  </thead>\n",
       "  <tbody>\n",
       "    <tr>\n",
       "      <th>price</th>\n",
       "      <td>51525.0</td>\n",
       "      <td>NaN</td>\n",
       "      <td>NaN</td>\n",
       "      <td>NaN</td>\n",
       "      <td>12132.46492</td>\n",
       "      <td>10040.803015</td>\n",
       "      <td>1.0</td>\n",
       "      <td>5000.0</td>\n",
       "      <td>9000.0</td>\n",
       "      <td>16839.0</td>\n",
       "      <td>375000.0</td>\n",
       "    </tr>\n",
       "    <tr>\n",
       "      <th>model_year</th>\n",
       "      <td>51525.0</td>\n",
       "      <td>NaN</td>\n",
       "      <td>NaN</td>\n",
       "      <td>NaN</td>\n",
       "      <td>2009.798409</td>\n",
       "      <td>6.094915</td>\n",
       "      <td>1908.0</td>\n",
       "      <td>2007.0</td>\n",
       "      <td>2011.0</td>\n",
       "      <td>2014.0</td>\n",
       "      <td>2019.0</td>\n",
       "    </tr>\n",
       "    <tr>\n",
       "      <th>model</th>\n",
       "      <td>51525</td>\n",
       "      <td>100</td>\n",
       "      <td>ford f-150</td>\n",
       "      <td>2796</td>\n",
       "      <td>NaN</td>\n",
       "      <td>NaN</td>\n",
       "      <td>NaN</td>\n",
       "      <td>NaN</td>\n",
       "      <td>NaN</td>\n",
       "      <td>NaN</td>\n",
       "      <td>NaN</td>\n",
       "    </tr>\n",
       "    <tr>\n",
       "      <th>condition</th>\n",
       "      <td>51525.0</td>\n",
       "      <td>NaN</td>\n",
       "      <td>NaN</td>\n",
       "      <td>NaN</td>\n",
       "      <td>2.637535</td>\n",
       "      <td>0.712447</td>\n",
       "      <td>0.0</td>\n",
       "      <td>2.0</td>\n",
       "      <td>3.0</td>\n",
       "      <td>3.0</td>\n",
       "      <td>5.0</td>\n",
       "    </tr>\n",
       "    <tr>\n",
       "      <th>cylinders</th>\n",
       "      <td>51525.0</td>\n",
       "      <td>NaN</td>\n",
       "      <td>NaN</td>\n",
       "      <td>NaN</td>\n",
       "      <td>6.122271</td>\n",
       "      <td>1.657544</td>\n",
       "      <td>3.0</td>\n",
       "      <td>4.0</td>\n",
       "      <td>6.0</td>\n",
       "      <td>8.0</td>\n",
       "      <td>12.0</td>\n",
       "    </tr>\n",
       "    <tr>\n",
       "      <th>fuel</th>\n",
       "      <td>51525</td>\n",
       "      <td>5</td>\n",
       "      <td>gas</td>\n",
       "      <td>47288</td>\n",
       "      <td>NaN</td>\n",
       "      <td>NaN</td>\n",
       "      <td>NaN</td>\n",
       "      <td>NaN</td>\n",
       "      <td>NaN</td>\n",
       "      <td>NaN</td>\n",
       "      <td>NaN</td>\n",
       "    </tr>\n",
       "    <tr>\n",
       "      <th>odometer</th>\n",
       "      <td>51525.0</td>\n",
       "      <td>NaN</td>\n",
       "      <td>NaN</td>\n",
       "      <td>NaN</td>\n",
       "      <td>115149.068588</td>\n",
       "      <td>62158.116602</td>\n",
       "      <td>0.0</td>\n",
       "      <td>73500.0</td>\n",
       "      <td>114076.0</td>\n",
       "      <td>152800.0</td>\n",
       "      <td>990000.0</td>\n",
       "    </tr>\n",
       "    <tr>\n",
       "      <th>transmission</th>\n",
       "      <td>51525</td>\n",
       "      <td>3</td>\n",
       "      <td>automatic</td>\n",
       "      <td>46902</td>\n",
       "      <td>NaN</td>\n",
       "      <td>NaN</td>\n",
       "      <td>NaN</td>\n",
       "      <td>NaN</td>\n",
       "      <td>NaN</td>\n",
       "      <td>NaN</td>\n",
       "      <td>NaN</td>\n",
       "    </tr>\n",
       "    <tr>\n",
       "      <th>type</th>\n",
       "      <td>51525</td>\n",
       "      <td>13</td>\n",
       "      <td>SUV</td>\n",
       "      <td>12405</td>\n",
       "      <td>NaN</td>\n",
       "      <td>NaN</td>\n",
       "      <td>NaN</td>\n",
       "      <td>NaN</td>\n",
       "      <td>NaN</td>\n",
       "      <td>NaN</td>\n",
       "      <td>NaN</td>\n",
       "    </tr>\n",
       "    <tr>\n",
       "      <th>paint_color</th>\n",
       "      <td>51525</td>\n",
       "      <td>13</td>\n",
       "      <td>white</td>\n",
       "      <td>10029</td>\n",
       "      <td>NaN</td>\n",
       "      <td>NaN</td>\n",
       "      <td>NaN</td>\n",
       "      <td>NaN</td>\n",
       "      <td>NaN</td>\n",
       "      <td>NaN</td>\n",
       "      <td>NaN</td>\n",
       "    </tr>\n",
       "    <tr>\n",
       "      <th>is_4wd</th>\n",
       "      <td>51525</td>\n",
       "      <td>1</td>\n",
       "      <td>True</td>\n",
       "      <td>51525</td>\n",
       "      <td>NaN</td>\n",
       "      <td>NaN</td>\n",
       "      <td>NaN</td>\n",
       "      <td>NaN</td>\n",
       "      <td>NaN</td>\n",
       "      <td>NaN</td>\n",
       "      <td>NaN</td>\n",
       "    </tr>\n",
       "    <tr>\n",
       "      <th>date_posted</th>\n",
       "      <td>51525</td>\n",
       "      <td>354</td>\n",
       "      <td>2019-03-17</td>\n",
       "      <td>186</td>\n",
       "      <td>NaN</td>\n",
       "      <td>NaN</td>\n",
       "      <td>NaN</td>\n",
       "      <td>NaN</td>\n",
       "      <td>NaN</td>\n",
       "      <td>NaN</td>\n",
       "      <td>NaN</td>\n",
       "    </tr>\n",
       "    <tr>\n",
       "      <th>days_listed</th>\n",
       "      <td>51525.0</td>\n",
       "      <td>NaN</td>\n",
       "      <td>NaN</td>\n",
       "      <td>NaN</td>\n",
       "      <td>39.55476</td>\n",
       "      <td>28.20427</td>\n",
       "      <td>0.0</td>\n",
       "      <td>19.0</td>\n",
       "      <td>33.0</td>\n",
       "      <td>53.0</td>\n",
       "      <td>271.0</td>\n",
       "    </tr>\n",
       "    <tr>\n",
       "      <th>day_posted</th>\n",
       "      <td>51525.0</td>\n",
       "      <td>NaN</td>\n",
       "      <td>NaN</td>\n",
       "      <td>NaN</td>\n",
       "      <td>15.449491</td>\n",
       "      <td>8.736521</td>\n",
       "      <td>1.0</td>\n",
       "      <td>8.0</td>\n",
       "      <td>15.0</td>\n",
       "      <td>23.0</td>\n",
       "      <td>31.0</td>\n",
       "    </tr>\n",
       "    <tr>\n",
       "      <th>month_posted</th>\n",
       "      <td>51525.0</td>\n",
       "      <td>NaN</td>\n",
       "      <td>NaN</td>\n",
       "      <td>NaN</td>\n",
       "      <td>6.628491</td>\n",
       "      <td>3.474134</td>\n",
       "      <td>1.0</td>\n",
       "      <td>3.0</td>\n",
       "      <td>7.0</td>\n",
       "      <td>10.0</td>\n",
       "      <td>12.0</td>\n",
       "    </tr>\n",
       "    <tr>\n",
       "      <th>year_posted</th>\n",
       "      <td>51525.0</td>\n",
       "      <td>NaN</td>\n",
       "      <td>NaN</td>\n",
       "      <td>NaN</td>\n",
       "      <td>2018.307462</td>\n",
       "      <td>0.461447</td>\n",
       "      <td>2018.0</td>\n",
       "      <td>2018.0</td>\n",
       "      <td>2018.0</td>\n",
       "      <td>2019.0</td>\n",
       "      <td>2019.0</td>\n",
       "    </tr>\n",
       "    <tr>\n",
       "      <th>age</th>\n",
       "      <td>51525.0</td>\n",
       "      <td>NaN</td>\n",
       "      <td>NaN</td>\n",
       "      <td>NaN</td>\n",
       "      <td>8.509054</td>\n",
       "      <td>6.108583</td>\n",
       "      <td>0.0</td>\n",
       "      <td>4.0</td>\n",
       "      <td>8.0</td>\n",
       "      <td>12.0</td>\n",
       "      <td>110.0</td>\n",
       "    </tr>\n",
       "    <tr>\n",
       "      <th>average_mileage</th>\n",
       "      <td>51525.0</td>\n",
       "      <td>NaN</td>\n",
       "      <td>NaN</td>\n",
       "      <td>NaN</td>\n",
       "      <td>17722.979214</td>\n",
       "      <td>12443.728883</td>\n",
       "      <td>0.0</td>\n",
       "      <td>10915.0</td>\n",
       "      <td>15235.0</td>\n",
       "      <td>20982.0</td>\n",
       "      <td>373200.0</td>\n",
       "    </tr>\n",
       "  </tbody>\n",
       "</table>\n",
       "</div>"
      ],
      "text/plain": [
       "                   count unique         top   freq           mean  \\\n",
       "price            51525.0    NaN         NaN    NaN    12132.46492   \n",
       "model_year       51525.0    NaN         NaN    NaN    2009.798409   \n",
       "model              51525    100  ford f-150   2796            NaN   \n",
       "condition        51525.0    NaN         NaN    NaN       2.637535   \n",
       "cylinders        51525.0    NaN         NaN    NaN       6.122271   \n",
       "fuel               51525      5         gas  47288            NaN   \n",
       "odometer         51525.0    NaN         NaN    NaN  115149.068588   \n",
       "transmission       51525      3   automatic  46902            NaN   \n",
       "type               51525     13         SUV  12405            NaN   \n",
       "paint_color        51525     13       white  10029            NaN   \n",
       "is_4wd             51525      1        True  51525            NaN   \n",
       "date_posted        51525    354  2019-03-17    186            NaN   \n",
       "days_listed      51525.0    NaN         NaN    NaN       39.55476   \n",
       "day_posted       51525.0    NaN         NaN    NaN      15.449491   \n",
       "month_posted     51525.0    NaN         NaN    NaN       6.628491   \n",
       "year_posted      51525.0    NaN         NaN    NaN    2018.307462   \n",
       "age              51525.0    NaN         NaN    NaN       8.509054   \n",
       "average_mileage  51525.0    NaN         NaN    NaN   17722.979214   \n",
       "\n",
       "                          std     min      25%       50%       75%       max  \n",
       "price            10040.803015     1.0   5000.0    9000.0   16839.0  375000.0  \n",
       "model_year           6.094915  1908.0   2007.0    2011.0    2014.0    2019.0  \n",
       "model                     NaN     NaN      NaN       NaN       NaN       NaN  \n",
       "condition            0.712447     0.0      2.0       3.0       3.0       5.0  \n",
       "cylinders            1.657544     3.0      4.0       6.0       8.0      12.0  \n",
       "fuel                      NaN     NaN      NaN       NaN       NaN       NaN  \n",
       "odometer         62158.116602     0.0  73500.0  114076.0  152800.0  990000.0  \n",
       "transmission              NaN     NaN      NaN       NaN       NaN       NaN  \n",
       "type                      NaN     NaN      NaN       NaN       NaN       NaN  \n",
       "paint_color               NaN     NaN      NaN       NaN       NaN       NaN  \n",
       "is_4wd                    NaN     NaN      NaN       NaN       NaN       NaN  \n",
       "date_posted               NaN     NaN      NaN       NaN       NaN       NaN  \n",
       "days_listed          28.20427     0.0     19.0      33.0      53.0     271.0  \n",
       "day_posted           8.736521     1.0      8.0      15.0      23.0      31.0  \n",
       "month_posted         3.474134     1.0      3.0       7.0      10.0      12.0  \n",
       "year_posted          0.461447  2018.0   2018.0    2018.0    2019.0    2019.0  \n",
       "age                  6.108583     0.0      4.0       8.0      12.0     110.0  \n",
       "average_mileage  12443.728883     0.0  10915.0   15235.0   20982.0  373200.0  "
      ]
     },
     "execution_count": 21,
     "metadata": {},
     "output_type": "execute_result"
    }
   ],
   "source": [
    "# print the general/summary information about the DataFrame\n",
    "\n",
    "vehicles.info()\n",
    "vehicles.describe(include='all').T\n"
   ]
  },
  {
   "cell_type": "code",
   "execution_count": 22,
   "metadata": {},
   "outputs": [
    {
     "data": {
      "text/html": [
       "<div>\n",
       "<style scoped>\n",
       "    .dataframe tbody tr th:only-of-type {\n",
       "        vertical-align: middle;\n",
       "    }\n",
       "\n",
       "    .dataframe tbody tr th {\n",
       "        vertical-align: top;\n",
       "    }\n",
       "\n",
       "    .dataframe thead th {\n",
       "        text-align: right;\n",
       "    }\n",
       "</style>\n",
       "<table border=\"1\" class=\"dataframe\">\n",
       "  <thead>\n",
       "    <tr style=\"text-align: right;\">\n",
       "      <th></th>\n",
       "      <th>price</th>\n",
       "      <th>model_year</th>\n",
       "      <th>model</th>\n",
       "      <th>condition</th>\n",
       "      <th>cylinders</th>\n",
       "      <th>fuel</th>\n",
       "      <th>odometer</th>\n",
       "      <th>transmission</th>\n",
       "      <th>type</th>\n",
       "      <th>paint_color</th>\n",
       "      <th>is_4wd</th>\n",
       "      <th>date_posted</th>\n",
       "      <th>days_listed</th>\n",
       "      <th>day_posted</th>\n",
       "      <th>month_posted</th>\n",
       "      <th>year_posted</th>\n",
       "      <th>age</th>\n",
       "      <th>average_mileage</th>\n",
       "    </tr>\n",
       "  </thead>\n",
       "  <tbody>\n",
       "    <tr>\n",
       "      <th>0</th>\n",
       "      <td>9400</td>\n",
       "      <td>2011</td>\n",
       "      <td>bmw x5</td>\n",
       "      <td>2</td>\n",
       "      <td>6</td>\n",
       "      <td>gas</td>\n",
       "      <td>145000</td>\n",
       "      <td>automatic</td>\n",
       "      <td>SUV</td>\n",
       "      <td>unknown</td>\n",
       "      <td>True</td>\n",
       "      <td>2018-06-23</td>\n",
       "      <td>19</td>\n",
       "      <td>23</td>\n",
       "      <td>6</td>\n",
       "      <td>2018</td>\n",
       "      <td>7</td>\n",
       "      <td>20714</td>\n",
       "    </tr>\n",
       "    <tr>\n",
       "      <th>1</th>\n",
       "      <td>25500</td>\n",
       "      <td>2011</td>\n",
       "      <td>ford f-150</td>\n",
       "      <td>2</td>\n",
       "      <td>6</td>\n",
       "      <td>gas</td>\n",
       "      <td>88705</td>\n",
       "      <td>automatic</td>\n",
       "      <td>pickup</td>\n",
       "      <td>white</td>\n",
       "      <td>True</td>\n",
       "      <td>2018-10-19</td>\n",
       "      <td>50</td>\n",
       "      <td>19</td>\n",
       "      <td>10</td>\n",
       "      <td>2018</td>\n",
       "      <td>7</td>\n",
       "      <td>12672</td>\n",
       "    </tr>\n",
       "    <tr>\n",
       "      <th>2</th>\n",
       "      <td>5500</td>\n",
       "      <td>2013</td>\n",
       "      <td>hyundai sonata</td>\n",
       "      <td>4</td>\n",
       "      <td>4</td>\n",
       "      <td>gas</td>\n",
       "      <td>110000</td>\n",
       "      <td>automatic</td>\n",
       "      <td>sedan</td>\n",
       "      <td>red</td>\n",
       "      <td>True</td>\n",
       "      <td>2019-02-07</td>\n",
       "      <td>79</td>\n",
       "      <td>7</td>\n",
       "      <td>2</td>\n",
       "      <td>2019</td>\n",
       "      <td>6</td>\n",
       "      <td>18333</td>\n",
       "    </tr>\n",
       "    <tr>\n",
       "      <th>3</th>\n",
       "      <td>1500</td>\n",
       "      <td>2003</td>\n",
       "      <td>ford f-150</td>\n",
       "      <td>1</td>\n",
       "      <td>8</td>\n",
       "      <td>gas</td>\n",
       "      <td>160000</td>\n",
       "      <td>automatic</td>\n",
       "      <td>pickup</td>\n",
       "      <td>unknown</td>\n",
       "      <td>True</td>\n",
       "      <td>2019-03-22</td>\n",
       "      <td>9</td>\n",
       "      <td>22</td>\n",
       "      <td>3</td>\n",
       "      <td>2019</td>\n",
       "      <td>16</td>\n",
       "      <td>10000</td>\n",
       "    </tr>\n",
       "    <tr>\n",
       "      <th>4</th>\n",
       "      <td>14900</td>\n",
       "      <td>2017</td>\n",
       "      <td>chrysler 200</td>\n",
       "      <td>3</td>\n",
       "      <td>4</td>\n",
       "      <td>gas</td>\n",
       "      <td>80903</td>\n",
       "      <td>automatic</td>\n",
       "      <td>sedan</td>\n",
       "      <td>black</td>\n",
       "      <td>True</td>\n",
       "      <td>2019-04-02</td>\n",
       "      <td>28</td>\n",
       "      <td>2</td>\n",
       "      <td>4</td>\n",
       "      <td>2019</td>\n",
       "      <td>2</td>\n",
       "      <td>40451</td>\n",
       "    </tr>\n",
       "  </tbody>\n",
       "</table>\n",
       "</div>"
      ],
      "text/plain": [
       "   price  model_year           model  condition  cylinders fuel  odometer  \\\n",
       "0   9400        2011          bmw x5          2          6  gas    145000   \n",
       "1  25500        2011      ford f-150          2          6  gas     88705   \n",
       "2   5500        2013  hyundai sonata          4          4  gas    110000   \n",
       "3   1500        2003      ford f-150          1          8  gas    160000   \n",
       "4  14900        2017    chrysler 200          3          4  gas     80903   \n",
       "\n",
       "  transmission    type paint_color  is_4wd date_posted  days_listed  \\\n",
       "0    automatic     SUV     unknown    True  2018-06-23           19   \n",
       "1    automatic  pickup       white    True  2018-10-19           50   \n",
       "2    automatic   sedan         red    True  2019-02-07           79   \n",
       "3    automatic  pickup     unknown    True  2019-03-22            9   \n",
       "4    automatic   sedan       black    True  2019-04-02           28   \n",
       "\n",
       "   day_posted  month_posted  year_posted  age  average_mileage  \n",
       "0          23             6         2018    7            20714  \n",
       "1          19            10         2018    7            12672  \n",
       "2           7             2         2019    6            18333  \n",
       "3          22             3         2019   16            10000  \n",
       "4           2             4         2019    2            40451  "
      ]
     },
     "execution_count": 22,
     "metadata": {},
     "output_type": "execute_result"
    }
   ],
   "source": [
    "# print a sample of data\n",
    "\n",
    "vehicles.head()"
   ]
  },
  {
   "cell_type": "markdown",
   "metadata": {},
   "source": [
    "## Study core parameters\n",
    "\n",
    "The parameters to annelize the data by:\n",
    "- Price\n",
    "- The vehicle's age when the ad was placed\n",
    "- Mileage\n",
    "- Number of cylinders\n",
    "- Condition"
   ]
  },
  {
   "cell_type": "code",
   "execution_count": 23,
   "metadata": {},
   "outputs": [
    {
     "data": {
      "image/png": "[encoded data removed]",
      "text/plain": [
       "<Figure size 432x288 with 1 Axes>"
      ]
     },
     "metadata": {
      "needs_background": "light"
     },
     "output_type": "display_data"
    },
    {
     "name": "stdout",
     "output_type": "stream",
     "text": [
      "Positive skewed disribution\n",
      "************** price  Box plot: **************\n"
     ]
    },
    {
     "data": {
      "image/png": "[encoded data removed]",
      "text/plain": [
       "<Figure size 432x288 with 1 Axes>"
      ]
     },
     "metadata": {
      "needs_background": "light"
     },
     "output_type": "display_data"
    },
    {
     "name": "stdout",
     "output_type": "stream",
     "text": [
      "The minimal range: -12758.5\n",
      "The maximal range: 34597.5\n",
      "\n",
      "Precentage of clean data in condition column between boxplot extreme: 96.81%\n",
      "\n",
      "The 5% range: 1950.0\n",
      "The 95% range: 30300.0\n",
      "\n",
      "Precentage of clean data in condition column between 5 and 95: 90.02%\n",
      "\n",
      "count     51525.000000\n",
      "mean      12132.464920\n",
      "std       10040.803015\n",
      "min           1.000000\n",
      "25%        5000.000000\n",
      "50%        9000.000000\n",
      "75%       16839.000000\n",
      "max      375000.000000\n",
      "Name: price, dtype: float64\n",
      "\n",
      "*******************************************************************************************************\n",
      "*******************************************************************************************************\n",
      "\n"
     ]
    },
    {
     "data": {
      "image/png": "[encoded data removed]",
      "text/plain": [
       "<Figure size 432x288 with 1 Axes>"
      ]
     },
     "metadata": {
      "needs_background": "light"
     },
     "output_type": "display_data"
    },
    {
     "name": "stdout",
     "output_type": "stream",
     "text": [
      "Positive skewed disribution\n",
      "************** age  Box plot: **************\n"
     ]
    },
    {
     "data": {
      "image/png": "[encoded data removed]",
      "text/plain": [
       "<Figure size 432x288 with 1 Axes>"
      ]
     },
     "metadata": {
      "needs_background": "light"
     },
     "output_type": "display_data"
    },
    {
     "name": "stdout",
     "output_type": "stream",
     "text": [
      "The minimal range: -8.0\n",
      "The maximal range: 24.0\n",
      "\n",
      "Precentage of clean data in condition column between boxplot extreme: 98.57%\n",
      "\n",
      "The 5% range: 1.0\n",
      "The 95% range: 19.0\n",
      "\n",
      "Precentage of clean data in condition column between 5 and 95: 91.81%\n",
      "\n",
      "count    51525.000000\n",
      "mean         8.509054\n",
      "std          6.108583\n",
      "min          0.000000\n",
      "25%          4.000000\n",
      "50%          8.000000\n",
      "75%         12.000000\n",
      "max        110.000000\n",
      "Name: age, dtype: float64\n",
      "\n",
      "*******************************************************************************************************\n",
      "*******************************************************************************************************\n",
      "\n"
     ]
    },
    {
     "data": {
      "image/png": "[encoded data removed]",
      "text/plain": [
       "<Figure size 432x288 with 1 Axes>"
      ]
     },
     "metadata": {
      "needs_background": "light"
     },
     "output_type": "display_data"
    },
    {
     "name": "stdout",
     "output_type": "stream",
     "text": [
      "Positive skewed disribution\n",
      "************** average_mileage  Box plot: **************\n"
     ]
    },
    {
     "data": {
      "image/png": "[encoded data removed]",
      "text/plain": [
       "<Figure size 432x288 with 1 Axes>"
      ]
     },
     "metadata": {
      "needs_background": "light"
     },
     "output_type": "display_data"
    },
    {
     "name": "stdout",
     "output_type": "stream",
     "text": [
      "The minimal range: -4185.5\n",
      "The maximal range: 36082.5\n",
      "\n",
      "Precentage of clean data in condition column between boxplot extreme: 93.79%\n",
      "\n",
      "The 5% range: 4705.0\n",
      "The 95% range: 39834.59999999999\n",
      "\n",
      "Precentage of clean data in condition column between 5 and 95: 90.00%\n",
      "\n",
      "count     51525.000000\n",
      "mean      17722.979214\n",
      "std       12443.728883\n",
      "min           0.000000\n",
      "25%       10915.000000\n",
      "50%       15235.000000\n",
      "75%       20982.000000\n",
      "max      373200.000000\n",
      "Name: average_mileage, dtype: float64\n",
      "\n",
      "*******************************************************************************************************\n",
      "*******************************************************************************************************\n",
      "\n"
     ]
    },
    {
     "data": {
      "image/png": "[encoded data removed]",
      "text/plain": [
       "<Figure size 432x288 with 1 Axes>"
      ]
     },
     "metadata": {
      "needs_background": "light"
     },
     "output_type": "display_data"
    },
    {
     "name": "stdout",
     "output_type": "stream",
     "text": [
      "Positive skewed disribution\n",
      "************** cylinders  Box plot: **************\n"
     ]
    },
    {
     "data": {
      "image/png": "[encoded data removed]",
      "text/plain": [
       "<Figure size 432x288 with 1 Axes>"
      ]
     },
     "metadata": {
      "needs_background": "light"
     },
     "output_type": "display_data"
    },
    {
     "name": "stdout",
     "output_type": "stream",
     "text": [
      "The minimal range: -2.0\n",
      "The maximal range: 14.0\n",
      "\n",
      "Precentage of clean data in condition column between boxplot extreme: 100.00%\n",
      "\n",
      "The 5% range: 4.0\n",
      "The 95% range: 8.0\n",
      "\n",
      "Precentage of clean data in condition column between 5 and 95: 98.86%\n",
      "\n",
      "count    51525.000000\n",
      "mean         6.122271\n",
      "std          1.657544\n",
      "min          3.000000\n",
      "25%          4.000000\n",
      "50%          6.000000\n",
      "75%          8.000000\n",
      "max         12.000000\n",
      "Name: cylinders, dtype: float64\n",
      "\n",
      "*******************************************************************************************************\n",
      "*******************************************************************************************************\n",
      "\n"
     ]
    },
    {
     "data": {
      "image/png": "[encoded data removed]",
      "text/plain": [
       "<Figure size 432x288 with 1 Axes>"
      ]
     },
     "metadata": {
      "needs_background": "light"
     },
     "output_type": "display_data"
    },
    {
     "name": "stdout",
     "output_type": "stream",
     "text": [
      "Negative skewed disribution\n",
      "************** condition  Box plot: **************\n"
     ]
    },
    {
     "data": {
      "image/png": "[encoded data removed]",
      "text/plain": [
       "<Figure size 432x288 with 1 Axes>"
      ]
     },
     "metadata": {
      "needs_background": "light"
     },
     "output_type": "display_data"
    },
    {
     "name": "stdout",
     "output_type": "stream",
     "text": [
      "The minimal range: 0.5\n",
      "The maximal range: 4.5\n",
      "\n",
      "Precentage of clean data in condition column between boxplot extreme: 99.50%\n",
      "\n",
      "The 5% range: 2.0\n",
      "The 95% range: 4.0\n",
      "\n",
      "Precentage of clean data in condition column between 5 and 95: 96.38%\n",
      "\n",
      "count    51525.000000\n",
      "mean         2.637535\n",
      "std          0.712447\n",
      "min          0.000000\n",
      "25%          2.000000\n",
      "50%          3.000000\n",
      "75%          3.000000\n",
      "max          5.000000\n",
      "Name: condition, dtype: float64\n",
      "\n",
      "*******************************************************************************************************\n",
      "*******************************************************************************************************\n",
      "\n",
      "          prameter  mininal outlier by boxplot  maximal outlier by boxplot  \\\n",
      "0            price                    -12758.5                     34597.5   \n",
      "1              age                        -8.0                        24.0   \n",
      "2  average_mileage                     -4185.5                     36082.5   \n",
      "3        cylinders                        -2.0                        14.0   \n",
      "4        condition                         0.5                         4.5   \n",
      "\n",
      "   5% are under this value  95% are above this value  \n",
      "0                   1950.0                   30300.0  \n",
      "1                      1.0                      19.0  \n",
      "2                   4705.0                   39834.6  \n",
      "3                      4.0                       8.0  \n",
      "4                      2.0                       4.0  \n"
     ]
    }
   ],
   "source": [
    "import matplotlib.pyplot as plt\n",
    "column_to_plot=['price', 'age', 'average_mileage', 'cylinders', 'condition']\n",
    "min_range=0\n",
    "max_range=0\n",
    "clean_data_presentage=0\n",
    "border_list = []\n",
    "\n",
    "for i in column_to_plot:\n",
    "    %matplotlib inline\n",
    "    hist= vehicles.hist(i, bins=40)\n",
    "    plt.title(i)\n",
    "    plt.ylabel('amount')\n",
    "    plt.xlabel(i)\n",
    "    plt.show()\n",
    "    \n",
    "    if vehicles[i].mean() < vehicles[i].median():\n",
    "        print(\"Negative skewed disribution\")\n",
    "    else:\n",
    "        print(\"Positive skewed disribution\")\n",
    "        \n",
    "    Q1 = vehicles[i].quantile(0.25)\n",
    "    Q3 = vehicles[i].quantile(0.75)\n",
    "    IQR = Q3-Q1\n",
    "    min_range = Q1-(1.5*IQR)\n",
    "    max_range = Q3+(1.5*IQR)\n",
    "    print(\"**************\",i ,\" Box plot: **************\")\n",
    "    vehicles.boxplot(i)\n",
    "    plt.ylim(0, vehicles[i].max())\n",
    "    plt.hlines(y=[Q1, Q3], xmin = 0.9, xmax = 1.1, color='red')\n",
    "    plt.title(i)\n",
    "    plt.show()\n",
    "    \n",
    "    print(\"The minimal range:\", min_range)\n",
    "    print(\"The maximal range:\", max_range)\n",
    "    print()\n",
    "    clean_data_presentage_byextreme = len(vehicles[(min_range <= vehicles[i]) & (vehicles[i]<= max_range)])/len(vehicles[i])\n",
    "    print(\"Precentage of clean data in condition column between boxplot extreme: {:.2%}\".format(clean_data_presentage_byextreme))\n",
    "    print()\n",
    "    \n",
    "    ninety_five = np.percentile(vehicles[i], 95)\n",
    "    five = np.percentile(vehicles[i], 5)\n",
    "    border_list.append([i, min_range, max_range, five, ninety_five])\n",
    "    clean_data_presentage = len(vehicles[(five <= vehicles[i]) & (vehicles[i]<= ninety_five)])/len(vehicles[i])\n",
    "    print(\"The 5% range:\", five)\n",
    "    print(\"The 95% range:\", ninety_five)\n",
    "    print()\n",
    "    print(\"Precentage of clean data in condition column between 5 and 95: {:.2%}\".format(clean_data_presentage))\n",
    "    print()\n",
    "    print(vehicles[i].describe(include='all').T)\n",
    "    print()\n",
    "    print(\"*******************************************************************************************************\")\n",
    "    print(\"*******************************************************************************************************\")\n",
    "    print()\n",
    "    \n",
    "    \n",
    "border_data = pd.DataFrame(border_list, columns= \n",
    "                           ['prameter','mininal outlier by boxplot','maximal outlier by boxplot'\n",
    "                            , '5% are under this value','95% are above this value'])\n",
    "print(border_data)\n"
   ]
  },
  {
   "cell_type": "markdown",
   "metadata": {},
   "source": [
    "## Study and treat outliers\n",
    "\n",
    "Given the results above, determine what columns may contain outliers, and create a DataFrame without those outliers. Hint: Outliers can be identified by defining the lower/upper limits for normal range of values:"
   ]
  },
  {
   "cell_type": "markdown",
   "metadata": {},
   "source": [
    "***price column:***\n",
    "\n",
    "by looking on the distribution I would like to set the outliers border between: 500 - 60,000 \n",
    "by extreme point: 0 - 34,598\n",
    "Precentage of clean data in condition column between boxplot extreme: 96.81%\n",
    "by 5- 95 percentile: 1950 - 30,300\n",
    "Precentage of clean data in condition column between 5 and 95: 90.02%\n",
    "\n",
    "***age column:***\n",
    "\n",
    "by looking on the distribution I would like to set the outliers border between: 0 - 30 \n",
    "by extreme point:  0 - 24\n",
    "Precentage of clean data in condition column between boxplot extreme: 98.57%\n",
    "by 5- 95 percentile: 1 - 19\n",
    "Precentage of clean data in condition column between 5 and 95: 91.81%\n",
    "\n",
    "***average muleage:***\n",
    "\n",
    "by looking on the distribution I would like to set the outliers border between: 0 - 90,000 \n",
    "by extreme point: 0 - 36,082\n",
    "Precentage of clean data in condition column between boxplot extreme: 93.79%\n",
    "by 5- 95 percentile: 4705 - 39,843\n",
    "Precentage of clean data in condition column between 5 and 95: 90.00%\n",
    "\n",
    "***cylinder column:***\n",
    "\n",
    "by looking on the distribution I would like to set the outliers border between: 4 - 8\n",
    "by extreme point: 0 - 14\n",
    "Precentage of clean data in condition column between boxplot extreme: 100.00%\n",
    "by 5- 95 percentile: 4 - 8 \n",
    "Precentage of clean data in condition column between 5 and 95: 98.86%\n",
    "\n",
    "***condition column:***\n",
    "\n",
    "by looking on the distribution I would like to set the outliers border between: 1 - 4\n",
    "by extreme point: 0.5 - 4.5\n",
    "Precentage of clean data in condition column between boxplot extreme: 99.50%\n",
    "by 5- 95 percentile: 2 - 4 \n",
    "Precentage of clean data in condition column between 5 and 95: 96.38%\n",
    "Im going to set 5 ranges to set clean data by."
   ]
  },
  {
   "cell_type": "code",
   "execution_count": 24,
   "metadata": {},
   "outputs": [],
   "source": [
    "# set range based on the upper analysis for clean data:\n",
    "filter_price = (vehicles['price'] >= 500 )&(vehicles['price'] <= 100000)\n",
    "filter_age = vehicles['age'] <= 40\n",
    "filter_average_mileage = vehicles['average_mileage'] <= 90000\n",
    "filter_cylinders = (vehicles['cylinders'] >= 4 )&(vehicles['cylinders'] <= 8)\n",
    "filter_condition = (vehicles['condition'] >= 1 )&(vehicles['condition'] <= 4)"
   ]
  },
  {
   "cell_type": "code",
   "execution_count": 25,
   "metadata": {},
   "outputs": [
    {
     "name": "stdout",
     "output_type": "stream",
     "text": [
      "*************clean data: ***************\n",
      "0.9623289665211062\n"
     ]
    },
    {
     "data": {
      "text/html": [
       "<div>\n",
       "<style scoped>\n",
       "    .dataframe tbody tr th:only-of-type {\n",
       "        vertical-align: middle;\n",
       "    }\n",
       "\n",
       "    .dataframe tbody tr th {\n",
       "        vertical-align: top;\n",
       "    }\n",
       "\n",
       "    .dataframe thead th {\n",
       "        text-align: right;\n",
       "    }\n",
       "</style>\n",
       "<table border=\"1\" class=\"dataframe\">\n",
       "  <thead>\n",
       "    <tr style=\"text-align: right;\">\n",
       "      <th></th>\n",
       "      <th>price</th>\n",
       "      <th>model_year</th>\n",
       "      <th>model</th>\n",
       "      <th>condition</th>\n",
       "      <th>cylinders</th>\n",
       "      <th>fuel</th>\n",
       "      <th>odometer</th>\n",
       "      <th>transmission</th>\n",
       "      <th>type</th>\n",
       "      <th>paint_color</th>\n",
       "      <th>is_4wd</th>\n",
       "      <th>date_posted</th>\n",
       "      <th>days_listed</th>\n",
       "      <th>day_posted</th>\n",
       "      <th>month_posted</th>\n",
       "      <th>year_posted</th>\n",
       "      <th>age</th>\n",
       "      <th>average_mileage</th>\n",
       "    </tr>\n",
       "  </thead>\n",
       "  <tbody>\n",
       "    <tr>\n",
       "      <td>0</td>\n",
       "      <td>9400</td>\n",
       "      <td>2011</td>\n",
       "      <td>bmw x5</td>\n",
       "      <td>2</td>\n",
       "      <td>6</td>\n",
       "      <td>gas</td>\n",
       "      <td>145000</td>\n",
       "      <td>automatic</td>\n",
       "      <td>SUV</td>\n",
       "      <td>unknown</td>\n",
       "      <td>True</td>\n",
       "      <td>2018-06-23</td>\n",
       "      <td>19</td>\n",
       "      <td>23</td>\n",
       "      <td>6</td>\n",
       "      <td>2018</td>\n",
       "      <td>7</td>\n",
       "      <td>20714</td>\n",
       "    </tr>\n",
       "    <tr>\n",
       "      <td>1</td>\n",
       "      <td>25500</td>\n",
       "      <td>2011</td>\n",
       "      <td>ford f-150</td>\n",
       "      <td>2</td>\n",
       "      <td>6</td>\n",
       "      <td>gas</td>\n",
       "      <td>88705</td>\n",
       "      <td>automatic</td>\n",
       "      <td>pickup</td>\n",
       "      <td>white</td>\n",
       "      <td>True</td>\n",
       "      <td>2018-10-19</td>\n",
       "      <td>50</td>\n",
       "      <td>19</td>\n",
       "      <td>10</td>\n",
       "      <td>2018</td>\n",
       "      <td>7</td>\n",
       "      <td>12672</td>\n",
       "    </tr>\n",
       "    <tr>\n",
       "      <td>2</td>\n",
       "      <td>5500</td>\n",
       "      <td>2013</td>\n",
       "      <td>hyundai sonata</td>\n",
       "      <td>4</td>\n",
       "      <td>4</td>\n",
       "      <td>gas</td>\n",
       "      <td>110000</td>\n",
       "      <td>automatic</td>\n",
       "      <td>sedan</td>\n",
       "      <td>red</td>\n",
       "      <td>True</td>\n",
       "      <td>2019-02-07</td>\n",
       "      <td>79</td>\n",
       "      <td>7</td>\n",
       "      <td>2</td>\n",
       "      <td>2019</td>\n",
       "      <td>6</td>\n",
       "      <td>18333</td>\n",
       "    </tr>\n",
       "    <tr>\n",
       "      <td>3</td>\n",
       "      <td>1500</td>\n",
       "      <td>2003</td>\n",
       "      <td>ford f-150</td>\n",
       "      <td>1</td>\n",
       "      <td>8</td>\n",
       "      <td>gas</td>\n",
       "      <td>160000</td>\n",
       "      <td>automatic</td>\n",
       "      <td>pickup</td>\n",
       "      <td>unknown</td>\n",
       "      <td>True</td>\n",
       "      <td>2019-03-22</td>\n",
       "      <td>9</td>\n",
       "      <td>22</td>\n",
       "      <td>3</td>\n",
       "      <td>2019</td>\n",
       "      <td>16</td>\n",
       "      <td>10000</td>\n",
       "    </tr>\n",
       "    <tr>\n",
       "      <td>4</td>\n",
       "      <td>14900</td>\n",
       "      <td>2017</td>\n",
       "      <td>chrysler 200</td>\n",
       "      <td>3</td>\n",
       "      <td>4</td>\n",
       "      <td>gas</td>\n",
       "      <td>80903</td>\n",
       "      <td>automatic</td>\n",
       "      <td>sedan</td>\n",
       "      <td>black</td>\n",
       "      <td>True</td>\n",
       "      <td>2019-04-02</td>\n",
       "      <td>28</td>\n",
       "      <td>2</td>\n",
       "      <td>4</td>\n",
       "      <td>2019</td>\n",
       "      <td>2</td>\n",
       "      <td>40451</td>\n",
       "    </tr>\n",
       "  </tbody>\n",
       "</table>\n",
       "</div>"
      ],
      "text/plain": [
       "   price  model_year           model  condition  cylinders fuel  odometer  \\\n",
       "0   9400        2011          bmw x5          2          6  gas    145000   \n",
       "1  25500        2011      ford f-150          2          6  gas     88705   \n",
       "2   5500        2013  hyundai sonata          4          4  gas    110000   \n",
       "3   1500        2003      ford f-150          1          8  gas    160000   \n",
       "4  14900        2017    chrysler 200          3          4  gas     80903   \n",
       "\n",
       "  transmission    type paint_color  is_4wd date_posted  days_listed  \\\n",
       "0    automatic     SUV     unknown    True  2018-06-23           19   \n",
       "1    automatic  pickup       white    True  2018-10-19           50   \n",
       "2    automatic   sedan         red    True  2019-02-07           79   \n",
       "3    automatic  pickup     unknown    True  2019-03-22            9   \n",
       "4    automatic   sedan       black    True  2019-04-02           28   \n",
       "\n",
       "   day_posted  month_posted  year_posted  age  average_mileage  \n",
       "0          23             6         2018    7            20714  \n",
       "1          19            10         2018    7            12672  \n",
       "2           7             2         2019    6            18333  \n",
       "3          22             3         2019   16            10000  \n",
       "4           2             4         2019    2            40451  "
      ]
     },
     "execution_count": 25,
     "metadata": {},
     "output_type": "execute_result"
    }
   ],
   "source": [
    "# set clean data seperate data frame:\n",
    "print('*************clean data: ***************')\n",
    "clean_data =  vehicles[filter_price&filter_age&filter_average_mileage&filter_cylinders&filter_condition]\n",
    "print(len(clean_data)/len(vehicles))\n",
    "clean_data.head()"
   ]
  },
  {
   "cell_type": "code",
   "execution_count": 26,
   "metadata": {},
   "outputs": [
    {
     "name": "stdout",
     "output_type": "stream",
     "text": [
      "0.037671033478893744\n"
     ]
    },
    {
     "data": {
      "text/html": [
       "<div>\n",
       "<style scoped>\n",
       "    .dataframe tbody tr th:only-of-type {\n",
       "        vertical-align: middle;\n",
       "    }\n",
       "\n",
       "    .dataframe tbody tr th {\n",
       "        vertical-align: top;\n",
       "    }\n",
       "\n",
       "    .dataframe thead th {\n",
       "        text-align: right;\n",
       "    }\n",
       "</style>\n",
       "<table border=\"1\" class=\"dataframe\">\n",
       "  <thead>\n",
       "    <tr style=\"text-align: right;\">\n",
       "      <th></th>\n",
       "      <th>price</th>\n",
       "      <th>model_year</th>\n",
       "      <th>model</th>\n",
       "      <th>condition</th>\n",
       "      <th>cylinders</th>\n",
       "      <th>fuel</th>\n",
       "      <th>odometer</th>\n",
       "      <th>transmission</th>\n",
       "      <th>type</th>\n",
       "      <th>paint_color</th>\n",
       "      <th>is_4wd</th>\n",
       "      <th>date_posted</th>\n",
       "      <th>days_listed</th>\n",
       "      <th>day_posted</th>\n",
       "      <th>month_posted</th>\n",
       "      <th>year_posted</th>\n",
       "      <th>age</th>\n",
       "      <th>average_mileage</th>\n",
       "    </tr>\n",
       "  </thead>\n",
       "  <tbody>\n",
       "    <tr>\n",
       "      <td>63</td>\n",
       "      <td>30000</td>\n",
       "      <td>1966</td>\n",
       "      <td>ford mustang</td>\n",
       "      <td>3</td>\n",
       "      <td>6</td>\n",
       "      <td>gas</td>\n",
       "      <td>51000</td>\n",
       "      <td>manual</td>\n",
       "      <td>convertible</td>\n",
       "      <td>red</td>\n",
       "      <td>True</td>\n",
       "      <td>2019-01-23</td>\n",
       "      <td>17</td>\n",
       "      <td>23</td>\n",
       "      <td>1</td>\n",
       "      <td>2019</td>\n",
       "      <td>53</td>\n",
       "      <td>962</td>\n",
       "    </tr>\n",
       "    <tr>\n",
       "      <td>95</td>\n",
       "      <td>9995</td>\n",
       "      <td>2017</td>\n",
       "      <td>hyundai sonata</td>\n",
       "      <td>3</td>\n",
       "      <td>4</td>\n",
       "      <td>gas</td>\n",
       "      <td>105985</td>\n",
       "      <td>automatic</td>\n",
       "      <td>sedan</td>\n",
       "      <td>white</td>\n",
       "      <td>True</td>\n",
       "      <td>2018-05-02</td>\n",
       "      <td>18</td>\n",
       "      <td>2</td>\n",
       "      <td>5</td>\n",
       "      <td>2018</td>\n",
       "      <td>1</td>\n",
       "      <td>105985</td>\n",
       "    </tr>\n",
       "    <tr>\n",
       "      <td>220</td>\n",
       "      <td>41800</td>\n",
       "      <td>2018</td>\n",
       "      <td>chevrolet silverado 3500hd</td>\n",
       "      <td>2</td>\n",
       "      <td>8</td>\n",
       "      <td>gas</td>\n",
       "      <td>148459</td>\n",
       "      <td>automatic</td>\n",
       "      <td>truck</td>\n",
       "      <td>unknown</td>\n",
       "      <td>True</td>\n",
       "      <td>2019-03-19</td>\n",
       "      <td>11</td>\n",
       "      <td>19</td>\n",
       "      <td>3</td>\n",
       "      <td>2019</td>\n",
       "      <td>1</td>\n",
       "      <td>148459</td>\n",
       "    </tr>\n",
       "    <tr>\n",
       "      <td>317</td>\n",
       "      <td>600</td>\n",
       "      <td>1999</td>\n",
       "      <td>toyota camry le</td>\n",
       "      <td>0</td>\n",
       "      <td>4</td>\n",
       "      <td>gas</td>\n",
       "      <td>216348</td>\n",
       "      <td>automatic</td>\n",
       "      <td>sedan</td>\n",
       "      <td>white</td>\n",
       "      <td>True</td>\n",
       "      <td>2019-03-04</td>\n",
       "      <td>23</td>\n",
       "      <td>4</td>\n",
       "      <td>3</td>\n",
       "      <td>2019</td>\n",
       "      <td>20</td>\n",
       "      <td>10817</td>\n",
       "    </tr>\n",
       "    <tr>\n",
       "      <td>357</td>\n",
       "      <td>16600</td>\n",
       "      <td>1975</td>\n",
       "      <td>chevrolet corvette</td>\n",
       "      <td>3</td>\n",
       "      <td>8</td>\n",
       "      <td>gas</td>\n",
       "      <td>75000</td>\n",
       "      <td>manual</td>\n",
       "      <td>coupe</td>\n",
       "      <td>unknown</td>\n",
       "      <td>True</td>\n",
       "      <td>2019-03-09</td>\n",
       "      <td>69</td>\n",
       "      <td>9</td>\n",
       "      <td>3</td>\n",
       "      <td>2019</td>\n",
       "      <td>44</td>\n",
       "      <td>1704</td>\n",
       "    </tr>\n",
       "  </tbody>\n",
       "</table>\n",
       "</div>"
      ],
      "text/plain": [
       "     price  model_year                       model  condition  cylinders fuel  \\\n",
       "63   30000        1966                ford mustang          3          6  gas   \n",
       "95    9995        2017              hyundai sonata          3          4  gas   \n",
       "220  41800        2018  chevrolet silverado 3500hd          2          8  gas   \n",
       "317    600        1999             toyota camry le          0          4  gas   \n",
       "357  16600        1975          chevrolet corvette          3          8  gas   \n",
       "\n",
       "     odometer transmission         type paint_color  is_4wd date_posted  \\\n",
       "63      51000       manual  convertible         red    True  2019-01-23   \n",
       "95     105985    automatic        sedan       white    True  2018-05-02   \n",
       "220    148459    automatic        truck     unknown    True  2019-03-19   \n",
       "317    216348    automatic        sedan       white    True  2019-03-04   \n",
       "357     75000       manual        coupe     unknown    True  2019-03-09   \n",
       "\n",
       "     days_listed  day_posted  month_posted  year_posted  age  average_mileage  \n",
       "63            17          23             1         2019   53              962  \n",
       "95            18           2             5         2018    1           105985  \n",
       "220           11          19             3         2019    1           148459  \n",
       "317           23           4             3         2019   20            10817  \n",
       "357           69           9             3         2019   44             1704  "
      ]
     },
     "execution_count": 26,
     "metadata": {},
     "output_type": "execute_result"
    }
   ],
   "source": [
    "good_index = clean_data.index\n",
    "outliers = vehicles.query('index not in @ good_index')\n",
    "print(len(outliers)/len(vehicles))\n",
    "outliers.head()\n"
   ]
  },
  {
   "cell_type": "markdown",
   "metadata": {},
   "source": [
    "## Study core parameters without outliers"
   ]
  },
  {
   "cell_type": "code",
   "execution_count": 27,
   "metadata": {},
   "outputs": [
    {
     "data": {
      "image/png": "[encoded data removed]",
      "text/plain": [
       "<Figure size 432x432 with 1 Axes>"
      ]
     },
     "metadata": {
      "needs_background": "light"
     },
     "output_type": "display_data"
    },
    {
     "data": {
      "image/png": "[encoded data removed]",
      "text/plain": [
       "<Figure size 432x432 with 1 Axes>"
      ]
     },
     "metadata": {
      "needs_background": "light"
     },
     "output_type": "display_data"
    },
    {
     "data": {
      "image/png": "[encoded data removed]",
      "text/plain": [
       "<Figure size 432x432 with 1 Axes>"
      ]
     },
     "metadata": {
      "needs_background": "light"
     },
     "output_type": "display_data"
    },
    {
     "data": {
      "image/png": "[encoded data removed]",
      "text/plain": [
       "<Figure size 432x432 with 1 Axes>"
      ]
     },
     "metadata": {
      "needs_background": "light"
     },
     "output_type": "display_data"
    },
    {
     "data": {
      "image/png": "[encoded data removed]",
      "text/plain": [
       "<Figure size 432x432 with 1 Axes>"
      ]
     },
     "metadata": {
      "needs_background": "light"
     },
     "output_type": "display_data"
    }
   ],
   "source": [
    "# plot price column from vehicles, clean data, and outliers together: \n",
    "column_to_plot=['price', 'age', 'average_mileage', 'cylinders', 'condition']\n",
    "for i in column_to_plot:\n",
    "\n",
    "    plt.figure(figsize=(6,6))\n",
    "    vehicles[i].plot(kind = 'hist', bins=60) \n",
    "    clean_data[i].plot(kind = 'hist', bins=60) \n",
    "    outliers[i].plot(kind = 'hist', bins=60) \n",
    "    plt.title('combined histogram')\n",
    "    plt.xlabel(i)\n",
    "    plt.ylabel('amount')\n",
    "    plt.legend(['vehicles', 'clean_data', 'outliers'])"
   ]
  },
  {
   "cell_type": "markdown",
   "metadata": {},
   "source": [
    "### a. Ads lifetime:"
   ]
  },
  {
   "cell_type": "code",
   "execution_count": 28,
   "metadata": {},
   "outputs": [
    {
     "name": "stdout",
     "output_type": "stream",
     "text": [
      "days listed mean based on the clean data: 39.565424330429174\n",
      "days listed median based on the clean data: 33.0\n"
     ]
    }
   ],
   "source": [
    "print('days listed mean based on the clean data:',clean_data['days_listed'].mean())\n",
    "print('days listed median based on the clean data:', clean_data['days_listed'].median())"
   ]
  },
  {
   "cell_type": "code",
   "execution_count": 29,
   "metadata": {},
   "outputs": [
    {
     "name": "stdout",
     "output_type": "stream",
     "text": [
      "**************Days listed in clean data Box plot: **************\n"
     ]
    },
    {
     "data": {
      "image/png": "[encoded data removed]",
      "text/plain": [
       "<Figure size 432x288 with 1 Axes>"
      ]
     },
     "metadata": {
      "needs_background": "light"
     },
     "output_type": "display_data"
    },
    {
     "name": "stdout",
     "output_type": "stream",
     "text": [
      "The minimal range: -32.0\n",
      "The maximal range: 104.0\n",
      "The mean : 39.565424330429174\n",
      "The median: 33.0\n",
      "\n"
     ]
    },
    {
     "data": {
      "image/png": "[encoded data removed]",
      "text/plain": [
       "<Figure size 432x288 with 1 Axes>"
      ]
     },
     "metadata": {
      "needs_background": "light"
     },
     "output_type": "display_data"
    }
   ],
   "source": [
    "Q3 = clean_data['days_listed'].quantile(0.75)\n",
    "Q1 = clean_data['days_listed'].quantile(0.25)\n",
    "IQR = Q3-Q1\n",
    "min_range = Q1-(1.5*IQR)\n",
    "max_range = Q3+(1.5*IQR)\n",
    "print(\"**************Days listed in clean data Box plot: **************\")\n",
    "clean_data.boxplot('days_listed')\n",
    "plt.ylim(0, clean_data['days_listed'].max())\n",
    "plt.hlines(y=[Q1, Q3], xmin = 0.9, xmax = 1.1, color='red')\n",
    "plt.title(i)\n",
    "plt.show()\n",
    "\n",
    "print(\"The minimal range:\", min_range)\n",
    "print(\"The maximal range:\", max_range)\n",
    "print('The mean :',clean_data['days_listed'].mean())\n",
    "print('The median:', clean_data['days_listed'].median())\n",
    "print()\n",
    "hist= clean_data.hist('days_listed', bins=40)\n",
    "plt.title('days_listed')\n",
    "plt.ylabel('amount')\n",
    "plt.xlabel('days_listed')\n",
    "plt.show()\n"
   ]
  },
  {
   "cell_type": "markdown",
   "metadata": {},
   "source": [
    "most of the ads displayed between 10-70 days, \n",
    "some ads were diplayed for less then 5 days.\n",
    "some ads were displayed for more then 100."
   ]
  },
  {
   "cell_type": "markdown",
   "metadata": {},
   "source": [
    "### b. Average price per each type of vehicle:"
   ]
  },
  {
   "cell_type": "code",
   "execution_count": 30,
   "metadata": {},
   "outputs": [
    {
     "data": {
      "text/html": [
       "<div>\n",
       "<style scoped>\n",
       "    .dataframe tbody tr th:only-of-type {\n",
       "        vertical-align: middle;\n",
       "    }\n",
       "\n",
       "    .dataframe tbody tr th {\n",
       "        vertical-align: top;\n",
       "    }\n",
       "\n",
       "    .dataframe thead th {\n",
       "        text-align: right;\n",
       "    }\n",
       "</style>\n",
       "<table border=\"1\" class=\"dataframe\">\n",
       "  <thead>\n",
       "    <tr style=\"text-align: right;\">\n",
       "      <th></th>\n",
       "      <th>type</th>\n",
       "      <th>count</th>\n",
       "      <th>mean</th>\n",
       "    </tr>\n",
       "  </thead>\n",
       "  <tbody>\n",
       "    <tr>\n",
       "      <td>0</td>\n",
       "      <td>SUV</td>\n",
       "      <td>12017</td>\n",
       "      <td>11413.845219</td>\n",
       "    </tr>\n",
       "    <tr>\n",
       "      <td>1</td>\n",
       "      <td>sedan</td>\n",
       "      <td>11718</td>\n",
       "      <td>7096.734511</td>\n",
       "    </tr>\n",
       "    <tr>\n",
       "      <td>2</td>\n",
       "      <td>truck</td>\n",
       "      <td>11713</td>\n",
       "      <td>16898.638265</td>\n",
       "    </tr>\n",
       "    <tr>\n",
       "      <td>3</td>\n",
       "      <td>pickup</td>\n",
       "      <td>6866</td>\n",
       "      <td>16053.282406</td>\n",
       "    </tr>\n",
       "    <tr>\n",
       "      <td>4</td>\n",
       "      <td>coupe</td>\n",
       "      <td>2118</td>\n",
       "      <td>14509.151086</td>\n",
       "    </tr>\n",
       "    <tr>\n",
       "      <td>5</td>\n",
       "      <td>wagon</td>\n",
       "      <td>1516</td>\n",
       "      <td>9163.057388</td>\n",
       "    </tr>\n",
       "    <tr>\n",
       "      <td>6</td>\n",
       "      <td>mini-van</td>\n",
       "      <td>1149</td>\n",
       "      <td>8140.024369</td>\n",
       "    </tr>\n",
       "    <tr>\n",
       "      <td>7</td>\n",
       "      <td>hatchback</td>\n",
       "      <td>1013</td>\n",
       "      <td>6990.847976</td>\n",
       "    </tr>\n",
       "    <tr>\n",
       "      <td>8</td>\n",
       "      <td>van</td>\n",
       "      <td>603</td>\n",
       "      <td>10690.124378</td>\n",
       "    </tr>\n",
       "    <tr>\n",
       "      <td>9</td>\n",
       "      <td>convertible</td>\n",
       "      <td>402</td>\n",
       "      <td>13555.848259</td>\n",
       "    </tr>\n",
       "    <tr>\n",
       "      <td>10</td>\n",
       "      <td>other</td>\n",
       "      <td>252</td>\n",
       "      <td>10769.309524</td>\n",
       "    </tr>\n",
       "    <tr>\n",
       "      <td>11</td>\n",
       "      <td>offroad</td>\n",
       "      <td>210</td>\n",
       "      <td>14398.195238</td>\n",
       "    </tr>\n",
       "    <tr>\n",
       "      <td>12</td>\n",
       "      <td>bus</td>\n",
       "      <td>7</td>\n",
       "      <td>6139.285714</td>\n",
       "    </tr>\n",
       "  </tbody>\n",
       "</table>\n",
       "</div>"
      ],
      "text/plain": [
       "           type  count          mean\n",
       "0           SUV  12017  11413.845219\n",
       "1         sedan  11718   7096.734511\n",
       "2         truck  11713  16898.638265\n",
       "3        pickup   6866  16053.282406\n",
       "4         coupe   2118  14509.151086\n",
       "5         wagon   1516   9163.057388\n",
       "6      mini-van   1149   8140.024369\n",
       "7     hatchback   1013   6990.847976\n",
       "8           van    603  10690.124378\n",
       "9   convertible    402  13555.848259\n",
       "10        other    252  10769.309524\n",
       "11      offroad    210  14398.195238\n",
       "12          bus      7   6139.285714"
      ]
     },
     "execution_count": 30,
     "metadata": {},
     "output_type": "execute_result"
    }
   ],
   "source": [
    "price_type = clean_data.groupby('type')['price'].agg(['count','mean']).sort_values(by= 'count', ascending= False).reset_index()\n",
    "price_type"
   ]
  },
  {
   "cell_type": "code",
   "execution_count": 31,
   "metadata": {},
   "outputs": [
    {
     "name": "stdout",
     "output_type": "stream",
     "text": [
      "the top 2 types with the max add numbers:\n"
     ]
    },
    {
     "data": {
      "text/plain": [
       "0      SUV\n",
       "1    sedan\n",
       "Name: type, dtype: object"
      ]
     },
     "execution_count": 31,
     "metadata": {},
     "output_type": "execute_result"
    }
   ],
   "source": [
    "top= price_type.head(2)['type']\n",
    "print(\"the top 2 types with the max add numbers:\")\n",
    "top"
   ]
  },
  {
   "cell_type": "code",
   "execution_count": 32,
   "metadata": {},
   "outputs": [
    {
     "data": {
      "text/plain": [
       "Text(0.5, 0, 'number of adds for car type')"
      ]
     },
     "execution_count": 32,
     "metadata": {},
     "output_type": "execute_result"
    },
    {
     "data": {
      "image/png": "[encoded data removed]",
      "text/plain": [
       "<Figure size 432x432 with 1 Axes>"
      ]
     },
     "metadata": {
      "needs_background": "light"
     },
     "output_type": "display_data"
    }
   ],
   "source": [
    "price_type.plot(x='type', y= 'count', style= 'o' ,grid = True, figsize = (6,6))\n",
    "plt.title('type')\n",
    "plt.ylabel('count')\n",
    "plt.xlabel('number of adds for car type')\n"
   ]
  },
  {
   "cell_type": "markdown",
   "metadata": {},
   "source": [
    "### c. Price factors:"
   ]
  },
  {
   "cell_type": "code",
   "execution_count": 33,
   "metadata": {},
   "outputs": [
    {
     "data": {
      "text/plain": [
       "array(['SUV', 'sedan'], dtype=object)"
      ]
     },
     "execution_count": 33,
     "metadata": {},
     "output_type": "execute_result"
    }
   ],
   "source": [
    "new_data= clean_data[clean_data.type.isin(top)]\n",
    "new_data['type'].unique()"
   ]
  },
  {
   "cell_type": "code",
   "execution_count": 34,
   "metadata": {},
   "outputs": [],
   "source": [
    "SUV= new_data[new_data['type']=='SUV']\n",
    "\n",
    "sedan= new_data[new_data['type']=='sedan']\n",
    "for_scatter_suv= SUV[['price', 'age', 'average_mileage', 'condition']]\n",
    "\n",
    "for_boxplot_suv = SUV[['price','transmission','paint_color']]\n",
    "\n",
    "for_scatter_sedan= sedan[['price', 'age', 'average_mileage', 'condition']]\n",
    "\n",
    "for_boxplot_sedan = sedan[['price','transmission','paint_color']]\n"
   ]
  },
  {
   "cell_type": "code",
   "execution_count": 35,
   "metadata": {},
   "outputs": [
    {
     "data": {
      "text/html": [
       "<div>\n",
       "<style scoped>\n",
       "    .dataframe tbody tr th:only-of-type {\n",
       "        vertical-align: middle;\n",
       "    }\n",
       "\n",
       "    .dataframe tbody tr th {\n",
       "        vertical-align: top;\n",
       "    }\n",
       "\n",
       "    .dataframe thead th {\n",
       "        text-align: right;\n",
       "    }\n",
       "</style>\n",
       "<table border=\"1\" class=\"dataframe\">\n",
       "  <thead>\n",
       "    <tr style=\"text-align: right;\">\n",
       "      <th></th>\n",
       "      <th>price</th>\n",
       "      <th>age</th>\n",
       "      <th>average_mileage</th>\n",
       "      <th>condition</th>\n",
       "    </tr>\n",
       "  </thead>\n",
       "  <tbody>\n",
       "    <tr>\n",
       "      <td>price</td>\n",
       "      <td>1.000000</td>\n",
       "      <td>-0.618017</td>\n",
       "      <td>0.274102</td>\n",
       "      <td>0.293633</td>\n",
       "    </tr>\n",
       "    <tr>\n",
       "      <td>age</td>\n",
       "      <td>-0.618017</td>\n",
       "      <td>1.000000</td>\n",
       "      <td>-0.574745</td>\n",
       "      <td>-0.317215</td>\n",
       "    </tr>\n",
       "    <tr>\n",
       "      <td>average_mileage</td>\n",
       "      <td>0.274102</td>\n",
       "      <td>-0.574745</td>\n",
       "      <td>1.000000</td>\n",
       "      <td>0.075201</td>\n",
       "    </tr>\n",
       "    <tr>\n",
       "      <td>condition</td>\n",
       "      <td>0.293633</td>\n",
       "      <td>-0.317215</td>\n",
       "      <td>0.075201</td>\n",
       "      <td>1.000000</td>\n",
       "    </tr>\n",
       "  </tbody>\n",
       "</table>\n",
       "</div>"
      ],
      "text/plain": [
       "                    price       age  average_mileage  condition\n",
       "price            1.000000 -0.618017         0.274102   0.293633\n",
       "age             -0.618017  1.000000        -0.574745  -0.317215\n",
       "average_mileage  0.274102 -0.574745         1.000000   0.075201\n",
       "condition        0.293633 -0.317215         0.075201   1.000000"
      ]
     },
     "execution_count": 35,
     "metadata": {},
     "output_type": "execute_result"
    },
    {
     "data": {
      "image/png": "[encoded data removed]",
      "text/plain": [
       "<Figure size 720x720 with 20 Axes>"
      ]
     },
     "metadata": {
      "needs_background": "light"
     },
     "output_type": "display_data"
    }
   ],
   "source": [
    "import seaborn as sns\n",
    "sns.pairplot(for_scatter_suv)\n",
    "for_scatter_suv.corr()"
   ]
  },
  {
   "cell_type": "markdown",
   "metadata": {},
   "source": [
    "**the best corraltion is between price and age, wish make sesns, the older the car the cheaper its gett both for the sedan and the SUV**"
   ]
  },
  {
   "cell_type": "code",
   "execution_count": 36,
   "metadata": {},
   "outputs": [
    {
     "data": {
      "text/html": [
       "<div>\n",
       "<style scoped>\n",
       "    .dataframe tbody tr th:only-of-type {\n",
       "        vertical-align: middle;\n",
       "    }\n",
       "\n",
       "    .dataframe tbody tr th {\n",
       "        vertical-align: top;\n",
       "    }\n",
       "\n",
       "    .dataframe thead th {\n",
       "        text-align: right;\n",
       "    }\n",
       "</style>\n",
       "<table border=\"1\" class=\"dataframe\">\n",
       "  <thead>\n",
       "    <tr style=\"text-align: right;\">\n",
       "      <th></th>\n",
       "      <th>price</th>\n",
       "      <th>age</th>\n",
       "      <th>average_mileage</th>\n",
       "      <th>condition</th>\n",
       "    </tr>\n",
       "  </thead>\n",
       "  <tbody>\n",
       "    <tr>\n",
       "      <td>price</td>\n",
       "      <td>1.000000</td>\n",
       "      <td>-0.665967</td>\n",
       "      <td>0.282789</td>\n",
       "      <td>0.322417</td>\n",
       "    </tr>\n",
       "    <tr>\n",
       "      <td>age</td>\n",
       "      <td>-0.665967</td>\n",
       "      <td>1.000000</td>\n",
       "      <td>-0.539594</td>\n",
       "      <td>-0.299222</td>\n",
       "    </tr>\n",
       "    <tr>\n",
       "      <td>average_mileage</td>\n",
       "      <td>0.282789</td>\n",
       "      <td>-0.539594</td>\n",
       "      <td>1.000000</td>\n",
       "      <td>0.072859</td>\n",
       "    </tr>\n",
       "    <tr>\n",
       "      <td>condition</td>\n",
       "      <td>0.322417</td>\n",
       "      <td>-0.299222</td>\n",
       "      <td>0.072859</td>\n",
       "      <td>1.000000</td>\n",
       "    </tr>\n",
       "  </tbody>\n",
       "</table>\n",
       "</div>"
      ],
      "text/plain": [
       "                    price       age  average_mileage  condition\n",
       "price            1.000000 -0.665967         0.282789   0.322417\n",
       "age             -0.665967  1.000000        -0.539594  -0.299222\n",
       "average_mileage  0.282789 -0.539594         1.000000   0.072859\n",
       "condition        0.322417 -0.299222         0.072859   1.000000"
      ]
     },
     "execution_count": 36,
     "metadata": {},
     "output_type": "execute_result"
    },
    {
     "data": {
      "image/png": "[encoded data removed]",
      "text/plain": [
       "<Figure size 720x720 with 20 Axes>"
      ]
     },
     "metadata": {
      "needs_background": "light"
     },
     "output_type": "display_data"
    }
   ],
   "source": [
    "sns.pairplot(for_scatter_sedan)\n",
    "for_scatter_sedan.corr()"
   ]
  },
  {
   "cell_type": "markdown",
   "metadata": {},
   "source": [
    "**cheking for categorical values if >50:**"
   ]
  },
  {
   "cell_type": "code",
   "execution_count": 37,
   "metadata": {},
   "outputs": [
    {
     "data": {
      "text/html": [
       "<div>\n",
       "<style scoped>\n",
       "    .dataframe tbody tr th:only-of-type {\n",
       "        vertical-align: middle;\n",
       "    }\n",
       "\n",
       "    .dataframe tbody tr th {\n",
       "        vertical-align: top;\n",
       "    }\n",
       "\n",
       "    .dataframe thead th {\n",
       "        text-align: right;\n",
       "    }\n",
       "</style>\n",
       "<table border=\"1\" class=\"dataframe\">\n",
       "  <thead>\n",
       "    <tr style=\"text-align: right;\">\n",
       "      <th></th>\n",
       "      <th>price</th>\n",
       "      <th>transmission</th>\n",
       "    </tr>\n",
       "    <tr>\n",
       "      <th>paint_color</th>\n",
       "      <th></th>\n",
       "      <th></th>\n",
       "    </tr>\n",
       "  </thead>\n",
       "  <tbody>\n",
       "    <tr>\n",
       "      <td>black</td>\n",
       "      <td>2132</td>\n",
       "      <td>2132</td>\n",
       "    </tr>\n",
       "    <tr>\n",
       "      <td>blue</td>\n",
       "      <td>1020</td>\n",
       "      <td>1020</td>\n",
       "    </tr>\n",
       "    <tr>\n",
       "      <td>brown</td>\n",
       "      <td>367</td>\n",
       "      <td>367</td>\n",
       "    </tr>\n",
       "    <tr>\n",
       "      <td>custom</td>\n",
       "      <td>278</td>\n",
       "      <td>278</td>\n",
       "    </tr>\n",
       "    <tr>\n",
       "      <td>green</td>\n",
       "      <td>425</td>\n",
       "      <td>425</td>\n",
       "    </tr>\n",
       "    <tr>\n",
       "      <td>grey</td>\n",
       "      <td>1161</td>\n",
       "      <td>1161</td>\n",
       "    </tr>\n",
       "    <tr>\n",
       "      <td>orange</td>\n",
       "      <td>82</td>\n",
       "      <td>82</td>\n",
       "    </tr>\n",
       "    <tr>\n",
       "      <td>purple</td>\n",
       "      <td>39</td>\n",
       "      <td>39</td>\n",
       "    </tr>\n",
       "    <tr>\n",
       "      <td>red</td>\n",
       "      <td>886</td>\n",
       "      <td>886</td>\n",
       "    </tr>\n",
       "    <tr>\n",
       "      <td>silver</td>\n",
       "      <td>1511</td>\n",
       "      <td>1511</td>\n",
       "    </tr>\n",
       "    <tr>\n",
       "      <td>unknown</td>\n",
       "      <td>2154</td>\n",
       "      <td>2154</td>\n",
       "    </tr>\n",
       "    <tr>\n",
       "      <td>white</td>\n",
       "      <td>1913</td>\n",
       "      <td>1913</td>\n",
       "    </tr>\n",
       "    <tr>\n",
       "      <td>yellow</td>\n",
       "      <td>49</td>\n",
       "      <td>49</td>\n",
       "    </tr>\n",
       "  </tbody>\n",
       "</table>\n",
       "</div>"
      ],
      "text/plain": [
       "             price  transmission\n",
       "paint_color                     \n",
       "black         2132          2132\n",
       "blue          1020          1020\n",
       "brown          367           367\n",
       "custom         278           278\n",
       "green          425           425\n",
       "grey          1161          1161\n",
       "orange          82            82\n",
       "purple          39            39\n",
       "red            886           886\n",
       "silver        1511          1511\n",
       "unknown       2154          2154\n",
       "white         1913          1913\n",
       "yellow          49            49"
      ]
     },
     "execution_count": 37,
     "metadata": {},
     "output_type": "execute_result"
    }
   ],
   "source": [
    "for_boxplot_suv.groupby('paint_color').count()"
   ]
  },
  {
   "cell_type": "markdown",
   "metadata": {},
   "source": [
    "**for the SUV: the purple colore have lessn then 50, its not valid.**"
   ]
  },
  {
   "cell_type": "code",
   "execution_count": 38,
   "metadata": {},
   "outputs": [
    {
     "data": {
      "text/html": [
       "<div>\n",
       "<style scoped>\n",
       "    .dataframe tbody tr th:only-of-type {\n",
       "        vertical-align: middle;\n",
       "    }\n",
       "\n",
       "    .dataframe tbody tr th {\n",
       "        vertical-align: top;\n",
       "    }\n",
       "\n",
       "    .dataframe thead th {\n",
       "        text-align: right;\n",
       "    }\n",
       "</style>\n",
       "<table border=\"1\" class=\"dataframe\">\n",
       "  <thead>\n",
       "    <tr style=\"text-align: right;\">\n",
       "      <th></th>\n",
       "      <th>price</th>\n",
       "      <th>paint_color</th>\n",
       "    </tr>\n",
       "    <tr>\n",
       "      <th>transmission</th>\n",
       "      <th></th>\n",
       "      <th></th>\n",
       "    </tr>\n",
       "  </thead>\n",
       "  <tbody>\n",
       "    <tr>\n",
       "      <td>automatic</td>\n",
       "      <td>11421</td>\n",
       "      <td>11421</td>\n",
       "    </tr>\n",
       "    <tr>\n",
       "      <td>manual</td>\n",
       "      <td>506</td>\n",
       "      <td>506</td>\n",
       "    </tr>\n",
       "    <tr>\n",
       "      <td>other</td>\n",
       "      <td>90</td>\n",
       "      <td>90</td>\n",
       "    </tr>\n",
       "  </tbody>\n",
       "</table>\n",
       "</div>"
      ],
      "text/plain": [
       "              price  paint_color\n",
       "transmission                    \n",
       "automatic     11421        11421\n",
       "manual          506          506\n",
       "other            90           90"
      ]
     },
     "execution_count": 38,
     "metadata": {},
     "output_type": "execute_result"
    }
   ],
   "source": [
    "for_boxplot_suv.groupby('transmission').count()"
   ]
  },
  {
   "cell_type": "code",
   "execution_count": 39,
   "metadata": {},
   "outputs": [
    {
     "data": {
      "text/html": [
       "<div>\n",
       "<style scoped>\n",
       "    .dataframe tbody tr th:only-of-type {\n",
       "        vertical-align: middle;\n",
       "    }\n",
       "\n",
       "    .dataframe tbody tr th {\n",
       "        vertical-align: top;\n",
       "    }\n",
       "\n",
       "    .dataframe thead th {\n",
       "        text-align: right;\n",
       "    }\n",
       "</style>\n",
       "<table border=\"1\" class=\"dataframe\">\n",
       "  <thead>\n",
       "    <tr style=\"text-align: right;\">\n",
       "      <th></th>\n",
       "      <th>price</th>\n",
       "      <th>transmission</th>\n",
       "    </tr>\n",
       "    <tr>\n",
       "      <th>paint_color</th>\n",
       "      <th></th>\n",
       "      <th></th>\n",
       "    </tr>\n",
       "  </thead>\n",
       "  <tbody>\n",
       "    <tr>\n",
       "      <td>black</td>\n",
       "      <td>1706</td>\n",
       "      <td>1706</td>\n",
       "    </tr>\n",
       "    <tr>\n",
       "      <td>blue</td>\n",
       "      <td>1200</td>\n",
       "      <td>1200</td>\n",
       "    </tr>\n",
       "    <tr>\n",
       "      <td>brown</td>\n",
       "      <td>257</td>\n",
       "      <td>257</td>\n",
       "    </tr>\n",
       "    <tr>\n",
       "      <td>custom</td>\n",
       "      <td>266</td>\n",
       "      <td>266</td>\n",
       "    </tr>\n",
       "    <tr>\n",
       "      <td>green</td>\n",
       "      <td>206</td>\n",
       "      <td>206</td>\n",
       "    </tr>\n",
       "    <tr>\n",
       "      <td>grey</td>\n",
       "      <td>1591</td>\n",
       "      <td>1591</td>\n",
       "    </tr>\n",
       "    <tr>\n",
       "      <td>orange</td>\n",
       "      <td>9</td>\n",
       "      <td>9</td>\n",
       "    </tr>\n",
       "    <tr>\n",
       "      <td>purple</td>\n",
       "      <td>26</td>\n",
       "      <td>26</td>\n",
       "    </tr>\n",
       "    <tr>\n",
       "      <td>red</td>\n",
       "      <td>897</td>\n",
       "      <td>897</td>\n",
       "    </tr>\n",
       "    <tr>\n",
       "      <td>silver</td>\n",
       "      <td>1998</td>\n",
       "      <td>1998</td>\n",
       "    </tr>\n",
       "    <tr>\n",
       "      <td>unknown</td>\n",
       "      <td>2107</td>\n",
       "      <td>2107</td>\n",
       "    </tr>\n",
       "    <tr>\n",
       "      <td>white</td>\n",
       "      <td>1434</td>\n",
       "      <td>1434</td>\n",
       "    </tr>\n",
       "    <tr>\n",
       "      <td>yellow</td>\n",
       "      <td>21</td>\n",
       "      <td>21</td>\n",
       "    </tr>\n",
       "  </tbody>\n",
       "</table>\n",
       "</div>"
      ],
      "text/plain": [
       "             price  transmission\n",
       "paint_color                     \n",
       "black         1706          1706\n",
       "blue          1200          1200\n",
       "brown          257           257\n",
       "custom         266           266\n",
       "green          206           206\n",
       "grey          1591          1591\n",
       "orange           9             9\n",
       "purple          26            26\n",
       "red            897           897\n",
       "silver        1998          1998\n",
       "unknown       2107          2107\n",
       "white         1434          1434\n",
       "yellow          21            21"
      ]
     },
     "execution_count": 39,
     "metadata": {},
     "output_type": "execute_result"
    }
   ],
   "source": [
    "for_boxplot_sedan.groupby('paint_color').count()"
   ]
  },
  {
   "cell_type": "markdown",
   "metadata": {},
   "source": [
    "**for the sedan: the purple orenge and yellow colors have lessn then 50, its not valid.**"
   ]
  },
  {
   "cell_type": "code",
   "execution_count": 40,
   "metadata": {},
   "outputs": [
    {
     "data": {
      "text/html": [
       "<div>\n",
       "<style scoped>\n",
       "    .dataframe tbody tr th:only-of-type {\n",
       "        vertical-align: middle;\n",
       "    }\n",
       "\n",
       "    .dataframe tbody tr th {\n",
       "        vertical-align: top;\n",
       "    }\n",
       "\n",
       "    .dataframe thead th {\n",
       "        text-align: right;\n",
       "    }\n",
       "</style>\n",
       "<table border=\"1\" class=\"dataframe\">\n",
       "  <thead>\n",
       "    <tr style=\"text-align: right;\">\n",
       "      <th></th>\n",
       "      <th>price</th>\n",
       "      <th>paint_color</th>\n",
       "    </tr>\n",
       "    <tr>\n",
       "      <th>transmission</th>\n",
       "      <th></th>\n",
       "      <th></th>\n",
       "    </tr>\n",
       "  </thead>\n",
       "  <tbody>\n",
       "    <tr>\n",
       "      <td>automatic</td>\n",
       "      <td>11065</td>\n",
       "      <td>11065</td>\n",
       "    </tr>\n",
       "    <tr>\n",
       "      <td>manual</td>\n",
       "      <td>582</td>\n",
       "      <td>582</td>\n",
       "    </tr>\n",
       "    <tr>\n",
       "      <td>other</td>\n",
       "      <td>71</td>\n",
       "      <td>71</td>\n",
       "    </tr>\n",
       "  </tbody>\n",
       "</table>\n",
       "</div>"
      ],
      "text/plain": [
       "              price  paint_color\n",
       "transmission                    \n",
       "automatic     11065        11065\n",
       "manual          582          582\n",
       "other            71           71"
      ]
     },
     "execution_count": 40,
     "metadata": {},
     "output_type": "execute_result"
    }
   ],
   "source": [
    "for_boxplot_sedan.groupby('transmission').count()"
   ]
  },
  {
   "cell_type": "code",
   "execution_count": 41,
   "metadata": {},
   "outputs": [
    {
     "data": {
      "image/png": "[encoded data removed]",
      "text/plain": [
       "<Figure size 1008x576 with 1 Axes>"
      ]
     },
     "metadata": {
      "needs_background": "light"
     },
     "output_type": "display_data"
    }
   ],
   "source": [
    "plt.figure(figsize=(14,8))\n",
    "ax=sns.boxplot(x=\"transmission\", y=\"price\", data=for_boxplot_suv)"
   ]
  },
  {
   "cell_type": "markdown",
   "metadata": {},
   "source": [
    "**The SUV manual cost mor then the automatic, its wired outcome, I would expect the automatic SUV to cost more, the automatic SUV has a long outlier tail.**"
   ]
  },
  {
   "cell_type": "code",
   "execution_count": 42,
   "metadata": {},
   "outputs": [
    {
     "data": {
      "image/png": "[encoded data removed]",
      "text/plain": [
       "<Figure size 1008x576 with 1 Axes>"
      ]
     },
     "metadata": {
      "needs_background": "light"
     },
     "output_type": "display_data"
    }
   ],
   "source": [
    "plt.figure(figsize=(14,8))\n",
    "ax=sns.boxplot(x=\"paint_color\", y=\"price\", data=for_boxplot_suv)"
   ]
  },
  {
   "cell_type": "markdown",
   "metadata": {},
   "source": [
    "**The orenge SUV is the most expensive car, the black, silver, blue, red, white, and grey have a long outlier tail, the purple SUV is not valid, it has less then 50 ads.**"
   ]
  },
  {
   "cell_type": "code",
   "execution_count": 43,
   "metadata": {},
   "outputs": [
    {
     "data": {
      "image/png": "[encoded data removed]",
      "text/plain": [
       "<Figure size 1008x576 with 1 Axes>"
      ]
     },
     "metadata": {
      "needs_background": "light"
     },
     "output_type": "display_data"
    }
   ],
   "source": [
    "plt.figure(figsize=(14,8))\n",
    "ax=sns.boxplot(x=\"transmission\", y=\"price\", data=for_boxplot_sedan)"
   ]
  },
  {
   "cell_type": "markdown",
   "metadata": {},
   "source": [
    "**The manual sedan is cheaper as expected, the automatic SUV has a long outlier tail.**"
   ]
  },
  {
   "cell_type": "code",
   "execution_count": 44,
   "metadata": {},
   "outputs": [
    {
     "data": {
      "image/png": "[encoded data removed]",
      "text/plain": [
       "<Figure size 1008x576 with 1 Axes>"
      ]
     },
     "metadata": {
      "needs_background": "light"
     },
     "output_type": "display_data"
    }
   ],
   "source": [
    "plt.figure(figsize=(14,8))\n",
    "ax=sns.boxplot(x=\"paint_color\", y=\"price\", data=for_boxplot_sedan)"
   ]
  },
  {
   "cell_type": "markdown",
   "metadata": {},
   "source": [
    "**All the colors have almost the same median cost, the black, silver, blue, red, white, and grey have a long outlier tail, the purple and the orenge have less then 50 ads, so its not valid.**"
   ]
  },
  {
   "cell_type": "markdown",
   "metadata": {},
   "source": [
    "## General conclusion\n",
    "I started with profile report to get a sense of the data, which columns gave connection,and where are the missing values.\n",
    "I saw that in the is_4wd columns half of the value were missing, since all the other values been 1, and its boolian column, I change the empty cells into 0's.\n",
    "**the model year column:**\n",
    "by looking in the profile report, I saw that most of the values start at 1990, that the reason I'd set the earliest year for complition as 1991. then I found the median year for each model, and filled it to the missing values.\n",
    "**the cylinders column:**\n",
    "I filled the missing values maximal cylinder number for each type and model\n",
    "and for the 15 remains just by type.\n",
    "**the paint color column:**\n",
    "I filled the missing values by the most common color for each model of each year, \n",
    "and for the remains just by most common color for every model.\n",
    "**the odometer column:**\n",
    "by the profile report, I'v notice that most values are under 300,000 so I set the initial filter as under 300,000.\n",
    "Then Iv created a group for the median odometer of every model year.\n",
    "I set the model year median odometer for every missing value. \n",
    "The remain missing value was a car for 1929, so I set its odometer to the maximum value.\n",
    "\n",
    "After all the missing values have been completed, I changed the model_year, cylinder, odometer, and is_4wd columns to int64, in order to plot graphs.\n",
    "I add new columns: day posted, month posted, year posted, car age, and average mileage.\n",
    "I set odometer as average mileage for cars with the same year posted as model year, and change the condition column into numbers: \"new\": 5, \"like new\": 4, \"excellent\": 3, \"good\": 2, \"fair\": 1, \"salvage\": 0.\n",
    "\n",
    "**Study core parameters:**\n",
    "For - price,  age mileage, cylinders and condition I ploted an histogram and boxPlot in order to find the outliers.\n",
    "After compering the outliers by 95,5 precenteg, extreme boxplot values and the outliers as its seem from the graph I set that outliers as the lowest and logical values for each core parameter:\n",
    "500<= Price <= 100,000\n",
    "Age <= 40\n",
    "Average mileage <= 90,000\n",
    "4<= Cylinder <= 8\n",
    "1<= Condition <=4\n",
    "\n",
    "I calculated the outliers (3.8%) and the clean data (96.2%) precentage as set them as new DataFrame, and plot each column for each df( original, clean and outliers) on the same graph to mke sue no mistake were made.\n",
    "\n",
    "**stydy ads lifetime:**\n",
    "I found the mean (39 days) and median 33(days) fore ad lifetime based on the clean data and ploted an histogram, most of the ads displayed between 10-70 days, some ads were diplayed for less then 5 days. some ads were displayed for more then 100 days, the outcome seem logical.\n",
    "\n",
    "**Average price per each type of vehicle:**\n",
    "Based on the clean data I summerized the mean price for each car type.\n",
    "\n",
    "**Price factors:**\n",
    "I locate the SUV and the sedan as the cars with the highst add share.\n",
    "on those two cars types I tried to find what quantitive factor impact the price the most: age, average mileage, condition.\n",
    "The age is has the highst corralation to price, negetive corralation (-0.67) that logical conclution.\n",
    "For SUV and sedan the categorical factors: colors an transmission non showed conclusive impact on the price."
   ]
  },
  {
   "cell_type": "code",
   "execution_count": null,
   "metadata": {},
   "outputs": [],
   "source": []
  }
 ],
 "metadata": {
  "ExecuteTimeLog": [
   {
    "duration": 828,
    "start_time": "2021-11-16T09:21:11.304Z"
   },
   {
    "duration": 893,
    "start_time": "2021-11-16T09:21:17.728Z"
   },
   {
    "duration": 1150,
    "start_time": "2021-11-16T09:21:29.568Z"
   },
   {
    "duration": 3,
    "start_time": "2021-11-16T09:24:14.495Z"
   },
   {
    "duration": 120,
    "start_time": "2021-11-16T09:24:46.630Z"
   },
   {
    "duration": 3,
    "start_time": "2021-11-16T09:28:27.882Z"
   },
   {
    "duration": 4,
    "start_time": "2021-11-16T09:29:54.281Z"
   },
   {
    "duration": 3,
    "start_time": "2021-11-16T09:30:45.936Z"
   },
   {
    "duration": 4,
    "start_time": "2021-11-16T09:31:06.300Z"
   },
   {
    "duration": 113,
    "start_time": "2021-11-16T09:31:37.208Z"
   },
   {
    "duration": 143,
    "start_time": "2021-11-16T09:31:48.656Z"
   },
   {
    "duration": 98,
    "start_time": "2021-11-16T09:31:55.678Z"
   },
   {
    "duration": 3,
    "start_time": "2021-11-16T09:32:08.535Z"
   },
   {
    "duration": 111,
    "start_time": "2021-11-16T09:32:10.120Z"
   },
   {
    "duration": 3,
    "start_time": "2021-11-16T09:32:15.732Z"
   },
   {
    "duration": 4,
    "start_time": "2021-11-16T09:32:29.423Z"
   },
   {
    "duration": 3,
    "start_time": "2021-11-16T10:03:03.074Z"
   },
   {
    "duration": 3,
    "start_time": "2021-11-16T10:10:01.288Z"
   },
   {
    "duration": 3,
    "start_time": "2021-11-16T10:10:46.923Z"
   },
   {
    "duration": 121,
    "start_time": "2021-11-16T10:37:46.494Z"
   },
   {
    "duration": 125,
    "start_time": "2021-11-16T10:38:20.632Z"
   },
   {
    "duration": 112,
    "start_time": "2021-11-16T10:46:53.001Z"
   },
   {
    "duration": 110,
    "start_time": "2021-11-16T10:48:25.775Z"
   },
   {
    "duration": 3,
    "start_time": "2021-11-16T10:50:18.720Z"
   },
   {
    "duration": 4,
    "start_time": "2021-11-16T10:50:37.649Z"
   },
   {
    "duration": 2,
    "start_time": "2021-11-16T10:50:51.884Z"
   },
   {
    "duration": 3,
    "start_time": "2021-11-16T10:51:56.237Z"
   },
   {
    "duration": 101,
    "start_time": "2021-11-16T10:53:13.791Z"
   },
   {
    "duration": 3,
    "start_time": "2021-11-16T10:55:59.186Z"
   },
   {
    "duration": 3,
    "start_time": "2021-11-16T10:56:10.751Z"
   },
   {
    "duration": 3,
    "start_time": "2021-11-16T10:56:49.038Z"
   },
   {
    "duration": 3,
    "start_time": "2021-11-16T10:56:49.174Z"
   },
   {
    "duration": 4,
    "start_time": "2021-11-16T10:56:49.414Z"
   },
   {
    "duration": 3,
    "start_time": "2021-11-16T10:56:49.680Z"
   },
   {
    "duration": 3,
    "start_time": "2021-11-16T10:56:50.370Z"
   },
   {
    "duration": 114,
    "start_time": "2021-11-16T10:59:34.518Z"
   },
   {
    "duration": 3,
    "start_time": "2021-11-16T11:01:41.201Z"
   },
   {
    "duration": 116,
    "start_time": "2021-11-16T11:01:48.754Z"
   },
   {
    "duration": 3,
    "start_time": "2021-11-16T11:02:16.685Z"
   },
   {
    "duration": 3,
    "start_time": "2021-11-16T11:02:19.479Z"
   },
   {
    "duration": 3,
    "start_time": "2021-11-16T11:02:47.067Z"
   },
   {
    "duration": 3,
    "start_time": "2021-11-16T11:02:49.353Z"
   },
   {
    "duration": 3,
    "start_time": "2021-11-16T11:03:07.835Z"
   },
   {
    "duration": 3,
    "start_time": "2021-11-16T11:03:07.953Z"
   },
   {
    "duration": 112,
    "start_time": "2021-11-16T11:07:52.072Z"
   },
   {
    "duration": 187,
    "start_time": "2021-11-16T11:09:23.468Z"
   },
   {
    "duration": 4,
    "start_time": "2021-11-16T11:10:01.455Z"
   },
   {
    "duration": 3,
    "start_time": "2021-11-16T11:10:05.069Z"
   },
   {
    "duration": 4,
    "start_time": "2021-11-16T11:10:13.376Z"
   },
   {
    "duration": 3,
    "start_time": "2021-11-16T11:10:14.434Z"
   },
   {
    "duration": 3,
    "start_time": "2021-11-16T11:10:22.853Z"
   },
   {
    "duration": 4,
    "start_time": "2021-11-16T11:27:29.279Z"
   },
   {
    "duration": 4,
    "start_time": "2021-11-16T11:29:08.919Z"
   },
   {
    "duration": 118,
    "start_time": "2021-11-16T11:29:46.703Z"
   },
   {
    "duration": 437,
    "start_time": "2021-11-16T11:36:02.181Z"
   },
   {
    "duration": 157,
    "start_time": "2021-11-16T11:36:14.388Z"
   },
   {
    "duration": 207,
    "start_time": "2021-11-16T11:47:15.898Z"
   },
   {
    "duration": 3,
    "start_time": "2021-11-16T11:53:52.092Z"
   },
   {
    "duration": 3,
    "start_time": "2021-11-16T11:53:52.236Z"
   },
   {
    "duration": 3,
    "start_time": "2021-11-16T11:59:12.005Z"
   },
   {
    "duration": 112,
    "start_time": "2021-11-16T12:00:33.446Z"
   },
   {
    "duration": 3,
    "start_time": "2021-11-16T12:02:14.453Z"
   },
   {
    "duration": 3,
    "start_time": "2021-11-16T12:02:39.512Z"
   },
   {
    "duration": 106,
    "start_time": "2021-11-16T12:03:03.460Z"
   },
   {
    "duration": -71,
    "start_time": "2022-01-28T18:13:47.234Z"
   },
   {
    "duration": -104,
    "start_time": "2022-01-28T18:13:47.268Z"
   },
   {
    "duration": -119,
    "start_time": "2022-01-28T18:13:47.284Z"
   },
   {
    "duration": -137,
    "start_time": "2022-01-28T18:13:47.303Z"
   },
   {
    "duration": -143,
    "start_time": "2022-01-28T18:13:47.310Z"
   },
   {
    "duration": -151,
    "start_time": "2022-01-28T18:13:47.319Z"
   },
   {
    "duration": -154,
    "start_time": "2022-01-28T18:13:47.323Z"
   },
   {
    "duration": -163,
    "start_time": "2022-01-28T18:13:47.333Z"
   },
   {
    "duration": -169,
    "start_time": "2022-01-28T18:13:47.339Z"
   },
   {
    "duration": -173,
    "start_time": "2022-01-28T18:13:47.345Z"
   },
   {
    "duration": -181,
    "start_time": "2022-01-28T18:13:47.353Z"
   },
   {
    "duration": -186,
    "start_time": "2022-01-28T18:13:47.359Z"
   },
   {
    "duration": -209,
    "start_time": "2022-01-28T18:13:47.383Z"
   },
   {
    "duration": -213,
    "start_time": "2022-01-28T18:13:47.388Z"
   },
   {
    "duration": -218,
    "start_time": "2022-01-28T18:13:47.394Z"
   },
   {
    "duration": -221,
    "start_time": "2022-01-28T18:13:47.398Z"
   },
   {
    "duration": -237,
    "start_time": "2022-01-28T18:13:47.415Z"
   },
   {
    "duration": -242,
    "start_time": "2022-01-28T18:13:47.421Z"
   },
   {
    "duration": -247,
    "start_time": "2022-01-28T18:13:47.427Z"
   },
   {
    "duration": -250,
    "start_time": "2022-01-28T18:13:47.431Z"
   },
   {
    "duration": -254,
    "start_time": "2022-01-28T18:13:47.436Z"
   },
   {
    "duration": -257,
    "start_time": "2022-01-28T18:13:47.440Z"
   },
   {
    "duration": -262,
    "start_time": "2022-01-28T18:13:47.445Z"
   },
   {
    "duration": -266,
    "start_time": "2022-01-28T18:13:47.450Z"
   },
   {
    "duration": -270,
    "start_time": "2022-01-28T18:13:47.455Z"
   },
   {
    "duration": -273,
    "start_time": "2022-01-28T18:13:47.459Z"
   },
   {
    "duration": -279,
    "start_time": "2022-01-28T18:13:47.466Z"
   },
   {
    "duration": -285,
    "start_time": "2022-01-28T18:13:47.473Z"
   },
   {
    "duration": -289,
    "start_time": "2022-01-28T18:13:47.478Z"
   },
   {
    "duration": -294,
    "start_time": "2022-01-28T18:13:47.484Z"
   },
   {
    "duration": -299,
    "start_time": "2022-01-28T18:13:47.490Z"
   },
   {
    "duration": -302,
    "start_time": "2022-01-28T18:13:47.494Z"
   },
   {
    "duration": -309,
    "start_time": "2022-01-28T18:13:47.502Z"
   },
   {
    "duration": -313,
    "start_time": "2022-01-28T18:13:47.507Z"
   },
   {
    "duration": -340,
    "start_time": "2022-01-28T18:13:47.534Z"
   },
   {
    "duration": -367,
    "start_time": "2022-01-28T18:13:47.562Z"
   },
   {
    "duration": -371,
    "start_time": "2022-01-28T18:13:47.567Z"
   },
   {
    "duration": -374,
    "start_time": "2022-01-28T18:13:47.571Z"
   },
   {
    "duration": -378,
    "start_time": "2022-01-28T18:13:47.576Z"
   },
   {
    "duration": -380,
    "start_time": "2022-01-28T18:13:47.579Z"
   },
   {
    "duration": -382,
    "start_time": "2022-01-28T18:13:47.582Z"
   },
   {
    "duration": -326,
    "start_time": "2022-01-28T18:13:47.586Z"
   },
   {
    "duration": -328,
    "start_time": "2022-01-28T18:13:47.589Z"
   },
   {
    "duration": -330,
    "start_time": "2022-01-28T18:13:47.592Z"
   },
   {
    "duration": -334,
    "start_time": "2022-01-28T18:13:47.597Z"
   },
   {
    "duration": -336,
    "start_time": "2022-01-28T18:13:47.600Z"
   },
   {
    "duration": 1036,
    "start_time": "2022-01-28T18:14:37.427Z"
   },
   {
    "duration": -35,
    "start_time": "2022-01-28T18:14:38.502Z"
   },
   {
    "duration": -38,
    "start_time": "2022-01-28T18:14:38.505Z"
   },
   {
    "duration": -41,
    "start_time": "2022-01-28T18:14:38.509Z"
   },
   {
    "duration": -45,
    "start_time": "2022-01-28T18:14:38.514Z"
   },
   {
    "duration": -62,
    "start_time": "2022-01-28T18:14:38.532Z"
   },
   {
    "duration": -65,
    "start_time": "2022-01-28T18:14:38.535Z"
   },
   {
    "duration": -67,
    "start_time": "2022-01-28T18:14:38.538Z"
   },
   {
    "duration": -69,
    "start_time": "2022-01-28T18:14:38.541Z"
   },
   {
    "duration": -71,
    "start_time": "2022-01-28T18:14:38.544Z"
   },
   {
    "duration": -74,
    "start_time": "2022-01-28T18:14:38.548Z"
   },
   {
    "duration": -76,
    "start_time": "2022-01-28T18:14:38.551Z"
   },
   {
    "duration": -79,
    "start_time": "2022-01-28T18:14:38.555Z"
   },
   {
    "duration": -81,
    "start_time": "2022-01-28T18:14:38.558Z"
   },
   {
    "duration": -85,
    "start_time": "2022-01-28T18:14:38.563Z"
   },
   {
    "duration": -87,
    "start_time": "2022-01-28T18:14:38.566Z"
   },
   {
    "duration": -90,
    "start_time": "2022-01-28T18:14:38.570Z"
   },
   {
    "duration": -91,
    "start_time": "2022-01-28T18:14:38.572Z"
   },
   {
    "duration": -94,
    "start_time": "2022-01-28T18:14:38.575Z"
   },
   {
    "duration": -97,
    "start_time": "2022-01-28T18:14:38.579Z"
   },
   {
    "duration": -99,
    "start_time": "2022-01-28T18:14:38.582Z"
   },
   {
    "duration": -101,
    "start_time": "2022-01-28T18:14:38.585Z"
   },
   {
    "duration": -104,
    "start_time": "2022-01-28T18:14:38.589Z"
   },
   {
    "duration": -106,
    "start_time": "2022-01-28T18:14:38.592Z"
   },
   {
    "duration": -109,
    "start_time": "2022-01-28T18:14:38.596Z"
   },
   {
    "duration": -123,
    "start_time": "2022-01-28T18:14:38.611Z"
   },
   {
    "duration": -126,
    "start_time": "2022-01-28T18:14:38.615Z"
   },
   {
    "duration": -128,
    "start_time": "2022-01-28T18:14:38.618Z"
   },
   {
    "duration": -130,
    "start_time": "2022-01-28T18:14:38.621Z"
   },
   {
    "duration": -132,
    "start_time": "2022-01-28T18:14:38.624Z"
   },
   {
    "duration": -135,
    "start_time": "2022-01-28T18:14:38.628Z"
   },
   {
    "duration": -137,
    "start_time": "2022-01-28T18:14:38.631Z"
   },
   {
    "duration": -139,
    "start_time": "2022-01-28T18:14:38.634Z"
   },
   {
    "duration": -141,
    "start_time": "2022-01-28T18:14:38.637Z"
   },
   {
    "duration": -143,
    "start_time": "2022-01-28T18:14:38.640Z"
   },
   {
    "duration": -145,
    "start_time": "2022-01-28T18:14:38.643Z"
   },
   {
    "duration": -147,
    "start_time": "2022-01-28T18:14:38.646Z"
   },
   {
    "duration": -149,
    "start_time": "2022-01-28T18:14:38.649Z"
   },
   {
    "duration": -152,
    "start_time": "2022-01-28T18:14:38.652Z"
   },
   {
    "duration": -154,
    "start_time": "2022-01-28T18:14:38.655Z"
   },
   {
    "duration": -155,
    "start_time": "2022-01-28T18:14:38.657Z"
   },
   {
    "duration": -157,
    "start_time": "2022-01-28T18:14:38.660Z"
   },
   {
    "duration": -102,
    "start_time": "2022-01-28T18:14:38.663Z"
   },
   {
    "duration": -104,
    "start_time": "2022-01-28T18:14:38.666Z"
   },
   {
    "duration": -106,
    "start_time": "2022-01-28T18:14:38.669Z"
   },
   {
    "duration": -107,
    "start_time": "2022-01-28T18:14:38.671Z"
   },
   {
    "duration": 243,
    "start_time": "2022-01-28T18:16:51.873Z"
   },
   {
    "duration": 596,
    "start_time": "2022-01-28T18:16:57.803Z"
   },
   {
    "duration": 179,
    "start_time": "2022-01-28T18:17:32.472Z"
   },
   {
    "duration": 97,
    "start_time": "2022-01-28T18:17:39.407Z"
   },
   {
    "duration": 9,
    "start_time": "2022-01-28T18:17:40.157Z"
   },
   {
    "duration": 13,
    "start_time": "2022-01-28T18:17:40.952Z"
   },
   {
    "duration": 20,
    "start_time": "2022-01-28T18:17:42.082Z"
   },
   {
    "duration": 470,
    "start_time": "2022-01-28T18:17:42.765Z"
   },
   {
    "duration": 195,
    "start_time": "2022-01-28T18:17:43.397Z"
   },
   {
    "duration": 21,
    "start_time": "2022-01-28T18:17:44.054Z"
   },
   {
    "duration": 1104,
    "start_time": "2022-01-28T18:17:44.673Z"
   },
   {
    "duration": 85,
    "start_time": "2022-01-28T18:17:45.779Z"
   },
   {
    "duration": 66,
    "start_time": "2022-01-28T18:17:45.865Z"
   },
   {
    "duration": 29,
    "start_time": "2022-01-28T18:17:45.933Z"
   },
   {
    "duration": 27,
    "start_time": "2022-01-28T18:17:46.045Z"
   },
   {
    "duration": 14,
    "start_time": "2022-01-28T18:17:46.432Z"
   },
   {
    "duration": 47,
    "start_time": "2022-01-28T18:17:46.835Z"
   },
   {
    "duration": 10,
    "start_time": "2022-01-28T18:17:47.025Z"
   },
   {
    "duration": 19,
    "start_time": "2022-01-28T18:17:47.235Z"
   },
   {
    "duration": 11,
    "start_time": "2022-01-28T18:17:47.431Z"
   },
   {
    "duration": 6,
    "start_time": "2022-01-28T18:17:47.643Z"
   },
   {
    "duration": 3,
    "start_time": "2022-01-28T18:17:47.837Z"
   },
   {
    "duration": 27,
    "start_time": "2022-01-28T18:17:48.030Z"
   },
   {
    "duration": 113,
    "start_time": "2022-01-28T18:17:48.641Z"
   },
   {
    "duration": 12,
    "start_time": "2022-01-28T18:17:48.811Z"
   },
   {
    "duration": 3597,
    "start_time": "2022-01-28T18:17:49.193Z"
   },
   {
    "duration": 5,
    "start_time": "2022-01-28T18:17:52.792Z"
   },
   {
    "duration": 34,
    "start_time": "2022-01-28T18:17:52.799Z"
   },
   {
    "duration": 106,
    "start_time": "2022-01-28T18:17:52.835Z"
   },
   {
    "duration": 3327,
    "start_time": "2022-01-28T18:17:52.943Z"
   },
   {
    "duration": 5,
    "start_time": "2022-01-28T18:17:56.272Z"
   },
   {
    "duration": 417,
    "start_time": "2022-01-28T18:17:56.279Z"
   },
   {
    "duration": 18,
    "start_time": "2022-01-28T18:17:56.700Z"
   },
   {
    "duration": 24,
    "start_time": "2022-01-28T18:17:56.720Z"
   },
   {
    "duration": 273,
    "start_time": "2022-01-28T18:17:56.746Z"
   },
   {
    "duration": 11,
    "start_time": "2022-01-28T18:17:57.021Z"
   },
   {
    "duration": 34,
    "start_time": "2022-01-28T18:17:57.034Z"
   },
   {
    "duration": 8197,
    "start_time": "2022-01-28T18:17:57.070Z"
   },
   {
    "duration": 7596,
    "start_time": "2022-01-28T18:18:05.269Z"
   },
   {
    "duration": 10,
    "start_time": "2022-01-28T18:18:12.867Z"
   },
   {
    "duration": 8,
    "start_time": "2022-01-28T18:18:12.879Z"
   },
   {
    "duration": 9,
    "start_time": "2022-01-28T18:18:12.889Z"
   },
   {
    "duration": 10,
    "start_time": "2022-01-28T18:18:12.900Z"
   },
   {
    "duration": 308,
    "start_time": "2022-01-28T18:18:12.912Z"
   },
   {
    "duration": 452,
    "start_time": "2022-01-28T18:18:13.221Z"
   },
   {
    "duration": 276,
    "start_time": "2022-01-28T18:18:13.674Z"
   },
   {
    "duration": 440,
    "start_time": "2022-01-28T18:18:13.952Z"
   },
   {
    "duration": 1288,
    "start_time": "2022-01-28T19:19:17.021Z"
   },
   {
    "duration": 4268,
    "start_time": "2022-01-28T19:28:21.094Z"
   },
   {
    "duration": 945,
    "start_time": "2022-01-28T19:34:37.131Z"
   },
   {
    "duration": 1853,
    "start_time": "2022-01-28T19:42:05.576Z"
   },
   {
    "duration": 8315,
    "start_time": "2022-01-28T19:42:19.343Z"
   },
   {
    "duration": -1586,
    "start_time": "2022-01-28T19:42:29.247Z"
   },
   {
    "duration": -1590,
    "start_time": "2022-01-28T19:42:29.252Z"
   },
   {
    "duration": -1595,
    "start_time": "2022-01-28T19:42:29.258Z"
   },
   {
    "duration": -1600,
    "start_time": "2022-01-28T19:42:29.264Z"
   },
   {
    "duration": -1603,
    "start_time": "2022-01-28T19:42:29.268Z"
   },
   {
    "duration": -1605,
    "start_time": "2022-01-28T19:42:29.272Z"
   },
   {
    "duration": -1608,
    "start_time": "2022-01-28T19:42:29.276Z"
   },
   {
    "duration": -1612,
    "start_time": "2022-01-28T19:42:29.281Z"
   },
   {
    "duration": -1721,
    "start_time": "2022-01-28T19:42:29.392Z"
   },
   {
    "duration": -1726,
    "start_time": "2022-01-28T19:42:29.398Z"
   },
   {
    "duration": 1523,
    "start_time": "2022-01-28T19:42:33.065Z"
   },
   {
    "duration": 325,
    "start_time": "2022-01-28T19:44:49.240Z"
   },
   {
    "duration": 4787,
    "start_time": "2022-01-28T19:45:05.561Z"
   },
   {
    "duration": -2441,
    "start_time": "2022-01-28T19:45:12.792Z"
   },
   {
    "duration": -2444,
    "start_time": "2022-01-28T19:45:12.796Z"
   },
   {
    "duration": -2446,
    "start_time": "2022-01-28T19:45:12.799Z"
   },
   {
    "duration": -2447,
    "start_time": "2022-01-28T19:45:12.802Z"
   },
   {
    "duration": -2451,
    "start_time": "2022-01-28T19:45:12.807Z"
   },
   {
    "duration": 301,
    "start_time": "2022-01-28T19:45:11.585Z"
   },
   {
    "duration": -1551,
    "start_time": "2022-01-28T19:45:13.440Z"
   },
   {
    "duration": -1555,
    "start_time": "2022-01-28T19:45:13.445Z"
   },
   {
    "duration": 308,
    "start_time": "2022-01-28T19:45:12.403Z"
   },
   {
    "duration": 363,
    "start_time": "2022-01-28T19:45:25.501Z"
   },
   {
    "duration": 7159,
    "start_time": "2022-01-28T19:46:38.718Z"
   },
   {
    "duration": 4764,
    "start_time": "2022-01-28T19:48:23.185Z"
   },
   {
    "duration": -1208,
    "start_time": "2022-01-28T19:48:29.160Z"
   },
   {
    "duration": 284,
    "start_time": "2022-01-28T19:48:28.523Z"
   },
   {
    "duration": 289,
    "start_time": "2022-01-28T19:48:28.983Z"
   },
   {
    "duration": 275,
    "start_time": "2022-01-28T19:49:56.442Z"
   },
   {
    "duration": 4784,
    "start_time": "2022-01-28T20:05:26.546Z"
   },
   {
    "duration": -1661,
    "start_time": "2022-01-28T20:05:32.993Z"
   },
   {
    "duration": -1666,
    "start_time": "2022-01-28T20:05:33.000Z"
   },
   {
    "duration": -1671,
    "start_time": "2022-01-28T20:05:33.006Z"
   },
   {
    "duration": 305,
    "start_time": "2022-01-28T20:05:31.926Z"
   },
   {
    "duration": 301,
    "start_time": "2022-01-28T20:05:32.643Z"
   },
   {
    "duration": 4817,
    "start_time": "2022-01-28T20:05:51.927Z"
   },
   {
    "duration": 4533,
    "start_time": "2022-01-28T20:06:44.139Z"
   },
   {
    "duration": 351,
    "start_time": "2022-01-28T20:08:18.138Z"
   },
   {
    "duration": 4421,
    "start_time": "2022-01-28T20:08:29.264Z"
   },
   {
    "duration": 298,
    "start_time": "2022-01-28T20:09:15.186Z"
   },
   {
    "duration": 4582,
    "start_time": "2022-01-28T20:10:12.497Z"
   },
   {
    "duration": 5002,
    "start_time": "2022-01-28T20:32:49.771Z"
   },
   {
    "duration": 2174,
    "start_time": "2022-01-28T20:33:16.031Z"
   },
   {
    "duration": 2095,
    "start_time": "2022-01-28T20:34:57.028Z"
   },
   {
    "duration": 2002,
    "start_time": "2022-01-28T21:01:01.175Z"
   },
   {
    "duration": 1928,
    "start_time": "2022-01-28T21:01:58.616Z"
   },
   {
    "duration": 2401,
    "start_time": "2022-01-28T21:02:09.751Z"
   },
   {
    "duration": 2303,
    "start_time": "2022-01-28T21:08:00.392Z"
   },
   {
    "duration": 2031,
    "start_time": "2022-01-28T21:08:58.658Z"
   },
   {
    "duration": 2366,
    "start_time": "2022-01-28T21:09:07.440Z"
   },
   {
    "duration": 1869,
    "start_time": "2022-01-28T21:09:36.178Z"
   },
   {
    "duration": 2084,
    "start_time": "2022-01-28T21:09:54.487Z"
   },
   {
    "duration": 2004,
    "start_time": "2022-01-28T21:13:03.848Z"
   },
   {
    "duration": 1961,
    "start_time": "2022-01-28T21:16:22.085Z"
   },
   {
    "duration": 4033,
    "start_time": "2022-01-28T21:17:47.853Z"
   },
   {
    "duration": 315,
    "start_time": "2022-01-28T21:26:07.476Z"
   },
   {
    "duration": 302,
    "start_time": "2022-01-28T21:26:38.595Z"
   },
   {
    "duration": 155,
    "start_time": "2022-01-28T21:26:42.445Z"
   },
   {
    "duration": 11,
    "start_time": "2022-01-28T21:26:42.964Z"
   },
   {
    "duration": 18,
    "start_time": "2022-01-28T21:26:46.451Z"
   },
   {
    "duration": 35,
    "start_time": "2022-01-28T21:26:48.349Z"
   },
   {
    "duration": 626,
    "start_time": "2022-01-28T21:26:50.370Z"
   },
   {
    "duration": 554,
    "start_time": "2022-01-28T21:26:52.662Z"
   },
   {
    "duration": 36,
    "start_time": "2022-01-28T21:26:54.753Z"
   },
   {
    "duration": 14,
    "start_time": "2022-01-28T21:26:56.556Z"
   },
   {
    "duration": 242,
    "start_time": "2022-01-28T21:27:00.124Z"
   },
   {
    "duration": 20,
    "start_time": "2022-01-28T21:27:02.823Z"
   },
   {
    "duration": 34,
    "start_time": "2022-01-28T21:27:03.853Z"
   },
   {
    "duration": 324,
    "start_time": "2022-01-28T21:28:47.205Z"
   },
   {
    "duration": 7305,
    "start_time": "2022-01-28T21:28:47.836Z"
   },
   {
    "duration": -1745,
    "start_time": "2022-01-28T21:28:56.890Z"
   },
   {
    "duration": -1748,
    "start_time": "2022-01-28T21:28:56.895Z"
   },
   {
    "duration": -1750,
    "start_time": "2022-01-28T21:28:56.900Z"
   },
   {
    "duration": -1753,
    "start_time": "2022-01-28T21:28:56.905Z"
   },
   {
    "duration": 43,
    "start_time": "2022-01-28T21:28:59.924Z"
   },
   {
    "duration": 154,
    "start_time": "2022-01-28T21:29:01.258Z"
   },
   {
    "duration": 20,
    "start_time": "2022-01-28T21:29:01.737Z"
   },
   {
    "duration": 1060,
    "start_time": "2022-01-28T21:29:04.192Z"
   },
   {
    "duration": 7438,
    "start_time": "2022-01-28T21:29:30.490Z"
   },
   {
    "duration": 315,
    "start_time": "2022-01-28T21:29:38.230Z"
   },
   {
    "duration": 14,
    "start_time": "2022-01-28T21:29:50.017Z"
   },
   {
    "duration": 246,
    "start_time": "2022-01-28T21:29:52.644Z"
   },
   {
    "duration": 14,
    "start_time": "2022-01-28T21:29:54.289Z"
   },
   {
    "duration": 38,
    "start_time": "2022-01-28T21:29:56.713Z"
   },
   {
    "duration": 14,
    "start_time": "2022-01-28T21:30:01.884Z"
   },
   {
    "duration": 6,
    "start_time": "2022-01-28T21:30:07.963Z"
   },
   {
    "duration": 7,
    "start_time": "2022-01-28T21:30:10.990Z"
   },
   {
    "duration": 67,
    "start_time": "2022-01-28T21:30:13.463Z"
   },
   {
    "duration": 16,
    "start_time": "2022-01-28T21:30:16.042Z"
   },
   {
    "duration": 31,
    "start_time": "2022-01-28T21:30:18.506Z"
   },
   {
    "duration": 19,
    "start_time": "2022-01-28T21:30:25.301Z"
   },
   {
    "duration": 10,
    "start_time": "2022-01-28T21:30:27.506Z"
   },
   {
    "duration": 5,
    "start_time": "2022-01-28T21:30:29.740Z"
   },
   {
    "duration": 331,
    "start_time": "2022-01-28T21:30:30.543Z"
   },
   {
    "duration": 304,
    "start_time": "2022-01-28T21:30:36.897Z"
   },
   {
    "duration": 6,
    "start_time": "2022-01-28T21:31:18.633Z"
   },
   {
    "duration": 319,
    "start_time": "2022-01-28T21:31:19.900Z"
   },
   {
    "duration": 325,
    "start_time": "2022-01-28T21:32:38.754Z"
   },
   {
    "duration": 306,
    "start_time": "2022-01-28T21:32:51.308Z"
   },
   {
    "duration": 153,
    "start_time": "2022-01-28T21:32:53.590Z"
   },
   {
    "duration": 12,
    "start_time": "2022-01-28T21:32:54.098Z"
   },
   {
    "duration": 16,
    "start_time": "2022-01-28T21:32:56.074Z"
   },
   {
    "duration": 25,
    "start_time": "2022-01-28T21:32:57.943Z"
   },
   {
    "duration": 633,
    "start_time": "2022-01-28T21:32:59.867Z"
   },
   {
    "duration": 581,
    "start_time": "2022-01-28T21:33:02.802Z"
   },
   {
    "duration": 45,
    "start_time": "2022-01-28T21:33:05.199Z"
   },
   {
    "duration": 14,
    "start_time": "2022-01-28T21:33:07.697Z"
   },
   {
    "duration": 240,
    "start_time": "2022-01-28T21:33:10.511Z"
   },
   {
    "duration": 19,
    "start_time": "2022-01-28T21:33:13.678Z"
   },
   {
    "duration": 42,
    "start_time": "2022-01-28T21:33:17.312Z"
   },
   {
    "duration": 13,
    "start_time": "2022-01-28T21:33:20.293Z"
   },
   {
    "duration": 73,
    "start_time": "2022-01-28T21:33:24.787Z"
   },
   {
    "duration": 14,
    "start_time": "2022-01-28T21:33:26.097Z"
   },
   {
    "duration": 25,
    "start_time": "2022-01-28T21:33:28.044Z"
   },
   {
    "duration": 18,
    "start_time": "2022-01-28T21:33:30.061Z"
   },
   {
    "duration": 11,
    "start_time": "2022-01-28T21:33:30.817Z"
   },
   {
    "duration": 6,
    "start_time": "2022-01-28T21:33:32.235Z"
   },
   {
    "duration": 46,
    "start_time": "2022-01-28T21:33:33.509Z"
   },
   {
    "duration": 163,
    "start_time": "2022-01-28T21:33:39.108Z"
   },
   {
    "duration": 20,
    "start_time": "2022-01-28T21:33:39.944Z"
   },
   {
    "duration": 3472,
    "start_time": "2022-01-28T21:33:41.091Z"
   },
   {
    "duration": 13,
    "start_time": "2022-01-28T21:33:49.960Z"
   },
   {
    "duration": 37,
    "start_time": "2022-01-28T21:33:50.960Z"
   },
   {
    "duration": 49,
    "start_time": "2022-01-28T21:33:51.703Z"
   },
   {
    "duration": 6081,
    "start_time": "2022-01-28T21:33:54.947Z"
   },
   {
    "duration": 9,
    "start_time": "2022-01-28T21:34:04.718Z"
   },
   {
    "duration": 664,
    "start_time": "2022-01-28T21:34:05.506Z"
   },
   {
    "duration": 25,
    "start_time": "2022-01-28T21:34:08.240Z"
   },
   {
    "duration": 8,
    "start_time": "2022-01-28T21:34:08.899Z"
   },
   {
    "duration": 387,
    "start_time": "2022-01-28T21:34:09.660Z"
   },
   {
    "duration": 21,
    "start_time": "2022-01-28T21:34:14.945Z"
   },
   {
    "duration": 24,
    "start_time": "2022-01-28T21:34:15.563Z"
   },
   {
    "duration": 10971,
    "start_time": "2022-01-28T21:34:16.842Z"
   },
   {
    "duration": 22,
    "start_time": "2022-01-28T21:34:37.194Z"
   },
   {
    "duration": 10577,
    "start_time": "2022-01-28T21:34:37.220Z"
   },
   {
    "duration": 10671,
    "start_time": "2022-01-28T21:34:47.800Z"
   },
   {
    "duration": 39,
    "start_time": "2022-01-28T21:34:58.499Z"
   },
   {
    "duration": 14,
    "start_time": "2022-01-28T21:35:20.571Z"
   },
   {
    "duration": 20,
    "start_time": "2022-01-28T21:35:24.929Z"
   },
   {
    "duration": 14,
    "start_time": "2022-01-28T21:36:04.095Z"
   },
   {
    "duration": 531,
    "start_time": "2022-01-28T21:36:05.535Z"
   },
   {
    "duration": 481,
    "start_time": "2022-01-28T21:36:10.411Z"
   },
   {
    "duration": 915,
    "start_time": "2022-01-28T21:36:14.376Z"
   },
   {
    "duration": 462,
    "start_time": "2022-01-28T21:36:19.737Z"
   },
   {
    "duration": 799,
    "start_time": "2022-01-28T21:36:24.779Z"
   },
   {
    "duration": 1299,
    "start_time": "2022-01-29T13:56:38.586Z"
   },
   {
    "duration": 172,
    "start_time": "2022-01-29T13:56:39.887Z"
   },
   {
    "duration": 12,
    "start_time": "2022-01-29T13:56:40.062Z"
   },
   {
    "duration": 31,
    "start_time": "2022-01-29T13:56:40.076Z"
   },
   {
    "duration": 57,
    "start_time": "2022-01-29T13:56:40.110Z"
   },
   {
    "duration": 620,
    "start_time": "2022-01-29T13:56:40.170Z"
   },
   {
    "duration": 501,
    "start_time": "2022-01-29T13:56:40.793Z"
   },
   {
    "duration": 37,
    "start_time": "2022-01-29T13:56:41.297Z"
   },
   {
    "duration": 32,
    "start_time": "2022-01-29T13:56:41.337Z"
   },
   {
    "duration": 267,
    "start_time": "2022-01-29T13:56:41.371Z"
   },
   {
    "duration": 29,
    "start_time": "2022-01-29T13:56:41.641Z"
   },
   {
    "duration": 33,
    "start_time": "2022-01-29T13:56:41.672Z"
   },
   {
    "duration": 14,
    "start_time": "2022-01-29T13:56:41.708Z"
   },
   {
    "duration": 102,
    "start_time": "2022-01-29T13:56:41.724Z"
   },
   {
    "duration": 40,
    "start_time": "2022-01-29T13:56:41.828Z"
   },
   {
    "duration": 31,
    "start_time": "2022-01-29T13:56:41.870Z"
   },
   {
    "duration": 24,
    "start_time": "2022-01-29T13:56:41.904Z"
   },
   {
    "duration": 36,
    "start_time": "2022-01-29T13:56:41.931Z"
   },
   {
    "duration": 12,
    "start_time": "2022-01-29T13:56:41.969Z"
   },
   {
    "duration": 39,
    "start_time": "2022-01-29T13:56:41.984Z"
   },
   {
    "duration": 203,
    "start_time": "2022-01-29T13:56:42.026Z"
   },
   {
    "duration": 33,
    "start_time": "2022-01-29T13:56:42.231Z"
   },
   {
    "duration": 4358,
    "start_time": "2022-01-29T13:56:42.273Z"
   },
   {
    "duration": 33,
    "start_time": "2022-01-29T13:56:46.635Z"
   },
   {
    "duration": 41,
    "start_time": "2022-01-29T13:56:46.671Z"
   },
   {
    "duration": 65,
    "start_time": "2022-01-29T13:56:46.715Z"
   },
   {
    "duration": 5981,
    "start_time": "2022-01-29T13:56:46.783Z"
   },
   {
    "duration": 9,
    "start_time": "2022-01-29T13:56:52.767Z"
   },
   {
    "duration": 643,
    "start_time": "2022-01-29T13:56:52.778Z"
   },
   {
    "duration": 38,
    "start_time": "2022-01-29T13:56:53.423Z"
   },
   {
    "duration": 17,
    "start_time": "2022-01-29T13:56:53.464Z"
   },
   {
    "duration": 365,
    "start_time": "2022-01-29T13:56:53.484Z"
   },
   {
    "duration": 19,
    "start_time": "2022-01-29T13:56:53.852Z"
   },
   {
    "duration": 21,
    "start_time": "2022-01-29T13:56:53.873Z"
   },
   {
    "duration": 11149,
    "start_time": "2022-01-29T13:56:53.897Z"
   },
   {
    "duration": 10441,
    "start_time": "2022-01-29T13:57:05.048Z"
   },
   {
    "duration": 14,
    "start_time": "2022-01-29T13:57:15.492Z"
   },
   {
    "duration": 11,
    "start_time": "2022-01-29T13:57:15.508Z"
   },
   {
    "duration": 45,
    "start_time": "2022-01-29T13:57:15.522Z"
   },
   {
    "duration": 13,
    "start_time": "2022-01-29T13:57:15.569Z"
   },
   {
    "duration": 480,
    "start_time": "2022-01-29T13:57:15.584Z"
   },
   {
    "duration": 819,
    "start_time": "2022-01-29T13:57:16.067Z"
   },
   {
    "duration": 486,
    "start_time": "2022-01-29T13:57:16.888Z"
   },
   {
    "duration": 775,
    "start_time": "2022-01-29T13:57:17.376Z"
   }
  ],
  "kernelspec": {
   "display_name": "Python 3 (ipykernel)",
   "language": "python",
   "name": "python3"
  },
  "language_info": {
   "codemirror_mode": {
    "name": "ipython",
    "version": 3
   },
   "file_extension": ".py",
   "mimetype": "text/x-python",
   "name": "python",
   "nbconvert_exporter": "python",
   "pygments_lexer": "ipython3",
   "version": "3.9.7"
  },
  "toc": {
   "base_numbering": 1,
   "nav_menu": {},
   "number_sections": true,
   "sideBar": true,
   "skip_h1_title": false,
   "title_cell": "Table of Contents",
   "title_sidebar": "Contents",
   "toc_cell": false,
   "toc_position": {},
   "toc_section_display": true,
   "toc_window_display": false
  }
 },
 "nbformat": 4,
 "nbformat_minor": 2
}
