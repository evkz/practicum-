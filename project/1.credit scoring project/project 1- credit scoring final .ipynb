{
 "cells": [
  {
   "cell_type": "markdown",
   "id": "c438dc5e",
   "metadata": {},
   "source": [
    "# Analyzing borrowers’ risk of defaulting\n",
    "#### Project description:\n",
    "* The project purpose is report for a bank’s loan division to find out if a customer’s marital status and number of children has an impact on whether they will default on a loan.\n",
    "* The report will be considered when building the **credit score** of a potential customer. \n",
    "* The **credit score** is used to evaluate the ability of a potential borrower to repay their loan."
   ]
  },
  {
   "cell_type": "markdown",
   "id": "7644f21e",
   "metadata": {},
   "source": [
    "#### Table of contents: "
   ]
  },
  {
   "cell_type": "markdown",
   "id": "5404c7a5",
   "metadata": {},
   "source": [
    "* [Open the data and study the general information:](#Open-the-data-and-study-the-general-information:)\n",
    "\n",
    "* [Data exploration:](#Data-exploration:)\n",
    "\n",
    "* [Data Preprocessing:](#Data-Preprocessing-:)\n",
    "\n",
    "   * a.[Data transformation](#Data-transformation:)\n",
    "   \n",
    "   * b.[Working with missing values](#Working-with-missing-values)\n",
    "   \n",
    "   * c.[Restoring missing values in total_income:](#Restoring-missing-values-in-total_income:)\n",
    "   \n",
    "   * d.[Restoring values in days_employed:](#Restoring-values-in-days_employed:)\n",
    "   \n",
    "   * e.[Categorization-of-data:](#Categorization-of-data:)\n",
    "\n",
    "* [Checking the Hypotheses:](#Checking-the-Hypotheses:)\n",
    "\n",
    "* [General Conclusion](#General-Conclusion)\n"
   ]
  },
  {
   "cell_type": "markdown",
   "id": "4bc37326",
   "metadata": {},
   "source": [
    "#### Open the data and study the general information:"
   ]
  },
  {
   "cell_type": "code",
   "execution_count": 1,
   "id": "5d856be4",
   "metadata": {},
   "outputs": [],
   "source": [
    "# Loading all the libraries\n",
    "import pandas as pd\n",
    "import numpy as np\n",
    "\n",
    "# Load the data\n",
    "try:\n",
    "    credit_scoring = pd.read_csv('credit_scoring_eng.csv')\n",
    "except:\n",
    "    credit_scoring = pd.read_csv('/datasets/credit_scoring_eng.csv') "
   ]
  },
  {
   "cell_type": "markdown",
   "id": "012bb454",
   "metadata": {},
   "source": [
    "#### Data exploration: \n",
    "\n",
    "##### Description of the data:\n",
    "- `children` - the number of children in the family\n",
    "- `days_employed` - work experience in days\n",
    "- `dob_years` - client's age in years\n",
    "- `education` - client's education\n",
    "- `education_id` - education identifier\n",
    "- `family_status` - marital status\n",
    "- `family_status_id` - marital status identifier\n",
    "- `gender` - gender of the client\n",
    "- `income_type` - type of employment\n",
    "- `debt` - was there any debt on loan repayment\n",
    "- `total_income` - monthly income\n",
    "- `purpose` - the purpose of obtaining a loan\n"
   ]
  },
  {
   "cell_type": "code",
   "execution_count": 2,
   "id": "a358f264",
   "metadata": {},
   "outputs": [
    {
     "data": {
      "text/plain": [
       "(21525, 12)"
      ]
     },
     "execution_count": 2,
     "metadata": {},
     "output_type": "execute_result"
    }
   ],
   "source": [
    "# Let's see how many rows and columns our dataset has\n",
    "\n",
    "credit_scoring.shape\n"
   ]
  },
  {
   "cell_type": "code",
   "execution_count": 3,
   "id": "592a3770",
   "metadata": {
    "scrolled": false
   },
   "outputs": [
    {
     "data": {
      "text/html": [
       "<div>\n",
       "<style scoped>\n",
       "    .dataframe tbody tr th:only-of-type {\n",
       "        vertical-align: middle;\n",
       "    }\n",
       "\n",
       "    .dataframe tbody tr th {\n",
       "        vertical-align: top;\n",
       "    }\n",
       "\n",
       "    .dataframe thead th {\n",
       "        text-align: right;\n",
       "    }\n",
       "</style>\n",
       "<table border=\"1\" class=\"dataframe\">\n",
       "  <thead>\n",
       "    <tr style=\"text-align: right;\">\n",
       "      <th></th>\n",
       "      <th>children</th>\n",
       "      <th>days_employed</th>\n",
       "      <th>dob_years</th>\n",
       "      <th>education</th>\n",
       "      <th>education_id</th>\n",
       "      <th>family_status</th>\n",
       "      <th>family_status_id</th>\n",
       "      <th>gender</th>\n",
       "      <th>income_type</th>\n",
       "      <th>debt</th>\n",
       "      <th>total_income</th>\n",
       "      <th>purpose</th>\n",
       "    </tr>\n",
       "  </thead>\n",
       "  <tbody>\n",
       "    <tr>\n",
       "      <td>0</td>\n",
       "      <td>1</td>\n",
       "      <td>-8437.673028</td>\n",
       "      <td>42</td>\n",
       "      <td>bachelor's degree</td>\n",
       "      <td>0</td>\n",
       "      <td>married</td>\n",
       "      <td>0</td>\n",
       "      <td>F</td>\n",
       "      <td>employee</td>\n",
       "      <td>0</td>\n",
       "      <td>40620.102</td>\n",
       "      <td>purchase of the house</td>\n",
       "    </tr>\n",
       "    <tr>\n",
       "      <td>1</td>\n",
       "      <td>1</td>\n",
       "      <td>-4024.803754</td>\n",
       "      <td>36</td>\n",
       "      <td>secondary education</td>\n",
       "      <td>1</td>\n",
       "      <td>married</td>\n",
       "      <td>0</td>\n",
       "      <td>F</td>\n",
       "      <td>employee</td>\n",
       "      <td>0</td>\n",
       "      <td>17932.802</td>\n",
       "      <td>car purchase</td>\n",
       "    </tr>\n",
       "    <tr>\n",
       "      <td>2</td>\n",
       "      <td>0</td>\n",
       "      <td>-5623.422610</td>\n",
       "      <td>33</td>\n",
       "      <td>Secondary Education</td>\n",
       "      <td>1</td>\n",
       "      <td>married</td>\n",
       "      <td>0</td>\n",
       "      <td>M</td>\n",
       "      <td>employee</td>\n",
       "      <td>0</td>\n",
       "      <td>23341.752</td>\n",
       "      <td>purchase of the house</td>\n",
       "    </tr>\n",
       "    <tr>\n",
       "      <td>3</td>\n",
       "      <td>3</td>\n",
       "      <td>-4124.747207</td>\n",
       "      <td>32</td>\n",
       "      <td>secondary education</td>\n",
       "      <td>1</td>\n",
       "      <td>married</td>\n",
       "      <td>0</td>\n",
       "      <td>M</td>\n",
       "      <td>employee</td>\n",
       "      <td>0</td>\n",
       "      <td>42820.568</td>\n",
       "      <td>supplementary education</td>\n",
       "    </tr>\n",
       "    <tr>\n",
       "      <td>4</td>\n",
       "      <td>0</td>\n",
       "      <td>340266.072047</td>\n",
       "      <td>53</td>\n",
       "      <td>secondary education</td>\n",
       "      <td>1</td>\n",
       "      <td>civil partnership</td>\n",
       "      <td>1</td>\n",
       "      <td>F</td>\n",
       "      <td>retiree</td>\n",
       "      <td>0</td>\n",
       "      <td>25378.572</td>\n",
       "      <td>to have a wedding</td>\n",
       "    </tr>\n",
       "    <tr>\n",
       "      <td>5</td>\n",
       "      <td>0</td>\n",
       "      <td>-926.185831</td>\n",
       "      <td>27</td>\n",
       "      <td>bachelor's degree</td>\n",
       "      <td>0</td>\n",
       "      <td>civil partnership</td>\n",
       "      <td>1</td>\n",
       "      <td>M</td>\n",
       "      <td>business</td>\n",
       "      <td>0</td>\n",
       "      <td>40922.170</td>\n",
       "      <td>purchase of the house</td>\n",
       "    </tr>\n",
       "    <tr>\n",
       "      <td>6</td>\n",
       "      <td>0</td>\n",
       "      <td>-2879.202052</td>\n",
       "      <td>43</td>\n",
       "      <td>bachelor's degree</td>\n",
       "      <td>0</td>\n",
       "      <td>married</td>\n",
       "      <td>0</td>\n",
       "      <td>F</td>\n",
       "      <td>business</td>\n",
       "      <td>0</td>\n",
       "      <td>38484.156</td>\n",
       "      <td>housing transactions</td>\n",
       "    </tr>\n",
       "    <tr>\n",
       "      <td>7</td>\n",
       "      <td>0</td>\n",
       "      <td>-152.779569</td>\n",
       "      <td>50</td>\n",
       "      <td>SECONDARY EDUCATION</td>\n",
       "      <td>1</td>\n",
       "      <td>married</td>\n",
       "      <td>0</td>\n",
       "      <td>M</td>\n",
       "      <td>employee</td>\n",
       "      <td>0</td>\n",
       "      <td>21731.829</td>\n",
       "      <td>education</td>\n",
       "    </tr>\n",
       "    <tr>\n",
       "      <td>8</td>\n",
       "      <td>2</td>\n",
       "      <td>-6929.865299</td>\n",
       "      <td>35</td>\n",
       "      <td>BACHELOR'S DEGREE</td>\n",
       "      <td>0</td>\n",
       "      <td>civil partnership</td>\n",
       "      <td>1</td>\n",
       "      <td>F</td>\n",
       "      <td>employee</td>\n",
       "      <td>0</td>\n",
       "      <td>15337.093</td>\n",
       "      <td>having a wedding</td>\n",
       "    </tr>\n",
       "    <tr>\n",
       "      <td>9</td>\n",
       "      <td>0</td>\n",
       "      <td>-2188.756445</td>\n",
       "      <td>41</td>\n",
       "      <td>secondary education</td>\n",
       "      <td>1</td>\n",
       "      <td>married</td>\n",
       "      <td>0</td>\n",
       "      <td>M</td>\n",
       "      <td>employee</td>\n",
       "      <td>0</td>\n",
       "      <td>23108.150</td>\n",
       "      <td>purchase of the house for my family</td>\n",
       "    </tr>\n",
       "  </tbody>\n",
       "</table>\n",
       "</div>"
      ],
      "text/plain": [
       "   children  days_employed  dob_years            education  education_id  \\\n",
       "0         1   -8437.673028         42    bachelor's degree             0   \n",
       "1         1   -4024.803754         36  secondary education             1   \n",
       "2         0   -5623.422610         33  Secondary Education             1   \n",
       "3         3   -4124.747207         32  secondary education             1   \n",
       "4         0  340266.072047         53  secondary education             1   \n",
       "5         0    -926.185831         27    bachelor's degree             0   \n",
       "6         0   -2879.202052         43    bachelor's degree             0   \n",
       "7         0    -152.779569         50  SECONDARY EDUCATION             1   \n",
       "8         2   -6929.865299         35    BACHELOR'S DEGREE             0   \n",
       "9         0   -2188.756445         41  secondary education             1   \n",
       "\n",
       "       family_status  family_status_id gender income_type  debt  total_income  \\\n",
       "0            married                 0      F    employee     0     40620.102   \n",
       "1            married                 0      F    employee     0     17932.802   \n",
       "2            married                 0      M    employee     0     23341.752   \n",
       "3            married                 0      M    employee     0     42820.568   \n",
       "4  civil partnership                 1      F     retiree     0     25378.572   \n",
       "5  civil partnership                 1      M    business     0     40922.170   \n",
       "6            married                 0      F    business     0     38484.156   \n",
       "7            married                 0      M    employee     0     21731.829   \n",
       "8  civil partnership                 1      F    employee     0     15337.093   \n",
       "9            married                 0      M    employee     0     23108.150   \n",
       "\n",
       "                               purpose  \n",
       "0                purchase of the house  \n",
       "1                         car purchase  \n",
       "2                purchase of the house  \n",
       "3              supplementary education  \n",
       "4                    to have a wedding  \n",
       "5                purchase of the house  \n",
       "6                 housing transactions  \n",
       "7                            education  \n",
       "8                     having a wedding  \n",
       "9  purchase of the house for my family  "
      ]
     },
     "execution_count": 3,
     "metadata": {},
     "output_type": "execute_result"
    }
   ],
   "source": [
    "# let's print the first N rows\n",
    "credit_scoring.head(10)\n"
   ]
  },
  {
   "cell_type": "markdown",
   "id": "ceb15a2a",
   "metadata": {},
   "source": [
    "* There are negative values in days_employed column, and capital letters problem on the education column"
   ]
  },
  {
   "cell_type": "code",
   "execution_count": 4,
   "id": "27612047",
   "metadata": {
    "scrolled": false
   },
   "outputs": [
    {
     "name": "stdout",
     "output_type": "stream",
     "text": [
      "<class 'pandas.core.frame.DataFrame'>\n",
      "RangeIndex: 21525 entries, 0 to 21524\n",
      "Data columns (total 12 columns):\n",
      "children            21525 non-null int64\n",
      "days_employed       19351 non-null float64\n",
      "dob_years           21525 non-null int64\n",
      "education           21525 non-null object\n",
      "education_id        21525 non-null int64\n",
      "family_status       21525 non-null object\n",
      "family_status_id    21525 non-null int64\n",
      "gender              21525 non-null object\n",
      "income_type         21525 non-null object\n",
      "debt                21525 non-null int64\n",
      "total_income        19351 non-null float64\n",
      "purpose             21525 non-null object\n",
      "dtypes: float64(2), int64(5), object(5)\n",
      "memory usage: 2.0+ MB\n",
      "*********************************\n"
     ]
    },
    {
     "data": {
      "text/html": [
       "<div>\n",
       "<style scoped>\n",
       "    .dataframe tbody tr th:only-of-type {\n",
       "        vertical-align: middle;\n",
       "    }\n",
       "\n",
       "    .dataframe tbody tr th {\n",
       "        vertical-align: top;\n",
       "    }\n",
       "\n",
       "    .dataframe thead th {\n",
       "        text-align: right;\n",
       "    }\n",
       "</style>\n",
       "<table border=\"1\" class=\"dataframe\">\n",
       "  <thead>\n",
       "    <tr style=\"text-align: right;\">\n",
       "      <th></th>\n",
       "      <th>count</th>\n",
       "      <th>unique</th>\n",
       "      <th>top</th>\n",
       "      <th>freq</th>\n",
       "      <th>mean</th>\n",
       "      <th>std</th>\n",
       "      <th>min</th>\n",
       "      <th>25%</th>\n",
       "      <th>50%</th>\n",
       "      <th>75%</th>\n",
       "      <th>max</th>\n",
       "    </tr>\n",
       "  </thead>\n",
       "  <tbody>\n",
       "    <tr>\n",
       "      <td>children</td>\n",
       "      <td>21525</td>\n",
       "      <td>NaN</td>\n",
       "      <td>NaN</td>\n",
       "      <td>NaN</td>\n",
       "      <td>0.538908</td>\n",
       "      <td>1.38159</td>\n",
       "      <td>-1</td>\n",
       "      <td>0</td>\n",
       "      <td>0</td>\n",
       "      <td>1</td>\n",
       "      <td>20</td>\n",
       "    </tr>\n",
       "    <tr>\n",
       "      <td>days_employed</td>\n",
       "      <td>19351</td>\n",
       "      <td>NaN</td>\n",
       "      <td>NaN</td>\n",
       "      <td>NaN</td>\n",
       "      <td>63046.5</td>\n",
       "      <td>140827</td>\n",
       "      <td>-18388.9</td>\n",
       "      <td>-2747.42</td>\n",
       "      <td>-1203.37</td>\n",
       "      <td>-291.096</td>\n",
       "      <td>401755</td>\n",
       "    </tr>\n",
       "    <tr>\n",
       "      <td>dob_years</td>\n",
       "      <td>21525</td>\n",
       "      <td>NaN</td>\n",
       "      <td>NaN</td>\n",
       "      <td>NaN</td>\n",
       "      <td>43.2934</td>\n",
       "      <td>12.5746</td>\n",
       "      <td>0</td>\n",
       "      <td>33</td>\n",
       "      <td>42</td>\n",
       "      <td>53</td>\n",
       "      <td>75</td>\n",
       "    </tr>\n",
       "    <tr>\n",
       "      <td>education</td>\n",
       "      <td>21525</td>\n",
       "      <td>15</td>\n",
       "      <td>secondary education</td>\n",
       "      <td>13750</td>\n",
       "      <td>NaN</td>\n",
       "      <td>NaN</td>\n",
       "      <td>NaN</td>\n",
       "      <td>NaN</td>\n",
       "      <td>NaN</td>\n",
       "      <td>NaN</td>\n",
       "      <td>NaN</td>\n",
       "    </tr>\n",
       "    <tr>\n",
       "      <td>education_id</td>\n",
       "      <td>21525</td>\n",
       "      <td>NaN</td>\n",
       "      <td>NaN</td>\n",
       "      <td>NaN</td>\n",
       "      <td>0.817236</td>\n",
       "      <td>0.548138</td>\n",
       "      <td>0</td>\n",
       "      <td>1</td>\n",
       "      <td>1</td>\n",
       "      <td>1</td>\n",
       "      <td>4</td>\n",
       "    </tr>\n",
       "    <tr>\n",
       "      <td>family_status</td>\n",
       "      <td>21525</td>\n",
       "      <td>5</td>\n",
       "      <td>married</td>\n",
       "      <td>12380</td>\n",
       "      <td>NaN</td>\n",
       "      <td>NaN</td>\n",
       "      <td>NaN</td>\n",
       "      <td>NaN</td>\n",
       "      <td>NaN</td>\n",
       "      <td>NaN</td>\n",
       "      <td>NaN</td>\n",
       "    </tr>\n",
       "    <tr>\n",
       "      <td>family_status_id</td>\n",
       "      <td>21525</td>\n",
       "      <td>NaN</td>\n",
       "      <td>NaN</td>\n",
       "      <td>NaN</td>\n",
       "      <td>0.972544</td>\n",
       "      <td>1.42032</td>\n",
       "      <td>0</td>\n",
       "      <td>0</td>\n",
       "      <td>0</td>\n",
       "      <td>1</td>\n",
       "      <td>4</td>\n",
       "    </tr>\n",
       "    <tr>\n",
       "      <td>gender</td>\n",
       "      <td>21525</td>\n",
       "      <td>3</td>\n",
       "      <td>F</td>\n",
       "      <td>14236</td>\n",
       "      <td>NaN</td>\n",
       "      <td>NaN</td>\n",
       "      <td>NaN</td>\n",
       "      <td>NaN</td>\n",
       "      <td>NaN</td>\n",
       "      <td>NaN</td>\n",
       "      <td>NaN</td>\n",
       "    </tr>\n",
       "    <tr>\n",
       "      <td>income_type</td>\n",
       "      <td>21525</td>\n",
       "      <td>8</td>\n",
       "      <td>employee</td>\n",
       "      <td>11119</td>\n",
       "      <td>NaN</td>\n",
       "      <td>NaN</td>\n",
       "      <td>NaN</td>\n",
       "      <td>NaN</td>\n",
       "      <td>NaN</td>\n",
       "      <td>NaN</td>\n",
       "      <td>NaN</td>\n",
       "    </tr>\n",
       "    <tr>\n",
       "      <td>debt</td>\n",
       "      <td>21525</td>\n",
       "      <td>NaN</td>\n",
       "      <td>NaN</td>\n",
       "      <td>NaN</td>\n",
       "      <td>0.0808827</td>\n",
       "      <td>0.272661</td>\n",
       "      <td>0</td>\n",
       "      <td>0</td>\n",
       "      <td>0</td>\n",
       "      <td>0</td>\n",
       "      <td>1</td>\n",
       "    </tr>\n",
       "    <tr>\n",
       "      <td>total_income</td>\n",
       "      <td>19351</td>\n",
       "      <td>NaN</td>\n",
       "      <td>NaN</td>\n",
       "      <td>NaN</td>\n",
       "      <td>26787.6</td>\n",
       "      <td>16475.5</td>\n",
       "      <td>3306.76</td>\n",
       "      <td>16488.5</td>\n",
       "      <td>23202.9</td>\n",
       "      <td>32549.6</td>\n",
       "      <td>362497</td>\n",
       "    </tr>\n",
       "    <tr>\n",
       "      <td>purpose</td>\n",
       "      <td>21525</td>\n",
       "      <td>38</td>\n",
       "      <td>wedding ceremony</td>\n",
       "      <td>797</td>\n",
       "      <td>NaN</td>\n",
       "      <td>NaN</td>\n",
       "      <td>NaN</td>\n",
       "      <td>NaN</td>\n",
       "      <td>NaN</td>\n",
       "      <td>NaN</td>\n",
       "      <td>NaN</td>\n",
       "    </tr>\n",
       "  </tbody>\n",
       "</table>\n",
       "</div>"
      ],
      "text/plain": [
       "                  count unique                  top   freq       mean  \\\n",
       "children          21525    NaN                  NaN    NaN   0.538908   \n",
       "days_employed     19351    NaN                  NaN    NaN    63046.5   \n",
       "dob_years         21525    NaN                  NaN    NaN    43.2934   \n",
       "education         21525     15  secondary education  13750        NaN   \n",
       "education_id      21525    NaN                  NaN    NaN   0.817236   \n",
       "family_status     21525      5              married  12380        NaN   \n",
       "family_status_id  21525    NaN                  NaN    NaN   0.972544   \n",
       "gender            21525      3                    F  14236        NaN   \n",
       "income_type       21525      8             employee  11119        NaN   \n",
       "debt              21525    NaN                  NaN    NaN  0.0808827   \n",
       "total_income      19351    NaN                  NaN    NaN    26787.6   \n",
       "purpose           21525     38     wedding ceremony    797        NaN   \n",
       "\n",
       "                       std      min      25%      50%      75%     max  \n",
       "children           1.38159       -1        0        0        1      20  \n",
       "days_employed       140827 -18388.9 -2747.42 -1203.37 -291.096  401755  \n",
       "dob_years          12.5746        0       33       42       53      75  \n",
       "education              NaN      NaN      NaN      NaN      NaN     NaN  \n",
       "education_id      0.548138        0        1        1        1       4  \n",
       "family_status          NaN      NaN      NaN      NaN      NaN     NaN  \n",
       "family_status_id   1.42032        0        0        0        1       4  \n",
       "gender                 NaN      NaN      NaN      NaN      NaN     NaN  \n",
       "income_type            NaN      NaN      NaN      NaN      NaN     NaN  \n",
       "debt              0.272661        0        0        0        0       1  \n",
       "total_income       16475.5  3306.76  16488.5  23202.9  32549.6  362497  \n",
       "purpose                NaN      NaN      NaN      NaN      NaN     NaN  "
      ]
     },
     "execution_count": 4,
     "metadata": {},
     "output_type": "execute_result"
    }
   ],
   "source": [
    "# Get info on data\n",
    "\n",
    "credit_scoring.info()\n",
    "print('*********************************')\n",
    "credit_scoring.describe(include='all').T"
   ]
  },
  {
   "cell_type": "markdown",
   "id": "284212ee",
   "metadata": {},
   "source": [
    "* There are missing values in 'days_employed' and 'total_income' columns, because there's less then 21525 full cells in both of them"
   ]
  },
  {
   "cell_type": "markdown",
   "id": "fc1947a0",
   "metadata": {},
   "source": [
    "##### Data Preprocessing : "
   ]
  },
  {
   "cell_type": "code",
   "execution_count": 5,
   "id": "7098b7a5",
   "metadata": {},
   "outputs": [
    {
     "data": {
      "text/html": [
       "<div>\n",
       "<style scoped>\n",
       "    .dataframe tbody tr th:only-of-type {\n",
       "        vertical-align: middle;\n",
       "    }\n",
       "\n",
       "    .dataframe tbody tr th {\n",
       "        vertical-align: top;\n",
       "    }\n",
       "\n",
       "    .dataframe thead th {\n",
       "        text-align: right;\n",
       "    }\n",
       "</style>\n",
       "<table border=\"1\" class=\"dataframe\">\n",
       "  <thead>\n",
       "    <tr style=\"text-align: right;\">\n",
       "      <th></th>\n",
       "      <th>children</th>\n",
       "      <th>days_employed</th>\n",
       "      <th>dob_years</th>\n",
       "      <th>education</th>\n",
       "      <th>education_id</th>\n",
       "      <th>family_status</th>\n",
       "      <th>family_status_id</th>\n",
       "      <th>gender</th>\n",
       "      <th>income_type</th>\n",
       "      <th>debt</th>\n",
       "      <th>total_income</th>\n",
       "      <th>purpose</th>\n",
       "    </tr>\n",
       "  </thead>\n",
       "  <tbody>\n",
       "    <tr>\n",
       "      <td>12</td>\n",
       "      <td>0</td>\n",
       "      <td>NaN</td>\n",
       "      <td>65</td>\n",
       "      <td>secondary education</td>\n",
       "      <td>1</td>\n",
       "      <td>civil partnership</td>\n",
       "      <td>1</td>\n",
       "      <td>M</td>\n",
       "      <td>retiree</td>\n",
       "      <td>0</td>\n",
       "      <td>NaN</td>\n",
       "      <td>to have a wedding</td>\n",
       "    </tr>\n",
       "    <tr>\n",
       "      <td>26</td>\n",
       "      <td>0</td>\n",
       "      <td>NaN</td>\n",
       "      <td>41</td>\n",
       "      <td>secondary education</td>\n",
       "      <td>1</td>\n",
       "      <td>married</td>\n",
       "      <td>0</td>\n",
       "      <td>M</td>\n",
       "      <td>civil servant</td>\n",
       "      <td>0</td>\n",
       "      <td>NaN</td>\n",
       "      <td>education</td>\n",
       "    </tr>\n",
       "    <tr>\n",
       "      <td>29</td>\n",
       "      <td>0</td>\n",
       "      <td>NaN</td>\n",
       "      <td>63</td>\n",
       "      <td>secondary education</td>\n",
       "      <td>1</td>\n",
       "      <td>unmarried</td>\n",
       "      <td>4</td>\n",
       "      <td>F</td>\n",
       "      <td>retiree</td>\n",
       "      <td>0</td>\n",
       "      <td>NaN</td>\n",
       "      <td>building a real estate</td>\n",
       "    </tr>\n",
       "    <tr>\n",
       "      <td>41</td>\n",
       "      <td>0</td>\n",
       "      <td>NaN</td>\n",
       "      <td>50</td>\n",
       "      <td>secondary education</td>\n",
       "      <td>1</td>\n",
       "      <td>married</td>\n",
       "      <td>0</td>\n",
       "      <td>F</td>\n",
       "      <td>civil servant</td>\n",
       "      <td>0</td>\n",
       "      <td>NaN</td>\n",
       "      <td>second-hand car purchase</td>\n",
       "    </tr>\n",
       "    <tr>\n",
       "      <td>55</td>\n",
       "      <td>0</td>\n",
       "      <td>NaN</td>\n",
       "      <td>54</td>\n",
       "      <td>secondary education</td>\n",
       "      <td>1</td>\n",
       "      <td>civil partnership</td>\n",
       "      <td>1</td>\n",
       "      <td>F</td>\n",
       "      <td>retiree</td>\n",
       "      <td>1</td>\n",
       "      <td>NaN</td>\n",
       "      <td>to have a wedding</td>\n",
       "    </tr>\n",
       "    <tr>\n",
       "      <td>...</td>\n",
       "      <td>...</td>\n",
       "      <td>...</td>\n",
       "      <td>...</td>\n",
       "      <td>...</td>\n",
       "      <td>...</td>\n",
       "      <td>...</td>\n",
       "      <td>...</td>\n",
       "      <td>...</td>\n",
       "      <td>...</td>\n",
       "      <td>...</td>\n",
       "      <td>...</td>\n",
       "      <td>...</td>\n",
       "    </tr>\n",
       "    <tr>\n",
       "      <td>21489</td>\n",
       "      <td>2</td>\n",
       "      <td>NaN</td>\n",
       "      <td>47</td>\n",
       "      <td>Secondary Education</td>\n",
       "      <td>1</td>\n",
       "      <td>married</td>\n",
       "      <td>0</td>\n",
       "      <td>M</td>\n",
       "      <td>business</td>\n",
       "      <td>0</td>\n",
       "      <td>NaN</td>\n",
       "      <td>purchase of a car</td>\n",
       "    </tr>\n",
       "    <tr>\n",
       "      <td>21495</td>\n",
       "      <td>1</td>\n",
       "      <td>NaN</td>\n",
       "      <td>50</td>\n",
       "      <td>secondary education</td>\n",
       "      <td>1</td>\n",
       "      <td>civil partnership</td>\n",
       "      <td>1</td>\n",
       "      <td>F</td>\n",
       "      <td>employee</td>\n",
       "      <td>0</td>\n",
       "      <td>NaN</td>\n",
       "      <td>wedding ceremony</td>\n",
       "    </tr>\n",
       "    <tr>\n",
       "      <td>21497</td>\n",
       "      <td>0</td>\n",
       "      <td>NaN</td>\n",
       "      <td>48</td>\n",
       "      <td>BACHELOR'S DEGREE</td>\n",
       "      <td>0</td>\n",
       "      <td>married</td>\n",
       "      <td>0</td>\n",
       "      <td>F</td>\n",
       "      <td>business</td>\n",
       "      <td>0</td>\n",
       "      <td>NaN</td>\n",
       "      <td>building a property</td>\n",
       "    </tr>\n",
       "    <tr>\n",
       "      <td>21502</td>\n",
       "      <td>1</td>\n",
       "      <td>NaN</td>\n",
       "      <td>42</td>\n",
       "      <td>secondary education</td>\n",
       "      <td>1</td>\n",
       "      <td>married</td>\n",
       "      <td>0</td>\n",
       "      <td>F</td>\n",
       "      <td>employee</td>\n",
       "      <td>0</td>\n",
       "      <td>NaN</td>\n",
       "      <td>building a real estate</td>\n",
       "    </tr>\n",
       "    <tr>\n",
       "      <td>21510</td>\n",
       "      <td>2</td>\n",
       "      <td>NaN</td>\n",
       "      <td>28</td>\n",
       "      <td>secondary education</td>\n",
       "      <td>1</td>\n",
       "      <td>married</td>\n",
       "      <td>0</td>\n",
       "      <td>F</td>\n",
       "      <td>employee</td>\n",
       "      <td>0</td>\n",
       "      <td>NaN</td>\n",
       "      <td>car purchase</td>\n",
       "    </tr>\n",
       "  </tbody>\n",
       "</table>\n",
       "<p>2174 rows × 12 columns</p>\n",
       "</div>"
      ],
      "text/plain": [
       "       children  days_employed  dob_years            education  education_id  \\\n",
       "12            0            NaN         65  secondary education             1   \n",
       "26            0            NaN         41  secondary education             1   \n",
       "29            0            NaN         63  secondary education             1   \n",
       "41            0            NaN         50  secondary education             1   \n",
       "55            0            NaN         54  secondary education             1   \n",
       "...         ...            ...        ...                  ...           ...   \n",
       "21489         2            NaN         47  Secondary Education             1   \n",
       "21495         1            NaN         50  secondary education             1   \n",
       "21497         0            NaN         48    BACHELOR'S DEGREE             0   \n",
       "21502         1            NaN         42  secondary education             1   \n",
       "21510         2            NaN         28  secondary education             1   \n",
       "\n",
       "           family_status  family_status_id gender    income_type  debt  \\\n",
       "12     civil partnership                 1      M        retiree     0   \n",
       "26               married                 0      M  civil servant     0   \n",
       "29             unmarried                 4      F        retiree     0   \n",
       "41               married                 0      F  civil servant     0   \n",
       "55     civil partnership                 1      F        retiree     1   \n",
       "...                  ...               ...    ...            ...   ...   \n",
       "21489            married                 0      M       business     0   \n",
       "21495  civil partnership                 1      F       employee     0   \n",
       "21497            married                 0      F       business     0   \n",
       "21502            married                 0      F       employee     0   \n",
       "21510            married                 0      F       employee     0   \n",
       "\n",
       "       total_income                   purpose  \n",
       "12              NaN         to have a wedding  \n",
       "26              NaN                 education  \n",
       "29              NaN    building a real estate  \n",
       "41              NaN  second-hand car purchase  \n",
       "55              NaN         to have a wedding  \n",
       "...             ...                       ...  \n",
       "21489           NaN         purchase of a car  \n",
       "21495           NaN          wedding ceremony  \n",
       "21497           NaN       building a property  \n",
       "21502           NaN    building a real estate  \n",
       "21510           NaN              car purchase  \n",
       "\n",
       "[2174 rows x 12 columns]"
      ]
     },
     "execution_count": 5,
     "metadata": {},
     "output_type": "execute_result"
    }
   ],
   "source": [
    "# Let's look at the filtered table with missing values in the the first column with missing data\n",
    "credit_scoring[credit_scoring['days_employed'].isnull() == 1]\n"
   ]
  },
  {
   "cell_type": "markdown",
   "id": "173edc36",
   "metadata": {},
   "source": [
    "* The missing value's seem to be symmetric, but we need to investigate more."
   ]
  },
  {
   "cell_type": "code",
   "execution_count": 6,
   "id": "ffd26fca",
   "metadata": {},
   "outputs": [
    {
     "name": "stdout",
     "output_type": "stream",
     "text": [
      "0\n",
      "0\n",
      "\n",
      "children            2174\n",
      "days_employed          0\n",
      "dob_years           2174\n",
      "education           2174\n",
      "education_id        2174\n",
      "family_status       2174\n",
      "family_status_id    2174\n",
      "gender              2174\n",
      "income_type         2174\n",
      "debt                2174\n",
      "total_income           0\n",
      "purpose             2174\n",
      "dtype: int64\n"
     ]
    }
   ],
   "source": [
    "# Let's apply multiple conditions for filtering data and look at the number of rows in the filtered table.\n",
    "print(len(credit_scoring[credit_scoring['days_employed'].isnull() & credit_scoring['total_income'].notnull()]))\n",
    "print(len(credit_scoring[credit_scoring['days_employed'].notnull() & credit_scoring['total_income'].isnull()]))\n",
    "print()\n",
    "print(credit_scoring[credit_scoring['days_employed'].isnull() & credit_scoring['total_income'].isnull()].count())"
   ]
  },
  {
   "cell_type": "markdown",
   "id": "bafd204d",
   "metadata": {},
   "source": [
    "**Intermediate conclusion :**\n",
    "\n",
    "* The number of rows in the filtered table match the number of missing values, and from looking in the columns name we can conclude that \"total_income\" depend on \"days employed\"\n",
    "\n",
    "* I looked in the data info for problems, there are missing value on two columns. Next Im going to look for connection between the missing values and the ther catagories\n",
    "\n",
    "* If there is no connection, I'll fill the data with mean of the columns\n",
    "\n",
    "* I'll look if ther's duplicates, typo's, and then I'll try to analyze the data"
   ]
  },
  {
   "cell_type": "code",
   "execution_count": 7,
   "id": "b91b2fc5",
   "metadata": {
    "collapsed": true
   },
   "outputs": [
    {
     "data": {
      "text/html": [
       "<div>\n",
       "<style scoped>\n",
       "    .dataframe tbody tr th:only-of-type {\n",
       "        vertical-align: middle;\n",
       "    }\n",
       "\n",
       "    .dataframe tbody tr th {\n",
       "        vertical-align: top;\n",
       "    }\n",
       "\n",
       "    .dataframe thead th {\n",
       "        text-align: right;\n",
       "    }\n",
       "</style>\n",
       "<table border=\"1\" class=\"dataframe\">\n",
       "  <thead>\n",
       "    <tr style=\"text-align: right;\">\n",
       "      <th></th>\n",
       "      <th>children</th>\n",
       "      <th>days_employed</th>\n",
       "      <th>dob_years</th>\n",
       "      <th>education</th>\n",
       "      <th>education_id</th>\n",
       "      <th>family_status</th>\n",
       "      <th>family_status_id</th>\n",
       "      <th>gender</th>\n",
       "      <th>income_type</th>\n",
       "      <th>debt</th>\n",
       "      <th>total_income</th>\n",
       "      <th>purpose</th>\n",
       "    </tr>\n",
       "  </thead>\n",
       "  <tbody>\n",
       "    <tr>\n",
       "      <td>12</td>\n",
       "      <td>0</td>\n",
       "      <td>NaN</td>\n",
       "      <td>65</td>\n",
       "      <td>secondary education</td>\n",
       "      <td>1</td>\n",
       "      <td>civil partnership</td>\n",
       "      <td>1</td>\n",
       "      <td>M</td>\n",
       "      <td>retiree</td>\n",
       "      <td>0</td>\n",
       "      <td>NaN</td>\n",
       "      <td>to have a wedding</td>\n",
       "    </tr>\n",
       "    <tr>\n",
       "      <td>26</td>\n",
       "      <td>0</td>\n",
       "      <td>NaN</td>\n",
       "      <td>41</td>\n",
       "      <td>secondary education</td>\n",
       "      <td>1</td>\n",
       "      <td>married</td>\n",
       "      <td>0</td>\n",
       "      <td>M</td>\n",
       "      <td>civil servant</td>\n",
       "      <td>0</td>\n",
       "      <td>NaN</td>\n",
       "      <td>education</td>\n",
       "    </tr>\n",
       "    <tr>\n",
       "      <td>29</td>\n",
       "      <td>0</td>\n",
       "      <td>NaN</td>\n",
       "      <td>63</td>\n",
       "      <td>secondary education</td>\n",
       "      <td>1</td>\n",
       "      <td>unmarried</td>\n",
       "      <td>4</td>\n",
       "      <td>F</td>\n",
       "      <td>retiree</td>\n",
       "      <td>0</td>\n",
       "      <td>NaN</td>\n",
       "      <td>building a real estate</td>\n",
       "    </tr>\n",
       "    <tr>\n",
       "      <td>41</td>\n",
       "      <td>0</td>\n",
       "      <td>NaN</td>\n",
       "      <td>50</td>\n",
       "      <td>secondary education</td>\n",
       "      <td>1</td>\n",
       "      <td>married</td>\n",
       "      <td>0</td>\n",
       "      <td>F</td>\n",
       "      <td>civil servant</td>\n",
       "      <td>0</td>\n",
       "      <td>NaN</td>\n",
       "      <td>second-hand car purchase</td>\n",
       "    </tr>\n",
       "    <tr>\n",
       "      <td>55</td>\n",
       "      <td>0</td>\n",
       "      <td>NaN</td>\n",
       "      <td>54</td>\n",
       "      <td>secondary education</td>\n",
       "      <td>1</td>\n",
       "      <td>civil partnership</td>\n",
       "      <td>1</td>\n",
       "      <td>F</td>\n",
       "      <td>retiree</td>\n",
       "      <td>1</td>\n",
       "      <td>NaN</td>\n",
       "      <td>to have a wedding</td>\n",
       "    </tr>\n",
       "    <tr>\n",
       "      <td>...</td>\n",
       "      <td>...</td>\n",
       "      <td>...</td>\n",
       "      <td>...</td>\n",
       "      <td>...</td>\n",
       "      <td>...</td>\n",
       "      <td>...</td>\n",
       "      <td>...</td>\n",
       "      <td>...</td>\n",
       "      <td>...</td>\n",
       "      <td>...</td>\n",
       "      <td>...</td>\n",
       "      <td>...</td>\n",
       "    </tr>\n",
       "    <tr>\n",
       "      <td>21489</td>\n",
       "      <td>2</td>\n",
       "      <td>NaN</td>\n",
       "      <td>47</td>\n",
       "      <td>Secondary Education</td>\n",
       "      <td>1</td>\n",
       "      <td>married</td>\n",
       "      <td>0</td>\n",
       "      <td>M</td>\n",
       "      <td>business</td>\n",
       "      <td>0</td>\n",
       "      <td>NaN</td>\n",
       "      <td>purchase of a car</td>\n",
       "    </tr>\n",
       "    <tr>\n",
       "      <td>21495</td>\n",
       "      <td>1</td>\n",
       "      <td>NaN</td>\n",
       "      <td>50</td>\n",
       "      <td>secondary education</td>\n",
       "      <td>1</td>\n",
       "      <td>civil partnership</td>\n",
       "      <td>1</td>\n",
       "      <td>F</td>\n",
       "      <td>employee</td>\n",
       "      <td>0</td>\n",
       "      <td>NaN</td>\n",
       "      <td>wedding ceremony</td>\n",
       "    </tr>\n",
       "    <tr>\n",
       "      <td>21497</td>\n",
       "      <td>0</td>\n",
       "      <td>NaN</td>\n",
       "      <td>48</td>\n",
       "      <td>BACHELOR'S DEGREE</td>\n",
       "      <td>0</td>\n",
       "      <td>married</td>\n",
       "      <td>0</td>\n",
       "      <td>F</td>\n",
       "      <td>business</td>\n",
       "      <td>0</td>\n",
       "      <td>NaN</td>\n",
       "      <td>building a property</td>\n",
       "    </tr>\n",
       "    <tr>\n",
       "      <td>21502</td>\n",
       "      <td>1</td>\n",
       "      <td>NaN</td>\n",
       "      <td>42</td>\n",
       "      <td>secondary education</td>\n",
       "      <td>1</td>\n",
       "      <td>married</td>\n",
       "      <td>0</td>\n",
       "      <td>F</td>\n",
       "      <td>employee</td>\n",
       "      <td>0</td>\n",
       "      <td>NaN</td>\n",
       "      <td>building a real estate</td>\n",
       "    </tr>\n",
       "    <tr>\n",
       "      <td>21510</td>\n",
       "      <td>2</td>\n",
       "      <td>NaN</td>\n",
       "      <td>28</td>\n",
       "      <td>secondary education</td>\n",
       "      <td>1</td>\n",
       "      <td>married</td>\n",
       "      <td>0</td>\n",
       "      <td>F</td>\n",
       "      <td>employee</td>\n",
       "      <td>0</td>\n",
       "      <td>NaN</td>\n",
       "      <td>car purchase</td>\n",
       "    </tr>\n",
       "  </tbody>\n",
       "</table>\n",
       "<p>2174 rows × 12 columns</p>\n",
       "</div>"
      ],
      "text/plain": [
       "       children  days_employed  dob_years            education  education_id  \\\n",
       "12            0            NaN         65  secondary education             1   \n",
       "26            0            NaN         41  secondary education             1   \n",
       "29            0            NaN         63  secondary education             1   \n",
       "41            0            NaN         50  secondary education             1   \n",
       "55            0            NaN         54  secondary education             1   \n",
       "...         ...            ...        ...                  ...           ...   \n",
       "21489         2            NaN         47  Secondary Education             1   \n",
       "21495         1            NaN         50  secondary education             1   \n",
       "21497         0            NaN         48    BACHELOR'S DEGREE             0   \n",
       "21502         1            NaN         42  secondary education             1   \n",
       "21510         2            NaN         28  secondary education             1   \n",
       "\n",
       "           family_status  family_status_id gender    income_type  debt  \\\n",
       "12     civil partnership                 1      M        retiree     0   \n",
       "26               married                 0      M  civil servant     0   \n",
       "29             unmarried                 4      F        retiree     0   \n",
       "41               married                 0      F  civil servant     0   \n",
       "55     civil partnership                 1      F        retiree     1   \n",
       "...                  ...               ...    ...            ...   ...   \n",
       "21489            married                 0      M       business     0   \n",
       "21495  civil partnership                 1      F       employee     0   \n",
       "21497            married                 0      F       business     0   \n",
       "21502            married                 0      F       employee     0   \n",
       "21510            married                 0      F       employee     0   \n",
       "\n",
       "       total_income                   purpose  \n",
       "12              NaN         to have a wedding  \n",
       "26              NaN                 education  \n",
       "29              NaN    building a real estate  \n",
       "41              NaN  second-hand car purchase  \n",
       "55              NaN         to have a wedding  \n",
       "...             ...                       ...  \n",
       "21489           NaN         purchase of a car  \n",
       "21495           NaN          wedding ceremony  \n",
       "21497           NaN       building a property  \n",
       "21502           NaN    building a real estate  \n",
       "21510           NaN              car purchase  \n",
       "\n",
       "[2174 rows x 12 columns]"
      ]
     },
     "execution_count": 7,
     "metadata": {},
     "output_type": "execute_result"
    }
   ],
   "source": [
    "# Let's investigate clients who do not have data on identified characteristic and the column with the missing values\n",
    "credit_scoring[credit_scoring['days_employed'].isnull() & credit_scoring['total_income'].isnull()]\n"
   ]
  },
  {
   "cell_type": "code",
   "execution_count": 8,
   "id": "6c18d573",
   "metadata": {},
   "outputs": [
    {
     "name": "stdout",
     "output_type": "stream",
     "text": [
      "0.10099883855981417\n"
     ]
    }
   ],
   "source": [
    "# Checking distribution\n",
    "missing_row = len(credit_scoring[credit_scoring['days_employed'].isnull() & credit_scoring['total_income'].isnull()])\n",
    "length = len(credit_scoring['days_employed'])\n",
    "print(missing_row/length)"
   ]
  },
  {
   "cell_type": "markdown",
   "id": "b75b0cd5",
   "metadata": {},
   "source": [
    "* Clients who didn't work didn't have any income, those client are 10.1% of all client\n",
    "\n",
    "* Possible reasons for missing values is  malefunction."
   ]
  },
  {
   "cell_type": "code",
   "execution_count": 9,
   "id": "daf1ba48",
   "metadata": {
    "scrolled": true
   },
   "outputs": [
    {
     "name": "stdout",
     "output_type": "stream",
     "text": [
      "Nan values in days_employed in income type:\n",
      "income_type\n",
      "business          508\n",
      "civil servant     147\n",
      "employee         1105\n",
      "entrepreneur        1\n",
      "retiree           413\n",
      "Name: dob_years, dtype: int64\n",
      "******\n",
      "total income type categorized:\n",
      "income_type\n",
      "business                        4577\n",
      "civil servant                   1312\n",
      "employee                       10014\n",
      "entrepreneur                       1\n",
      "paternity / maternity leave        1\n",
      "retiree                         3443\n",
      "student                            1\n",
      "unemployed                         2\n",
      "Name: days_employed, dtype: int64\n",
      "******\n",
      "distribution of Nan values in days_employed in categorized income_type\n",
      "income_type\n",
      "business                       0.110990\n",
      "civil servant                  0.112043\n",
      "employee                       0.110346\n",
      "entrepreneur                   1.000000\n",
      "paternity / maternity leave         NaN\n",
      "retiree                        0.119954\n",
      "student                             NaN\n",
      "unemployed                          NaN\n",
      "dtype: float64\n"
     ]
    }
   ],
   "source": [
    "# Checking the distribution in the whole dataset\n",
    "days_employed = credit_scoring[credit_scoring['days_employed'].isnull()]\n",
    "income_type_non_days_employed = days_employed.groupby('income_type')['dob_years'].count()\n",
    "print(\"Nan values in days_employed in income type:\")\n",
    "print(income_type_non_days_employed)\n",
    "print('******')\n",
    "income_type_cat = credit_scoring.groupby('income_type')['days_employed'].count()\n",
    "print(\"total income type categorized:\")\n",
    "print(income_type_cat)\n",
    "print('******')\n",
    "print(\"distribution of Nan values in days_employed in categorized income_type\")\n",
    "print(income_type_non_days_employed/income_type_cat)"
   ]
  },
  {
   "cell_type": "markdown",
   "id": "11d1451d",
   "metadata": {},
   "source": [
    "* in 4 out 8 income type the distribution here is similar to the general distribution. \n",
    "* I can calculate the mean and the median per income type. \n"
   ]
  },
  {
   "cell_type": "code",
   "execution_count": 10,
   "id": "422ac199",
   "metadata": {
    "scrolled": true
   },
   "outputs": [
    {
     "name": "stdout",
     "output_type": "stream",
     "text": [
      "Nan values in family_status:\n",
      "family_status\n",
      "civil partnership     442\n",
      "divorced              112\n",
      "married              1237\n",
      "unmarried             288\n",
      "widow / widower        95\n",
      "Name: dob_years, dtype: int64\n",
      "******\n",
      "total income type categorized:\n",
      "family_status\n",
      "civil partnership     3735\n",
      "divorced              1083\n",
      "married              11143\n",
      "unmarried             2525\n",
      "widow / widower        865\n",
      "Name: days_employed, dtype: int64\n",
      "******\n",
      "distribution of Nan values in categorized family_status\n",
      "family_status\n",
      "civil partnership    0.118340\n",
      "divorced             0.103416\n",
      "married              0.111011\n",
      "unmarried            0.114059\n",
      "widow / widower      0.109827\n",
      "dtype: float64\n"
     ]
    }
   ],
   "source": [
    "# Check for other reasons and patterns that could lead to missing value\n",
    "\n",
    "days_employed = credit_scoring[credit_scoring['days_employed'].isnull()]\n",
    "income_type_non_family_status = days_employed.groupby('family_status')['dob_years'].count()\n",
    "print(\"Nan values in family_status:\")\n",
    "print(income_type_non_family_status)\n",
    "print('******')\n",
    "income_type_cat = credit_scoring.groupby('family_status')['days_employed'].count()\n",
    "print(\"total income type categorized:\")\n",
    "print(income_type_cat)\n",
    "print('******')\n",
    "print(\"distribution of Nan values in categorized family_status\")\n",
    "print(income_type_non_family_status/income_type_cat)"
   ]
  },
  {
   "cell_type": "code",
   "execution_count": 11,
   "id": "e0c19c24",
   "metadata": {
    "scrolled": true
   },
   "outputs": [
    {
     "name": "stdout",
     "output_type": "stream",
     "text": [
      "Nan values in education:\n",
      "education\n",
      "BACHELOR'S DEGREE        23\n",
      "Bachelor's Degree        25\n",
      "PRIMARY EDUCATION         1\n",
      "Primary Education         1\n",
      "SECONDARY EDUCATION      67\n",
      "SOME COLLEGE              7\n",
      "Secondary Education      65\n",
      "Some College              7\n",
      "bachelor's degree       496\n",
      "primary education        19\n",
      "secondary education    1408\n",
      "some college             55\n",
      "Name: dob_years, dtype: int64\n",
      "******\n",
      "total income type categorized:\n",
      "education\n",
      "BACHELOR'S DEGREE        251\n",
      "Bachelor's Degree        243\n",
      "GRADUATE DEGREE            1\n",
      "Graduate Degree            1\n",
      "PRIMARY EDUCATION         16\n",
      "Primary Education         14\n",
      "SECONDARY EDUCATION      705\n",
      "SOME COLLEGE              22\n",
      "Secondary Education      646\n",
      "Some College              40\n",
      "bachelor's degree       4222\n",
      "graduate degree            4\n",
      "primary education        231\n",
      "secondary education    12342\n",
      "some college             613\n",
      "Name: days_employed, dtype: int64\n",
      "******\n",
      "distribution of Nan values in categorized education\n",
      "education\n",
      "BACHELOR'S DEGREE      0.091633\n",
      "Bachelor's Degree      0.102881\n",
      "GRADUATE DEGREE             NaN\n",
      "Graduate Degree             NaN\n",
      "PRIMARY EDUCATION      0.062500\n",
      "Primary Education      0.071429\n",
      "SECONDARY EDUCATION    0.095035\n",
      "SOME COLLEGE           0.318182\n",
      "Secondary Education    0.100619\n",
      "Some College           0.175000\n",
      "bachelor's degree      0.117480\n",
      "graduate degree             NaN\n",
      "primary education      0.082251\n",
      "secondary education    0.114082\n",
      "some college           0.089723\n",
      "dtype: float64\n"
     ]
    }
   ],
   "source": [
    "# Checking for other patterns - education\n",
    "days_employed = credit_scoring[credit_scoring['days_employed'].isnull()]\n",
    "income_type_non_education = days_employed.groupby('education')['dob_years'].count()\n",
    "print(\"Nan values in education:\")\n",
    "print(income_type_non_education)\n",
    "print('******')\n",
    "income_type_cat = credit_scoring.groupby('education')['days_employed'].count()\n",
    "print(\"total income type categorized:\")\n",
    "print(income_type_cat)\n",
    "print('******')\n",
    "print(\"distribution of Nan values in categorized education\")\n",
    "print(income_type_non_education/income_type_cat)"
   ]
  },
  {
   "cell_type": "markdown",
   "id": "90e6f7c1",
   "metadata": {},
   "source": [
    "**Conclusions**\n",
    "\n",
    "\n",
    "I didn't found any patterns. the distribution is around 10 precents in some cases and 0 in others.\n",
    "\n",
    "I tried to find correlation between total income to education, family status and income type, its make sense thet conection can be made, but apperntly it can't, at least in this case.\n",
    "\n",
    "I need to address different types of issues: duplicates, different registers, incorrect artifacts, and missing values."
   ]
  },
  {
   "cell_type": "markdown",
   "id": "cdda774d",
   "metadata": {},
   "source": [
    "#### Data transformation:\n"
   ]
  },
  {
   "cell_type": "code",
   "execution_count": 12,
   "id": "57dda05c",
   "metadata": {},
   "outputs": [
    {
     "name": "stdout",
     "output_type": "stream",
     "text": [
      "[\"bachelor's degree\" 'secondary education' 'Secondary Education'\n",
      " 'SECONDARY EDUCATION' \"BACHELOR'S DEGREE\" 'some college'\n",
      " 'primary education' \"Bachelor's Degree\" 'SOME COLLEGE' 'Some College'\n",
      " 'PRIMARY EDUCATION' 'Primary Education' 'Graduate Degree'\n",
      " 'GRADUATE DEGREE' 'graduate degree']\n",
      "*****\n",
      "[0 1 2 3 4]\n"
     ]
    }
   ],
   "source": [
    "# Let's see all values in education column to check if and what spellings will need to be fixed\n",
    "print(credit_scoring['education'].unique())\n",
    "print('*****')\n",
    "print(credit_scoring['education_id'].unique())\n"
   ]
  },
  {
   "cell_type": "code",
   "execution_count": 13,
   "id": "d0c570c4",
   "metadata": {
    "scrolled": true
   },
   "outputs": [],
   "source": [
    "# Fix the registers if required\n",
    "credit_scoring['education'] = credit_scoring['education'].str.lower()"
   ]
  },
  {
   "cell_type": "code",
   "execution_count": 14,
   "id": "59369cba",
   "metadata": {},
   "outputs": [
    {
     "name": "stdout",
     "output_type": "stream",
     "text": [
      "[\"bachelor's degree\" 'secondary education' 'some college'\n",
      " 'primary education' 'graduate degree']\n"
     ]
    }
   ],
   "source": [
    "# Checking all the values in the column to make sure we fixed them\n",
    "\n",
    "print(credit_scoring['education'].unique())"
   ]
  },
  {
   "cell_type": "code",
   "execution_count": 15,
   "id": "7be8cbcf",
   "metadata": {},
   "outputs": [
    {
     "name": "stdout",
     "output_type": "stream",
     "text": [
      " 0     14149\n",
      " 1      4818\n",
      " 2      2055\n",
      " 3       330\n",
      " 20       76\n",
      "-1        47\n",
      " 4        41\n",
      " 5         9\n",
      "Name: children, dtype: int64\n",
      "*********\n",
      "the problematic values precentage:\n",
      "0.005714285714285714\n",
      "       children  days_employed  dob_years            education  education_id  \\\n",
      "291          -1   -4417.703588         46  secondary education             1   \n",
      "705          -1    -902.084528         50  secondary education             1   \n",
      "742          -1   -3174.456205         57  secondary education             1   \n",
      "800          -1  349987.852217         54  secondary education             1   \n",
      "941          -1            NaN         57  secondary education             1   \n",
      "1363         -1   -1195.264956         55  secondary education             1   \n",
      "1929         -1   -1461.303336         38  secondary education             1   \n",
      "2073         -1   -2539.761232         42  secondary education             1   \n",
      "3814         -1   -3045.290443         26  secondary education             1   \n",
      "4201         -1    -901.101738         41  secondary education             1   \n",
      "4402         -1  398001.302888         64  secondary education             1   \n",
      "4542         -1   -1811.899756         32  secondary education             1   \n",
      "5272         -1   -1143.485347         46  secondary education             1   \n",
      "6013         -1   -1361.258696         46    bachelor's degree             0   \n",
      "6385         -1  370215.476226         48  secondary education             1   \n",
      "7190         -1   -5928.202068         34  secondary education             1   \n",
      "7278         -1    -526.318451         51  secondary education             1   \n",
      "7615         -1            NaN         35  secondary education             1   \n",
      "7685         -1   -3237.360455         53  secondary education             1   \n",
      "8229         -1   -1803.441074         54    bachelor's degree             0   \n",
      "8251         -1   -3113.998449         31  secondary education             1   \n",
      "8561         -1    -195.479496         31  secondary education             1   \n",
      "9565         -1   -2896.629686         34    bachelor's degree             0   \n",
      "9574         -1   -2710.419901         28    bachelor's degree             0   \n",
      "10177        -1   -1743.604011         37  secondary education             1   \n",
      "10365        -1  345774.125957         63    bachelor's degree             0   \n",
      "10918        -1  340499.039342         50  secondary education             1   \n",
      "11109        -1   -3438.463024         59  secondary education             1   \n",
      "11268        -1   -1048.782203         30    bachelor's degree             0   \n",
      "11617        -1    -370.827130         27  secondary education             1   \n",
      "12304        -1   -8493.101252         61         some college             2   \n",
      "13786        -1            NaN         42  secondary education             1   \n",
      "14357        -1    -268.337037         23  secondary education             1   \n",
      "15147        -1   -9851.184337         44  secondary education             1   \n",
      "15435        -1   -3614.220232         40    bachelor's degree             0   \n",
      "16129        -1    -457.861760         33  secondary education             1   \n",
      "16265        -1   -2802.218127         40    bachelor's degree             0   \n",
      "17095        -1   -2809.693200         34  secondary education             1   \n",
      "17429        -1    -895.379738         37  secondary education             1   \n",
      "17657        -1   -4571.957475         41  secondary education             1   \n",
      "18219        -1   -3575.215641         33  secondary education             1   \n",
      "19100        -1    -617.246968         38  secondary education             1   \n",
      "19366        -1    -372.034749         43  secondary education             1   \n",
      "19417        -1  350340.760224         28  secondary education             1   \n",
      "20393        -1  355157.107212         69  secondary education             1   \n",
      "20717        -1    -661.822321         32    bachelor's degree             0   \n",
      "21140        -1   -1422.668059         44  secondary education             1   \n",
      "\n",
      "           family_status  family_status_id gender    income_type  debt  \\\n",
      "291    civil partnership                 1      F       employee     0   \n",
      "705              married                 0      F  civil servant     0   \n",
      "742              married                 0      F       employee     0   \n",
      "800            unmarried                 4      F        retiree     0   \n",
      "941              married                 0      F        retiree     0   \n",
      "1363             married                 0      F       business     0   \n",
      "1929           unmarried                 4      M       employee     0   \n",
      "2073            divorced                 3      F       business     0   \n",
      "3814   civil partnership                 1      F  civil servant     0   \n",
      "4201             married                 0      F  civil servant     0   \n",
      "4402             married                 0      F        retiree     0   \n",
      "4542             married                 0      F       employee     0   \n",
      "5272     widow / widower                 2      F       employee     0   \n",
      "6013             married                 0      F       employee     0   \n",
      "6385     widow / widower                 2      F        retiree     0   \n",
      "7190             married                 0      M       employee     0   \n",
      "7278             married                 0      F       employee     0   \n",
      "7615             married                 0      M       employee     0   \n",
      "7685     widow / widower                 2      F       employee     0   \n",
      "8229             married                 0      F       business     0   \n",
      "8251   civil partnership                 1      F       employee     0   \n",
      "8561             married                 0      F       employee     0   \n",
      "9565             married                 0      M       employee     0   \n",
      "9574             married                 0      M  civil servant     0   \n",
      "10177            married                 0      M       employee     0   \n",
      "10365    widow / widower                 2      F        retiree     0   \n",
      "10918            married                 0      M        retiree     0   \n",
      "11109            married                 0      F       employee     0   \n",
      "11268  civil partnership                 1      F       business     0   \n",
      "11617            married                 0      F       business     0   \n",
      "12304            married                 0      M       employee     0   \n",
      "13786          unmarried                 4      M       business     0   \n",
      "14357           divorced                 3      F       business     0   \n",
      "15147           divorced                 3      F       employee     0   \n",
      "15435  civil partnership                 1      F       employee     0   \n",
      "16129            married                 0      F       employee     1   \n",
      "16265            married                 0      M       employee     0   \n",
      "17095            married                 0      F       employee     0   \n",
      "17429            married                 0      F       business     0   \n",
      "17657            married                 0      F       employee     0   \n",
      "18219            married                 0      F       employee     0   \n",
      "19100          unmarried                 4      M       employee     0   \n",
      "19366            married                 0      M       employee     0   \n",
      "19417           divorced                 3      F        retiree     0   \n",
      "20393          unmarried                 4      F        retiree     0   \n",
      "20717            married                 0      F       employee     0   \n",
      "21140            married                 0      F       business     0   \n",
      "\n",
      "       total_income                                   purpose  \n",
      "291       16450.615                         profile education  \n",
      "705       22061.264                              car purchase  \n",
      "742       10282.887                   supplementary education  \n",
      "800       13806.996                   supplementary education  \n",
      "941             NaN                         buying my own car  \n",
      "1363      11128.112                         profile education  \n",
      "1929      17459.451                     purchase of the house  \n",
      "2073      26022.177                     purchase of the house  \n",
      "3814      21102.846                          having a wedding  \n",
      "4201      36220.123          transactions with my real estate  \n",
      "4402      26122.250                           buy real estate  \n",
      "4542      25687.155                                 education  \n",
      "5272      44593.283                           buy real estate  \n",
      "6013      22881.353              construction of own property  \n",
      "6385       5768.392                                 education  \n",
      "7190      29490.420                              car purchase  \n",
      "7278      23508.603  transactions with commercial real estate  \n",
      "7615            NaN                                 education  \n",
      "7685      25548.188                    building a real estate  \n",
      "8229      22209.453                           buy real estate  \n",
      "8251       8705.929                              to own a car  \n",
      "8561      23292.461                        housing renovation  \n",
      "9565      20280.745                  real estate transactions  \n",
      "9574      48501.946          to get a supplementary education  \n",
      "10177     49658.801                      getting an education  \n",
      "10365     27322.040                    building a real estate  \n",
      "10918     27322.044                  purchase of my own house  \n",
      "11109     35179.842                      housing transactions  \n",
      "11268     51456.592                              to buy a car  \n",
      "11617     26334.602           buying property for renting out  \n",
      "12304     50400.989                                  property  \n",
      "13786           NaN                                       car  \n",
      "14357     14761.213               buy residential real estate  \n",
      "15147     17758.530                              to own a car  \n",
      "15435     15700.406                         to have a wedding  \n",
      "16129     23942.573                                       car  \n",
      "16265     17917.516                     purchase of the house  \n",
      "17095     29207.022                  buying a second-hand car  \n",
      "17429     34370.243                                   housing  \n",
      "17657     19536.867          transactions with my real estate  \n",
      "18219     20537.924                      university education  \n",
      "19100     19552.880                    building a real estate  \n",
      "19366     24894.203                  second-hand car purchase  \n",
      "19417      8459.679                                      cars  \n",
      "20393     18643.367                  real estate transactions  \n",
      "20717     21984.862               buy residential real estate  \n",
      "21140     27129.935          transactions with my real estate  \n",
      "       children  days_employed  dob_years            education  education_id  \\\n",
      "606          20    -880.221113         21  secondary education             1   \n",
      "720          20    -855.595512         44  secondary education             1   \n",
      "1074         20   -3310.411598         56  secondary education             1   \n",
      "2510         20   -2714.161249         59    bachelor's degree             0   \n",
      "2941         20   -2161.591519          0  secondary education             1   \n",
      "...         ...            ...        ...                  ...           ...   \n",
      "21008        20   -1240.257910         40  secondary education             1   \n",
      "21325        20    -601.174883         37  secondary education             1   \n",
      "21390        20            NaN         53  secondary education             1   \n",
      "21404        20    -494.788448         52  secondary education             1   \n",
      "21491        20    -173.954460         27  secondary education             1   \n",
      "\n",
      "         family_status  family_status_id gender income_type  debt  \\\n",
      "606            married                 0      M    business     0   \n",
      "720            married                 0      F    business     0   \n",
      "1074           married                 0      F    employee     1   \n",
      "2510   widow / widower                 2      F    employee     0   \n",
      "2941           married                 0      F    employee     0   \n",
      "...                ...               ...    ...         ...   ...   \n",
      "21008          married                 0      F    employee     1   \n",
      "21325          married                 0      F    business     0   \n",
      "21390          married                 0      M    business     0   \n",
      "21404          married                 0      M    business     0   \n",
      "21491          married                 0      F    employee     0   \n",
      "\n",
      "       total_income                                   purpose  \n",
      "606       23253.578                     purchase of the house  \n",
      "720       18079.798                           buy real estate  \n",
      "1074      36722.966                      getting an education  \n",
      "2510      42315.974  transactions with commercial real estate  \n",
      "2941      31958.391                              to buy a car  \n",
      "...             ...                                       ...  \n",
      "21008     21363.842                              to own a car  \n",
      "21325     16477.771                         profile education  \n",
      "21390           NaN               buy residential real estate  \n",
      "21404     25060.749          transactions with my real estate  \n",
      "21491     24883.344                  buying a second-hand car  \n",
      "\n",
      "[76 rows x 12 columns]\n"
     ]
    }
   ],
   "source": [
    "# Let's see the distribution of values in the `children` column\n",
    "print(credit_scoring['children'].value_counts())\n",
    "print('*********')\n",
    "print('the problematic values precentage:')\n",
    "print((47+76)/len(credit_scoring))\n",
    "\n",
    "print(credit_scoring[credit_scoring['children']==-1])\n",
    "print(credit_scoring[credit_scoring['children']==20])"
   ]
  },
  {
   "cell_type": "markdown",
   "id": "e6f30338",
   "metadata": {},
   "source": [
    "\n",
    "0.05% of the column has problematic values in it, it's probably typo, for -1 and 20. I'll change -1 to 1, and 20 to 2."
   ]
  },
  {
   "cell_type": "code",
   "execution_count": 16,
   "id": "e064bb3e",
   "metadata": {},
   "outputs": [],
   "source": [
    "# [fix the data based on your decision]\n",
    "\n",
    "credit_scoring.loc[credit_scoring['children']==-1, 'children'] =1\n",
    "credit_scoring.loc[credit_scoring['children']==20, 'children'] =2"
   ]
  },
  {
   "cell_type": "code",
   "execution_count": 17,
   "id": "8d3968b4",
   "metadata": {},
   "outputs": [
    {
     "name": "stdout",
     "output_type": "stream",
     "text": [
      "0    14149\n",
      "1     4865\n",
      "2     2131\n",
      "3      330\n",
      "4       41\n",
      "5        9\n",
      "Name: children, dtype: int64\n"
     ]
    }
   ],
   "source": [
    "# Checking the `children` column again to make sure it's all fixed\n",
    "\n",
    "print(credit_scoring['children'].value_counts())"
   ]
  },
  {
   "cell_type": "markdown",
   "id": "855c0f6b",
   "metadata": {},
   "source": [
    "`days_employed` column could have negative values or too high values"
   ]
  },
  {
   "cell_type": "code",
   "execution_count": 18,
   "id": "1627a403",
   "metadata": {},
   "outputs": [
    {
     "name": "stdout",
     "output_type": "stream",
     "text": [
      "15906\n",
      "0.7389547038327526\n"
     ]
    }
   ],
   "source": [
    "# Find problematic data in `days_employed`, if they exist, and calculate the percentage\n",
    "neg_days_employed = len(credit_scoring[credit_scoring['days_employed'] < 0])\n",
    "print (neg_days_employed)\n",
    "print(neg_days_employed/len(credit_scoring))"
   ]
  },
  {
   "cell_type": "code",
   "execution_count": 19,
   "id": "5c0de023",
   "metadata": {},
   "outputs": [],
   "source": [
    "# Address the problematic values, if they exist\n",
    "\n",
    "credit_scoring['days_employed']= abs(credit_scoring['days_employed'])\n"
   ]
  },
  {
   "cell_type": "markdown",
   "id": "0297581d",
   "metadata": {},
   "source": [
    "assuming that individual can work for 75 years tops lets check how meny rows represnt people who worked more then that- 328,500 days:"
   ]
  },
  {
   "cell_type": "code",
   "execution_count": 20,
   "id": "9e2cb7a0",
   "metadata": {},
   "outputs": [
    {
     "name": "stdout",
     "output_type": "stream",
     "text": [
      "15906\n"
     ]
    }
   ],
   "source": [
    "# Check the result - make sure it's fixed\n",
    "tolong_days_employed = len(credit_scoring[credit_scoring['days_employed'] < 328500])\n",
    "print(tolong_days_employed)"
   ]
  },
  {
   "cell_type": "markdown",
   "id": "254e4f14",
   "metadata": {},
   "source": [
    "Its to large portion to ignore, I don't think that we need to use this data anyway. In real word I would notify someone above me that something wrong with the data base."
   ]
  },
  {
   "cell_type": "markdown",
   "id": "04c541c3",
   "metadata": {},
   "source": [
    " At the client's age the problem could be: negative values or zero's"
   ]
  },
  {
   "cell_type": "code",
   "execution_count": 21,
   "id": "467e5a52",
   "metadata": {
    "scrolled": true
   },
   "outputs": [
    {
     "name": "stdout",
     "output_type": "stream",
     "text": [
      "number of dob_years equal zero:\n",
      "101\n",
      "precentage of zero's in dob_years:\n",
      "0.004692218350754936\n"
     ]
    }
   ],
   "source": [
    "# Check the `dob_years` for suspicious values and count the percentage\n",
    "\n",
    "neg_dob_years= len(credit_scoring[credit_scoring['dob_years'] == 0])\n",
    "print('number of dob_years equal zero:')\n",
    "print(neg_dob_years)\n",
    "print(\"precentage of zero's in dob_years:\")\n",
    "precentage = neg_dob_years/len(credit_scoring)\n",
    "print(precentage)\n"
   ]
  },
  {
   "cell_type": "markdown",
   "id": "3451943c",
   "metadata": {},
   "source": [
    "I replace the 0's with the median. the mean is 43.3 and the median is 42, those values are similar, so I chose the 42, because its round."
   ]
  },
  {
   "cell_type": "code",
   "execution_count": 22,
   "id": "b3f5b6b2",
   "metadata": {},
   "outputs": [
    {
     "name": "stdout",
     "output_type": "stream",
     "text": [
      "mean: 43.29337979094077\n",
      "median: 42.0\n"
     ]
    }
   ],
   "source": [
    "# Address the issues in the `dob_years` column, if they exist\n",
    "dob_mean = credit_scoring['dob_years'].mean()\n",
    "print(\"mean:\",dob_mean)\n",
    "dob_median = credit_scoring['dob_years'].median()\n",
    "print(\"median:\", dob_median)\n",
    "credit_scoring.loc[credit_scoring['dob_years'] == 0,'dob_years'] = dob_median"
   ]
  },
  {
   "cell_type": "code",
   "execution_count": 23,
   "id": "6b7c0f5c",
   "metadata": {},
   "outputs": [
    {
     "name": "stdout",
     "output_type": "stream",
     "text": [
      "0\n"
     ]
    }
   ],
   "source": [
    "# Check the result - make sure it's fixed\n",
    "print(len(credit_scoring[credit_scoring['dob_years'] == 0]))"
   ]
  },
  {
   "cell_type": "code",
   "execution_count": 24,
   "id": "7e65f01f",
   "metadata": {},
   "outputs": [
    {
     "name": "stdout",
     "output_type": "stream",
     "text": [
      "married              12380\n",
      "civil partnership     4177\n",
      "unmarried             2813\n",
      "divorced              1195\n",
      "widow / widower        960\n",
      "Name: family_status, dtype: int64\n"
     ]
    }
   ],
   "source": [
    "# Let's see the values for the column\n",
    "print(credit_scoring['family_status'].value_counts())\n"
   ]
  },
  {
   "cell_type": "code",
   "execution_count": 25,
   "id": "adc1307e",
   "metadata": {},
   "outputs": [
    {
     "name": "stdout",
     "output_type": "stream",
     "text": [
      "F      14236\n",
      "M       7288\n",
      "XNA        1\n",
      "Name: gender, dtype: int64\n"
     ]
    },
    {
     "data": {
      "text/html": [
       "<div>\n",
       "<style scoped>\n",
       "    .dataframe tbody tr th:only-of-type {\n",
       "        vertical-align: middle;\n",
       "    }\n",
       "\n",
       "    .dataframe tbody tr th {\n",
       "        vertical-align: top;\n",
       "    }\n",
       "\n",
       "    .dataframe thead th {\n",
       "        text-align: right;\n",
       "    }\n",
       "</style>\n",
       "<table border=\"1\" class=\"dataframe\">\n",
       "  <thead>\n",
       "    <tr style=\"text-align: right;\">\n",
       "      <th></th>\n",
       "      <th>children</th>\n",
       "      <th>days_employed</th>\n",
       "      <th>dob_years</th>\n",
       "      <th>education</th>\n",
       "      <th>education_id</th>\n",
       "      <th>family_status</th>\n",
       "      <th>family_status_id</th>\n",
       "      <th>gender</th>\n",
       "      <th>income_type</th>\n",
       "      <th>debt</th>\n",
       "      <th>total_income</th>\n",
       "      <th>purpose</th>\n",
       "    </tr>\n",
       "  </thead>\n",
       "  <tbody>\n",
       "    <tr>\n",
       "      <td>10701</td>\n",
       "      <td>0</td>\n",
       "      <td>2358.600502</td>\n",
       "      <td>24.0</td>\n",
       "      <td>some college</td>\n",
       "      <td>2</td>\n",
       "      <td>civil partnership</td>\n",
       "      <td>1</td>\n",
       "      <td>XNA</td>\n",
       "      <td>business</td>\n",
       "      <td>0</td>\n",
       "      <td>32624.825</td>\n",
       "      <td>buy real estate</td>\n",
       "    </tr>\n",
       "  </tbody>\n",
       "</table>\n",
       "</div>"
      ],
      "text/plain": [
       "       children  days_employed  dob_years     education  education_id  \\\n",
       "10701         0    2358.600502       24.0  some college             2   \n",
       "\n",
       "           family_status  family_status_id gender income_type  debt  \\\n",
       "10701  civil partnership                 1    XNA    business     0   \n",
       "\n",
       "       total_income          purpose  \n",
       "10701     32624.825  buy real estate  "
      ]
     },
     "execution_count": 25,
     "metadata": {},
     "output_type": "execute_result"
    }
   ],
   "source": [
    "# Let's see the values in the column\n",
    "print(credit_scoring['gender'].value_counts())\n",
    "credit_scoring[credit_scoring['gender'] == 'XNA']"
   ]
  },
  {
   "cell_type": "markdown",
   "id": "c63ae65d",
   "metadata": {},
   "source": [
    "I'll change the XNA into F because its more likely the the case."
   ]
  },
  {
   "cell_type": "code",
   "execution_count": 26,
   "id": "d9a07673",
   "metadata": {},
   "outputs": [],
   "source": [
    "# Address the problematic values, if they exist\n",
    "credit_scoring.loc[credit_scoring['gender'] == 'XNA','gender']='F'"
   ]
  },
  {
   "cell_type": "code",
   "execution_count": 27,
   "id": "7d066c40",
   "metadata": {},
   "outputs": [
    {
     "data": {
      "text/html": [
       "<div>\n",
       "<style scoped>\n",
       "    .dataframe tbody tr th:only-of-type {\n",
       "        vertical-align: middle;\n",
       "    }\n",
       "\n",
       "    .dataframe tbody tr th {\n",
       "        vertical-align: top;\n",
       "    }\n",
       "\n",
       "    .dataframe thead th {\n",
       "        text-align: right;\n",
       "    }\n",
       "</style>\n",
       "<table border=\"1\" class=\"dataframe\">\n",
       "  <thead>\n",
       "    <tr style=\"text-align: right;\">\n",
       "      <th></th>\n",
       "      <th>children</th>\n",
       "      <th>days_employed</th>\n",
       "      <th>dob_years</th>\n",
       "      <th>education</th>\n",
       "      <th>education_id</th>\n",
       "      <th>family_status</th>\n",
       "      <th>family_status_id</th>\n",
       "      <th>gender</th>\n",
       "      <th>income_type</th>\n",
       "      <th>debt</th>\n",
       "      <th>total_income</th>\n",
       "      <th>purpose</th>\n",
       "    </tr>\n",
       "  </thead>\n",
       "  <tbody>\n",
       "  </tbody>\n",
       "</table>\n",
       "</div>"
      ],
      "text/plain": [
       "Empty DataFrame\n",
       "Columns: [children, days_employed, dob_years, education, education_id, family_status, family_status_id, gender, income_type, debt, total_income, purpose]\n",
       "Index: []"
      ]
     },
     "execution_count": 27,
     "metadata": {},
     "output_type": "execute_result"
    }
   ],
   "source": [
    "# Check the result - make sure it's fixed\n",
    "credit_scoring[credit_scoring['gender'] == 'XNA']"
   ]
  },
  {
   "cell_type": "code",
   "execution_count": 28,
   "id": "d586ee8e",
   "metadata": {},
   "outputs": [
    {
     "name": "stdout",
     "output_type": "stream",
     "text": [
      "employee                       11119\n",
      "business                        5085\n",
      "retiree                         3856\n",
      "civil servant                   1459\n",
      "entrepreneur                       2\n",
      "unemployed                         2\n",
      "paternity / maternity leave        1\n",
      "student                            1\n",
      "Name: income_type, dtype: int64\n",
      "*********\n",
      "False\n"
     ]
    }
   ],
   "source": [
    "# Let's see the values in the column\n",
    "print(credit_scoring['income_type'].value_counts())\n",
    "print('*********')\n",
    "print(credit_scoring['income_type'].isnull==1)"
   ]
  },
  {
   "cell_type": "code",
   "execution_count": 29,
   "id": "a90efbda",
   "metadata": {
    "scrolled": true
   },
   "outputs": [
    {
     "name": "stdout",
     "output_type": "stream",
     "text": [
      "72\n"
     ]
    }
   ],
   "source": [
    "# Checking duplicates\n",
    "\n",
    "print(credit_scoring.duplicated().sum())"
   ]
  },
  {
   "cell_type": "code",
   "execution_count": 30,
   "id": "a6bc6578",
   "metadata": {},
   "outputs": [
    {
     "data": {
      "text/html": [
       "<div>\n",
       "<style scoped>\n",
       "    .dataframe tbody tr th:only-of-type {\n",
       "        vertical-align: middle;\n",
       "    }\n",
       "\n",
       "    .dataframe tbody tr th {\n",
       "        vertical-align: top;\n",
       "    }\n",
       "\n",
       "    .dataframe thead th {\n",
       "        text-align: right;\n",
       "    }\n",
       "</style>\n",
       "<table border=\"1\" class=\"dataframe\">\n",
       "  <thead>\n",
       "    <tr style=\"text-align: right;\">\n",
       "      <th></th>\n",
       "      <th>children</th>\n",
       "      <th>days_employed</th>\n",
       "      <th>dob_years</th>\n",
       "      <th>education</th>\n",
       "      <th>education_id</th>\n",
       "      <th>family_status</th>\n",
       "      <th>family_status_id</th>\n",
       "      <th>gender</th>\n",
       "      <th>income_type</th>\n",
       "      <th>debt</th>\n",
       "      <th>total_income</th>\n",
       "      <th>purpose</th>\n",
       "    </tr>\n",
       "  </thead>\n",
       "  <tbody>\n",
       "    <tr>\n",
       "      <td>0</td>\n",
       "      <td>1</td>\n",
       "      <td>8437.673028</td>\n",
       "      <td>42.0</td>\n",
       "      <td>bachelor's degree</td>\n",
       "      <td>0</td>\n",
       "      <td>married</td>\n",
       "      <td>0</td>\n",
       "      <td>F</td>\n",
       "      <td>employee</td>\n",
       "      <td>0</td>\n",
       "      <td>40620.102</td>\n",
       "      <td>purchase of the house</td>\n",
       "    </tr>\n",
       "    <tr>\n",
       "      <td>1</td>\n",
       "      <td>1</td>\n",
       "      <td>4024.803754</td>\n",
       "      <td>36.0</td>\n",
       "      <td>secondary education</td>\n",
       "      <td>1</td>\n",
       "      <td>married</td>\n",
       "      <td>0</td>\n",
       "      <td>F</td>\n",
       "      <td>employee</td>\n",
       "      <td>0</td>\n",
       "      <td>17932.802</td>\n",
       "      <td>car purchase</td>\n",
       "    </tr>\n",
       "    <tr>\n",
       "      <td>2</td>\n",
       "      <td>0</td>\n",
       "      <td>5623.422610</td>\n",
       "      <td>33.0</td>\n",
       "      <td>secondary education</td>\n",
       "      <td>1</td>\n",
       "      <td>married</td>\n",
       "      <td>0</td>\n",
       "      <td>M</td>\n",
       "      <td>employee</td>\n",
       "      <td>0</td>\n",
       "      <td>23341.752</td>\n",
       "      <td>purchase of the house</td>\n",
       "    </tr>\n",
       "    <tr>\n",
       "      <td>3</td>\n",
       "      <td>3</td>\n",
       "      <td>4124.747207</td>\n",
       "      <td>32.0</td>\n",
       "      <td>secondary education</td>\n",
       "      <td>1</td>\n",
       "      <td>married</td>\n",
       "      <td>0</td>\n",
       "      <td>M</td>\n",
       "      <td>employee</td>\n",
       "      <td>0</td>\n",
       "      <td>42820.568</td>\n",
       "      <td>supplementary education</td>\n",
       "    </tr>\n",
       "    <tr>\n",
       "      <td>4</td>\n",
       "      <td>0</td>\n",
       "      <td>340266.072047</td>\n",
       "      <td>53.0</td>\n",
       "      <td>secondary education</td>\n",
       "      <td>1</td>\n",
       "      <td>civil partnership</td>\n",
       "      <td>1</td>\n",
       "      <td>F</td>\n",
       "      <td>retiree</td>\n",
       "      <td>0</td>\n",
       "      <td>25378.572</td>\n",
       "      <td>to have a wedding</td>\n",
       "    </tr>\n",
       "    <tr>\n",
       "      <td>...</td>\n",
       "      <td>...</td>\n",
       "      <td>...</td>\n",
       "      <td>...</td>\n",
       "      <td>...</td>\n",
       "      <td>...</td>\n",
       "      <td>...</td>\n",
       "      <td>...</td>\n",
       "      <td>...</td>\n",
       "      <td>...</td>\n",
       "      <td>...</td>\n",
       "      <td>...</td>\n",
       "      <td>...</td>\n",
       "    </tr>\n",
       "    <tr>\n",
       "      <td>19346</td>\n",
       "      <td>1</td>\n",
       "      <td>4529.316663</td>\n",
       "      <td>43.0</td>\n",
       "      <td>secondary education</td>\n",
       "      <td>1</td>\n",
       "      <td>civil partnership</td>\n",
       "      <td>1</td>\n",
       "      <td>F</td>\n",
       "      <td>business</td>\n",
       "      <td>0</td>\n",
       "      <td>35966.698</td>\n",
       "      <td>housing transactions</td>\n",
       "    </tr>\n",
       "    <tr>\n",
       "      <td>19347</td>\n",
       "      <td>0</td>\n",
       "      <td>343937.404131</td>\n",
       "      <td>67.0</td>\n",
       "      <td>secondary education</td>\n",
       "      <td>1</td>\n",
       "      <td>married</td>\n",
       "      <td>0</td>\n",
       "      <td>F</td>\n",
       "      <td>retiree</td>\n",
       "      <td>0</td>\n",
       "      <td>24959.969</td>\n",
       "      <td>purchase of a car</td>\n",
       "    </tr>\n",
       "    <tr>\n",
       "      <td>19348</td>\n",
       "      <td>1</td>\n",
       "      <td>2113.346888</td>\n",
       "      <td>38.0</td>\n",
       "      <td>secondary education</td>\n",
       "      <td>1</td>\n",
       "      <td>civil partnership</td>\n",
       "      <td>1</td>\n",
       "      <td>M</td>\n",
       "      <td>employee</td>\n",
       "      <td>1</td>\n",
       "      <td>14347.610</td>\n",
       "      <td>property</td>\n",
       "    </tr>\n",
       "    <tr>\n",
       "      <td>19349</td>\n",
       "      <td>3</td>\n",
       "      <td>3112.481705</td>\n",
       "      <td>38.0</td>\n",
       "      <td>secondary education</td>\n",
       "      <td>1</td>\n",
       "      <td>married</td>\n",
       "      <td>0</td>\n",
       "      <td>M</td>\n",
       "      <td>employee</td>\n",
       "      <td>1</td>\n",
       "      <td>39054.888</td>\n",
       "      <td>buying my own car</td>\n",
       "    </tr>\n",
       "    <tr>\n",
       "      <td>19350</td>\n",
       "      <td>2</td>\n",
       "      <td>1984.507589</td>\n",
       "      <td>40.0</td>\n",
       "      <td>secondary education</td>\n",
       "      <td>1</td>\n",
       "      <td>married</td>\n",
       "      <td>0</td>\n",
       "      <td>F</td>\n",
       "      <td>employee</td>\n",
       "      <td>0</td>\n",
       "      <td>13127.587</td>\n",
       "      <td>to buy a car</td>\n",
       "    </tr>\n",
       "  </tbody>\n",
       "</table>\n",
       "<p>19351 rows × 12 columns</p>\n",
       "</div>"
      ],
      "text/plain": [
       "       children  days_employed  dob_years            education  education_id  \\\n",
       "0             1    8437.673028       42.0    bachelor's degree             0   \n",
       "1             1    4024.803754       36.0  secondary education             1   \n",
       "2             0    5623.422610       33.0  secondary education             1   \n",
       "3             3    4124.747207       32.0  secondary education             1   \n",
       "4             0  340266.072047       53.0  secondary education             1   \n",
       "...         ...            ...        ...                  ...           ...   \n",
       "19346         1    4529.316663       43.0  secondary education             1   \n",
       "19347         0  343937.404131       67.0  secondary education             1   \n",
       "19348         1    2113.346888       38.0  secondary education             1   \n",
       "19349         3    3112.481705       38.0  secondary education             1   \n",
       "19350         2    1984.507589       40.0  secondary education             1   \n",
       "\n",
       "           family_status  family_status_id gender income_type  debt  \\\n",
       "0                married                 0      F    employee     0   \n",
       "1                married                 0      F    employee     0   \n",
       "2                married                 0      M    employee     0   \n",
       "3                married                 0      M    employee     0   \n",
       "4      civil partnership                 1      F     retiree     0   \n",
       "...                  ...               ...    ...         ...   ...   \n",
       "19346  civil partnership                 1      F    business     0   \n",
       "19347            married                 0      F     retiree     0   \n",
       "19348  civil partnership                 1      M    employee     1   \n",
       "19349            married                 0      M    employee     1   \n",
       "19350            married                 0      F    employee     0   \n",
       "\n",
       "       total_income                  purpose  \n",
       "0         40620.102    purchase of the house  \n",
       "1         17932.802             car purchase  \n",
       "2         23341.752    purchase of the house  \n",
       "3         42820.568  supplementary education  \n",
       "4         25378.572        to have a wedding  \n",
       "...             ...                      ...  \n",
       "19346     35966.698     housing transactions  \n",
       "19347     24959.969        purchase of a car  \n",
       "19348     14347.610                 property  \n",
       "19349     39054.888        buying my own car  \n",
       "19350     13127.587             to buy a car  \n",
       "\n",
       "[19351 rows x 12 columns]"
      ]
     },
     "execution_count": 30,
     "metadata": {},
     "output_type": "execute_result"
    }
   ],
   "source": [
    "# Address the duplicates, if they exist\n",
    "\n",
    "credit_scoring.drop_duplicates(inplace = True)\n",
    "credit_scoring.dropna().reset_index(drop=True)"
   ]
  },
  {
   "cell_type": "code",
   "execution_count": 31,
   "id": "472e998f",
   "metadata": {},
   "outputs": [
    {
     "name": "stdout",
     "output_type": "stream",
     "text": [
      "0\n"
     ]
    }
   ],
   "source": [
    "# Last check whether we have any duplicates\n",
    "print(credit_scoring.duplicated().sum())\n"
   ]
  },
  {
   "cell_type": "code",
   "execution_count": 32,
   "id": "6281d2dc",
   "metadata": {},
   "outputs": [
    {
     "data": {
      "text/plain": [
       "(21453, 12)"
      ]
     },
     "execution_count": 32,
     "metadata": {},
     "output_type": "execute_result"
    }
   ],
   "source": [
    "# Check the size of the dataset that you now have after your first manipulations with it\n",
    "credit_scoring.shape\n"
   ]
  },
  {
   "cell_type": "markdown",
   "id": "be3cc74e",
   "metadata": {},
   "source": [
    "cheking the loan return rete:\n"
   ]
  },
  {
   "cell_type": "code",
   "execution_count": 33,
   "id": "f23f8e05",
   "metadata": {},
   "outputs": [
    {
     "name": "stdout",
     "output_type": "stream",
     "text": [
      "total loan return: 1741\n",
      "total loan taken:  21453\n",
      "8.115415093460122\n"
     ]
    }
   ],
   "source": [
    "sum_debt=credit_scoring['debt'].sum()\n",
    "count_debt=credit_scoring['debt'].count()\n",
    "print(\"total loan return:\", sum_debt)\n",
    "print(\"total loan taken: \",count_debt)\n",
    "print(100*sum_debt/count_debt)"
   ]
  },
  {
   "cell_type": "markdown",
   "id": "feb5b629",
   "metadata": {},
   "source": [
    "* There is no capital letters, there is no duplicates, 71 row were deleted. "
   ]
  },
  {
   "cell_type": "markdown",
   "id": "9a2ac1c1",
   "metadata": {},
   "source": [
    "#### Working with missing values"
   ]
  },
  {
   "cell_type": "markdown",
   "id": "cfb76bce",
   "metadata": {},
   "source": [
    "id provided in education and family: \n",
    "* [0, 1, 2, 3, 4] = [bachelor's degree, secondary education, some college, primary education, primary education]\n",
    "* [0, 1, 2, 3, 4] = [married, civil partnership, widow / widower, divorced, unmarried]"
   ]
  },
  {
   "cell_type": "code",
   "execution_count": 34,
   "id": "633a9f93",
   "metadata": {},
   "outputs": [
    {
     "name": "stdout",
     "output_type": "stream",
     "text": [
      "[0 1 2 3 4]\n",
      "[\"bachelor's degree\"]\n",
      "['secondary education']\n",
      "['some college']\n",
      "['primary education']\n",
      "['graduate degree']\n",
      "**********************\n",
      "[0 1 2 3 4]\n",
      "['married']\n",
      "['civil partnership']\n",
      "['widow / widower']\n",
      "['divorced']\n",
      "['unmarried']\n"
     ]
    }
   ],
   "source": [
    "# Find the dictionaries\n",
    "education_id = credit_scoring['education_id'].unique()\n",
    "education = credit_scoring['education'].unique()\n",
    "print(education_id)\n",
    "for i in education_id:\n",
    "    print(credit_scoring[credit_scoring['education_id']==i]['education'].unique())\n",
    "\n",
    "print('**********************')\n",
    "\n",
    "family_id = credit_scoring['family_status_id'].unique()\n",
    "print(family_id)\n",
    "family = credit_scoring['family_status'].unique()\n",
    "for i in family_id:\n",
    "    print(credit_scoring[credit_scoring['family_status_id']==i]['family_status'].unique())"
   ]
  },
  {
   "cell_type": "markdown",
   "id": "74e8d237",
   "metadata": {},
   "source": [
    "#### Restoring missing values in `total_income`:"
   ]
  },
  {
   "cell_type": "markdown",
   "id": "cf93d427",
   "metadata": {},
   "source": [
    "There are missing values at total_income and day_employed columns,I'll fill the missing value by\n",
    "calculat the mean and the median by diffrent factors and fill the miising values with the outcome. "
   ]
  },
  {
   "cell_type": "code",
   "execution_count": 35,
   "id": "d65d39e0",
   "metadata": {},
   "outputs": [],
   "source": [
    "# Let's write a function that calculates the age category\n",
    "def calc_age_category(age):\n",
    "    if age <= 20:\n",
    "        return \"10's\"\n",
    "    if 20 < age <=30:\n",
    "        return \"20's\"\n",
    "    if 30 < age <=40:\n",
    "        return \"30's\"\n",
    "    if 40 < age <=50:\n",
    "        return \"40's\"\n",
    "    if 50 < age <=60:\n",
    "        return \"50's\"\n",
    "    else:\n",
    "        return \"60's\"\n",
    "    "
   ]
  },
  {
   "cell_type": "code",
   "execution_count": 36,
   "id": "1369f52c",
   "metadata": {},
   "outputs": [
    {
     "name": "stdout",
     "output_type": "stream",
     "text": [
      "30's\n",
      "40's\n",
      "20's\n",
      "10's\n"
     ]
    }
   ],
   "source": [
    "# Test if the function works\n",
    "print(calc_age_category(35))\n",
    "print(calc_age_category(42))\n",
    "print(calc_age_category(28))\n",
    "print(calc_age_category(19))"
   ]
  },
  {
   "cell_type": "code",
   "execution_count": 37,
   "id": "8d61d62d",
   "metadata": {},
   "outputs": [],
   "source": [
    "# Creating new column based on function\n",
    "\n",
    "credit_scoring['age_category'] = credit_scoring['dob_years'].apply(calc_age_category)"
   ]
  },
  {
   "cell_type": "code",
   "execution_count": 38,
   "id": "4e8b3e0b",
   "metadata": {},
   "outputs": [
    {
     "data": {
      "text/html": [
       "<div>\n",
       "<style scoped>\n",
       "    .dataframe tbody tr th:only-of-type {\n",
       "        vertical-align: middle;\n",
       "    }\n",
       "\n",
       "    .dataframe tbody tr th {\n",
       "        vertical-align: top;\n",
       "    }\n",
       "\n",
       "    .dataframe thead th {\n",
       "        text-align: right;\n",
       "    }\n",
       "</style>\n",
       "<table border=\"1\" class=\"dataframe\">\n",
       "  <thead>\n",
       "    <tr style=\"text-align: right;\">\n",
       "      <th></th>\n",
       "      <th>children</th>\n",
       "      <th>days_employed</th>\n",
       "      <th>dob_years</th>\n",
       "      <th>education</th>\n",
       "      <th>education_id</th>\n",
       "      <th>family_status</th>\n",
       "      <th>family_status_id</th>\n",
       "      <th>gender</th>\n",
       "      <th>income_type</th>\n",
       "      <th>debt</th>\n",
       "      <th>total_income</th>\n",
       "      <th>purpose</th>\n",
       "      <th>age_category</th>\n",
       "    </tr>\n",
       "  </thead>\n",
       "  <tbody>\n",
       "    <tr>\n",
       "      <td>0</td>\n",
       "      <td>1</td>\n",
       "      <td>8437.673028</td>\n",
       "      <td>42.0</td>\n",
       "      <td>bachelor's degree</td>\n",
       "      <td>0</td>\n",
       "      <td>married</td>\n",
       "      <td>0</td>\n",
       "      <td>F</td>\n",
       "      <td>employee</td>\n",
       "      <td>0</td>\n",
       "      <td>40620.102</td>\n",
       "      <td>purchase of the house</td>\n",
       "      <td>40's</td>\n",
       "    </tr>\n",
       "    <tr>\n",
       "      <td>1</td>\n",
       "      <td>1</td>\n",
       "      <td>4024.803754</td>\n",
       "      <td>36.0</td>\n",
       "      <td>secondary education</td>\n",
       "      <td>1</td>\n",
       "      <td>married</td>\n",
       "      <td>0</td>\n",
       "      <td>F</td>\n",
       "      <td>employee</td>\n",
       "      <td>0</td>\n",
       "      <td>17932.802</td>\n",
       "      <td>car purchase</td>\n",
       "      <td>30's</td>\n",
       "    </tr>\n",
       "    <tr>\n",
       "      <td>2</td>\n",
       "      <td>0</td>\n",
       "      <td>5623.422610</td>\n",
       "      <td>33.0</td>\n",
       "      <td>secondary education</td>\n",
       "      <td>1</td>\n",
       "      <td>married</td>\n",
       "      <td>0</td>\n",
       "      <td>M</td>\n",
       "      <td>employee</td>\n",
       "      <td>0</td>\n",
       "      <td>23341.752</td>\n",
       "      <td>purchase of the house</td>\n",
       "      <td>30's</td>\n",
       "    </tr>\n",
       "    <tr>\n",
       "      <td>3</td>\n",
       "      <td>3</td>\n",
       "      <td>4124.747207</td>\n",
       "      <td>32.0</td>\n",
       "      <td>secondary education</td>\n",
       "      <td>1</td>\n",
       "      <td>married</td>\n",
       "      <td>0</td>\n",
       "      <td>M</td>\n",
       "      <td>employee</td>\n",
       "      <td>0</td>\n",
       "      <td>42820.568</td>\n",
       "      <td>supplementary education</td>\n",
       "      <td>30's</td>\n",
       "    </tr>\n",
       "    <tr>\n",
       "      <td>4</td>\n",
       "      <td>0</td>\n",
       "      <td>340266.072047</td>\n",
       "      <td>53.0</td>\n",
       "      <td>secondary education</td>\n",
       "      <td>1</td>\n",
       "      <td>civil partnership</td>\n",
       "      <td>1</td>\n",
       "      <td>F</td>\n",
       "      <td>retiree</td>\n",
       "      <td>0</td>\n",
       "      <td>25378.572</td>\n",
       "      <td>to have a wedding</td>\n",
       "      <td>50's</td>\n",
       "    </tr>\n",
       "  </tbody>\n",
       "</table>\n",
       "</div>"
      ],
      "text/plain": [
       "   children  days_employed  dob_years            education  education_id  \\\n",
       "0         1    8437.673028       42.0    bachelor's degree             0   \n",
       "1         1    4024.803754       36.0  secondary education             1   \n",
       "2         0    5623.422610       33.0  secondary education             1   \n",
       "3         3    4124.747207       32.0  secondary education             1   \n",
       "4         0  340266.072047       53.0  secondary education             1   \n",
       "\n",
       "       family_status  family_status_id gender income_type  debt  total_income  \\\n",
       "0            married                 0      F    employee     0     40620.102   \n",
       "1            married                 0      F    employee     0     17932.802   \n",
       "2            married                 0      M    employee     0     23341.752   \n",
       "3            married                 0      M    employee     0     42820.568   \n",
       "4  civil partnership                 1      F     retiree     0     25378.572   \n",
       "\n",
       "                   purpose age_category  \n",
       "0    purchase of the house         40's  \n",
       "1             car purchase         30's  \n",
       "2    purchase of the house         30's  \n",
       "3  supplementary education         30's  \n",
       "4        to have a wedding         50's  "
      ]
     },
     "execution_count": 38,
     "metadata": {},
     "output_type": "execute_result"
    }
   ],
   "source": [
    "# Checking how values in the new column\n",
    "credit_scoring.head()\n"
   ]
  },
  {
   "cell_type": "code",
   "execution_count": 39,
   "id": "7bd9acc3",
   "metadata": {},
   "outputs": [
    {
     "data": {
      "text/html": [
       "<div>\n",
       "<style scoped>\n",
       "    .dataframe tbody tr th:only-of-type {\n",
       "        vertical-align: middle;\n",
       "    }\n",
       "\n",
       "    .dataframe tbody tr th {\n",
       "        vertical-align: top;\n",
       "    }\n",
       "\n",
       "    .dataframe thead th {\n",
       "        text-align: right;\n",
       "    }\n",
       "</style>\n",
       "<table border=\"1\" class=\"dataframe\">\n",
       "  <thead>\n",
       "    <tr style=\"text-align: right;\">\n",
       "      <th></th>\n",
       "      <th>children</th>\n",
       "      <th>days_employed</th>\n",
       "      <th>dob_years</th>\n",
       "      <th>education</th>\n",
       "      <th>education_id</th>\n",
       "      <th>family_status</th>\n",
       "      <th>family_status_id</th>\n",
       "      <th>gender</th>\n",
       "      <th>income_type</th>\n",
       "      <th>debt</th>\n",
       "      <th>total_income</th>\n",
       "      <th>purpose</th>\n",
       "      <th>age_category</th>\n",
       "    </tr>\n",
       "  </thead>\n",
       "  <tbody>\n",
       "    <tr>\n",
       "      <td>0</td>\n",
       "      <td>1</td>\n",
       "      <td>8437.673028</td>\n",
       "      <td>42.0</td>\n",
       "      <td>bachelor's degree</td>\n",
       "      <td>0</td>\n",
       "      <td>married</td>\n",
       "      <td>0</td>\n",
       "      <td>F</td>\n",
       "      <td>employee</td>\n",
       "      <td>0</td>\n",
       "      <td>40620.102</td>\n",
       "      <td>purchase of the house</td>\n",
       "      <td>40's</td>\n",
       "    </tr>\n",
       "    <tr>\n",
       "      <td>1</td>\n",
       "      <td>1</td>\n",
       "      <td>4024.803754</td>\n",
       "      <td>36.0</td>\n",
       "      <td>secondary education</td>\n",
       "      <td>1</td>\n",
       "      <td>married</td>\n",
       "      <td>0</td>\n",
       "      <td>F</td>\n",
       "      <td>employee</td>\n",
       "      <td>0</td>\n",
       "      <td>17932.802</td>\n",
       "      <td>car purchase</td>\n",
       "      <td>30's</td>\n",
       "    </tr>\n",
       "    <tr>\n",
       "      <td>2</td>\n",
       "      <td>0</td>\n",
       "      <td>5623.422610</td>\n",
       "      <td>33.0</td>\n",
       "      <td>secondary education</td>\n",
       "      <td>1</td>\n",
       "      <td>married</td>\n",
       "      <td>0</td>\n",
       "      <td>M</td>\n",
       "      <td>employee</td>\n",
       "      <td>0</td>\n",
       "      <td>23341.752</td>\n",
       "      <td>purchase of the house</td>\n",
       "      <td>30's</td>\n",
       "    </tr>\n",
       "    <tr>\n",
       "      <td>3</td>\n",
       "      <td>3</td>\n",
       "      <td>4124.747207</td>\n",
       "      <td>32.0</td>\n",
       "      <td>secondary education</td>\n",
       "      <td>1</td>\n",
       "      <td>married</td>\n",
       "      <td>0</td>\n",
       "      <td>M</td>\n",
       "      <td>employee</td>\n",
       "      <td>0</td>\n",
       "      <td>42820.568</td>\n",
       "      <td>supplementary education</td>\n",
       "      <td>30's</td>\n",
       "    </tr>\n",
       "    <tr>\n",
       "      <td>4</td>\n",
       "      <td>0</td>\n",
       "      <td>340266.072047</td>\n",
       "      <td>53.0</td>\n",
       "      <td>secondary education</td>\n",
       "      <td>1</td>\n",
       "      <td>civil partnership</td>\n",
       "      <td>1</td>\n",
       "      <td>F</td>\n",
       "      <td>retiree</td>\n",
       "      <td>0</td>\n",
       "      <td>25378.572</td>\n",
       "      <td>to have a wedding</td>\n",
       "      <td>50's</td>\n",
       "    </tr>\n",
       "    <tr>\n",
       "      <td>5</td>\n",
       "      <td>0</td>\n",
       "      <td>926.185831</td>\n",
       "      <td>27.0</td>\n",
       "      <td>bachelor's degree</td>\n",
       "      <td>0</td>\n",
       "      <td>civil partnership</td>\n",
       "      <td>1</td>\n",
       "      <td>M</td>\n",
       "      <td>business</td>\n",
       "      <td>0</td>\n",
       "      <td>40922.170</td>\n",
       "      <td>purchase of the house</td>\n",
       "      <td>20's</td>\n",
       "    </tr>\n",
       "    <tr>\n",
       "      <td>6</td>\n",
       "      <td>0</td>\n",
       "      <td>2879.202052</td>\n",
       "      <td>43.0</td>\n",
       "      <td>bachelor's degree</td>\n",
       "      <td>0</td>\n",
       "      <td>married</td>\n",
       "      <td>0</td>\n",
       "      <td>F</td>\n",
       "      <td>business</td>\n",
       "      <td>0</td>\n",
       "      <td>38484.156</td>\n",
       "      <td>housing transactions</td>\n",
       "      <td>40's</td>\n",
       "    </tr>\n",
       "    <tr>\n",
       "      <td>7</td>\n",
       "      <td>0</td>\n",
       "      <td>152.779569</td>\n",
       "      <td>50.0</td>\n",
       "      <td>secondary education</td>\n",
       "      <td>1</td>\n",
       "      <td>married</td>\n",
       "      <td>0</td>\n",
       "      <td>M</td>\n",
       "      <td>employee</td>\n",
       "      <td>0</td>\n",
       "      <td>21731.829</td>\n",
       "      <td>education</td>\n",
       "      <td>40's</td>\n",
       "    </tr>\n",
       "    <tr>\n",
       "      <td>8</td>\n",
       "      <td>2</td>\n",
       "      <td>6929.865299</td>\n",
       "      <td>35.0</td>\n",
       "      <td>bachelor's degree</td>\n",
       "      <td>0</td>\n",
       "      <td>civil partnership</td>\n",
       "      <td>1</td>\n",
       "      <td>F</td>\n",
       "      <td>employee</td>\n",
       "      <td>0</td>\n",
       "      <td>15337.093</td>\n",
       "      <td>having a wedding</td>\n",
       "      <td>30's</td>\n",
       "    </tr>\n",
       "    <tr>\n",
       "      <td>9</td>\n",
       "      <td>0</td>\n",
       "      <td>2188.756445</td>\n",
       "      <td>41.0</td>\n",
       "      <td>secondary education</td>\n",
       "      <td>1</td>\n",
       "      <td>married</td>\n",
       "      <td>0</td>\n",
       "      <td>M</td>\n",
       "      <td>employee</td>\n",
       "      <td>0</td>\n",
       "      <td>23108.150</td>\n",
       "      <td>purchase of the house for my family</td>\n",
       "      <td>40's</td>\n",
       "    </tr>\n",
       "  </tbody>\n",
       "</table>\n",
       "</div>"
      ],
      "text/plain": [
       "   children  days_employed  dob_years            education  education_id  \\\n",
       "0         1    8437.673028       42.0    bachelor's degree             0   \n",
       "1         1    4024.803754       36.0  secondary education             1   \n",
       "2         0    5623.422610       33.0  secondary education             1   \n",
       "3         3    4124.747207       32.0  secondary education             1   \n",
       "4         0  340266.072047       53.0  secondary education             1   \n",
       "5         0     926.185831       27.0    bachelor's degree             0   \n",
       "6         0    2879.202052       43.0    bachelor's degree             0   \n",
       "7         0     152.779569       50.0  secondary education             1   \n",
       "8         2    6929.865299       35.0    bachelor's degree             0   \n",
       "9         0    2188.756445       41.0  secondary education             1   \n",
       "\n",
       "       family_status  family_status_id gender income_type  debt  total_income  \\\n",
       "0            married                 0      F    employee     0     40620.102   \n",
       "1            married                 0      F    employee     0     17932.802   \n",
       "2            married                 0      M    employee     0     23341.752   \n",
       "3            married                 0      M    employee     0     42820.568   \n",
       "4  civil partnership                 1      F     retiree     0     25378.572   \n",
       "5  civil partnership                 1      M    business     0     40922.170   \n",
       "6            married                 0      F    business     0     38484.156   \n",
       "7            married                 0      M    employee     0     21731.829   \n",
       "8  civil partnership                 1      F    employee     0     15337.093   \n",
       "9            married                 0      M    employee     0     23108.150   \n",
       "\n",
       "                               purpose age_category  \n",
       "0                purchase of the house         40's  \n",
       "1                         car purchase         30's  \n",
       "2                purchase of the house         30's  \n",
       "3              supplementary education         30's  \n",
       "4                    to have a wedding         50's  \n",
       "5                purchase of the house         20's  \n",
       "6                 housing transactions         40's  \n",
       "7                            education         40's  \n",
       "8                     having a wedding         30's  \n",
       "9  purchase of the house for my family         40's  "
      ]
     },
     "execution_count": 39,
     "metadata": {},
     "output_type": "execute_result"
    }
   ],
   "source": [
    "# Create a table without missing values and print a few of its rows to make sure it looks fine\n",
    "credit_scoring_notnull = credit_scoring[credit_scoring.notnull()]\n",
    "credit_scoring_notnull.head(10)"
   ]
  },
  {
   "cell_type": "code",
   "execution_count": 40,
   "id": "b6ad1773",
   "metadata": {},
   "outputs": [
    {
     "data": {
      "text/plain": [
       "age_category\n",
       "10's    19586.303559\n",
       "20's    25928.848368\n",
       "30's    28376.735148\n",
       "40's    28332.806009\n",
       "50's    25482.856294\n",
       "60's    23057.777452\n",
       "Name: total_income, dtype: float64"
      ]
     },
     "execution_count": 40,
     "metadata": {},
     "output_type": "execute_result"
    }
   ],
   "source": [
    "# Look at the mean values for income based on your identified factors\n",
    "credit_scoring_notnull.groupby('age_category')['total_income'].mean()\n"
   ]
  },
  {
   "cell_type": "code",
   "execution_count": 41,
   "id": "a8a51251",
   "metadata": {
    "scrolled": true
   },
   "outputs": [
    {
     "data": {
      "text/html": [
       "<div>\n",
       "<style scoped>\n",
       "    .dataframe tbody tr th:only-of-type {\n",
       "        vertical-align: middle;\n",
       "    }\n",
       "\n",
       "    .dataframe tbody tr th {\n",
       "        vertical-align: top;\n",
       "    }\n",
       "\n",
       "    .dataframe thead tr th {\n",
       "        text-align: left;\n",
       "    }\n",
       "\n",
       "    .dataframe thead tr:last-of-type th {\n",
       "        text-align: right;\n",
       "    }\n",
       "</style>\n",
       "<table border=\"1\" class=\"dataframe\">\n",
       "  <thead>\n",
       "    <tr>\n",
       "      <th></th>\n",
       "      <th></th>\n",
       "      <th colspan=\"2\" halign=\"left\">total_income</th>\n",
       "    </tr>\n",
       "    <tr>\n",
       "      <th></th>\n",
       "      <th></th>\n",
       "      <th>median</th>\n",
       "      <th>mean</th>\n",
       "    </tr>\n",
       "    <tr>\n",
       "      <th>age_category</th>\n",
       "      <th>gender</th>\n",
       "      <th></th>\n",
       "      <th></th>\n",
       "    </tr>\n",
       "  </thead>\n",
       "  <tbody>\n",
       "    <tr>\n",
       "      <td rowspan=\"2\" valign=\"top\">10's</td>\n",
       "      <td>F</td>\n",
       "      <td>16417.2150</td>\n",
       "      <td>18320.491771</td>\n",
       "    </tr>\n",
       "    <tr>\n",
       "      <td>M</td>\n",
       "      <td>20725.2015</td>\n",
       "      <td>21432.279083</td>\n",
       "    </tr>\n",
       "    <tr>\n",
       "      <td rowspan=\"2\" valign=\"top\">20's</td>\n",
       "      <td>F</td>\n",
       "      <td>20876.6890</td>\n",
       "      <td>23562.735796</td>\n",
       "    </tr>\n",
       "    <tr>\n",
       "      <td>M</td>\n",
       "      <td>26171.1190</td>\n",
       "      <td>29212.363433</td>\n",
       "    </tr>\n",
       "    <tr>\n",
       "      <td rowspan=\"2\" valign=\"top\">30's</td>\n",
       "      <td>F</td>\n",
       "      <td>22345.7290</td>\n",
       "      <td>25745.868532</td>\n",
       "    </tr>\n",
       "    <tr>\n",
       "      <td>M</td>\n",
       "      <td>28342.5610</td>\n",
       "      <td>32529.699158</td>\n",
       "    </tr>\n",
       "    <tr>\n",
       "      <td rowspan=\"2\" valign=\"top\">40's</td>\n",
       "      <td>F</td>\n",
       "      <td>22456.3625</td>\n",
       "      <td>25815.220211</td>\n",
       "    </tr>\n",
       "    <tr>\n",
       "      <td>M</td>\n",
       "      <td>28281.4400</td>\n",
       "      <td>33114.863056</td>\n",
       "    </tr>\n",
       "    <tr>\n",
       "      <td rowspan=\"2\" valign=\"top\">50's</td>\n",
       "      <td>F</td>\n",
       "      <td>20915.2175</td>\n",
       "      <td>24112.012517</td>\n",
       "    </tr>\n",
       "    <tr>\n",
       "      <td>M</td>\n",
       "      <td>25440.1850</td>\n",
       "      <td>29328.941931</td>\n",
       "    </tr>\n",
       "    <tr>\n",
       "      <td rowspan=\"2\" valign=\"top\">60's</td>\n",
       "      <td>F</td>\n",
       "      <td>19373.4450</td>\n",
       "      <td>22493.005456</td>\n",
       "    </tr>\n",
       "    <tr>\n",
       "      <td>M</td>\n",
       "      <td>21021.2510</td>\n",
       "      <td>24909.674913</td>\n",
       "    </tr>\n",
       "  </tbody>\n",
       "</table>\n",
       "</div>"
      ],
      "text/plain": [
       "                    total_income              \n",
       "                          median          mean\n",
       "age_category gender                           \n",
       "10's         F        16417.2150  18320.491771\n",
       "             M        20725.2015  21432.279083\n",
       "20's         F        20876.6890  23562.735796\n",
       "             M        26171.1190  29212.363433\n",
       "30's         F        22345.7290  25745.868532\n",
       "             M        28342.5610  32529.699158\n",
       "40's         F        22456.3625  25815.220211\n",
       "             M        28281.4400  33114.863056\n",
       "50's         F        20915.2175  24112.012517\n",
       "             M        25440.1850  29328.941931\n",
       "60's         F        19373.4450  22493.005456\n",
       "             M        21021.2510  24909.674913"
      ]
     },
     "execution_count": 41,
     "metadata": {},
     "output_type": "execute_result"
    }
   ],
   "source": [
    "# Look at the median values for income based on your identified factors\n",
    "credit_scoring_notnull.groupby(['age_category','gender']).agg({'total_income':['median','mean']})"
   ]
  },
  {
   "cell_type": "markdown",
   "id": "f64f3cb6",
   "metadata": {},
   "source": [
    "* I think that income effected from age, gender, end education I used those topicsd to filter and find mean and the median"
   ]
  },
  {
   "cell_type": "code",
   "execution_count": 42,
   "id": "82901f1b",
   "metadata": {},
   "outputs": [
    {
     "data": {
      "text/html": [
       "<div>\n",
       "<style scoped>\n",
       "    .dataframe tbody tr th:only-of-type {\n",
       "        vertical-align: middle;\n",
       "    }\n",
       "\n",
       "    .dataframe tbody tr th {\n",
       "        vertical-align: top;\n",
       "    }\n",
       "\n",
       "    .dataframe thead tr th {\n",
       "        text-align: left;\n",
       "    }\n",
       "\n",
       "    .dataframe thead tr:last-of-type th {\n",
       "        text-align: right;\n",
       "    }\n",
       "</style>\n",
       "<table border=\"1\" class=\"dataframe\">\n",
       "  <thead>\n",
       "    <tr>\n",
       "      <th></th>\n",
       "      <th colspan=\"2\" halign=\"left\">total_income</th>\n",
       "    </tr>\n",
       "    <tr>\n",
       "      <th></th>\n",
       "      <th>median</th>\n",
       "      <th>mean</th>\n",
       "    </tr>\n",
       "    <tr>\n",
       "      <th>education</th>\n",
       "      <th></th>\n",
       "      <th></th>\n",
       "    </tr>\n",
       "  </thead>\n",
       "  <tbody>\n",
       "    <tr>\n",
       "      <td>bachelor's degree</td>\n",
       "      <td>28054.5310</td>\n",
       "      <td>33142.802434</td>\n",
       "    </tr>\n",
       "    <tr>\n",
       "      <td>graduate degree</td>\n",
       "      <td>25161.5835</td>\n",
       "      <td>27960.024667</td>\n",
       "    </tr>\n",
       "    <tr>\n",
       "      <td>primary education</td>\n",
       "      <td>18741.9760</td>\n",
       "      <td>21144.882211</td>\n",
       "    </tr>\n",
       "    <tr>\n",
       "      <td>secondary education</td>\n",
       "      <td>21836.5830</td>\n",
       "      <td>24594.503037</td>\n",
       "    </tr>\n",
       "    <tr>\n",
       "      <td>some college</td>\n",
       "      <td>25618.4640</td>\n",
       "      <td>29045.443644</td>\n",
       "    </tr>\n",
       "  </tbody>\n",
       "</table>\n",
       "</div>"
      ],
      "text/plain": [
       "                    total_income              \n",
       "                          median          mean\n",
       "education                                     \n",
       "bachelor's degree     28054.5310  33142.802434\n",
       "graduate degree       25161.5835  27960.024667\n",
       "primary education     18741.9760  21144.882211\n",
       "secondary education   21836.5830  24594.503037\n",
       "some college          25618.4640  29045.443644"
      ]
     },
     "execution_count": 42,
     "metadata": {},
     "output_type": "execute_result"
    }
   ],
   "source": [
    "credit_scoring_notnull.groupby('education').agg({'total_income':['median','mean']})"
   ]
  },
  {
   "cell_type": "code",
   "execution_count": 43,
   "id": "a8904b7d",
   "metadata": {},
   "outputs": [
    {
     "data": {
      "text/html": [
       "<div>\n",
       "<style scoped>\n",
       "    .dataframe tbody tr th:only-of-type {\n",
       "        vertical-align: middle;\n",
       "    }\n",
       "\n",
       "    .dataframe tbody tr th {\n",
       "        vertical-align: top;\n",
       "    }\n",
       "\n",
       "    .dataframe thead tr th {\n",
       "        text-align: left;\n",
       "    }\n",
       "\n",
       "    .dataframe thead tr:last-of-type th {\n",
       "        text-align: right;\n",
       "    }\n",
       "</style>\n",
       "<table border=\"1\" class=\"dataframe\">\n",
       "  <thead>\n",
       "    <tr>\n",
       "      <th></th>\n",
       "      <th></th>\n",
       "      <th colspan=\"2\" halign=\"left\">total_income</th>\n",
       "    </tr>\n",
       "    <tr>\n",
       "      <th></th>\n",
       "      <th></th>\n",
       "      <th>median</th>\n",
       "      <th>mean</th>\n",
       "    </tr>\n",
       "    <tr>\n",
       "      <th>income_type</th>\n",
       "      <th>gender</th>\n",
       "      <th></th>\n",
       "      <th></th>\n",
       "    </tr>\n",
       "  </thead>\n",
       "  <tbody>\n",
       "    <tr>\n",
       "      <td rowspan=\"2\" valign=\"top\">business</td>\n",
       "      <td>F</td>\n",
       "      <td>25737.7920</td>\n",
       "      <td>29476.586824</td>\n",
       "    </tr>\n",
       "    <tr>\n",
       "      <td>M</td>\n",
       "      <td>31491.0080</td>\n",
       "      <td>37284.334474</td>\n",
       "    </tr>\n",
       "    <tr>\n",
       "      <td rowspan=\"2\" valign=\"top\">civil servant</td>\n",
       "      <td>F</td>\n",
       "      <td>21917.1980</td>\n",
       "      <td>24908.849830</td>\n",
       "    </tr>\n",
       "    <tr>\n",
       "      <td>M</td>\n",
       "      <td>29754.3915</td>\n",
       "      <td>34036.170503</td>\n",
       "    </tr>\n",
       "    <tr>\n",
       "      <td rowspan=\"2\" valign=\"top\">employee</td>\n",
       "      <td>F</td>\n",
       "      <td>20898.4980</td>\n",
       "      <td>23818.105441</td>\n",
       "    </tr>\n",
       "    <tr>\n",
       "      <td>M</td>\n",
       "      <td>25945.7880</td>\n",
       "      <td>28956.563225</td>\n",
       "    </tr>\n",
       "    <tr>\n",
       "      <td rowspan=\"2\" valign=\"top\">entrepreneur</td>\n",
       "      <td>F</td>\n",
       "      <td>79866.1030</td>\n",
       "      <td>79866.103000</td>\n",
       "    </tr>\n",
       "    <tr>\n",
       "      <td>M</td>\n",
       "      <td>NaN</td>\n",
       "      <td>NaN</td>\n",
       "    </tr>\n",
       "    <tr>\n",
       "      <td>paternity / maternity leave</td>\n",
       "      <td>F</td>\n",
       "      <td>8612.6610</td>\n",
       "      <td>8612.661000</td>\n",
       "    </tr>\n",
       "    <tr>\n",
       "      <td rowspan=\"2\" valign=\"top\">retiree</td>\n",
       "      <td>F</td>\n",
       "      <td>18529.2465</td>\n",
       "      <td>21446.167378</td>\n",
       "    </tr>\n",
       "    <tr>\n",
       "      <td>M</td>\n",
       "      <td>20918.3620</td>\n",
       "      <td>24117.476626</td>\n",
       "    </tr>\n",
       "    <tr>\n",
       "      <td>student</td>\n",
       "      <td>M</td>\n",
       "      <td>15712.2600</td>\n",
       "      <td>15712.260000</td>\n",
       "    </tr>\n",
       "    <tr>\n",
       "      <td rowspan=\"2\" valign=\"top\">unemployed</td>\n",
       "      <td>F</td>\n",
       "      <td>32435.6020</td>\n",
       "      <td>32435.602000</td>\n",
       "    </tr>\n",
       "    <tr>\n",
       "      <td>M</td>\n",
       "      <td>9593.1190</td>\n",
       "      <td>9593.119000</td>\n",
       "    </tr>\n",
       "  </tbody>\n",
       "</table>\n",
       "</div>"
      ],
      "text/plain": [
       "                                   total_income              \n",
       "                                         median          mean\n",
       "income_type                 gender                           \n",
       "business                    F        25737.7920  29476.586824\n",
       "                            M        31491.0080  37284.334474\n",
       "civil servant               F        21917.1980  24908.849830\n",
       "                            M        29754.3915  34036.170503\n",
       "employee                    F        20898.4980  23818.105441\n",
       "                            M        25945.7880  28956.563225\n",
       "entrepreneur                F        79866.1030  79866.103000\n",
       "                            M               NaN           NaN\n",
       "paternity / maternity leave F         8612.6610   8612.661000\n",
       "retiree                     F        18529.2465  21446.167378\n",
       "                            M        20918.3620  24117.476626\n",
       "student                     M        15712.2600  15712.260000\n",
       "unemployed                  F        32435.6020  32435.602000\n",
       "                            M         9593.1190   9593.119000"
      ]
     },
     "execution_count": 43,
     "metadata": {},
     "output_type": "execute_result"
    }
   ],
   "source": [
    "credit_scoring_notnull.groupby(['income_type','gender']).agg({'total_income':['median','mean']})"
   ]
  },
  {
   "cell_type": "markdown",
   "id": "9de87617",
   "metadata": {},
   "source": [
    "* I believe the job and gender define income in the best way, I think the mean reflect the reality better then the median."
   ]
  },
  {
   "cell_type": "code",
   "execution_count": 44,
   "id": "6a5c8b32",
   "metadata": {},
   "outputs": [],
   "source": [
    "#  Write a function that we will use for filling in missing values\n",
    "def fill_missing(df,column_to_fix, column_to_groupby):\n",
    "    return df.groupby(column_to_groupby)[column_to_fix].transform(lambda grp: grp.fillna(np.mean(grp)))   \n",
    "        "
   ]
  },
  {
   "cell_type": "code",
   "execution_count": 45,
   "id": "73521c88",
   "metadata": {},
   "outputs": [
    {
     "name": "stdout",
     "output_type": "stream",
     "text": [
      "0        40620.102\n",
      "1        17932.802\n",
      "2        23341.752\n",
      "3        42820.568\n",
      "4        25378.572\n",
      "           ...    \n",
      "21520    35966.698\n",
      "21521    24959.969\n",
      "21522    14347.610\n",
      "21523    39054.888\n",
      "21524    13127.587\n",
      "Name: total_income, Length: 21453, dtype: float64\n",
      "**********************\n",
      "5936   NaN\n",
      "Name: total_income, dtype: float64\n",
      "21453\n"
     ]
    }
   ],
   "source": [
    "# Check if it works\n",
    "x = fill_missing(credit_scoring,'total_income', ['income_type','gender'])\n",
    "print(x)\n",
    "print('**********************')\n",
    "print(x[x.isnull() == True])\n",
    "print(len(credit_scoring['total_income']))"
   ]
  },
  {
   "cell_type": "code",
   "execution_count": 46,
   "id": "21737f1b",
   "metadata": {},
   "outputs": [
    {
     "name": "stdout",
     "output_type": "stream",
     "text": [
      "      children  days_employed  dob_years          education  education_id  \\\n",
      "5936         0            NaN       58.0  bachelor's degree             0   \n",
      "\n",
      "     family_status  family_status_id gender   income_type  debt  total_income  \\\n",
      "5936       married                 0      M  entrepreneur     0           NaN   \n",
      "\n",
      "                          purpose age_category  \n",
      "5936  buy residential real estate         50's  \n",
      "1\n"
     ]
    }
   ],
   "source": [
    "# Check if we got any errors\n",
    "credit_scoring['total_income'] = fill_missing(credit_scoring,'total_income', ['income_type','gender'])\n",
    "\n",
    "print(credit_scoring[credit_scoring['total_income'].isnull()==True])\n",
    "print(credit_scoring['total_income'].isnull().sum())"
   ]
  },
  {
   "cell_type": "markdown",
   "id": "815621b1",
   "metadata": {},
   "source": [
    "* There's only one male entrepreneur on credit scoring with Nan in Total income, the function was anabled to find the mean for its 1 group, I'll  insert the mean value female entrepreneur manualy"
   ]
  },
  {
   "cell_type": "code",
   "execution_count": 47,
   "id": "fe46f734",
   "metadata": {},
   "outputs": [
    {
     "name": "stdout",
     "output_type": "stream",
     "text": [
      "Empty DataFrame\n",
      "Columns: [children, days_employed, dob_years, education, education_id, family_status, family_status_id, gender, income_type, debt, total_income, purpose, age_category]\n",
      "Index: []\n"
     ]
    }
   ],
   "source": [
    "credit_scoring.loc[credit_scoring['income_type'] == 'entrepreneur' ,'total_income']=79866.10300\n",
    "print(credit_scoring[credit_scoring['total_income'].isnull()==True])"
   ]
  },
  {
   "cell_type": "code",
   "execution_count": 48,
   "id": "ae5eb7cf",
   "metadata": {},
   "outputs": [
    {
     "name": "stdout",
     "output_type": "stream",
     "text": [
      "21453\n",
      "21453\n"
     ]
    }
   ],
   "source": [
    "# Checking the number of entries in the columns\n",
    "print(len(credit_scoring['total_income']))\n",
    "print(len(credit_scoring))\n"
   ]
  },
  {
   "cell_type": "markdown",
   "id": "38b63c63",
   "metadata": {},
   "source": [
    "####  Restoring values in `days_employed`:"
   ]
  },
  {
   "cell_type": "code",
   "execution_count": 49,
   "id": "1a268852",
   "metadata": {
    "pycharm": {
     "name": "#%%\n"
    }
   },
   "outputs": [
    {
     "data": {
      "text/html": [
       "<div>\n",
       "<style scoped>\n",
       "    .dataframe tbody tr th:only-of-type {\n",
       "        vertical-align: middle;\n",
       "    }\n",
       "\n",
       "    .dataframe tbody tr th {\n",
       "        vertical-align: top;\n",
       "    }\n",
       "\n",
       "    .dataframe thead tr th {\n",
       "        text-align: left;\n",
       "    }\n",
       "\n",
       "    .dataframe thead tr:last-of-type th {\n",
       "        text-align: right;\n",
       "    }\n",
       "</style>\n",
       "<table border=\"1\" class=\"dataframe\">\n",
       "  <thead>\n",
       "    <tr>\n",
       "      <th></th>\n",
       "      <th></th>\n",
       "      <th colspan=\"2\" halign=\"left\">days_employed</th>\n",
       "    </tr>\n",
       "    <tr>\n",
       "      <th></th>\n",
       "      <th></th>\n",
       "      <th>median</th>\n",
       "      <th>mean</th>\n",
       "    </tr>\n",
       "    <tr>\n",
       "      <th>income_type</th>\n",
       "      <th>gender</th>\n",
       "      <th></th>\n",
       "      <th></th>\n",
       "    </tr>\n",
       "  </thead>\n",
       "  <tbody>\n",
       "    <tr>\n",
       "      <td rowspan=\"2\" valign=\"top\">business</td>\n",
       "      <td>F</td>\n",
       "      <td>1584.349426</td>\n",
       "      <td>2176.838098</td>\n",
       "    </tr>\n",
       "    <tr>\n",
       "      <td>M</td>\n",
       "      <td>1472.891912</td>\n",
       "      <td>2001.609022</td>\n",
       "    </tr>\n",
       "    <tr>\n",
       "      <td rowspan=\"2\" valign=\"top\">civil servant</td>\n",
       "      <td>F</td>\n",
       "      <td>2705.835929</td>\n",
       "      <td>3516.054217</td>\n",
       "    </tr>\n",
       "    <tr>\n",
       "      <td>M</td>\n",
       "      <td>2659.328964</td>\n",
       "      <td>3080.630224</td>\n",
       "    </tr>\n",
       "    <tr>\n",
       "      <td rowspan=\"2\" valign=\"top\">employee</td>\n",
       "      <td>F</td>\n",
       "      <td>1718.507316</td>\n",
       "      <td>2523.264675</td>\n",
       "    </tr>\n",
       "    <tr>\n",
       "      <td>M</td>\n",
       "      <td>1362.728215</td>\n",
       "      <td>2018.419861</td>\n",
       "    </tr>\n",
       "    <tr>\n",
       "      <td rowspan=\"2\" valign=\"top\">entrepreneur</td>\n",
       "      <td>F</td>\n",
       "      <td>520.848083</td>\n",
       "      <td>520.848083</td>\n",
       "    </tr>\n",
       "    <tr>\n",
       "      <td>M</td>\n",
       "      <td>NaN</td>\n",
       "      <td>NaN</td>\n",
       "    </tr>\n",
       "    <tr>\n",
       "      <td>paternity / maternity leave</td>\n",
       "      <td>F</td>\n",
       "      <td>3296.759962</td>\n",
       "      <td>3296.759962</td>\n",
       "    </tr>\n",
       "    <tr>\n",
       "      <td rowspan=\"2\" valign=\"top\">retiree</td>\n",
       "      <td>F</td>\n",
       "      <td>366182.933484</td>\n",
       "      <td>365391.231569</td>\n",
       "    </tr>\n",
       "    <tr>\n",
       "      <td>M</td>\n",
       "      <td>361781.511144</td>\n",
       "      <td>363295.485985</td>\n",
       "    </tr>\n",
       "    <tr>\n",
       "      <td>student</td>\n",
       "      <td>M</td>\n",
       "      <td>578.751554</td>\n",
       "      <td>578.751554</td>\n",
       "    </tr>\n",
       "    <tr>\n",
       "      <td rowspan=\"2\" valign=\"top\">unemployed</td>\n",
       "      <td>F</td>\n",
       "      <td>395302.838654</td>\n",
       "      <td>395302.838654</td>\n",
       "    </tr>\n",
       "    <tr>\n",
       "      <td>M</td>\n",
       "      <td>337524.466835</td>\n",
       "      <td>337524.466835</td>\n",
       "    </tr>\n",
       "  </tbody>\n",
       "</table>\n",
       "</div>"
      ],
      "text/plain": [
       "                                    days_employed               \n",
       "                                           median           mean\n",
       "income_type                 gender                              \n",
       "business                    F         1584.349426    2176.838098\n",
       "                            M         1472.891912    2001.609022\n",
       "civil servant               F         2705.835929    3516.054217\n",
       "                            M         2659.328964    3080.630224\n",
       "employee                    F         1718.507316    2523.264675\n",
       "                            M         1362.728215    2018.419861\n",
       "entrepreneur                F          520.848083     520.848083\n",
       "                            M                 NaN            NaN\n",
       "paternity / maternity leave F         3296.759962    3296.759962\n",
       "retiree                     F       366182.933484  365391.231569\n",
       "                            M       361781.511144  363295.485985\n",
       "student                     M          578.751554     578.751554\n",
       "unemployed                  F       395302.838654  395302.838654\n",
       "                            M       337524.466835  337524.466835"
      ]
     },
     "execution_count": 49,
     "metadata": {},
     "output_type": "execute_result"
    }
   ],
   "source": [
    "# Distribution of `days_employed` medians based on your identified parameters\n",
    "credit_scoring_notnull.groupby(['income_type','gender']).agg({'days_employed':['median','mean']})\n"
   ]
  },
  {
   "cell_type": "markdown",
   "id": "8f539916",
   "metadata": {},
   "source": [
    "Im going to use the mean, in most cases it very close to the median, and overall it reflect the realty better"
   ]
  },
  {
   "cell_type": "code",
   "execution_count": 50,
   "id": "8b4a67dd",
   "metadata": {},
   "outputs": [
    {
     "name": "stdout",
     "output_type": "stream",
     "text": [
      "0          8437.673028\n",
      "1          4024.803754\n",
      "2          5623.422610\n",
      "3          4124.747207\n",
      "4        340266.072047\n",
      "             ...      \n",
      "21520      4529.316663\n",
      "21521    343937.404131\n",
      "21522      2113.346888\n",
      "21523      3112.481705\n",
      "21524      1984.507589\n",
      "Name: days_employed, Length: 21453, dtype: float64\n",
      "**********************\n",
      "5936   NaN\n",
      "Name: days_employed, dtype: float64\n",
      "21453\n"
     ]
    }
   ],
   "source": [
    "# Check that the function works\n",
    "x = fill_missing(credit_scoring,'days_employed', ['income_type','gender'])\n",
    "print(x)\n",
    "print('**********************')\n",
    "print(x[x.isnull() == True])\n",
    "print(len(credit_scoring['days_employed']))"
   ]
  },
  {
   "cell_type": "code",
   "execution_count": 51,
   "id": "4a70d139",
   "metadata": {},
   "outputs": [],
   "source": [
    "# Apply function to the income_type\n",
    "credit_scoring['days_employed'] = fill_missing(credit_scoring,'days_employed', ['income_type','gender'])"
   ]
  },
  {
   "cell_type": "code",
   "execution_count": 52,
   "id": "6e51dd18",
   "metadata": {},
   "outputs": [
    {
     "name": "stdout",
     "output_type": "stream",
     "text": [
      "      children  days_employed  dob_years          education  education_id  \\\n",
      "5936         0            NaN       58.0  bachelor's degree             0   \n",
      "\n",
      "     family_status  family_status_id gender   income_type  debt  total_income  \\\n",
      "5936       married                 0      M  entrepreneur     0     79866.103   \n",
      "\n",
      "                          purpose age_category  \n",
      "5936  buy residential real estate         50's  \n"
     ]
    }
   ],
   "source": [
    "# Check if function worked\n",
    "\n",
    "print(credit_scoring[credit_scoring['days_employed'].isnull()==True])"
   ]
  },
  {
   "cell_type": "code",
   "execution_count": 53,
   "id": "f734ca6d",
   "metadata": {},
   "outputs": [
    {
     "name": "stdout",
     "output_type": "stream",
     "text": [
      "Empty DataFrame\n",
      "Columns: [children, days_employed, dob_years, education, education_id, family_status, family_status_id, gender, income_type, debt, total_income, purpose, age_category]\n",
      "Index: []\n"
     ]
    }
   ],
   "source": [
    "# Replacing missing values\n",
    "credit_scoring.loc[credit_scoring['income_type'] == 'entrepreneur' ,'days_employed']=520.848083\n",
    "print(credit_scoring[credit_scoring['total_income'].isnull()==True])\n"
   ]
  },
  {
   "cell_type": "code",
   "execution_count": 54,
   "id": "723c9bfe",
   "metadata": {
    "scrolled": true
   },
   "outputs": [
    {
     "name": "stdout",
     "output_type": "stream",
     "text": [
      "21453\n",
      "21453\n"
     ]
    }
   ],
   "source": [
    "# Check the entries in all columns - make sure we fixed all missing values\n",
    "print(len(credit_scoring['days_employed']))\n",
    "print(len(credit_scoring))\n"
   ]
  },
  {
   "cell_type": "markdown",
   "id": "e4ecbaed",
   "metadata": {},
   "source": [
    "#### Categorization of data:"
   ]
  },
  {
   "cell_type": "code",
   "execution_count": 55,
   "id": "b980118d",
   "metadata": {
    "scrolled": true
   },
   "outputs": [
    {
     "data": {
      "text/plain": [
       "0          purchase of the house\n",
       "1                   car purchase\n",
       "2          purchase of the house\n",
       "3        supplementary education\n",
       "4              to have a wedding\n",
       "                  ...           \n",
       "21520       housing transactions\n",
       "21521          purchase of a car\n",
       "21522                   property\n",
       "21523          buying my own car\n",
       "21524               to buy a car\n",
       "Name: purpose, Length: 21453, dtype: object"
      ]
     },
     "execution_count": 55,
     "metadata": {},
     "output_type": "execute_result"
    }
   ],
   "source": [
    "# Print the values for your selected data for categorization\n",
    "\n",
    "credit_scoring['purpose']\n"
   ]
  },
  {
   "cell_type": "code",
   "execution_count": 56,
   "id": "d052c1a6",
   "metadata": {
    "scrolled": true
   },
   "outputs": [
    {
     "data": {
      "text/plain": [
       "array(['purchase of the house', 'car purchase', 'supplementary education',\n",
       "       'to have a wedding', 'housing transactions', 'education',\n",
       "       'having a wedding', 'purchase of the house for my family',\n",
       "       'buy real estate', 'buy commercial real estate',\n",
       "       'buy residential real estate', 'construction of own property',\n",
       "       'property', 'building a property', 'buying a second-hand car',\n",
       "       'buying my own car', 'transactions with commercial real estate',\n",
       "       'building a real estate', 'housing',\n",
       "       'transactions with my real estate', 'cars', 'to become educated',\n",
       "       'second-hand car purchase', 'getting an education', 'car',\n",
       "       'wedding ceremony', 'to get a supplementary education',\n",
       "       'purchase of my own house', 'real estate transactions',\n",
       "       'getting higher education', 'to own a car', 'purchase of a car',\n",
       "       'profile education', 'university education',\n",
       "       'buying property for renting out', 'to buy a car',\n",
       "       'housing renovation', 'going to university'], dtype=object)"
      ]
     },
     "execution_count": 56,
     "metadata": {},
     "output_type": "execute_result"
    }
   ],
   "source": [
    "# Check the unique values\n",
    "\n",
    "credit_scoring['purpose'].unique()"
   ]
  },
  {
   "cell_type": "markdown",
   "id": "1da0acbd",
   "metadata": {},
   "source": [
    " Main groups identified based on the unique values: real estate, education, hous, car, wedding, property, university"
   ]
  },
  {
   "cell_type": "code",
   "execution_count": 57,
   "id": "b400978e",
   "metadata": {},
   "outputs": [
    {
     "name": "stdout",
     "output_type": "stream",
     "text": [
      "['real est', 'educ', 'hous', 'car', 'wed', 'properti', 'univers']\n",
      "['real estate', 'education', 'hous', 'car', 'wedding', 'property', 'university']\n"
     ]
    }
   ],
   "source": [
    "import nltk\n",
    "from collections import Counter\n",
    "from nltk.stem import WordNetLemmatizer\n",
    "from nltk.stem import SnowballStemmer\n",
    "\n",
    "english_stemmer = SnowballStemmer('english') \n",
    "\n",
    "topics = [\n",
    "    'real estate',\n",
    "    'education',\n",
    "    'hous',\n",
    "    'car',\n",
    "    'wedding',\n",
    "    'property',\n",
    "    'university'\n",
    "]\n",
    "\n",
    "stem_topics=[]\n",
    "for word in topics:\n",
    "    stemmed_word = english_stemmer.stem(word)\n",
    "    stem_topics.append(stemmed_word)\n",
    "    \n",
    "wordnet_lemma = WordNetLemmatizer()\n",
    "lemma_topics= [wordnet_lemma.lemmatize(word, pos = 'n') for word in topics]\n",
    "print(stem_topics)\n",
    "print(lemma_topics)\n"
   ]
  },
  {
   "cell_type": "code",
   "execution_count": 58,
   "id": "f88ca5bb",
   "metadata": {},
   "outputs": [],
   "source": [
    "# Let's write a function to categorize the data based on common topics\n",
    "def  categorize_purpose (purpose):\n",
    "    stemmed_words=[]\n",
    "    for word in purpose.split(\" \"):\n",
    "        stemmed_words.append(english_stemmer.stem(word)) \n",
    "    if 'educ' in stemmed_words or 'univers' in stemmed_words:\n",
    "        return 'education'\n",
    "    elif 'hous' in stemmed_words:\n",
    "        return 'house'\n",
    "    elif 'car' in stemmed_words:\n",
    "        return 'car'\n",
    "    elif 'wed' in stemmed_words:\n",
    "        return 'wedding'\n",
    "    elif 'properti' in stemmed_words:\n",
    "        return 'properti'\n",
    "    else : \n",
    "        return 'real_estate'\n",
    "    \n"
   ]
  },
  {
   "cell_type": "markdown",
   "id": "447748ba",
   "metadata": {},
   "source": [
    "check if the categorize_purpose function work:"
   ]
  },
  {
   "cell_type": "code",
   "execution_count": 59,
   "id": "9129e10f",
   "metadata": {},
   "outputs": [
    {
     "name": "stdout",
     "output_type": "stream",
     "text": [
      "real_estate\n",
      "car\n",
      "house\n",
      "education\n",
      "wedding\n"
     ]
    }
   ],
   "source": [
    "purpose1 = 'buy real estate'\n",
    "purpose2 = 'to buy a car'\n",
    "purpose3 = 'housing renovation'\n",
    "purpose4 = 'going to university'\n",
    "purpose5 = 'having a wedding'\n",
    "print(categorize_purpose(purpose1))\n",
    "print(categorize_purpose(purpose2))\n",
    "print(categorize_purpose(purpose3))\n",
    "print(categorize_purpose(purpose4))\n",
    "print(categorize_purpose(purpose5))"
   ]
  },
  {
   "cell_type": "code",
   "execution_count": 60,
   "id": "646e675d",
   "metadata": {},
   "outputs": [
    {
     "name": "stdout",
     "output_type": "stream",
     "text": [
      "['house' 'car' 'education' 'wedding' 'real_estate' 'properti']\n",
      "real_estate    0.208083\n",
      "car            0.200718\n",
      "education      0.187060\n",
      "house          0.177551\n",
      "properti       0.118305\n",
      "wedding        0.108283\n",
      "Name: categorize_purpose, dtype: float64\n"
     ]
    }
   ],
   "source": [
    "# Create a column with the categories and count the values for them\n",
    "\n",
    "credit_scoring['categorize_purpose'] = credit_scoring['purpose'].apply(categorize_purpose)\n",
    "print(credit_scoring['categorize_purpose'].unique())\n",
    "print(credit_scoring['categorize_purpose'].value_counts()/len(credit_scoring))"
   ]
  },
  {
   "cell_type": "code",
   "execution_count": 61,
   "id": "de3cc719",
   "metadata": {},
   "outputs": [
    {
     "name": "stdout",
     "output_type": "stream",
     "text": [
      "max total income 362496.645\n",
      "min total income 3306.762\n",
      "mean total income 26780.946004768422\n",
      "median total income 23818.1054405171\n"
     ]
    }
   ],
   "source": [
    "# Looking through all the numerical data in your selected column for categorization\n",
    "print('max total income', credit_scoring['total_income'].max())\n",
    "print('min total income',credit_scoring['total_income'].min())\n",
    "print('mean total income',credit_scoring['total_income'].mean())\n",
    "print('median total income',credit_scoring['total_income'].median())\n"
   ]
  },
  {
   "cell_type": "code",
   "execution_count": 62,
   "id": "20dcffc2",
   "metadata": {},
   "outputs": [],
   "source": [
    "# Creating function for categorizing into different numerical groups based on ranges\n",
    "def total_income_categorize (total_income):\n",
    "    if total_income >= 26781:\n",
    "        return 'above average'\n",
    "    elif 23818 <= total_income < 26781:\n",
    "        return 'between median to average'\n",
    "    else:\n",
    "        return  'below median'\n"
   ]
  },
  {
   "cell_type": "code",
   "execution_count": 63,
   "id": "5486bd01",
   "metadata": {},
   "outputs": [
    {
     "name": "stdout",
     "output_type": "stream",
     "text": [
      "['above average' 'below median' 'between median to average']\n"
     ]
    }
   ],
   "source": [
    "# Creating column with categories\n",
    "credit_scoring['total_income_categorize'] = credit_scoring['total_income'].apply(total_income_categorize)\n",
    "print(credit_scoring['total_income_categorize'].unique())"
   ]
  },
  {
   "cell_type": "code",
   "execution_count": 64,
   "id": "5542ddc1",
   "metadata": {
    "scrolled": false
   },
   "outputs": [
    {
     "name": "stdout",
     "output_type": "stream",
     "text": [
      "['above average' 'below median' 'between median to average']\n",
      "below median                 0.483615\n",
      "above average                0.391647\n",
      "between median to average    0.124738\n",
      "Name: total_income_categorize, dtype: float64\n"
     ]
    }
   ],
   "source": [
    "# Count each categories values to see the distribution\n",
    "print(credit_scoring['total_income_categorize'].unique())\n",
    "print(credit_scoring['total_income_categorize'].value_counts()/len(credit_scoring))"
   ]
  },
  {
   "cell_type": "markdown",
   "id": "1dbbda8c",
   "metadata": {},
   "source": [
    "#### Checking the Hypotheses:"
   ]
  },
  {
   "cell_type": "markdown",
   "id": "33701d9d",
   "metadata": {},
   "source": [
    "**Is there a correlation between having children and paying back on time?**"
   ]
  },
  {
   "cell_type": "code",
   "execution_count": 65,
   "id": "8497ee04",
   "metadata": {},
   "outputs": [
    {
     "name": "stdout",
     "output_type": "stream",
     "text": [
      "           sum  count\n",
      "          debt   debt\n",
      "children             \n",
      "0         1063  14090\n",
      "1          445   4855\n",
      "2          202   2128\n",
      "3           27    330\n",
      "4            4     41\n",
      "5            0      9\n",
      "           sum  count default_rate\n",
      "          debt   debt             \n",
      "children                          \n",
      "0         1063  14090     0.075444\n",
      "1          445   4855     0.091658\n",
      "2          202   2128     0.094925\n",
      "3           27    330     0.081818\n",
      "4            4     41     0.097561\n",
      "5            0      9     0.000000\n",
      "sum           debt     1741.000000\n",
      "count         debt    21453.000000\n",
      "default_rate              0.441406\n",
      "dtype: float64\n"
     ]
    }
   ],
   "source": [
    "# Check the children data and paying back on time\n",
    "children_debt=credit_scoring.pivot_table(index='children',values ='debt' ,aggfunc =['sum','count'])\n",
    "print(children_debt)\n",
    "# Calculating default-rate based on the number of children\n",
    "children_debt['default_rate'] = children_debt['sum']/children_debt['count']\n",
    "print(children_debt)\n",
    "print(children_debt.sum())"
   ]
  },
  {
   "cell_type": "markdown",
   "id": "8ae24309",
   "metadata": {},
   "source": [
    "**Conclusion**\n",
    "people with 4 kids pay back their loans in 9.8% rate \n",
    "people with 2 kids pay back their loans in 9.5% rate \n",
    "people with 1 kids pay back their loans in 9.2% rate \n",
    "people with 3 kids pay back their loans in 8.2% rate \n",
    "people with 5 kids dont pay back their loans, but ther's only 9 people with 5 kids that took a loan \n"
   ]
  },
  {
   "cell_type": "markdown",
   "id": "347e4a87",
   "metadata": {},
   "source": [
    "**Is there a correlation between family status and paying back on time?**"
   ]
  },
  {
   "cell_type": "code",
   "execution_count": 66,
   "id": "10dec6b8",
   "metadata": {},
   "outputs": [
    {
     "name": "stdout",
     "output_type": "stream",
     "text": [
      "                   sum  count\n",
      "                  debt   debt\n",
      "family_status                \n",
      "civil partnership  388   4150\n",
      "divorced            85   1195\n",
      "married            931  12339\n",
      "unmarried          274   2810\n",
      "widow / widower     63    959\n",
      "                   sum  count default_rate\n",
      "                  debt   debt             \n",
      "family_status                             \n",
      "civil partnership  388   4150     0.093494\n",
      "divorced            85   1195     0.071130\n",
      "married            931  12339     0.075452\n",
      "unmarried          274   2810     0.097509\n",
      "widow / widower     63    959     0.065693\n",
      "sum           debt     1741.000000\n",
      "count         debt    21453.000000\n",
      "default_rate              0.403278\n",
      "dtype: float64\n"
     ]
    }
   ],
   "source": [
    "# Check the family status data and paying back on time\n",
    "family_status_debt=credit_scoring.pivot_table(index='family_status',values ='debt' ,aggfunc =['sum','count'])\n",
    "print(family_status_debt)\n",
    "# Calculating default-rate based on family status\n",
    "family_status_debt['default_rate'] = family_status_debt['sum']/family_status_debt['count']\n",
    "print(family_status_debt)\n",
    "\n",
    "print(family_status_debt.sum())"
   ]
  },
  {
   "cell_type": "markdown",
   "id": "7a3f4c90",
   "metadata": {},
   "source": [
    "**Conclusion**\n",
    "people in civil parthership return thier loans in 9.3% rate\n",
    "unmerried people return thier loans in 9.7 % rate\n",
    "married return thier loans in 7.5 % rate\n",
    "divorced return thier loans in 7.1 % rate\n",
    "widow / widowe return thier loans in 6.5 % rate"
   ]
  },
  {
   "cell_type": "markdown",
   "id": "0f6ace86",
   "metadata": {},
   "source": [
    "**Is there a correlation between income level and paying back on time?**"
   ]
  },
  {
   "cell_type": "code",
   "execution_count": 67,
   "id": "c665d792",
   "metadata": {},
   "outputs": [
    {
     "name": "stdout",
     "output_type": "stream",
     "text": [
      "                           sum  count\n",
      "                          debt   debt\n",
      "total_income_categorize              \n",
      "above average              648   8402\n",
      "below median               863  10375\n",
      "between median to average  230   2676\n",
      "                           sum  count default_rate\n",
      "                          debt   debt             \n",
      "total_income_categorize                           \n",
      "above average              648   8402     0.077124\n",
      "below median               863  10375     0.083181\n",
      "between median to average  230   2676     0.085949\n",
      "sum           debt     1741.000000\n",
      "count         debt    21453.000000\n",
      "default_rate              0.246254\n",
      "dtype: float64\n"
     ]
    }
   ],
   "source": [
    "# Check the income level data and paying back on time\n",
    "income_level_debt=credit_scoring.pivot_table(index='total_income_categorize',values ='debt' ,aggfunc =['sum','count'])\n",
    "print(income_level_debt)\n",
    "# Calculating default-rate based on income level\n",
    "income_level_debt['default_rate'] = income_level_debt['sum']/income_level_debt['count']\n",
    "print(income_level_debt)\n",
    "print(income_level_debt.sum())\n"
   ]
  },
  {
   "cell_type": "markdown",
   "id": "16c88db6",
   "metadata": {},
   "source": [
    "**Conclusion**\n",
    "people in between median and average of income are tend to return their loan -  8.6% rate\n",
    "people who earn below medianof income are tend to return their loan in 8.3% rate  \n",
    "people who earn above the average income are tend to return their loan only in 7.7% rate- the least\n",
    "the distribution I got close to the genral returning loan distribution(8%), I dont think I can conclud somthing from that."
   ]
  },
  {
   "cell_type": "markdown",
   "id": "586ded0e",
   "metadata": {},
   "source": [
    "**How does credit purpose affect the default rate?**"
   ]
  },
  {
   "cell_type": "code",
   "execution_count": 68,
   "id": "25f9357f",
   "metadata": {},
   "outputs": [
    {
     "name": "stdout",
     "output_type": "stream",
     "text": [
      "                    sum count\n",
      "                   debt  debt\n",
      "categorize_purpose           \n",
      "car                 403  4306\n",
      "education           370  4013\n",
      "house               256  3809\n",
      "properti            190  2538\n",
      "real_estate         336  4464\n",
      "wedding             186  2323\n",
      "                    sum count default_rate\n",
      "                   debt  debt             \n",
      "categorize_purpose                        \n",
      "car                 403  4306     0.093590\n",
      "education           370  4013     0.092200\n",
      "house               256  3809     0.067209\n",
      "properti            190  2538     0.074862\n",
      "real_estate         336  4464     0.075269\n",
      "wedding             186  2323     0.080069\n",
      "sum           debt     1741.0000\n",
      "count         debt    21453.0000\n",
      "default_rate              0.4832\n",
      "dtype: float64\n"
     ]
    }
   ],
   "source": [
    "# Check the percentages for default rate for each credit purpose and analyze them\n",
    "\n",
    "credit_purpose_debt=credit_scoring.pivot_table(index='categorize_purpose',values ='debt' ,aggfunc =['sum','count'])\n",
    "print(credit_purpose_debt)\n",
    "# Calculating default-rate based on income level\n",
    "credit_purpose_debt['default_rate'] =credit_purpose_debt['sum']/credit_purpose_debt['count']\n",
    "print(credit_purpose_debt)\n",
    "print(credit_purpose_debt.sum() )"
   ]
  },
  {
   "cell_type": "markdown",
   "id": "5dd279b5",
   "metadata": {},
   "source": [
    "**Conclusion**\n",
    "people who took loan for car return thier loan in 9.4% rate\n",
    "people who took loan for education return their loan in 9.2% rate\n",
    "people who took loan for wedding return thier loan in 8% rate\n",
    "people who took loan for real_estate return thier loan in 7.52% rate\n",
    "people who took loan for properti  return thier loan in 7.5% rate\n",
    "people who took loan for house return thier loan in 6.7% rate\n",
    "\n",
    "again the distribution close to the genral distribution, but I can say that more people who took loan for cars, and education pay back their loans then people who took loan for housing and real estate.\n",
    "\n"
   ]
  },
  {
   "cell_type": "markdown",
   "id": "c7f8619f",
   "metadata": {},
   "source": [
    "#### General Conclusion \n",
    "I got data set with infornation about people who took loans, I filles up the missing vlues correct mis spelling , drop duplicates, and catagorize the data by family status, education,  reason for loan, and employment, and having children. thee is no distinct conclusion, but we see groups who tent to pay their loans more then others:\n",
    "\n",
    "people with 4 kids pay back their loans in 9.8% rate \n",
    "people with 2 kids pay back their loans in 9.5% rate \n",
    "people with 1 kids pay back their loans in 9.2% rate \n",
    "people who took loan for car return thier loan in 9.4% rate\n",
    "people who took loan for education return their loan in 9.2% rate\n",
    "people in civil parthership return thier loans in 9.3% rate\n",
    "unmerried people return thier loans in 9.7 % rate\n",
    "people in between median and average of income are tend to return their loan -  8.6% rate"
   ]
  },
  {
   "cell_type": "code",
   "execution_count": null,
   "id": "aee69947",
   "metadata": {},
   "outputs": [],
   "source": []
  }
 ],
 "metadata": {
  "ExecuteTimeLog": [
   {
    "duration": 769,
    "start_time": "2022-01-19T08:41:56.067Z"
   },
   {
    "duration": 8,
    "start_time": "2022-01-19T08:41:56.838Z"
   },
   {
    "duration": 13,
    "start_time": "2022-01-19T08:41:56.849Z"
   },
   {
    "duration": 74,
    "start_time": "2022-01-19T08:41:56.863Z"
   },
   {
    "duration": 19,
    "start_time": "2022-01-19T08:41:56.939Z"
   },
   {
    "duration": 10,
    "start_time": "2022-01-19T08:41:56.960Z"
   },
   {
    "duration": 52,
    "start_time": "2022-01-19T08:41:56.972Z"
   },
   {
    "duration": 5,
    "start_time": "2022-01-19T08:41:57.026Z"
   },
   {
    "duration": 12,
    "start_time": "2022-01-19T08:41:57.033Z"
   },
   {
    "duration": 9,
    "start_time": "2022-01-19T08:41:57.047Z"
   },
   {
    "duration": 10,
    "start_time": "2022-01-19T08:41:57.058Z"
   },
   {
    "duration": 4,
    "start_time": "2022-01-19T08:41:57.069Z"
   },
   {
    "duration": 45,
    "start_time": "2022-01-19T08:41:57.075Z"
   },
   {
    "duration": 7,
    "start_time": "2022-01-19T08:41:57.121Z"
   },
   {
    "duration": 20,
    "start_time": "2022-01-19T08:41:57.129Z"
   },
   {
    "duration": 6,
    "start_time": "2022-01-19T08:41:57.151Z"
   },
   {
    "duration": 6,
    "start_time": "2022-01-19T08:41:57.159Z"
   },
   {
    "duration": 6,
    "start_time": "2022-01-19T08:41:57.167Z"
   },
   {
    "duration": 4,
    "start_time": "2022-01-19T08:41:57.212Z"
   },
   {
    "duration": 8,
    "start_time": "2022-01-19T08:41:57.217Z"
   },
   {
    "duration": 4,
    "start_time": "2022-01-19T08:41:57.227Z"
   },
   {
    "duration": 10,
    "start_time": "2022-01-19T08:41:57.238Z"
   },
   {
    "duration": 5,
    "start_time": "2022-01-19T08:41:57.251Z"
   },
   {
    "duration": 10,
    "start_time": "2022-01-19T08:41:57.258Z"
   },
   {
    "duration": 56,
    "start_time": "2022-01-19T08:41:57.270Z"
   },
   {
    "duration": 8,
    "start_time": "2022-01-19T08:41:57.328Z"
   },
   {
    "duration": 12,
    "start_time": "2022-01-19T08:41:57.338Z"
   },
   {
    "duration": 10,
    "start_time": "2022-01-19T08:41:57.351Z"
   },
   {
    "duration": 22,
    "start_time": "2022-01-19T08:41:57.363Z"
   },
   {
    "duration": 50,
    "start_time": "2022-01-19T08:41:57.412Z"
   },
   {
    "duration": 14,
    "start_time": "2022-01-19T08:41:57.463Z"
   },
   {
    "duration": 3,
    "start_time": "2022-01-19T08:41:57.478Z"
   },
   {
    "duration": 5,
    "start_time": "2022-01-19T08:41:57.482Z"
   },
   {
    "duration": 23,
    "start_time": "2022-01-19T08:41:57.512Z"
   },
   {
    "duration": 3,
    "start_time": "2022-01-19T08:41:57.536Z"
   },
   {
    "duration": 9,
    "start_time": "2022-01-19T08:41:57.540Z"
   },
   {
    "duration": 14,
    "start_time": "2022-01-19T08:41:57.551Z"
   },
   {
    "duration": 13,
    "start_time": "2022-01-19T08:41:57.566Z"
   },
   {
    "duration": 44,
    "start_time": "2022-01-19T08:41:57.581Z"
   },
   {
    "duration": 5,
    "start_time": "2022-01-19T08:41:57.627Z"
   },
   {
    "duration": 14,
    "start_time": "2022-01-19T08:41:57.633Z"
   },
   {
    "duration": 11,
    "start_time": "2022-01-19T08:41:57.649Z"
   },
   {
    "duration": 13,
    "start_time": "2022-01-19T08:41:57.661Z"
   },
   {
    "duration": 3,
    "start_time": "2022-01-19T08:41:57.675Z"
   },
   {
    "duration": 45,
    "start_time": "2022-01-19T08:41:57.679Z"
   },
   {
    "duration": 19,
    "start_time": "2022-01-19T08:41:57.726Z"
   },
   {
    "duration": 7,
    "start_time": "2022-01-19T08:41:57.746Z"
   },
   {
    "duration": 4,
    "start_time": "2022-01-19T08:41:57.755Z"
   },
   {
    "duration": 16,
    "start_time": "2022-01-19T08:41:57.760Z"
   },
   {
    "duration": 51,
    "start_time": "2022-01-19T08:41:57.778Z"
   },
   {
    "duration": 14,
    "start_time": "2022-01-19T08:41:57.830Z"
   },
   {
    "duration": 7,
    "start_time": "2022-01-19T08:41:57.845Z"
   },
   {
    "duration": 7,
    "start_time": "2022-01-19T08:41:57.853Z"
   },
   {
    "duration": 4,
    "start_time": "2022-01-19T08:41:57.862Z"
   },
   {
    "duration": 13,
    "start_time": "2022-01-19T08:41:57.867Z"
   },
   {
    "duration": 32,
    "start_time": "2022-01-19T08:41:57.881Z"
   },
   {
    "duration": 1698,
    "start_time": "2022-01-19T08:41:57.914Z"
   },
   {
    "duration": 4,
    "start_time": "2022-01-19T08:41:59.613Z"
   },
   {
    "duration": 7,
    "start_time": "2022-01-19T08:41:59.618Z"
   },
   {
    "duration": 620,
    "start_time": "2022-01-19T08:41:59.626Z"
   },
   {
    "duration": 6,
    "start_time": "2022-01-19T08:42:00.247Z"
   },
   {
    "duration": 9,
    "start_time": "2022-01-19T08:42:00.254Z"
   },
   {
    "duration": 14,
    "start_time": "2022-01-19T08:42:00.264Z"
   },
   {
    "duration": 6,
    "start_time": "2022-01-19T08:42:00.279Z"
   },
   {
    "duration": 43,
    "start_time": "2022-01-19T08:42:00.287Z"
   },
   {
    "duration": 21,
    "start_time": "2022-01-19T08:42:00.331Z"
   },
   {
    "duration": 21,
    "start_time": "2022-01-19T08:42:00.356Z"
   },
   {
    "duration": 47,
    "start_time": "2022-01-19T08:42:00.379Z"
   },
   {
    "duration": 256,
    "start_time": "2022-01-19T08:42:00.428Z"
   },
   {
    "duration": 180,
    "start_time": "2022-01-19T15:21:44.427Z"
   },
   {
    "duration": 176,
    "start_time": "2022-01-19T16:08:49.347Z"
   },
   {
    "duration": 901,
    "start_time": "2022-01-19T16:17:31.174Z"
   },
   {
    "duration": 8,
    "start_time": "2022-01-19T16:17:32.077Z"
   },
   {
    "duration": 19,
    "start_time": "2022-01-19T16:17:32.087Z"
   },
   {
    "duration": 63,
    "start_time": "2022-01-19T16:17:32.108Z"
   },
   {
    "duration": 17,
    "start_time": "2022-01-19T16:17:32.172Z"
   },
   {
    "duration": 16,
    "start_time": "2022-01-19T16:17:32.190Z"
   },
   {
    "duration": 30,
    "start_time": "2022-01-19T16:17:32.207Z"
   },
   {
    "duration": 5,
    "start_time": "2022-01-19T16:17:32.239Z"
   },
   {
    "duration": 23,
    "start_time": "2022-01-19T16:17:32.245Z"
   },
   {
    "duration": 10,
    "start_time": "2022-01-19T16:17:32.270Z"
   },
   {
    "duration": 11,
    "start_time": "2022-01-19T16:17:32.281Z"
   },
   {
    "duration": 5,
    "start_time": "2022-01-19T16:17:32.293Z"
   },
   {
    "duration": 31,
    "start_time": "2022-01-19T16:17:32.299Z"
   },
   {
    "duration": 6,
    "start_time": "2022-01-19T16:17:32.331Z"
   },
   {
    "duration": 20,
    "start_time": "2022-01-19T16:17:32.339Z"
   },
   {
    "duration": 7,
    "start_time": "2022-01-19T16:17:32.360Z"
   },
   {
    "duration": 6,
    "start_time": "2022-01-19T16:17:32.368Z"
   },
   {
    "duration": 7,
    "start_time": "2022-01-19T16:17:32.375Z"
   },
   {
    "duration": 2,
    "start_time": "2022-01-19T16:17:32.384Z"
   },
   {
    "duration": 39,
    "start_time": "2022-01-19T16:17:32.388Z"
   },
   {
    "duration": 5,
    "start_time": "2022-01-19T16:17:32.429Z"
   },
   {
    "duration": 10,
    "start_time": "2022-01-19T16:17:32.435Z"
   },
   {
    "duration": 10,
    "start_time": "2022-01-19T16:17:32.448Z"
   },
   {
    "duration": 6,
    "start_time": "2022-01-19T16:17:32.460Z"
   },
   {
    "duration": 16,
    "start_time": "2022-01-19T16:17:32.467Z"
   },
   {
    "duration": 8,
    "start_time": "2022-01-19T16:17:32.484Z"
   },
   {
    "duration": 34,
    "start_time": "2022-01-19T16:17:32.494Z"
   },
   {
    "duration": 7,
    "start_time": "2022-01-19T16:17:32.529Z"
   },
   {
    "duration": 16,
    "start_time": "2022-01-19T16:17:32.537Z"
   },
   {
    "duration": 35,
    "start_time": "2022-01-19T16:17:32.555Z"
   },
   {
    "duration": 38,
    "start_time": "2022-01-19T16:17:32.591Z"
   },
   {
    "duration": 3,
    "start_time": "2022-01-19T16:17:32.631Z"
   },
   {
    "duration": 5,
    "start_time": "2022-01-19T16:17:32.636Z"
   },
   {
    "duration": 25,
    "start_time": "2022-01-19T16:17:32.643Z"
   },
   {
    "duration": 4,
    "start_time": "2022-01-19T16:17:32.669Z"
   },
   {
    "duration": 6,
    "start_time": "2022-01-19T16:17:32.674Z"
   },
   {
    "duration": 13,
    "start_time": "2022-01-19T16:17:32.681Z"
   },
   {
    "duration": 12,
    "start_time": "2022-01-19T16:17:32.728Z"
   },
   {
    "duration": 25,
    "start_time": "2022-01-19T16:17:32.742Z"
   },
   {
    "duration": 5,
    "start_time": "2022-01-19T16:17:32.768Z"
   },
   {
    "duration": 13,
    "start_time": "2022-01-19T16:17:32.775Z"
   },
   {
    "duration": 11,
    "start_time": "2022-01-19T16:17:32.789Z"
   },
   {
    "duration": 37,
    "start_time": "2022-01-19T16:17:32.802Z"
   },
   {
    "duration": 3,
    "start_time": "2022-01-19T16:17:32.840Z"
   },
   {
    "duration": 22,
    "start_time": "2022-01-19T16:17:32.844Z"
   },
   {
    "duration": 19,
    "start_time": "2022-01-19T16:17:32.867Z"
   },
   {
    "duration": 7,
    "start_time": "2022-01-19T16:17:32.887Z"
   },
   {
    "duration": 4,
    "start_time": "2022-01-19T16:17:32.895Z"
   },
   {
    "duration": 13,
    "start_time": "2022-01-19T16:17:32.927Z"
   },
   {
    "duration": 22,
    "start_time": "2022-01-19T16:17:32.942Z"
   },
   {
    "duration": 13,
    "start_time": "2022-01-19T16:17:32.966Z"
   },
   {
    "duration": 6,
    "start_time": "2022-01-19T16:17:32.981Z"
   },
   {
    "duration": 7,
    "start_time": "2022-01-19T16:17:32.989Z"
   },
   {
    "duration": 3,
    "start_time": "2022-01-19T16:17:32.998Z"
   },
   {
    "duration": 5,
    "start_time": "2022-01-19T16:17:33.027Z"
   },
   {
    "duration": 22,
    "start_time": "2022-01-19T16:17:33.033Z"
   },
   {
    "duration": 1749,
    "start_time": "2022-01-19T16:17:33.057Z"
   },
   {
    "duration": 3,
    "start_time": "2022-01-19T16:17:34.808Z"
   },
   {
    "duration": 32,
    "start_time": "2022-01-19T16:17:34.812Z"
   },
   {
    "duration": 588,
    "start_time": "2022-01-19T16:17:34.846Z"
   },
   {
    "duration": 6,
    "start_time": "2022-01-19T16:17:35.436Z"
   },
   {
    "duration": 16,
    "start_time": "2022-01-19T16:17:35.443Z"
   },
   {
    "duration": 14,
    "start_time": "2022-01-19T16:17:35.460Z"
   },
   {
    "duration": 16,
    "start_time": "2022-01-19T16:17:35.475Z"
   },
   {
    "duration": 26,
    "start_time": "2022-01-19T16:17:35.492Z"
   },
   {
    "duration": 20,
    "start_time": "2022-01-19T16:17:35.520Z"
   },
   {
    "duration": 22,
    "start_time": "2022-01-19T16:17:35.541Z"
   },
   {
    "duration": 20,
    "start_time": "2022-01-19T16:17:35.567Z"
   },
   {
    "duration": 863,
    "start_time": "2022-01-19T16:19:35.660Z"
   },
   {
    "duration": 7,
    "start_time": "2022-01-19T16:19:36.525Z"
   },
   {
    "duration": 23,
    "start_time": "2022-01-19T16:19:36.534Z"
   },
   {
    "duration": 53,
    "start_time": "2022-01-19T16:19:36.559Z"
   },
   {
    "duration": 25,
    "start_time": "2022-01-19T16:19:36.614Z"
   },
   {
    "duration": 9,
    "start_time": "2022-01-19T16:19:36.641Z"
   },
   {
    "duration": 19,
    "start_time": "2022-01-19T16:19:36.651Z"
   },
   {
    "duration": 5,
    "start_time": "2022-01-19T16:19:36.672Z"
   },
   {
    "duration": 21,
    "start_time": "2022-01-19T16:19:36.678Z"
   },
   {
    "duration": 16,
    "start_time": "2022-01-19T16:19:36.700Z"
   },
   {
    "duration": 10,
    "start_time": "2022-01-19T16:19:36.727Z"
   },
   {
    "duration": 4,
    "start_time": "2022-01-19T16:19:36.738Z"
   },
   {
    "duration": 21,
    "start_time": "2022-01-19T16:19:36.743Z"
   },
   {
    "duration": 19,
    "start_time": "2022-01-19T16:19:36.765Z"
   },
   {
    "duration": 26,
    "start_time": "2022-01-19T16:19:36.785Z"
   },
   {
    "duration": 13,
    "start_time": "2022-01-19T16:19:36.812Z"
   },
   {
    "duration": 12,
    "start_time": "2022-01-19T16:19:36.827Z"
   },
   {
    "duration": 19,
    "start_time": "2022-01-19T16:19:36.841Z"
   },
   {
    "duration": 13,
    "start_time": "2022-01-19T16:19:36.862Z"
   },
   {
    "duration": 26,
    "start_time": "2022-01-19T16:19:36.876Z"
   },
   {
    "duration": 10,
    "start_time": "2022-01-19T16:19:36.903Z"
   },
   {
    "duration": 16,
    "start_time": "2022-01-19T16:19:36.915Z"
   },
   {
    "duration": 12,
    "start_time": "2022-01-19T16:19:36.935Z"
   },
   {
    "duration": 24,
    "start_time": "2022-01-19T16:19:36.949Z"
   },
   {
    "duration": 23,
    "start_time": "2022-01-19T16:19:36.975Z"
   },
   {
    "duration": 5,
    "start_time": "2022-01-19T16:19:36.999Z"
   },
   {
    "duration": 23,
    "start_time": "2022-01-19T16:19:37.006Z"
   },
   {
    "duration": 23,
    "start_time": "2022-01-19T16:19:37.030Z"
   },
   {
    "duration": 28,
    "start_time": "2022-01-19T16:19:37.054Z"
   },
   {
    "duration": 37,
    "start_time": "2022-01-19T16:19:37.084Z"
   },
   {
    "duration": 14,
    "start_time": "2022-01-19T16:19:37.123Z"
   },
   {
    "duration": 3,
    "start_time": "2022-01-19T16:19:37.138Z"
   },
   {
    "duration": 16,
    "start_time": "2022-01-19T16:19:37.143Z"
   },
   {
    "duration": 33,
    "start_time": "2022-01-19T16:19:37.161Z"
   },
   {
    "duration": 2,
    "start_time": "2022-01-19T16:19:37.196Z"
   },
   {
    "duration": 28,
    "start_time": "2022-01-19T16:19:37.200Z"
   },
   {
    "duration": 25,
    "start_time": "2022-01-19T16:19:37.229Z"
   },
   {
    "duration": 27,
    "start_time": "2022-01-19T16:19:37.255Z"
   },
   {
    "duration": 40,
    "start_time": "2022-01-19T16:19:37.284Z"
   },
   {
    "duration": 5,
    "start_time": "2022-01-19T16:19:37.325Z"
   },
   {
    "duration": 22,
    "start_time": "2022-01-19T16:19:37.331Z"
   },
   {
    "duration": 10,
    "start_time": "2022-01-19T16:19:37.354Z"
   },
   {
    "duration": 13,
    "start_time": "2022-01-19T16:19:37.366Z"
   },
   {
    "duration": 14,
    "start_time": "2022-01-19T16:19:37.381Z"
   },
   {
    "duration": 30,
    "start_time": "2022-01-19T16:19:37.396Z"
   },
   {
    "duration": 19,
    "start_time": "2022-01-19T16:19:37.427Z"
   },
   {
    "duration": 7,
    "start_time": "2022-01-19T16:19:37.447Z"
   },
   {
    "duration": 10,
    "start_time": "2022-01-19T16:19:37.455Z"
   },
   {
    "duration": 33,
    "start_time": "2022-01-19T16:19:37.466Z"
   },
   {
    "duration": 18,
    "start_time": "2022-01-19T16:19:37.501Z"
   },
   {
    "duration": 13,
    "start_time": "2022-01-19T16:19:37.520Z"
   },
   {
    "duration": 6,
    "start_time": "2022-01-19T16:19:37.535Z"
   },
   {
    "duration": 11,
    "start_time": "2022-01-19T16:19:37.543Z"
   },
   {
    "duration": 12,
    "start_time": "2022-01-19T16:19:37.555Z"
   },
   {
    "duration": 23,
    "start_time": "2022-01-19T16:19:37.568Z"
   },
   {
    "duration": 10,
    "start_time": "2022-01-19T16:19:37.592Z"
   },
   {
    "duration": 1699,
    "start_time": "2022-01-19T16:19:37.603Z"
   },
   {
    "duration": 4,
    "start_time": "2022-01-19T16:19:39.303Z"
   },
   {
    "duration": 8,
    "start_time": "2022-01-19T16:19:39.308Z"
   },
   {
    "duration": 611,
    "start_time": "2022-01-19T16:19:39.317Z"
   },
   {
    "duration": 5,
    "start_time": "2022-01-19T16:19:39.930Z"
   },
   {
    "duration": 13,
    "start_time": "2022-01-19T16:19:39.937Z"
   },
   {
    "duration": 26,
    "start_time": "2022-01-19T16:19:39.951Z"
   },
   {
    "duration": 16,
    "start_time": "2022-01-19T16:19:39.978Z"
   },
   {
    "duration": 27,
    "start_time": "2022-01-19T16:19:39.995Z"
   },
   {
    "duration": 22,
    "start_time": "2022-01-19T16:19:40.023Z"
   },
   {
    "duration": 21,
    "start_time": "2022-01-19T16:19:40.046Z"
   },
   {
    "duration": 20,
    "start_time": "2022-01-19T16:19:40.071Z"
   },
   {
    "duration": 269,
    "start_time": "2022-01-19T16:19:40.093Z"
   },
   {
    "duration": 705,
    "start_time": "2022-01-21T08:12:17.337Z"
   },
   {
    "duration": 8,
    "start_time": "2022-01-21T08:12:18.044Z"
   },
   {
    "duration": 16,
    "start_time": "2022-01-21T08:12:18.054Z"
   },
   {
    "duration": 65,
    "start_time": "2022-01-21T08:12:18.072Z"
   },
   {
    "duration": 20,
    "start_time": "2022-01-21T08:12:18.139Z"
   },
   {
    "duration": 10,
    "start_time": "2022-01-21T08:12:18.160Z"
   },
   {
    "duration": 37,
    "start_time": "2022-01-21T08:12:18.172Z"
   },
   {
    "duration": 5,
    "start_time": "2022-01-21T08:12:18.211Z"
   },
   {
    "duration": 12,
    "start_time": "2022-01-21T08:12:18.218Z"
   },
   {
    "duration": 11,
    "start_time": "2022-01-21T08:12:18.232Z"
   },
   {
    "duration": 11,
    "start_time": "2022-01-21T08:12:18.245Z"
   },
   {
    "duration": 41,
    "start_time": "2022-01-21T08:12:18.257Z"
   },
   {
    "duration": 10,
    "start_time": "2022-01-21T08:12:18.300Z"
   },
   {
    "duration": 12,
    "start_time": "2022-01-21T08:12:18.311Z"
   },
   {
    "duration": 24,
    "start_time": "2022-01-21T08:12:18.324Z"
   },
   {
    "duration": 7,
    "start_time": "2022-01-21T08:12:18.350Z"
   },
   {
    "duration": 5,
    "start_time": "2022-01-21T08:12:18.359Z"
   },
   {
    "duration": 32,
    "start_time": "2022-01-21T08:12:18.366Z"
   },
   {
    "duration": 4,
    "start_time": "2022-01-21T08:12:18.400Z"
   },
   {
    "duration": 8,
    "start_time": "2022-01-21T08:12:18.405Z"
   },
   {
    "duration": 5,
    "start_time": "2022-01-21T08:12:18.414Z"
   },
   {
    "duration": 10,
    "start_time": "2022-01-21T08:12:18.420Z"
   },
   {
    "duration": 4,
    "start_time": "2022-01-21T08:12:18.434Z"
   },
   {
    "duration": 7,
    "start_time": "2022-01-21T08:12:18.440Z"
   },
   {
    "duration": 57,
    "start_time": "2022-01-21T08:12:18.448Z"
   },
   {
    "duration": 6,
    "start_time": "2022-01-21T08:12:18.506Z"
   },
   {
    "duration": 11,
    "start_time": "2022-01-21T08:12:18.514Z"
   },
   {
    "duration": 8,
    "start_time": "2022-01-21T08:12:18.526Z"
   },
   {
    "duration": 17,
    "start_time": "2022-01-21T08:12:18.536Z"
   },
   {
    "duration": 66,
    "start_time": "2022-01-21T08:12:18.555Z"
   },
   {
    "duration": 15,
    "start_time": "2022-01-21T08:12:18.623Z"
   },
   {
    "duration": 3,
    "start_time": "2022-01-21T08:12:18.640Z"
   },
   {
    "duration": 7,
    "start_time": "2022-01-21T08:12:18.645Z"
   },
   {
    "duration": 53,
    "start_time": "2022-01-21T08:12:18.654Z"
   },
   {
    "duration": 3,
    "start_time": "2022-01-21T08:12:18.709Z"
   },
   {
    "duration": 9,
    "start_time": "2022-01-21T08:12:18.714Z"
   },
   {
    "duration": 14,
    "start_time": "2022-01-21T08:12:18.725Z"
   },
   {
    "duration": 15,
    "start_time": "2022-01-21T08:12:18.741Z"
   },
   {
    "duration": 45,
    "start_time": "2022-01-21T08:12:18.757Z"
   },
   {
    "duration": 6,
    "start_time": "2022-01-21T08:12:18.804Z"
   },
   {
    "duration": 18,
    "start_time": "2022-01-21T08:12:18.811Z"
   },
   {
    "duration": 15,
    "start_time": "2022-01-21T08:12:18.831Z"
   },
   {
    "duration": 52,
    "start_time": "2022-01-21T08:12:18.848Z"
   },
   {
    "duration": 3,
    "start_time": "2022-01-21T08:12:18.902Z"
   },
   {
    "duration": 22,
    "start_time": "2022-01-21T08:12:18.907Z"
   },
   {
    "duration": 22,
    "start_time": "2022-01-21T08:12:18.931Z"
   },
   {
    "duration": 8,
    "start_time": "2022-01-21T08:12:18.955Z"
   },
   {
    "duration": 6,
    "start_time": "2022-01-21T08:12:18.964Z"
   },
   {
    "duration": 20,
    "start_time": "2022-01-21T08:12:18.999Z"
   },
   {
    "duration": 19,
    "start_time": "2022-01-21T08:12:19.021Z"
   },
   {
    "duration": 14,
    "start_time": "2022-01-21T08:12:19.042Z"
   },
   {
    "duration": 7,
    "start_time": "2022-01-21T08:12:19.058Z"
   },
   {
    "duration": 35,
    "start_time": "2022-01-21T08:12:19.067Z"
   },
   {
    "duration": 4,
    "start_time": "2022-01-21T08:12:19.103Z"
   },
   {
    "duration": 8,
    "start_time": "2022-01-21T08:12:19.109Z"
   },
   {
    "duration": 7,
    "start_time": "2022-01-21T08:12:19.118Z"
   },
   {
    "duration": 1842,
    "start_time": "2022-01-21T08:12:19.126Z"
   },
   {
    "duration": 4,
    "start_time": "2022-01-21T08:12:20.970Z"
   },
   {
    "duration": 8,
    "start_time": "2022-01-21T08:12:20.975Z"
   },
   {
    "duration": 677,
    "start_time": "2022-01-21T08:12:20.984Z"
   },
   {
    "duration": 7,
    "start_time": "2022-01-21T08:12:21.662Z"
   },
   {
    "duration": 7,
    "start_time": "2022-01-21T08:12:21.670Z"
   },
   {
    "duration": 25,
    "start_time": "2022-01-21T08:12:21.678Z"
   },
   {
    "duration": 11,
    "start_time": "2022-01-21T08:12:21.704Z"
   },
   {
    "duration": 34,
    "start_time": "2022-01-21T08:12:21.717Z"
   },
   {
    "duration": 47,
    "start_time": "2022-01-21T08:12:21.753Z"
   },
   {
    "duration": 25,
    "start_time": "2022-01-21T08:12:21.802Z"
   },
   {
    "duration": 24,
    "start_time": "2022-01-21T08:12:21.832Z"
   }
  ],
  "kernelspec": {
   "display_name": "Python 3 (ipykernel)",
   "language": "python",
   "name": "python3"
  },
  "language_info": {
   "codemirror_mode": {
    "name": "ipython",
    "version": 3
   },
   "file_extension": ".py",
   "mimetype": "text/x-python",
   "name": "python",
   "nbconvert_exporter": "python",
   "pygments_lexer": "ipython3",
   "version": "3.9.7"
  },
  "toc": {
   "base_numbering": 1,
   "nav_menu": {},
   "number_sections": true,
   "sideBar": true,
   "skip_h1_title": true,
   "title_cell": "Table of Contents",
   "title_sidebar": "Contents",
   "toc_cell": false,
   "toc_position": {},
   "toc_section_display": true,
   "toc_window_display": false
  }
 },
 "nbformat": 4,
 "nbformat_minor": 5
}
